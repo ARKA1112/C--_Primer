{
 "cells": [
  {
   "cell_type": "code",
   "execution_count": 1,
   "id": "cda1053f-3404-4d05-aba5-219013ba7f37",
   "metadata": {},
   "outputs": [],
   "source": [
    "#include <iostream>\n",
    "#include <vector>\n",
    "using namespace std;"
   ]
  },
  {
   "cell_type": "code",
   "execution_count": 13,
   "id": "01e78022-6458-45f2-a5ef-1c74469b7515",
   "metadata": {},
   "outputs": [],
   "source": [
    "//Function basics\n",
    "\n",
    "//A function definition typically consists of a return type, a name, a list of zero\n",
    "//or more parameters, and a body. The  pparameters are specified in a comma-seprarted list encloded\n",
    "//in a statement block, referred to as the function body.\n",
    "\n",
    "\n",
    "//We execure a function throught the call operator , which is a pair of parenthes.\n",
    "// The call operator takes an expression that is a function or points to a function.\n",
    "\n",
    "//FACTORIAL OF A NUMBER\n",
    "\n",
    "long fact(int val)\n",
    "{\n",
    "    int ret = 1;// local variable to hold the result as we calculate it\n",
    "    while (val > 1)\n",
    "        ret *= val--; //assign ret* val to ret and decrement val\n",
    "    return ret;\n",
    "}\n"
   ]
  },
  {
   "cell_type": "code",
   "execution_count": 14,
   "id": "0beed589-2318-4e43-a03f-b64d5f6843c0",
   "metadata": {},
   "outputs": [
    {
     "data": {
      "text/plain": [
       "0"
      ]
     },
     "execution_count": 14,
     "metadata": {},
     "output_type": "execute_result"
    }
   ],
   "source": [
    "fact(333)"
   ]
  },
  {
   "cell_type": "code",
   "execution_count": 16,
   "id": "bf07820c-cc33-49a5-a958-0fa0f0cc3704",
   "metadata": {},
   "outputs": [
    {
     "name": "stderr",
     "output_type": "stream",
     "text": [
      "\u001b[1minput_line_29:2:7: \u001b[0m\u001b[0;1;35mwarning: \u001b[0m\u001b[1mimplicit conversion from 'double' to 'int' changes value from 3.14 to 3 [-Wliteral-conversion]\u001b[0m\n",
      " fact(3.14)\n",
      "\u001b[0;1;32m ~~~~ ^~~~\n",
      "\u001b[0m"
     ]
    },
    {
     "data": {
      "text/plain": [
       "6"
      ]
     },
     "execution_count": 16,
     "metadata": {},
     "output_type": "execute_result"
    }
   ],
   "source": [
    "fact(3.14)"
   ]
  },
  {
   "cell_type": "markdown",
   "id": "569ee39b-b687-4d7d-aaa9-41272e76dd2b",
   "metadata": {},
   "source": [
    "Function Parameter List"
   ]
  },
  {
   "cell_type": "code",
   "execution_count": null,
   "id": "2355f8cd-21fe-4b16-b32d-d898e563b04f",
   "metadata": {},
   "outputs": [],
   "source": [
    "//A functin's parameter list can be empty but cannot be omitted.Typically we define a function with no\n",
    "//parameters by writing an empty parameter list\n",
    "\n",
    "\n",
    "void f1(){/*....*/}\n",
    "void f2(void){/*....*/}\n",
    "\n",
    "int f3(int v1, v2){/* ... */} //error\n",
    "int f4(int v1, int v2){/* ... */} //ok\n",
    "\n",
    "\n",
    "//Function Return Type\n",
    "\n"
   ]
  },
  {
   "cell_type": "code",
   "execution_count": 8,
   "id": "9b681d50",
   "metadata": {},
   "outputs": [
    {
     "name": "stderr",
     "output_type": "stream",
     "text": [
      "\u001b[1minput_line_15:9:1: \u001b[0m\u001b[0;1;31merror: \u001b[0m\u001b[1mcontrol reaches end of non-void function [-Werror,-Wreturn-type]\u001b[0m\n",
      "}\n",
      "\u001b[0;1;32m^\n",
      "\u001b[0m"
     ]
    }
   ],
   "source": [
    "//ex 6.1\n",
    "// argument --> Arguments are referred to the values which are passed to the function during the function call\n",
    "//----> These values are generally source of function that require the arguments\n",
    "\n",
    "\n",
    "//parameters-->> Parameters are values defined during the function declaration,\n",
    "//These variables are used to receive the arguments that are passed during a function call\n",
    "\n",
    "\n",
    "int f(){\n",
    "    string s =  \"char\";\n",
    "    cout<<s;\n",
    "}"
   ]
  },
  {
   "cell_type": "code",
   "execution_count": 4,
   "id": "c9765d7e",
   "metadata": {},
   "outputs": [
    {
     "name": "stderr",
     "output_type": "stream",
     "text": [
      "\u001b[1minput_line_11:2:10: \u001b[0m\u001b[0;1;31merror: \u001b[0m\u001b[1mexpected '(' for function-style cast or type construction\u001b[0m\n",
      " f2 (int i){/*,,,*/}\n",
      "\u001b[0;1;32m     ~~~ ^\n",
      "\u001b[0m"
     ]
    },
    {
     "ename": "Interpreter Error",
     "evalue": "",
     "output_type": "error",
     "traceback": [
      "Interpreter Error: "
     ]
    }
   ],
   "source": [
    "f2 (int i){/*,,,*/}"
   ]
  },
  {
   "cell_type": "code",
   "execution_count": 21,
   "id": "15d9efbb",
   "metadata": {},
   "outputs": [],
   "source": [
    "int facto(int j)\n",
    "{\n",
    "    cout<<\"Enter a number\";\n",
    "    long int i;\n",
    "    long int ret = 1;\n",
    "    cin>>i;\n",
    "    while (i>1 && i == j)\n",
    "        ret *= i--;\n",
    "    return ret;\n",
    "        \n",
    "}"
   ]
  },
  {
   "cell_type": "markdown",
   "id": "9e021ab7",
   "metadata": {},
   "source": [
    "Automatic Objects"
   ]
  },
  {
   "cell_type": "code",
   "execution_count": 39,
   "id": "d1778d12",
   "metadata": {},
   "outputs": [
    {
     "name": "stdout",
     "output_type": "stream",
     "text": [
      "1\n",
      "2\n",
      "3\n",
      "4\n",
      "5\n",
      "6\n",
      "7\n",
      "8\n",
      "9\n",
      "10\n"
     ]
    },
    {
     "data": {
      "text/plain": [
       "0"
      ]
     },
     "execution_count": 39,
     "metadata": {},
     "output_type": "execute_result"
    }
   ],
   "source": [
    "size_t count_calls()\n",
    "{\n",
    "    static size_t ctr = 0;\n",
    "    return ++ctr;\n",
    "}\n",
    "\n",
    "\n",
    "{\n",
    "    for (size_t i = 0; i != 10; ++i)\n",
    "        cout<< count_calls() << endl;\n",
    "    return 0;\n",
    "}"
   ]
  },
  {
   "cell_type": "code",
   "execution_count": 36,
   "id": "e7f79988",
   "metadata": {},
   "outputs": [],
   "source": [
    "size_t a = count_calls()"
   ]
  },
  {
   "cell_type": "code",
   "execution_count": 37,
   "id": "516597bc",
   "metadata": {},
   "outputs": [
    {
     "data": {
      "text/plain": [
       "5"
      ]
     },
     "execution_count": 37,
     "metadata": {},
     "output_type": "execute_result"
    }
   ],
   "source": [
    "a"
   ]
  },
  {
   "cell_type": "markdown",
   "id": "0208913c",
   "metadata": {},
   "source": [
    "Argument Passing"
   ]
  },
  {
   "cell_type": "code",
   "execution_count": 40,
   "id": "61b97a68",
   "metadata": {},
   "outputs": [
    {
     "name": "stderr",
     "output_type": "stream",
     "text": [
      "\u001b[1minput_line_64:4:5: \u001b[0m\u001b[0;1;31merror: \u001b[0m\u001b[1mredefinition of 'i'\u001b[0m\n",
      "int i = 42; //value in i is changed; n is unchanged\n",
      "\u001b[0;1;32m    ^\n",
      "\u001b[0m\u001b[1minput_line_64:3:5: \u001b[0m\u001b[0;1;30mnote: \u001b[0mprevious definition is here\u001b[0m\n",
      "int i  = n; // i is a copy of the value in n\n",
      "\u001b[0;1;32m    ^\n",
      "\u001b[0m"
     ]
    },
    {
     "ename": "Interpreter Error",
     "evalue": "",
     "output_type": "error",
     "traceback": [
      "Interpreter Error: "
     ]
    }
   ],
   "source": [
    "int n = 0;  // ordinary variable of type int\n",
    "int i  = n; // i is a copy of the value in n\n",
    "int i = 42; //value in i is changed; n is unchanged\n",
    "\n",
    "\n"
   ]
  },
  {
   "cell_type": "markdown",
   "id": "1b5705a5",
   "metadata": {},
   "source": [
    "Pointer Parameters\n",
    "\n",
    "Pointers behave like any other nonreference type. When we copy a pointer\n",
    "the value fo the pointer is copied. After the copy, the two pointers are distinct"
   ]
  },
  {
   "cell_type": "code",
   "execution_count": 2,
   "id": "d513c9f3",
   "metadata": {},
   "outputs": [],
   "source": [
    "int n = 0, i = 42"
   ]
  },
  {
   "cell_type": "code",
   "execution_count": 3,
   "id": "60b96aa0-ce7a-457c-a6eb-2cae56d15f1a",
   "metadata": {},
   "outputs": [],
   "source": [
    "int *p = &n"
   ]
  },
  {
   "cell_type": "code",
   "execution_count": 10,
   "id": "8595e985-1973-4cd8-bd3e-3b77ce99ae29",
   "metadata": {},
   "outputs": [],
   "source": [
    "/*The same behaviour applies to pointer parameters*/\n",
    "void reset(int *ip)\n",
    "{\n",
    "    *ip = 0; //changes the value of the object to which ip points\n",
    "    ip = 0;  // changes only the local copy of ip; the argument is unchanged\n",
    "    }"
   ]
  },
  {
   "cell_type": "code",
   "execution_count": 12,
   "id": "fe0ced1a-58f5-4b69-a3fb-caec1b45f330",
   "metadata": {},
   "outputs": [
    {
     "name": "stdout",
     "output_type": "stream",
     "text": [
      "i = 0\n"
     ]
    },
    {
     "data": {
      "text/plain": [
       "@0x7f87f45fdb60"
      ]
     },
     "execution_count": 12,
     "metadata": {},
     "output_type": "execute_result"
    }
   ],
   "source": [
    "int i = 42;\n",
    "reset(&i);    ///chnages i but not the address of i\n",
    "cout<<\"i = \"<< i << endl //prints i = 0"
   ]
  },
  {
   "cell_type": "code",
   "execution_count": 20,
   "id": "7288f28a-382c-43fd-9c2a-f1fb772d5db0",
   "metadata": {},
   "outputs": [],
   "source": [
    "//excercise 6.10\n",
    "int swapper(int *a, int *b)\n",
    "{\n",
    "    int temp = *a;\n",
    "    *a = *b;\n",
    "    *b = temp;\n",
    "    return *a,*b;\n",
    "}"
   ]
  },
  {
   "cell_type": "code",
   "execution_count": 21,
   "id": "ecff378f-8344-464d-aa09-6650455a074e",
   "metadata": {},
   "outputs": [
    {
     "data": {
      "text/plain": [
       "43"
      ]
     },
     "execution_count": 21,
     "metadata": {},
     "output_type": "execute_result"
    }
   ],
   "source": [
    "int a = 43;\n",
    "int b = 34;\n",
    "\n",
    "swapper(&a, &b)"
   ]
  },
  {
   "cell_type": "code",
   "execution_count": 26,
   "id": "12242504-2a16-4613-9028-fd94ed7a342d",
   "metadata": {},
   "outputs": [
    {
     "name": "stdout",
     "output_type": "stream",
     "text": [
      "34 43"
     ]
    }
   ],
   "source": [
    "cout<<a<<' '<<b;"
   ]
  },
  {
   "cell_type": "markdown",
   "id": "b98662ac-b835-4cb2-96f7-ef27dddaf4b3",
   "metadata": {},
   "source": [
    "Passing Arguments by Reference"
   ]
  },
  {
   "cell_type": "code",
   "execution_count": 27,
   "id": "1cfc1e0f-8152-4224-8ed6-9b8b30b703d3",
   "metadata": {},
   "outputs": [
    {
     "data": {
      "text/plain": [
       "42"
      ]
     },
     "execution_count": 27,
     "metadata": {},
     "output_type": "execute_result"
    }
   ],
   "source": [
    "int n = 0, i = 42;\n",
    "\n",
    "int &r = n; //r is bound to n(ie r is another name for n)\n",
    "\n",
    "r = 42;  //n is now 42\n",
    "r = i; //n now has the same value as i\n",
    "i = r; //i has the same value as n"
   ]
  },
  {
   "cell_type": "code",
   "execution_count": null,
   "id": "071e8f1d-3476-4962-8fcf-80099dc8e5c2",
   "metadata": {},
   "outputs": [],
   "source": []
  }
 ],
 "metadata": {
  "kernelspec": {
   "display_name": "C++11 [conda env:xeus-cling]",
   "language": "C++11",
   "name": "conda-env-xeus-cling-xcpp11"
  },
  "language_info": {
   "codemirror_mode": "text/x-c++src",
   "file_extension": ".cpp",
   "mimetype": "text/x-c++src",
   "name": "c++",
   "version": "11"
  }
 },
 "nbformat": 4,
 "nbformat_minor": 5
}
