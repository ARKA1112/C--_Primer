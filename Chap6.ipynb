{
 "cells": [
  {
   "cell_type": "code",
   "execution_count": 1,
   "id": "cda1053f-3404-4d05-aba5-219013ba7f37",
   "metadata": {
    "vscode": {
     "languageId": "c++"
    }
   },
   "outputs": [],
   "source": [
    "#include <iostream>\n",
    "#include <vector>\n",
    "using namespace std;"
   ]
  },
  {
   "cell_type": "code",
   "execution_count": 2,
   "id": "01e78022-6458-45f2-a5ef-1c74469b7515",
   "metadata": {
    "vscode": {
     "languageId": "c++"
    }
   },
   "outputs": [],
   "source": [
    "//Function basics\n",
    "\n",
    "//A function definition typically consists of a return type, a name, a list of zero\n",
    "//or more parameters, and a body. The  pparameters are specified in a comma-seprarted list encloded\n",
    "//in a statement block, referred to as the function body.\n",
    "\n",
    "\n",
    "//We execure a function throught the call operator , which is a pair of parenthes.\n",
    "// The call operator takes an expression that is a function or points to a function.\n",
    "\n",
    "//FACTORIAL OF A NUMBER\n",
    "\n",
    "long fact(int val)\n",
    "{\n",
    "    int ret = 1;// local variable to hold the result as we calculate it\n",
    "    while (val > 1)\n",
    "        ret *= val--; //assign ret* val to ret and decrement val\n",
    "    return ret;\n",
    "}\n"
   ]
  },
  {
   "cell_type": "code",
   "execution_count": 3,
   "id": "0beed589-2318-4e43-a03f-b64d5f6843c0",
   "metadata": {
    "vscode": {
     "languageId": "c++"
    }
   },
   "outputs": [
    {
     "data": {
      "text/plain": [
       "0"
      ]
     },
     "execution_count": 3,
     "metadata": {},
     "output_type": "execute_result"
    }
   ],
   "source": [
    "fact(333)"
   ]
  },
  {
   "cell_type": "code",
   "execution_count": 4,
   "id": "bf07820c-cc33-49a5-a958-0fa0f0cc3704",
   "metadata": {
    "vscode": {
     "languageId": "c++"
    }
   },
   "outputs": [
    {
     "name": "stderr",
     "output_type": "stream",
     "text": [
      "\u001b[1minput_line_14:2:7: \u001b[0m\u001b[0;1;35mwarning: \u001b[0m\u001b[1mimplicit conversion from 'double' to 'int' changes value from 3.14 to 3 [-Wliteral-conversion]\u001b[0m\n",
      " fact(3.14)\n",
      "\u001b[0;1;32m ~~~~ ^~~~\n",
      "\u001b[0m"
     ]
    },
    {
     "data": {
      "text/plain": [
       "6"
      ]
     },
     "execution_count": 4,
     "metadata": {},
     "output_type": "execute_result"
    }
   ],
   "source": [
    "fact(3.14)"
   ]
  },
  {
   "cell_type": "markdown",
   "id": "569ee39b-b687-4d7d-aaa9-41272e76dd2b",
   "metadata": {},
   "source": [
    "Function Parameter List"
   ]
  },
  {
   "cell_type": "code",
   "execution_count": 5,
   "id": "2355f8cd-21fe-4b16-b32d-d898e563b04f",
   "metadata": {
    "vscode": {
     "languageId": "c++"
    }
   },
   "outputs": [
    {
     "name": "stderr",
     "output_type": "stream",
     "text": [
      "\u001b[1minput_line_16:5:15: \u001b[0m\u001b[0;1;31merror: \u001b[0m\u001b[1mfunction definition is not allowed here\u001b[0m\n",
      " void f2(void){/*....*/}\n",
      "\u001b[0;1;32m              ^\n",
      "\u001b[0m\u001b[1minput_line_16:6:16: \u001b[0m\u001b[0;1;31merror: \u001b[0m\u001b[1munknown type name 'v2'\u001b[0m\n",
      "int f3(int v1, v2){/* ... */} //error\n",
      "\u001b[0;1;32m               ^\n",
      "\u001b[0m\u001b[1minput_line_16:6:19: \u001b[0m\u001b[0;1;31merror: \u001b[0m\u001b[1mfunction definition is not allowed here\u001b[0m\n",
      "int f3(int v1, v2){/* ... */} //error\n",
      "\u001b[0;1;32m                  ^\n",
      "\u001b[0m\u001b[1minput_line_16:7:23: \u001b[0m\u001b[0;1;31merror: \u001b[0m\u001b[1mfunction definition is not allowed here\u001b[0m\n",
      "int f4(int v1, int v2){/* ... */} //ok\n",
      "\u001b[0;1;32m                      ^\n",
      "\u001b[0m"
     ]
    },
    {
     "ename": "Interpreter Error",
     "evalue": "",
     "output_type": "error",
     "traceback": [
      "Interpreter Error: "
     ]
    }
   ],
   "source": [
    "//A functin's parameter list can be empty but cannot be omitted.Typically we define a function with no\n",
    "//parameters by writing an empty parameter list\n",
    "\n",
    "\n",
    "void f1(){/*....*/}\n",
    "void f2(void){/*....*/}\n",
    "\n",
    "int f3(int v1, v2){/* ... */} //error\n",
    "int f4(int v1, int v2){/* ... */} //ok\n",
    "\n",
    "\n",
    "//Function Return Type\n",
    "\n"
   ]
  },
  {
   "cell_type": "code",
   "execution_count": null,
   "id": "9b681d50",
   "metadata": {
    "vscode": {
     "languageId": "c++"
    }
   },
   "outputs": [],
   "source": [
    "//ex 6.1\n",
    "// argument --> Arguments are referred to the values which are passed to the function during the function call\n",
    "//----> These values are generally source of function that require the arguments\n",
    "\n",
    "\n",
    "//parameters-->> Parameters are values defined during the function declaration,\n",
    "//These variables are used to receive the arguments that are passed during a function call\n",
    "\n",
    "\n",
    "int f(){\n",
    "    string s =  \"char\";\n",
    "    cout<<s;\n",
    "}"
   ]
  },
  {
   "cell_type": "code",
   "execution_count": null,
   "id": "c9765d7e",
   "metadata": {
    "vscode": {
     "languageId": "c++"
    }
   },
   "outputs": [],
   "source": [
    "f2 (int i){/*,,,*/}"
   ]
  },
  {
   "cell_type": "code",
   "execution_count": null,
   "id": "15d9efbb",
   "metadata": {
    "vscode": {
     "languageId": "c++"
    }
   },
   "outputs": [],
   "source": [
    "int facto(int j)\n",
    "{\n",
    "    cout<<\"Enter a number\";\n",
    "    long int i;\n",
    "    long int ret = 1;\n",
    "    cin>>i;\n",
    "    while (i>1 && i == j)\n",
    "        ret *= i--;\n",
    "    return ret;\n",
    "        \n",
    "}"
   ]
  },
  {
   "cell_type": "markdown",
   "id": "9e021ab7",
   "metadata": {},
   "source": [
    "Automatic Objects"
   ]
  },
  {
   "cell_type": "code",
   "execution_count": 39,
   "id": "d1778d12",
   "metadata": {
    "vscode": {
     "languageId": "c++"
    }
   },
   "outputs": [
    {
     "name": "stdout",
     "output_type": "stream",
     "text": [
      "1\n",
      "2\n",
      "3\n",
      "4\n",
      "5\n",
      "6\n",
      "7\n",
      "8\n",
      "9\n",
      "10\n"
     ]
    },
    {
     "data": {
      "text/plain": [
       "0"
      ]
     },
     "execution_count": 39,
     "metadata": {},
     "output_type": "execute_result"
    }
   ],
   "source": [
    "size_t count_calls()\n",
    "{\n",
    "    static size_t ctr = 0;\n",
    "    return ++ctr;\n",
    "}\n",
    "\n",
    "\n",
    "{\n",
    "    for (size_t i = 0; i != 10; ++i)\n",
    "        cout<< count_calls() << endl;\n",
    "    return 0;\n",
    "}"
   ]
  },
  {
   "cell_type": "code",
   "execution_count": 36,
   "id": "e7f79988",
   "metadata": {
    "vscode": {
     "languageId": "c++"
    }
   },
   "outputs": [],
   "source": [
    "size_t a = count_calls()"
   ]
  },
  {
   "cell_type": "code",
   "execution_count": 37,
   "id": "516597bc",
   "metadata": {
    "vscode": {
     "languageId": "c++"
    }
   },
   "outputs": [
    {
     "data": {
      "text/plain": [
       "5"
      ]
     },
     "execution_count": 37,
     "metadata": {},
     "output_type": "execute_result"
    }
   ],
   "source": [
    "a"
   ]
  },
  {
   "cell_type": "markdown",
   "id": "0208913c",
   "metadata": {},
   "source": [
    "Argument Passing"
   ]
  },
  {
   "cell_type": "code",
   "execution_count": 40,
   "id": "61b97a68",
   "metadata": {
    "vscode": {
     "languageId": "c++"
    }
   },
   "outputs": [
    {
     "name": "stderr",
     "output_type": "stream",
     "text": [
      "\u001b[1minput_line_64:4:5: \u001b[0m\u001b[0;1;31merror: \u001b[0m\u001b[1mredefinition of 'i'\u001b[0m\n",
      "int i = 42; //value in i is changed; n is unchanged\n",
      "\u001b[0;1;32m    ^\n",
      "\u001b[0m\u001b[1minput_line_64:3:5: \u001b[0m\u001b[0;1;30mnote: \u001b[0mprevious definition is here\u001b[0m\n",
      "int i  = n; // i is a copy of the value in n\n",
      "\u001b[0;1;32m    ^\n",
      "\u001b[0m"
     ]
    },
    {
     "ename": "Interpreter Error",
     "evalue": "",
     "output_type": "error",
     "traceback": [
      "Interpreter Error: "
     ]
    }
   ],
   "source": [
    "int n = 0;  // ordinary variable of type int\n",
    "int i  = n; // i is a copy of the value in n\n",
    "int i = 42; //value in i is changed; n is unchanged\n",
    "\n",
    "\n"
   ]
  },
  {
   "cell_type": "markdown",
   "id": "1b5705a5",
   "metadata": {},
   "source": [
    "Pointer Parameters\n",
    "\n",
    "Pointers behave like any other nonreference type. When we copy a pointer\n",
    "the value fo the pointer is copied. After the copy, the two pointers are distinct"
   ]
  },
  {
   "cell_type": "code",
   "execution_count": 2,
   "id": "d513c9f3",
   "metadata": {
    "vscode": {
     "languageId": "c++"
    }
   },
   "outputs": [],
   "source": [
    "int n = 0, i = 42"
   ]
  },
  {
   "cell_type": "code",
   "execution_count": 3,
   "id": "60b96aa0-ce7a-457c-a6eb-2cae56d15f1a",
   "metadata": {
    "vscode": {
     "languageId": "c++"
    }
   },
   "outputs": [],
   "source": [
    "int *p = &n"
   ]
  },
  {
   "cell_type": "code",
   "execution_count": 10,
   "id": "8595e985-1973-4cd8-bd3e-3b77ce99ae29",
   "metadata": {
    "vscode": {
     "languageId": "c++"
    }
   },
   "outputs": [],
   "source": [
    "/*The same behaviour applies to pointer parameters*/\n",
    "void reset(int *ip)\n",
    "{\n",
    "    *ip = 0; //changes the value of the object to which ip points\n",
    "    ip = 0;  // changes only the local copy of ip; the argument is unchanged\n",
    "    }"
   ]
  },
  {
   "cell_type": "code",
   "execution_count": 12,
   "id": "fe0ced1a-58f5-4b69-a3fb-caec1b45f330",
   "metadata": {
    "vscode": {
     "languageId": "c++"
    }
   },
   "outputs": [
    {
     "name": "stdout",
     "output_type": "stream",
     "text": [
      "i = 0\n"
     ]
    },
    {
     "data": {
      "text/plain": [
       "@0x7f87f45fdb60"
      ]
     },
     "execution_count": 12,
     "metadata": {},
     "output_type": "execute_result"
    }
   ],
   "source": [
    "int i = 42;\n",
    "reset(&i);    ///chnages i but not the address of i\n",
    "cout<<\"i = \"<< i << endl //prints i = 0"
   ]
  },
  {
   "cell_type": "code",
   "execution_count": 20,
   "id": "7288f28a-382c-43fd-9c2a-f1fb772d5db0",
   "metadata": {
    "vscode": {
     "languageId": "c++"
    }
   },
   "outputs": [],
   "source": [
    "//excercise 6.10\n",
    "int swapper(int *a, int *b)\n",
    "{\n",
    "    int temp = *a;\n",
    "    *a = *b;\n",
    "    *b = temp;\n",
    "    return *a,*b;\n",
    "}"
   ]
  },
  {
   "cell_type": "code",
   "execution_count": 21,
   "id": "ecff378f-8344-464d-aa09-6650455a074e",
   "metadata": {
    "vscode": {
     "languageId": "c++"
    }
   },
   "outputs": [
    {
     "data": {
      "text/plain": [
       "43"
      ]
     },
     "execution_count": 21,
     "metadata": {},
     "output_type": "execute_result"
    }
   ],
   "source": [
    "int a = 43;\n",
    "int b = 34;\n",
    "\n",
    "swapper(&a, &b)"
   ]
  },
  {
   "cell_type": "code",
   "execution_count": 26,
   "id": "12242504-2a16-4613-9028-fd94ed7a342d",
   "metadata": {
    "vscode": {
     "languageId": "c++"
    }
   },
   "outputs": [
    {
     "name": "stdout",
     "output_type": "stream",
     "text": [
      "34 43"
     ]
    }
   ],
   "source": [
    "cout<<a<<' '<<b;"
   ]
  },
  {
   "cell_type": "markdown",
   "id": "b98662ac-b835-4cb2-96f7-ef27dddaf4b3",
   "metadata": {},
   "source": [
    "Passing Arguments by Reference"
   ]
  },
  {
   "cell_type": "code",
   "execution_count": 27,
   "id": "1cfc1e0f-8152-4224-8ed6-9b8b30b703d3",
   "metadata": {
    "vscode": {
     "languageId": "c++"
    }
   },
   "outputs": [
    {
     "data": {
      "text/plain": [
       "42"
      ]
     },
     "execution_count": 27,
     "metadata": {},
     "output_type": "execute_result"
    }
   ],
   "source": [
    "int n = 0, i = 42;\n",
    "\n",
    "int &r = n; //r is bound to n(ie r is another name for n)\n",
    "\n",
    "r = 42;  //n is now 42\n",
    "r = i; //n now has the same value as i\n",
    "i = r; //i has the same value as n"
   ]
  },
  {
   "cell_type": "code",
   "execution_count": 18,
   "id": "071e8f1d-3476-4962-8fcf-80099dc8e5c2",
   "metadata": {
    "vscode": {
     "languageId": "c++"
    }
   },
   "outputs": [],
   "source": [
    "string::size_type find_char(const string &s, char c, string:: size_type &occurs)\n",
    "{\n",
    "    auto ret = s.size(); // position of the first occurence\n",
    "    occurs = 0;\n",
    "    for (decltype(ret) i = 0; i!= s.size(); ++i)\n",
    "    {\n",
    "        if (s[i] == c)\n",
    "        {\n",
    "            if (ret == s.size())\n",
    "                ret = i;  //remember the first occurrence of c\n",
    "            ++occurs;\n",
    "        }\n",
    "    }\n",
    "    return ret; // count is returned implicityly in occurs\n",
    "}"
   ]
  },
  {
   "cell_type": "code",
   "execution_count": 19,
   "id": "e1fe55b5-ed17-49d0-baec-4e52a3dfc26b",
   "metadata": {
    "vscode": {
     "languageId": "c++"
    }
   },
   "outputs": [
    {
     "data": {
      "text/plain": [
       "0"
      ]
     },
     "execution_count": 19,
     "metadata": {},
     "output_type": "execute_result"
    }
   ],
   "source": [
    "string:: size_type  ctr;\n",
    "ctr"
   ]
  },
  {
   "cell_type": "code",
   "execution_count": 20,
   "id": "991c7875-7991-4027-afaa-8c7dcffc49e5",
   "metadata": {
    "vscode": {
     "languageId": "c++"
    }
   },
   "outputs": [
    {
     "data": {
      "text/plain": [
       "10"
      ]
     },
     "execution_count": 20,
     "metadata": {},
     "output_type": "execute_result"
    }
   ],
   "source": [
    " find_char(\"Helloworld\", '.', ctr)"
   ]
  },
  {
   "cell_type": "code",
   "execution_count": 43,
   "id": "823b8025-5311-4733-9c26-dcc3ab2c172e",
   "metadata": {
    "vscode": {
     "languageId": "c++"
    }
   },
   "outputs": [],
   "source": [
    "//ex 6.11\n",
    "\n",
    "void reset(int *i)   //takes pointers as inputs hence it can take either &p\n",
    "    //ie address of p which is a pointer(points to its address) and q which is a pointer itself\n",
    "{\n",
    "    *i = 0;\n",
    "}"
   ]
  },
  {
   "cell_type": "code",
   "execution_count": 44,
   "id": "6957c19f-ebeb-4dac-bfe7-0ecd9e500d0f",
   "metadata": {
    "vscode": {
     "languageId": "c++"
    }
   },
   "outputs": [],
   "source": [
    "int p = 43;\n",
    "int *q = &p;"
   ]
  },
  {
   "cell_type": "code",
   "execution_count": 45,
   "id": "91025697-ed62-4f80-b399-b136cd7fdb18",
   "metadata": {
    "vscode": {
     "languageId": "c++"
    }
   },
   "outputs": [],
   "source": [
    "reset(&p)"
   ]
  },
  {
   "cell_type": "code",
   "execution_count": 46,
   "id": "8abb62ee-15fb-4a90-86f6-4cc99e7eb58a",
   "metadata": {
    "vscode": {
     "languageId": "c++"
    }
   },
   "outputs": [
    {
     "data": {
      "text/plain": [
       "0"
      ]
     },
     "execution_count": 46,
     "metadata": {},
     "output_type": "execute_result"
    }
   ],
   "source": [
    "*q"
   ]
  },
  {
   "cell_type": "code",
   "execution_count": 2,
   "id": "6820b094-8021-4615-90f6-e388bd57d61d",
   "metadata": {
    "vscode": {
     "languageId": "c++"
    }
   },
   "outputs": [],
   "source": [
    "list <char> vec = {'a','b','c'};\n",
    "list<char>::iterator it;"
   ]
  },
  {
   "cell_type": "code",
   "execution_count": 9,
   "id": "666ab096-a951-4dbc-aae8-43b554dd881d",
   "metadata": {
    "vscode": {
     "languageId": "c++"
    }
   },
   "outputs": [
    {
     "name": "stdout",
     "output_type": "stream",
     "text": [
      "0x7f274be1f0480x7f274be1f0480x7f274be1f048"
     ]
    }
   ],
   "source": [
    "for (it = vec.begin(); it !=vec.end();++it\n",
    ")\n",
    "{\n",
    "    cout<<&it;\n",
    "    *it = 'd';\n",
    "}"
   ]
  },
  {
   "cell_type": "code",
   "execution_count": 31,
   "id": "67b44f61-c8f5-466e-8b58-3a1e9eeec0ee",
   "metadata": {
    "vscode": {
     "languageId": "c++"
    }
   },
   "outputs": [],
   "source": [
    "int a = 45;\n",
    "int b = 65;"
   ]
  },
  {
   "cell_type": "code",
   "execution_count": 33,
   "id": "ffceaa37-33ab-42cd-9d5b-eb8378d94661",
   "metadata": {
    "tags": [],
    "vscode": {
     "languageId": "c++"
    }
   },
   "outputs": [],
   "source": [
    "//6.12\n",
    "//using reference\n",
    "\n",
    "void swapper(int &a, int &b)\n",
    "{\n",
    "    int temp = a;\n",
    "    a = b;\n",
    "    b = temp;\n",
    "}"
   ]
  },
  {
   "cell_type": "code",
   "execution_count": 34,
   "id": "283a5462-e740-440d-ae2a-84152b6e7899",
   "metadata": {
    "vscode": {
     "languageId": "c++"
    }
   },
   "outputs": [
    {
     "data": {
      "text/plain": [
       "65"
      ]
     },
     "execution_count": 34,
     "metadata": {},
     "output_type": "execute_result"
    }
   ],
   "source": [
    "swapper(c,d);\n",
    "a"
   ]
  },
  {
   "cell_type": "code",
   "execution_count": 32,
   "id": "d66a43bf-3b3c-4582-8e57-d96d3b7b5e78",
   "metadata": {
    "vscode": {
     "languageId": "c++"
    }
   },
   "outputs": [],
   "source": [
    "int &c = a;\n",
    "int &d = b;\n"
   ]
  },
  {
   "cell_type": "code",
   "execution_count": 17,
   "id": "5d0d6d3d-3bab-46d3-9b05-7a168db4d3cb",
   "metadata": {
    "vscode": {
     "languageId": "c++"
    }
   },
   "outputs": [],
   "source": [
    "//using pointers\n",
    "\n",
    "void swapper_pointer(int *a, int *b)\n",
    "{\n",
    "    int *temp = b;\n",
    "    *b = *a;\n",
    "    *a = *temp;\n",
    "}"
   ]
  },
  {
   "cell_type": "code",
   "execution_count": 39,
   "id": "02377f10-9807-43f8-a9c7-008ee1753d28",
   "metadata": {
    "vscode": {
     "languageId": "c++"
    }
   },
   "outputs": [
    {
     "data": {
      "text/plain": [
       "65"
      ]
     },
     "execution_count": 39,
     "metadata": {},
     "output_type": "execute_result"
    }
   ],
   "source": [
    "swapper_pointer(&a,&b);\n",
    "a\n",
    "\n",
    "//I found the reference to be far more easier"
   ]
  },
  {
   "cell_type": "code",
   "execution_count": 42,
   "id": "9886e1f7-5838-4b79-82ca-346e5da7cfc6",
   "metadata": {
    "vscode": {
     "languageId": "c++"
    }
   },
   "outputs": [],
   "source": [
    "//6.13\n",
    "\n",
    "int a  = 10;\n",
    "int& t = a;"
   ]
  },
  {
   "cell_type": "markdown",
   "id": "f445bafc-663f-4798-bbbe-6bfe7a5d5aec",
   "metadata": {},
   "source": [
    "6.13\n",
    "\n",
    "A parameter should be a reference type when you want to modify the original argument passed to the function, or when you want to avoid copying a large or complex object. \n",
    "\n",
    "\n",
    "-------------------\n",
    "\n",
    "A parameter should not be a reference type when you want to work with a copy of the argument, or when you want to pass a literal value or an expression"
   ]
  },
  {
   "cell_type": "markdown",
   "id": "aba32e90-bad5-4d13-8cec-be93ecdc6933",
   "metadata": {},
   "source": [
    "## const Parameters and Arguments"
   ]
  },
  {
   "cell_type": "code",
   "execution_count": 50,
   "id": "8c191a33-0991-42e6-8572-97c4a9920868",
   "metadata": {
    "vscode": {
     "languageId": "c++"
    }
   },
   "outputs": [
    {
     "name": "stdout",
     "output_type": "stream",
     "text": [
      "32\n",
      "32\n",
      "0\n",
      "32\n",
      "0"
     ]
    }
   ],
   "source": [
    "const int ci = 32;\n",
    "cout<<ci<<'\\n';\n",
    "int i = ci;    //gets copied to i\n",
    "cout<<i<<'\\n';\n",
    "int& p = i;   //Manipulates the main object\n",
    "p = 0;\n",
    "cout<<i<<'\\n'<<ci<<'\\n'<<p;"
   ]
  },
  {
   "cell_type": "code",
   "execution_count": 21,
   "id": "e8e39e5b-bbd1-40f2-9cc0-413f8de80f9d",
   "metadata": {
    "vscode": {
     "languageId": "c++"
    }
   },
   "outputs": [],
   "source": [
    "bool is_sentence(const string &s)\n",
    "{\n",
    "    // if theres a single period at the end of s, then s is a sentence\n",
    "    string::size_type ctr = 0;\n",
    "    return find_char(s,'.',ctr) == s.size() -1 && ctr ==1;\n",
    "}"
   ]
  },
  {
   "cell_type": "code",
   "execution_count": 22,
   "id": "68b7c3b2-742d-497e-8428-966aa400a512",
   "metadata": {
    "vscode": {
     "languageId": "c++"
    }
   },
   "outputs": [
    {
     "data": {
      "text/plain": [
       "false"
      ]
     },
     "execution_count": 22,
     "metadata": {},
     "output_type": "execute_result"
    }
   ],
   "source": [
    "is_sentence(\"hello wordl\")"
   ]
  },
  {
   "cell_type": "code",
   "execution_count": 7,
   "id": "40e1eca5-a665-4491-8f8b-5920962f4d7a",
   "metadata": {
    "vscode": {
     "languageId": "c++"
    }
   },
   "outputs": [],
   "source": [
    "string hello = \"hello world\""
   ]
  },
  {
   "cell_type": "code",
   "execution_count": 9,
   "id": "0cc95ccd-6534-4d36-b3d3-711a036f4097",
   "metadata": {
    "vscode": {
     "languageId": "c++"
    }
   },
   "outputs": [
    {
     "data": {
      "text/plain": [
       "false"
      ]
     },
     "execution_count": 9,
     "metadata": {},
     "output_type": "execute_result"
    }
   ],
   "source": [
    "is_sentence(hello)"
   ]
  },
  {
   "cell_type": "markdown",
   "id": "e67334e3-508a-4c29-8739-3d3e18c0bbbb",
   "metadata": {},
   "source": [
    "## Array Parameters"
   ]
  },
  {
   "cell_type": "code",
   "execution_count": 83,
   "id": "df24d638-f583-43ef-81ee-abc237a17ec4",
   "metadata": {
    "vscode": {
     "languageId": "c++"
    }
   },
   "outputs": [
    {
     "name": "stderr",
     "output_type": "stream",
     "text": [
      "\u001b[1minput_line_110:4:1: \u001b[0m\u001b[0;1;31merror: \u001b[0m\u001b[1mfunction definition is not allowed here\u001b[0m\n",
      "{\n",
      "\u001b[0;1;32m^\n",
      "\u001b[0m\u001b[1minput_line_110:12:1: \u001b[0m\u001b[0;1;31merror: \u001b[0m\u001b[1mfunction definition is not allowed here\u001b[0m\n",
      "{\n",
      "\u001b[0;1;32m^\n",
      "\u001b[0m"
     ]
    },
    {
     "ename": "Interpreter Error",
     "evalue": "",
     "output_type": "error",
     "traceback": [
      "Interpreter Error: "
     ]
    }
   ],
   "source": [
    "//ex 6.16\n",
    "\n",
    "#include <iostream>\n",
    "using namespace std;\n",
    "\n",
    "int caps_check(string s)\n",
    "{\n",
    "    for (int i=0; i!=s.size();i++)\n",
    "    {\n",
    "        if(isupper(s[i])) return 1;\n",
    "    }\n",
    "    return 0;\n",
    "}\n",
    "\n",
    "int main()\n",
    "{\n",
    "    if (caps_check(\"hEllo\")) cout<<\"Uppercase\";\n",
    "    else cout<<\"Not Uppercase\";\n",
    "    return 0;\n",
    "\n",
    "}"
   ]
  },
  {
   "cell_type": "code",
   "execution_count": null,
   "id": "b9033c65-47f8-4324-8e2e-211307d8fa5b",
   "metadata": {
    "vscode": {
     "languageId": "c++"
    }
   },
   "outputs": [],
   "source": [
    "// ex 6.17\n",
    "\n",
    "#include <iostream>\n",
    "using namespace std;\n",
    "\n",
    "void low_caser(string s)\n",
    "{\n",
    "    for (int i=0; i!=s.length();i++)\n",
    "    {\n",
    "        if (islower(s[i]))  s[i]=toupper(s[i]);\n",
    "    }\n",
    "    cout<<s;\n",
    "}\n",
    "\n",
    "int main()\n",
    "{\n",
    "    low_caser(\"hello\");\n",
    "}\n",
    "\n",
    "\n",
    "//Parameters i used in the function are not of the same type\n",
    "//the iterator in the looping function are integers starting from zero to the\n",
    "//length of the string"
   ]
  },
  {
   "cell_type": "code",
   "execution_count": 88,
   "id": "d4b8e3d6-37d2-4725-97cb-5346f70e9acd",
   "metadata": {
    "vscode": {
     "languageId": "c++"
    }
   },
   "outputs": [
    {
     "name": "stderr",
     "output_type": "stream",
     "text": [
      "\u001b[1minput_line_116:2:20: \u001b[0m\u001b[0;1;31merror: \u001b[0m\u001b[1munknown type name 'matrix'\u001b[0m\n",
      "bool compare(const matrix& m1, const matrix m2)\n",
      "\u001b[0;1;32m                   ^\n",
      "\u001b[0m\u001b[1minput_line_116:2:38: \u001b[0m\u001b[0;1;31merror: \u001b[0m\u001b[1munknown type name 'matrix'\u001b[0m\n",
      "bool compare(const matrix& m1, const matrix m2)\n",
      "\u001b[0;1;32m                                     ^\n",
      "\u001b[0m"
     ]
    },
    {
     "ename": "Interpreter Error",
     "evalue": "",
     "output_type": "error",
     "traceback": [
      "Interpreter Error: "
     ]
    }
   ],
   "source": [
    "// ex 6.18\n",
    "\n",
    "bool compare(const matrix& m1, const matrix m2)\n",
    "{\n",
    "}\n",
    "\n",
    "\n",
    "vector<int>::iterator change_val (int val, vector<int>::iterator it) {\n",
    "  // body of the function\n",
    "}"
   ]
  },
  {
   "cell_type": "code",
   "execution_count": 3,
   "id": "4c1df45f-7b2b-42ce-8238-9fe433e6c0ee",
   "metadata": {
    "vscode": {
     "languageId": "c++"
    }
   },
   "outputs": [
    {
     "name": "stderr",
     "output_type": "stream",
     "text": [
      "IncrementalExecutor::executeFunction: symbol '_ZN11__cling_N534calcEd' unresolved while linking [cling interface function]!\n",
      "You are probably missing the definition of __cling_N53::calc(double)\n",
      "Maybe you need to load the corresponding shared library?\n"
     ]
    },
    {
     "ename": "Interpreter Error",
     "evalue": "",
     "output_type": "error",
     "traceback": [
      "Interpreter Error: "
     ]
    }
   ],
   "source": [
    "//6.19\n",
    "\n",
    "double calc(double);\n",
    "calc(12.2)"
   ]
  },
  {
   "cell_type": "code",
   "execution_count": 95,
   "id": "ae15691f-4578-4bb4-b1f8-a2a9a8673bb0",
   "metadata": {
    "vscode": {
     "languageId": "c++"
    }
   },
   "outputs": [
    {
     "name": "stderr",
     "output_type": "stream",
     "text": [
      "\u001b[1minput_line_123:2:2: \u001b[0m\u001b[0;1;31merror: \u001b[0m\u001b[1muse of undeclared identifier 'calc'\u001b[0m\n",
      " calc(12.2)\n",
      "\u001b[0;1;32m ^\n",
      "\u001b[0m"
     ]
    },
    {
     "ename": "Interpreter Error",
     "evalue": "",
     "output_type": "error",
     "traceback": [
      "Interpreter Error: "
     ]
    }
   ],
   "source": [
    "int count(const string&, char)"
   ]
  },
  {
   "cell_type": "code",
   "execution_count": 5,
   "id": "2be72ae9-2860-4c09-8a57-7f884b54a7cb",
   "metadata": {
    "vscode": {
     "languageId": "c++"
    }
   },
   "outputs": [],
   "source": [
    "///Printing elements of an array\n",
    "\n",
    "void print(const int *begin, const int *end)\n",
    "{\n",
    "    while (begin != end) //compares the memory address\n",
    "        cout<<*begin++<<endl; //prints and advances the pointer\n",
    "}"
   ]
  },
  {
   "cell_type": "code",
   "execution_count": null,
   "id": "672e5ac9-26f4-4889-999f-70fe9d37902a",
   "metadata": {
    "vscode": {
     "languageId": "c++"
    }
   },
   "outputs": [],
   "source": [
    "int j[] = {0,1,2,3,4,5,6,7,8};\n",
    "print(begin(j),end(j))"
   ]
  },
  {
   "cell_type": "markdown",
   "id": "d072bca2-4d23-4279-8223-1b84a4b526c4",
   "metadata": {},
   "source": [
    "## Explicitly Passing a size parameter"
   ]
  },
  {
   "cell_type": "code",
   "execution_count": 16,
   "id": "e72dc23b-188c-41ec-838e-ea46ae0e359b",
   "metadata": {
    "vscode": {
     "languageId": "c++"
    }
   },
   "outputs": [],
   "source": [
    "//const int ia[] is equivalent to const int* ia\n",
    "// size is passed explicityly and used to control access to elements of ia\n",
    "\n",
    "void print(const int ia[], size_t size)\n",
    "{\n",
    "    for (size_t i = 0; i != size; i++){\n",
    "        cout << ia[i] << endl;\n",
    "    }\n",
    "}"
   ]
  },
  {
   "cell_type": "code",
   "execution_count": 18,
   "id": "9d305239-1c66-4b29-8781-7ca5d5207616",
   "metadata": {
    "vscode": {
     "languageId": "c++"
    }
   },
   "outputs": [
    {
     "name": "stdout",
     "output_type": "stream",
     "text": [
      "0\n",
      "1\n"
     ]
    }
   ],
   "source": [
    "int j[] = {0,1};\n",
    "print(j, end(j)-begin(j))"
   ]
  },
  {
   "cell_type": "markdown",
   "id": "ea9b81c3-d936-4138-bf79-4050222af4a3",
   "metadata": {},
   "source": [
    "## Array Parameters and const"
   ]
  },
  {
   "cell_type": "code",
   "execution_count": 19,
   "id": "5d7e0d02-8fc7-4881-9ad3-766665327ccb",
   "metadata": {
    "vscode": {
     "languageId": "c++"
    }
   },
   "outputs": [],
   "source": [
    "// When a function does not need write access to the array elements, the array\n",
    "//parameter should be a pointer to const.A parameter should be a plain pointer \n",
    "//to a nonconst type only if the function needs to change element values."
   ]
  },
  {
   "cell_type": "markdown",
   "id": "9810cf35-1fb2-4e11-ab8b-463755db05c1",
   "metadata": {},
   "source": [
    "## Array Reference Parameters"
   ]
  },
  {
   "cell_type": "code",
   "execution_count": 20,
   "id": "08685952-20c7-4d35-9458-6615b2010bf2",
   "metadata": {
    "vscode": {
     "languageId": "c++"
    }
   },
   "outputs": [],
   "source": [
    "void print(int (&arr)[10])\n",
    "{\n",
    "    for (auto elem: arr)\n",
    "        cout<< elem << endl;\n",
    "}"
   ]
  },
  {
   "cell_type": "code",
   "execution_count": null,
   "id": "0dc88081-d915-4770-9ad0-484ec9caba8c",
   "metadata": {
    "vscode": {
     "languageId": "c++"
    }
   },
   "outputs": [],
   "source": [
    "f(int &arr[10])\n",
    "// error: declares arr as an array of references\n",
    "f(int (&arr)[10]) // ok: arr is a reference to an array of ten ints"
   ]
  },
  {
   "cell_type": "code",
   "execution_count": null,
   "id": "b5a6e14f-f319-4f97-9e3b-a3a0e1bd02d2",
   "metadata": {
    "vscode": {
     "languageId": "c++"
    }
   },
   "outputs": [],
   "source": [
    "void print(int (*matrix)[10])\n",
    "    //matrix is a pointer to an array of 10 elements\n",
    "    \n",
    "int *matrix[10]; /// array of 10 pointers\n",
    "int (*matrix)[10]; /// a pointer to an array of 10 elements(ints)"
   ]
  },
  {
   "cell_type": "code",
   "execution_count": 25,
   "id": "38456824-4483-41fe-af71-da29907b33e0",
   "metadata": {
    "vscode": {
     "languageId": "c++"
    }
   },
   "outputs": [],
   "source": [
    "//ex 6.21\n",
    "\n",
    "void functi(int a, int* b)\n",
    "{\n",
    "    if (a>*b) cout<<a<<\" is greater \"<<endl;\n",
    "    else cout<<*b<<\" is greater \"<<endl;\n",
    "}"
   ]
  },
  {
   "cell_type": "code",
   "execution_count": 26,
   "id": "272a9b82-f29e-4f5a-a6a7-3be51b0bd347",
   "metadata": {
    "vscode": {
     "languageId": "c++"
    }
   },
   "outputs": [
    {
     "name": "stdout",
     "output_type": "stream",
     "text": [
      "12 is greater \n"
     ]
    }
   ],
   "source": [
    "int a = 10;\n",
    "int b = 12;\n",
    "functi(a,&b)\n",
    "    \n",
    "//We dont need to explicitly declare a pointer we can just pass the address of any of the elements declared"
   ]
  },
  {
   "cell_type": "code",
   "execution_count": 49,
   "id": "2b30dbf6-b986-4942-a2e0-a1c862721aaf",
   "metadata": {
    "vscode": {
     "languageId": "c++"
    }
   },
   "outputs": [
    {
     "name": "stdout",
     "output_type": "stream",
     "text": [
      "0x7fcf59e39148\n",
      "0x7fcf59e39150"
     ]
    },
    {
     "data": {
      "text/plain": [
       "@0x7fcf59ffdb60"
      ]
     },
     "execution_count": 49,
     "metadata": {},
     "output_type": "execute_result"
    }
   ],
   "source": [
    "int a = 10;\n",
    "int b = 20;\n",
    "int* c = &a;\n",
    "int* d = &b;\n",
    "\n",
    "//printing the pointers\n",
    "\n",
    "cout<<&c<<'\\n';\n",
    "cout<<&d;\n",
    "\n",
    "\n",
    "//we have to swap so that *c shows 20 and *d shows 10"
   ]
  },
  {
   "cell_type": "code",
   "execution_count": 149,
   "id": "d6185105-361f-4b2d-a879-2813af965858",
   "metadata": {
    "vscode": {
     "languageId": "c++"
    }
   },
   "outputs": [
    {
     "name": "stderr",
     "output_type": "stream",
     "text": [
      "\u001b[1minput_line_211:5:9: \u001b[0m\u001b[0;1;31merror: \u001b[0m\u001b[1massigning to 'int *' from incompatible type 'int'; take the address with &\u001b[0m\n",
      "    b = temp;\n",
      "\u001b[0;1;32m        ^~~~\n",
      "\u001b[0m\u001b[0;32m        &\n",
      "\u001b[0m"
     ]
    },
    {
     "ename": "Interpreter Error",
     "evalue": "",
     "output_type": "error",
     "traceback": [
      "Interpreter Error: "
     ]
    }
   ],
   "source": [
    "void swapper(int* &a, int* &b)\n",
    "{\n",
    "    int temp = *a;\n",
    "    a = b;\n",
    "    b = temp;\n",
    "}"
   ]
  },
  {
   "cell_type": "code",
   "execution_count": null,
   "id": "ef3142c3-255b-4e58-8a42-3528dea80da0",
   "metadata": {
    "vscode": {
     "languageId": "c++"
    }
   },
   "outputs": [
    {
     "name": "stderr",
     "output_type": "stream",
     "text": [
      "\u001b[1minput_line_207:2:10: \u001b[0m\u001b[0;1;31merror: \u001b[0m\u001b[1muse of undeclared identifier 'c'\u001b[0m\n",
      " swapper(c,d)\n",
      "\u001b[0;1;32m         ^\n",
      "\u001b[0m\u001b[1minput_line_207:2:12: \u001b[0m\u001b[0;1;31merror: \u001b[0m\u001b[1muse of undeclared identifier 'd'\u001b[0m\n",
      " swapper(c,d)\n",
      "\u001b[0;1;32m           ^\n",
      "\u001b[0m"
     ]
    },
    {
     "ename": "Interpreter Error",
     "evalue": "",
     "output_type": "error",
     "traceback": [
      "Interpreter Error: "
     ]
    }
   ],
   "source": [
    "swapper(c,d)"
   ]
  },
  {
   "cell_type": "code",
   "execution_count": null,
   "id": "f11bdb70-0ce9-418c-9d1c-e33e5c26105b",
   "metadata": {
    "vscode": {
     "languageId": "c++"
    }
   },
   "outputs": [
    {
     "name": "stderr",
     "output_type": "stream",
     "text": [
      "\u001b[1minput_line_208:2:3: \u001b[0m\u001b[0;1;31merror: \u001b[0m\u001b[1muse of undeclared identifier 'c'\u001b[0m\n",
      " *c\n",
      "\u001b[0;1;32m  ^\n",
      "\u001b[0m"
     ]
    },
    {
     "ename": "Interpreter Error",
     "evalue": "",
     "output_type": "error",
     "traceback": [
      "Interpreter Error: "
     ]
    }
   ],
   "source": [
    "*c"
   ]
  },
  {
   "cell_type": "code",
   "execution_count": 11,
   "id": "f90f35c4-047a-4a52-a865-7fcd4b79bea7",
   "metadata": {
    "vscode": {
     "languageId": "c++"
    }
   },
   "outputs": [
    {
     "name": "stdout",
     "output_type": "stream",
     "text": [
      "b is greater0x7fd91b0bc05c\n"
     ]
    }
   ],
   "source": [
    "//Ex 6.21\n",
    "\n",
    "void swapper(int a, int *b)\n",
    "{\n",
    "    if (a>(*b))\n",
    "        cout<<\"a is greater\"<<a<<endl;\n",
    "    else cout<<\"b is greater\"<<b<<endl;\n",
    "}\n",
    "\n",
    "//\n",
    "int a = 30;\n",
    "int b = 40;\n",
    "int* c = &b;\n",
    "swapper(a, c)"
   ]
  },
  {
   "cell_type": "code",
   "execution_count": 154,
   "id": "069dd4eb-07b1-4f8d-87de-ed13d778338f",
   "metadata": {
    "vscode": {
     "languageId": "c++"
    }
   },
   "outputs": [
    {
     "data": {
      "text/plain": [
       "10"
      ]
     },
     "execution_count": 154,
     "metadata": {},
     "output_type": "execute_result"
    }
   ],
   "source": [
    "//ex6.22\n",
    "//Write a function to swap two int pointers\n",
    "\n",
    "int a  = 10;\n",
    "int b = 20;\n",
    "int *aa = &a;\n",
    "int *bb = &b;\n",
    "*aa\n",
    "\n",
    "    "
   ]
  },
  {
   "cell_type": "code",
   "execution_count": 171,
   "id": "43218217-1b6d-4edb-acfa-787fdebba9a8",
   "metadata": {
    "vscode": {
     "languageId": "c++"
    }
   },
   "outputs": [],
   "source": [
    "void swapper(int *a, int *b)\n",
    "{\n",
    "    int c = *a;  //just stores the value and c is not a clone, c has different address\n",
    "    *a = *b;\n",
    "    *b = c;\n",
    "    \n",
    "}"
   ]
  },
  {
   "cell_type": "code",
   "execution_count": 167,
   "id": "04535651-c754-4c23-9e74-5bdc4f5b155b",
   "metadata": {
    "vscode": {
     "languageId": "c++"
    }
   },
   "outputs": [],
   "source": [
    "//swapper using reference\n",
    "\n",
    "void swapper(int a, int b)\n",
    "{\n",
    "    int temp = a;\n",
    "    a = b;\n",
    "    b = temp;\n",
    "    cout<<&temp<<'\\n';\n",
    "    cout<<&a;\n",
    "}"
   ]
  },
  {
   "cell_type": "code",
   "execution_count": 168,
   "id": "c9c17f3a-1ecc-4554-ba8c-ece343160a93",
   "metadata": {
    "vscode": {
     "languageId": "c++"
    }
   },
   "outputs": [
    {
     "name": "stdout",
     "output_type": "stream",
     "text": [
      "0x7ffd7aae8a64\n",
      "0x7ffd7aae8a6c"
     ]
    }
   ],
   "source": [
    "swapper(a,b)"
   ]
  },
  {
   "cell_type": "code",
   "execution_count": 163,
   "id": "529ed312-d539-44af-8110-ad1a69b3154f",
   "metadata": {
    "vscode": {
     "languageId": "c++"
    }
   },
   "outputs": [
    {
     "data": {
      "text/plain": [
       "20"
      ]
     },
     "execution_count": 163,
     "metadata": {},
     "output_type": "execute_result"
    }
   ],
   "source": [
    "a"
   ]
  },
  {
   "cell_type": "code",
   "execution_count": 165,
   "id": "5e7b5b40-f93c-48d6-b26e-b01446241f6b",
   "metadata": {
    "vscode": {
     "languageId": "c++"
    }
   },
   "outputs": [
    {
     "data": {
      "text/plain": [
       "10"
      ]
     },
     "execution_count": 165,
     "metadata": {},
     "output_type": "execute_result"
    }
   ],
   "source": [
    "b"
   ]
  },
  {
   "cell_type": "code",
   "execution_count": 172,
   "id": "bb0cbaf2-933f-40ed-ae53-7abec69300f4",
   "metadata": {
    "vscode": {
     "languageId": "c++"
    }
   },
   "outputs": [],
   "source": [
    "//Ex_6.24\n",
    "\n",
    "void print(const int ia[10])\n",
    "{\n",
    "    for (size_t i = 0; i != 10; ++i)\n",
    "    cout << ia[i] << endl;\n",
    "}\n",
    "\n",
    "//The caveat with this function is that\n",
    "//it only accepts an array of 10 integers whose values cannot be changed"
   ]
  },
  {
   "cell_type": "code",
   "execution_count": 187,
   "id": "a6655a32-cb2f-4d36-a147-5bb9409cfeb3",
   "metadata": {
    "vscode": {
     "languageId": "c++"
    }
   },
   "outputs": [
    {
     "name": "stderr",
     "output_type": "stream",
     "text": [
      "In file included from input_line_5:1:\n",
      "In file included from /home/susearc/miniconda3/envs/xeus-cling/include/xeus/xinterpreter.hpp:17:\n",
      "In file included from /home/susearc/miniconda3/envs/xeus-cling/include/xeus/xcomm.hpp:19:\n",
      "In file included from /home/susearc/miniconda3/envs/xeus-cling/include/nlohmann/json.hpp:55:\n",
      "In file included from /home/susearc/miniconda3/envs/xeus-cling/include/nlohmann/detail/input/binary_reader.hpp:16:\n",
      "In file included from /home/susearc/miniconda3/envs/xeus-cling/include/nlohmann/detail/input/input_adapters.hpp:7:\n",
      "In file included from /home/susearc/miniconda3/envs/xeus-cling/bin/../lib/gcc/../../x86_64-conda-linux-gnu/include/c++/12.2.0/istream:39:\n",
      "\u001b[1m/home/susearc/miniconda3/envs/xeus-cling/bin/../lib/gcc/../../x86_64-conda-linux-gnu/include/c++/12.2.0/ostream:618:8: \u001b[0m\u001b[0;1;31merror: \u001b[0m\u001b[1mno member named 'setstate' in 'std::basic_ostream<char>'\u001b[0m\n",
      "        __out.setstate(ios_base::badbit);\n",
      "\u001b[0;1;32m        ~~~~~ ^\n",
      "\u001b[0m\u001b[1minput_line_261:3:9: \u001b[0m\u001b[0;1;30mnote: \u001b[0min instantiation of function template specialization 'std::operator<<<std::char_traits<char> >' requested here\u001b[0m\n",
      "    cout<<*argv;\n",
      "\u001b[0;1;32m        ^\n",
      "\u001b[0m"
     ]
    },
    {
     "ename": "Interpreter Error",
     "evalue": "",
     "output_type": "error",
     "traceback": [
      "Interpreter Error: "
     ]
    }
   ],
   "source": [
    "int main(int a, char* argv[])\n",
    "{\n",
    "    cout<<*argv;\n",
    "}"
   ]
  },
  {
   "cell_type": "code",
   "execution_count": 188,
   "id": "0cfde3a4-24bf-45e5-a45e-2c714d228305",
   "metadata": {
    "vscode": {
     "languageId": "c++"
    }
   },
   "outputs": [
    {
     "data": {
      "text/plain": [
       "0"
      ]
     },
     "execution_count": 188,
     "metadata": {},
     "output_type": "execute_result"
    }
   ],
   "source": [
    "main()"
   ]
  },
  {
   "cell_type": "code",
   "execution_count": 189,
   "id": "e6bb060a-6d1a-46e1-9650-b583c10fd1ae",
   "metadata": {
    "vscode": {
     "languageId": "c++"
    }
   },
   "outputs": [],
   "source": [
    "//initializer list (library type) is used for the same type of arguments passed\n",
    "//"
   ]
  },
  {
   "cell_type": "markdown",
   "id": "55968bec-4a36-47f3-8a46-de82d5073db5",
   "metadata": {},
   "source": [
    "Initializer_list parameters"
   ]
  },
  {
   "cell_type": "code",
   "execution_count": 191,
   "id": "6e853d18-6965-44fe-95c7-0894f37f0160",
   "metadata": {
    "vscode": {
     "languageId": "c++"
    }
   },
   "outputs": [],
   "source": [
    "initializer_list<string> ls;\n",
    "initializer_list<int> li;"
   ]
  },
  {
   "cell_type": "code",
   "execution_count": 192,
   "id": "b38be00f-8931-460c-815f-699e5a0bdb26",
   "metadata": {
    "vscode": {
     "languageId": "c++"
    }
   },
   "outputs": [
    {
     "data": {
      "text/plain": [
       "{}"
      ]
     },
     "execution_count": 192,
     "metadata": {},
     "output_type": "execute_result"
    }
   ],
   "source": [
    "ls"
   ]
  },
  {
   "cell_type": "code",
   "execution_count": null,
   "id": "52879527-e646-44e2-aa91-39c178e99c0b",
   "metadata": {
    "vscode": {
     "languageId": "c++"
    }
   },
   "outputs": [],
   "source": [
    "//unlike vector, the elements in an initializer_list are always const values,\n",
    "//there is no way to change the value of an element in an initializer_list\n",
    "\n",
    "\n",
    "void error_msg(initializer_list<string> ls)\n",
    "{\n",
    "    for (auto beg = ls.begin(); beg != ls.end(); ++beg)\n",
    "        cout<<*beg<<\" \";\n",
    "    cout << endl;\n",
    "}"
   ]
  },
  {
   "cell_type": "code",
   "execution_count": 221,
   "id": "ebab88da-dd76-4b83-8897-6dfe907e5760",
   "metadata": {
    "vscode": {
     "languageId": "c++"
    }
   },
   "outputs": [],
   "source": [
    "//Ex6.27\n",
    "\n",
    "int summer(initializer_list<int> li)\n",
    "{\n",
    "    int c=0;\n",
    "    initializer_list<int>::iterator beg;\n",
    "    for(beg = li.begin(); beg!=li.end();++beg)\n",
    "        c = c+*beg;\n",
    "    return c;\n",
    "}"
   ]
  },
  {
   "cell_type": "code",
   "execution_count": 223,
   "id": "d07faa19-3a3c-4273-9613-5682dd9272b7",
   "metadata": {
    "vscode": {
     "languageId": "c++"
    }
   },
   "outputs": [
    {
     "data": {
      "text/plain": [
       "457"
      ]
     },
     "execution_count": 223,
     "metadata": {},
     "output_type": "execute_result"
    }
   ],
   "source": [
    "summer({1,2,454})"
   ]
  },
  {
   "cell_type": "code",
   "execution_count": 224,
   "id": "441f63dc-eca8-4cf0-baf1-630d771eca09",
   "metadata": {
    "vscode": {
     "languageId": "c++"
    }
   },
   "outputs": [
    {
     "name": "stderr",
     "output_type": "stream",
     "text": [
      "\u001b[1minput_line_310:2:16: \u001b[0m\u001b[0;1;31merror: \u001b[0m\u001b[1munknown type name 'ErrCode'\u001b[0m\n",
      "void error_msg(ErrCode e, initializer_list<string> il)\n",
      "\u001b[0;1;32m               ^\n",
      "\u001b[0mIn file included from input_line_5:1:\n",
      "In file included from /home/susearc/miniconda3/envs/xeus-cling/include/xeus/xinterpreter.hpp:17:\n",
      "In file included from /home/susearc/miniconda3/envs/xeus-cling/include/xeus/xcomm.hpp:19:\n",
      "In file included from /home/susearc/miniconda3/envs/xeus-cling/include/nlohmann/json.hpp:55:\n",
      "In file included from /home/susearc/miniconda3/envs/xeus-cling/include/nlohmann/detail/input/binary_reader.hpp:16:\n",
      "In file included from /home/susearc/miniconda3/envs/xeus-cling/include/nlohmann/detail/input/input_adapters.hpp:7:\n",
      "In file included from /home/susearc/miniconda3/envs/xeus-cling/bin/../lib/gcc/../../x86_64-conda-linux-gnu/include/c++/12.2.0/istream:39:\n",
      "\u001b[1m/home/susearc/miniconda3/envs/xeus-cling/bin/../lib/gcc/../../x86_64-conda-linux-gnu/include/c++/12.2.0/ostream:618:8: \u001b[0m\u001b[0;1;31merror: \u001b[0m\u001b[1mno member named 'setstate' in 'std::basic_ostream<char>'\u001b[0m\n",
      "        __out.setstate(ios_base::badbit);\n",
      "\u001b[0;1;32m        ~~~~~ ^\n",
      "\u001b[0m\u001b[1minput_line_310:6:22: \u001b[0m\u001b[0;1;30mnote: \u001b[0min instantiation of function template specialization 'std::operator<<<std::char_traits<char> >' requested here\u001b[0m\n",
      "        cout << elem << \" \" ;\n",
      "\u001b[0;1;32m                     ^\n",
      "\u001b[0m"
     ]
    },
    {
     "ename": "Interpreter Error",
     "evalue": "",
     "output_type": "error",
     "traceback": [
      "Interpreter Error: "
     ]
    }
   ],
   "source": [
    "//Ex6.28\n",
    "\n",
    "void error_msg(ErrCode e, initializer_list<string> il)\n",
    "{\n",
    "    cout << e.msg() << \": \";\n",
    "    for (const auto &elem : il)\n",
    "        cout << elem << \" \" ;\n",
    "    cout << endl;\n",
    "}\n",
    "//Ans elem is a reference to the first element of il which is a string"
   ]
  },
  {
   "cell_type": "code",
   "execution_count": 244,
   "id": "18fab07d-eb0c-4cd1-9472-dea25575f267",
   "metadata": {
    "vscode": {
     "languageId": "c++"
    }
   },
   "outputs": [],
   "source": [
    "void ranger(initializer_list<int> li)\n",
    "{\n",
    "    for (auto iter: li)\n",
    "        cout<<&iter<<'\\n';\n",
    "        \n",
    "}\n",
    "\n",
    "//Although using reference or the variable term gets the job done for returning \n",
    "//The elements in the initializer_list\n",
    "\n",
    "//But using a variable creates/takes a separate memory address---\n",
    "//Hence when we try to print the address of the variable it always prints the same address---\n",
    "//Cos the variable is iterated over the list and then stored as the value of the variable---\n",
    "//Which takes an extra memory space---\n",
    "//In case the list elements are very large it would take a hefty memory operation to complete\n",
    "//Whereas the reference just behaves as the aliases ofthe elements of the list\n",
    "\n",
    "\n",
    "//Hence using the reference as the loop control variable is always a good idea"
   ]
  },
  {
   "cell_type": "code",
   "execution_count": 243,
   "id": "f56c2f98-582d-4737-ba08-59bf9480fc6f",
   "metadata": {
    "vscode": {
     "languageId": "c++"
    }
   },
   "outputs": [
    {
     "name": "stdout",
     "output_type": "stream",
     "text": [
      "0x7ffd7aae8a14\n",
      "0x7ffd7aae8a14\n",
      "0x7ffd7aae8a14\n"
     ]
    }
   ],
   "source": [
    "ranger({1,23,4})"
   ]
  },
  {
   "cell_type": "markdown",
   "id": "e5b73774-9dd6-4709-89a7-016e893ee30e",
   "metadata": {},
   "source": [
    "Return Types and the return Statement"
   ]
  },
  {
   "cell_type": "code",
   "execution_count": 12,
   "id": "89d20df6",
   "metadata": {
    "vscode": {
     "languageId": "c++"
    }
   },
   "outputs": [],
   "source": [
    "//write a swap function what returns none when the inputs are identical\n",
    "\n",
    "void swap(int &v1, int &v2)\n",
    "{\n",
    "    if (v1==v2) return;\n",
    "    int tmp = v2;\n",
    "    v2 = v1;\n",
    "    v1 = tmp;\n",
    "        //no explicit return is necessary\n",
    "    \n",
    "}"
   ]
  },
  {
   "cell_type": "code",
   "execution_count": 13,
   "id": "6fac8fed",
   "metadata": {
    "vscode": {
     "languageId": "c++"
    }
   },
   "outputs": [],
   "source": [
    "int a =10;int b = 12;\n",
    "swap(a,b)"
   ]
  },
  {
   "attachments": {},
   "cell_type": "markdown",
   "id": "d5f9f9fa",
   "metadata": {},
   "source": [
    "Functions that return a value"
   ]
  },
  {
   "cell_type": "code",
   "execution_count": 19,
   "id": "77b97ef4",
   "metadata": {
    "vscode": {
     "languageId": "c++"
    }
   },
   "outputs": [],
   "source": [
    "string make_plural(size_t ctr, const string &word, const string &ending)\n",
    "{\n",
    "    return (ctr > 1 ) ? word + ending : word;\n",
    "}"
   ]
  },
  {
   "cell_type": "code",
   "execution_count": 20,
   "id": "b96b167e",
   "metadata": {
    "vscode": {
     "languageId": "c++"
    }
   },
   "outputs": [
    {
     "data": {
      "text/plain": [
       "\"hello\""
      ]
     },
     "execution_count": 20,
     "metadata": {},
     "output_type": "execute_result"
    }
   ],
   "source": [
    "make_plural(1, \"hello\", \"world\")"
   ]
  },
  {
   "cell_type": "code",
   "execution_count": 3,
   "id": "5c5d68aa",
   "metadata": {
    "vscode": {
     "languageId": "c++"
    }
   },
   "outputs": [],
   "source": [
    "//return a fererence to the shorter of two strings\n",
    "\n",
    "\n",
    "const string& shorterString(const string &s1, const string &s2)\n",
    "{\n",
    "    return s1.size() <= s2.size() ? s1 : s2;\n",
    "}"
   ]
  },
  {
   "cell_type": "code",
   "execution_count": 4,
   "id": "f841ff7c",
   "metadata": {
    "vscode": {
     "languageId": "c++"
    }
   },
   "outputs": [
    {
     "data": {
      "text/plain": [
       "\"hello\""
      ]
     },
     "execution_count": 4,
     "metadata": {},
     "output_type": "execute_result"
    }
   ],
   "source": [
    "const string h = \"hello\";\n",
    "const string w = \"world\";\n",
    "shorterString(h,w)"
   ]
  },
  {
   "cell_type": "code",
   "execution_count": null,
   "id": "a3b9b9b9",
   "metadata": {
    "vscode": {
     "languageId": "c++"
    }
   },
   "outputs": [],
   "source": [
    "//when a function completes, its storage is feed. After a function terminates, references to local objects refer to memory that no longer valid:\n",
    "\n",
    "const string &manip()\n",
    "{\n",
    "    string ret;\n",
    "    // transform ret in some way\n",
    "    if (!ret.empty())\n",
    "        return ret;  //Wrong returning a reference to a loval object\n",
    "    else\n",
    "        return \"Empty\"; // Wrong empty is a local temporary string\n",
    "}\n",
    "\n"
   ]
  },
  {
   "cell_type": "markdown",
   "id": "950ff589",
   "metadata": {},
   "source": [
    "Functions that eturn class types and the call operator"
   ]
  },
  {
   "cell_type": "code",
   "execution_count": null,
   "id": "c763beac",
   "metadata": {
    "vscode": {
     "languageId": "c++"
    }
   },
   "outputs": [],
   "source": [
    "auto sz = shorterString(s1, s2).size()"
   ]
  },
  {
   "attachments": {},
   "cell_type": "markdown",
   "id": "e888fe3f",
   "metadata": {},
   "source": [
    "Reference Returns Are Lvalues"
   ]
  },
  {
   "cell_type": "code",
   "execution_count": null,
   "id": "9fd23184",
   "metadata": {
    "vscode": {
     "languageId": "c++"
    }
   },
   "outputs": [],
   "source": [
    "char& get_val = (sting& str, string::size_type ix)\n",
    "{\n",
    "    return str[ix];\n",
    "}\n",
    "int main() "
   ]
  },
  {
   "cell_type": "code",
   "execution_count": 13,
   "id": "49d0a45b",
   "metadata": {
    "vscode": {
     "languageId": "c++"
    }
   },
   "outputs": [
    {
     "name": "stdout",
     "output_type": "stream",
     "text": [
      "a value\n",
      "a value\n"
     ]
    },
    {
     "data": {
      "text/plain": [
       "@0x7ff77cffdb60"
      ]
     },
     "execution_count": 13,
     "metadata": {},
     "output_type": "execute_result"
    }
   ],
   "source": [
    "char& get_val(string str, string::size_type ix)\n",
    "{\n",
    "    return str[ix];\n",
    "}\n",
    "\n",
    "    string s(\"a value\");\n",
    "    cout<<s<<endl;\n",
    "    get_val(s, 0) = 'A';\n",
    "    cout<<s<<endl;\n",
    "    "
   ]
  },
  {
   "cell_type": "code",
   "execution_count": 10,
   "id": "5d2390bc",
   "metadata": {
    "vscode": {
     "languageId": "c++"
    }
   },
   "outputs": [
    {
     "data": {
      "text/plain": [
       "'e'"
      ]
     },
     "execution_count": 10,
     "metadata": {},
     "output_type": "execute_result"
    }
   ],
   "source": [
    "get_val(\"ceeplusplus\", 2)"
   ]
  },
  {
   "cell_type": "code",
   "execution_count": null,
   "id": "3f8cb260",
   "metadata": {
    "vscode": {
     "languageId": "c++"
    }
   },
   "outputs": [],
   "source": [
    "//Recalling the error message\n",
    "//lets say that we want a sequence of error messages\n",
    "\n",
    "vector<string> err_msg()\n",
    "{\n",
    "    //expected and actual are stings that comes\n",
    "\n",
    "    if (expected.empty()) \n",
    "        return {};\n",
    "    else if (expected==actual)\n",
    "        return {\"functionX\", \"okay\"}\n",
    "    else\n",
    "        return {\"functionX\", expected, actual}\n",
    "}"
   ]
  },
  {
   "attachments": {},
   "cell_type": "markdown",
   "id": "9e1945c2",
   "metadata": {},
   "source": [
    "Recursive functions"
   ]
  },
  {
   "cell_type": "code",
   "execution_count": 21,
   "id": "a803a313",
   "metadata": {
    "vscode": {
     "languageId": "c++"
    }
   },
   "outputs": [],
   "source": [
    "int factorial(int a)\n",
    "{\n",
    "    if (a>1)\n",
    "        return factorial(a-1)*a;\n",
    "    return 1;\n",
    "}\n",
    "\n",
    "//In this implementation we recursively call factorial to compute the factorial of the numbers counting down from the original value in val"
   ]
  },
  {
   "cell_type": "code",
   "execution_count": 22,
   "id": "2baefd68",
   "metadata": {
    "vscode": {
     "languageId": "c++"
    }
   },
   "outputs": [
    {
     "data": {
      "text/plain": [
       "6"
      ]
     },
     "execution_count": 22,
     "metadata": {},
     "output_type": "execute_result"
    }
   ],
   "source": [
    "factorial(3)"
   ]
  },
  {
   "cell_type": "code",
   "execution_count": null,
   "id": "0d53b7df",
   "metadata": {
    "vscode": {
     "languageId": "c++"
    }
   },
   "outputs": [],
   "source": [
    "//Ex_6.30\n",
    "bool str_subrange(const string &str1, const string &str2)\n",
    "{\n",
    "    //same sizes: return normal equality test\n",
    "    if (str1.size() == str2.size())\n",
    "    return str1 == str1; //ok == returns bool\n",
    "\n",
    "    // find the size of the smaller string; conditional operator\n",
    "    auto size = (str1.size() < str2.size()) \n",
    "        ? str1.size() : str2.size();\n",
    "\n",
    "    for (decltype(size) i = 0; i= size; ++i)\n",
    "    {\n",
    "        if (str1[i] != str2[i])\n",
    "            return; //error1: no return value; compiler should detect this error\n",
    "    }\n",
    "}\n"
   ]
  },
  {
   "cell_type": "code",
   "execution_count": 2,
   "id": "a67ae831",
   "metadata": {
    "vscode": {
     "languageId": "c++"
    }
   },
   "outputs": [],
   "source": [
    "//Ex_6.32\n",
    "\n",
    "int& get(int* arry, int index)\n",
    "{\n",
    "    return arry[index];\n",
    "    \n",
    "}"
   ]
  },
  {
   "cell_type": "code",
   "execution_count": 4,
   "id": "82ff9401",
   "metadata": {
    "vscode": {
     "languageId": "c++"
    }
   },
   "outputs": [],
   "source": [
    "int arry[] = {1,2,3,3,4}"
   ]
  },
  {
   "cell_type": "code",
   "execution_count": null,
   "id": "21b08aee",
   "metadata": {
    "vscode": {
     "languageId": "c++"
    }
   },
   "outputs": [],
   "source": [
    "get(&arry, 6)"
   ]
  },
  {
   "cell_type": "code",
   "execution_count": 9,
   "id": "305682c2",
   "metadata": {
    "vscode": {
     "languageId": "c++"
    }
   },
   "outputs": [],
   "source": [
    "int main()\n",
    "{\n",
    "    int ia[10];\n",
    "    for (int i = 0; i != 10; ++i)\n",
    "        get(ia, i) = i;\n",
    "}"
   ]
  },
  {
   "cell_type": "code",
   "execution_count": 10,
   "id": "9ee72e31",
   "metadata": {
    "vscode": {
     "languageId": "c++"
    }
   },
   "outputs": [
    {
     "data": {
      "text/plain": [
       "0"
      ]
     },
     "execution_count": 10,
     "metadata": {},
     "output_type": "execute_result"
    }
   ],
   "source": [
    "main()"
   ]
  },
  {
   "cell_type": "code",
   "execution_count": 4,
   "id": "64f2037c",
   "metadata": {
    "vscode": {
     "languageId": "c++"
    }
   },
   "outputs": [],
   "source": [
    "vector<string> error_msg={\"working now\",\"404 error\",\"out of bounds error\",\"Small hint error\",\"right alignment error\",\"Null pointer\"};"
   ]
  },
  {
   "cell_type": "code",
   "execution_count": 5,
   "id": "450de157",
   "metadata": {
    "vscode": {
     "languageId": "c++"
    }
   },
   "outputs": [],
   "source": [
    "template <class T>\n",
    "void print(const std::vector<T>& v) {\n",
    "  for (const auto& elem : v) {\n",
    "    print(elem); // Call the first function\n",
    "    cout <<v << endl;\n",
    "  }\n",
    "}"
   ]
  },
  {
   "cell_type": "code",
   "execution_count": null,
   "id": "4ecc55ed",
   "metadata": {
    "vscode": {
     "languageId": "c++"
    }
   },
   "outputs": [],
   "source": [
    "void print(const vector<string> ivec, vector<string>::const_iterator it)\n",
    "{\n",
    "    if (it == ivec.end())\n",
    "        return;\n",
    "    cout<<*it++<<endl;\n",
    "    print(ivec,it)\n",
    "}"
   ]
  },
  {
   "cell_type": "code",
   "execution_count": null,
   "id": "cadc98a7",
   "metadata": {
    "vscode": {
     "languageId": "c++"
    }
   },
   "outputs": [],
   "source": [
    "//Another version in pg228.cpp"
   ]
  },
  {
   "cell_type": "code",
   "execution_count": 1,
   "id": "79824933",
   "metadata": {
    "vscode": {
     "languageId": "c++"
    }
   },
   "outputs": [],
   "source": [
    "#include <iostream>\n",
    "#include <vector>\n",
    "using namespace std;"
   ]
  },
  {
   "cell_type": "code",
   "execution_count": 4,
   "id": "54120e65",
   "metadata": {
    "vscode": {
     "languageId": "c++"
    }
   },
   "outputs": [],
   "source": [
    "//ex 6.34\n",
    "int factorial(int num)\n",
    "{\n",
    "    if (num!=1)\n",
    "        return num*factorial(num-1);\n",
    "    return 1;\n",
    "}   "
   ]
  },
  {
   "cell_type": "code",
   "execution_count": 5,
   "id": "2cea8793",
   "metadata": {
    "vscode": {
     "languageId": "c++"
    }
   },
   "outputs": [
    {
     "data": {
      "text/plain": [
       "720"
      ]
     },
     "execution_count": 5,
     "metadata": {},
     "output_type": "execute_result"
    }
   ],
   "source": [
    "factorial(6)\n",
    "\n",
    "//Had there been num!=0 the function would try to multiply the num ie 1 with \n",
    "//with num-- it would return the original num while decreasing its value so we are stuck in an infinite loop"
   ]
  },
  {
   "attachments": {},
   "cell_type": "markdown",
   "id": "416f7b0d",
   "metadata": {},
   "source": [
    "Returning a Pointer to an Array"
   ]
  },
  {
   "cell_type": "code",
   "execution_count": 6,
   "id": "faa05452",
   "metadata": {
    "vscode": {
     "languageId": "c++"
    }
   },
   "outputs": [],
   "source": [
    "typedef int arrT[10]; // arrT is a synonym for the type array of ten ints\n",
    "using arrT = int[10]; // equivalent declaration of arrT; see § 2.5.1 (p. 68)\n",
    "arrT* func(int i); // func returns a pointer to an array of ten ints"
   ]
  },
  {
   "attachments": {},
   "cell_type": "markdown",
   "id": "ab29403a",
   "metadata": {},
   "source": [
    "Declaring a Function That Returns a Pointer to an Array"
   ]
  },
  {
   "cell_type": "code",
   "execution_count": null,
   "id": "df3b5446",
   "metadata": {
    "vscode": {
     "languageId": "c++"
    }
   },
   "outputs": [],
   "source": [
    "int arr[10]; //declaration of array of 10 integes\n",
    "int* p2[10]; //declaration of an array of 10 pointers\n",
    "int (*p2)[10] = &arr;"
   ]
  },
  {
   "cell_type": "code",
   "execution_count": null,
   "id": "53f4bf55",
   "metadata": {
    "vscode": {
     "languageId": "c++"
    }
   },
   "outputs": [],
   "source": [
    "//Fo example\n",
    "int (*func(int i))[10]  //returns a pointer to an array of 10 integers\n",
    "\n",
    "//To understand\n",
    "func(int) //says that we can call func with an int argument\n",
    "(*func(int)) //says that we can dereference the result of that call\n",
    "(*func(int))[10] //says that dereferencing the result of a call to func yields an array of size ten"
   ]
  },
  {
   "attachments": {},
   "cell_type": "markdown",
   "id": "9b57f620",
   "metadata": {},
   "source": [
    "Using trailing return type"
   ]
  },
  {
   "cell_type": "code",
   "execution_count": 7,
   "id": "d7735927",
   "metadata": {
    "vscode": {
     "languageId": "c++"
    }
   },
   "outputs": [],
   "source": [
    "//Under the new standard,another way to simplify the declaration of func is by using a trailing retun type. Trailing retuns can be defined fo any function, but are most useful fo functions with complicated eturn types, such as pointers ot arrays. A trailing return type follows the parameter list and is preceded by ->. To signal that the return follows the parameter list, we use auto where the eturn type ordinarily appears.\n",
    "\n",
    "auto func(int i)  -> int(*)[10];"
   ]
  },
  {
   "attachments": {},
   "cell_type": "markdown",
   "id": "d8fcb907",
   "metadata": {},
   "source": [
    "Using Decltype\n"
   ]
  },
  {
   "cell_type": "code",
   "execution_count": 10,
   "id": "1f22e566",
   "metadata": {
    "vscode": {
     "languageId": "c++"
    }
   },
   "outputs": [],
   "source": [
    "//Another altenative, if we know the arrays to whichour function can retun a pointer, we can use decltype to declare the return type.\n",
    "\n",
    "int odd[] = {1,3,5,7,9};\n",
    "int even[] = {0,2,4,6,8};\n",
    "//returns a pointer to an aray of five int elements\n",
    "\n"
   ]
  },
  {
   "cell_type": "code",
   "execution_count": 55,
   "id": "cc0af9f3",
   "metadata": {
    "vscode": {
     "languageId": "c++"
    }
   },
   "outputs": [],
   "source": [
    "auto* arrPtr(int i)\n",
    "{\n",
    "    return (i%2) ? &odd : &even; // returns a pointer to the array\n",
    "}"
   ]
  },
  {
   "cell_type": "code",
   "execution_count": 56,
   "id": "7ae10823",
   "metadata": {
    "vscode": {
     "languageId": "c++"
    }
   },
   "outputs": [
    {
     "data": {
      "text/plain": [
       "{ 4, 6, 8, 0, 0 }"
      ]
     },
     "execution_count": 56,
     "metadata": {},
     "output_type": "execute_result"
    }
   ],
   "source": [
    "*(arrPtr(9)+2)"
   ]
  },
  {
   "cell_type": "code",
   "execution_count": 63,
   "id": "0fe437fb",
   "metadata": {
    "vscode": {
     "languageId": "c++"
    }
   },
   "outputs": [],
   "source": [
    "string arry[10];"
   ]
  },
  {
   "cell_type": "code",
   "execution_count": 65,
   "id": "341359c8",
   "metadata": {
    "vscode": {
     "languageId": "c++"
    }
   },
   "outputs": [
    {
     "data": {
      "text/plain": [
       "{ \"\", \"\", \"\", \"\", \"\", \"\", \"\", \"\", \"\", \"\" }"
      ]
     },
     "execution_count": 65,
     "metadata": {},
     "output_type": "execute_result"
    }
   ],
   "source": [
    "auto &ref = arry;\n"
   ]
  },
  {
   "cell_type": "code",
   "execution_count": 73,
   "id": "ce05e24d",
   "metadata": {
    "vscode": {
     "languageId": "c++"
    }
   },
   "outputs": [],
   "source": [
    "//Ex 6.36\n",
    "auto &rr()\n",
    "{\n",
    "    auto &ref = arry;\n",
    "    return ref;\n",
    "}"
   ]
  },
  {
   "cell_type": "code",
   "execution_count": 74,
   "id": "a5ca4dc0",
   "metadata": {
    "vscode": {
     "languageId": "c++"
    }
   },
   "outputs": [
    {
     "data": {
      "text/plain": [
       "{ \"\", \"\", \"\", \"\", \"\", \"\", \"\", \"\", \"\", \"\" }"
      ]
     },
     "execution_count": 74,
     "metadata": {},
     "output_type": "execute_result"
    }
   ],
   "source": [
    "rr()"
   ]
  },
  {
   "cell_type": "code",
   "execution_count": 79,
   "id": "0b20a7fd",
   "metadata": {
    "vscode": {
     "languageId": "c++"
    }
   },
   "outputs": [
    {
     "name": "stderr",
     "output_type": "stream",
     "text": [
      "input_line_120:5:1: warning: declaration does not declare anything [-Wmissing-declarations]\n",
      "arr\n",
      "^~~\n"
     ]
    }
   ],
   "source": [
    "//ex 6.37\n",
    "\n",
    "//Using type alias\n",
    "typedef string arr[10];\n",
    "\n",
    "arr\n",
    "arr &rr()\n",
    "{\n",
    "    auto &ref = arry;\n",
    "    return ref;\n",
    "}\n",
    "rr()"
   ]
  },
  {
   "cell_type": "code",
   "execution_count": null,
   "id": "b9c08889",
   "metadata": {
    "vscode": {
     "languageId": "c++"
    }
   },
   "outputs": [],
   "source": [
    "//using trailing return\n",
    "&rr() -> string arr[10]"
   ]
  },
  {
   "attachments": {},
   "cell_type": "markdown",
   "id": "515dc4aa",
   "metadata": {},
   "source": [
    "Overloaded Functions"
   ]
  },
  {
   "cell_type": "code",
   "execution_count": null,
   "id": "3d580619",
   "metadata": {
    "vscode": {
     "languageId": "c++"
    }
   },
   "outputs": [],
   "source": [
    "//Defining Overloaded Functions\n",
    "\n",
    "Record lookup(const Account&)   //find by Account\n",
    "Record lookup(const Phone&)     // find by Phone\n",
    "Record lookup(const Name&)       //find by Name\n",
    "\n",
    "\n",
    "Account acct;\n",
    "\n",
    "Phone phone;\n",
    "\n",
    "Record r1 =lookup(acct) //call version that takes an Account\n",
    "Record r2 = lookup(phone)\n"
   ]
  },
  {
   "attachments": {},
   "cell_type": "markdown",
   "id": "70b78c54",
   "metadata": {},
   "source": [
    "Determining Whether Two Parameter Types Differ"
   ]
  },
  {
   "cell_type": "code",
   "execution_count": null,
   "id": "a4dc9644",
   "metadata": {
    "vscode": {
     "languageId": "c++"
    }
   },
   "outputs": [],
   "source": [
    "//Ex 6.39\n",
    "\n",
    "//a) \n",
    "int calc(int, int){}\n",
    "int calc(const int, const int)"
   ]
  },
  {
   "cell_type": "code",
   "execution_count": null,
   "id": "6ffe1fc1",
   "metadata": {
    "vscode": {
     "languageId": "c++"
    }
   },
   "outputs": [],
   "source": []
  }
 ],
 "metadata": {
  "kernelspec": {
   "display_name": "C++14",
   "language": "C++14",
   "name": "xcpp14"
  },
  "language_info": {
   "codemirror_mode": "text/x-c++src",
   "file_extension": ".cpp",
   "mimetype": "text/x-c++src",
   "name": "C++14",
   "version": "14"
  }
 },
 "nbformat": 4,
 "nbformat_minor": 5
}
