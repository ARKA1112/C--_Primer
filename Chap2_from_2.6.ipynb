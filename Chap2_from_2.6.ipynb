{
 "cells": [
  {
   "cell_type": "code",
   "execution_count": 18,
   "id": "0fc03e7b",
   "metadata": {},
   "outputs": [],
   "source": [
    "#include <iostream>\n",
    "using namespace std;"
   ]
  },
  {
   "cell_type": "code",
   "execution_count": 19,
   "id": "24980caf",
   "metadata": {},
   "outputs": [
    {
     "name": "stderr",
     "output_type": "stream",
     "text": [
      "\u001b[1minput_line_35:1:8: \u001b[0m\u001b[0;1;31merror: \u001b[0m\u001b[1mredefinition of 'Sales_data'\u001b[0m\n",
      "struct Sales_data\n",
      "\u001b[0;1;32m       ^\n",
      "\u001b[0m\u001b[1m./sales_data.cpp:6:8: \u001b[0m\u001b[0;1;30mnote: \u001b[0mprevious definition is here\u001b[0m\n",
      "struct Sales_data{\n",
      "\u001b[0;1;32m       ^\n",
      "\u001b[0m"
     ]
    },
    {
     "ename": "Interpreter Error",
     "evalue": "",
     "output_type": "error",
     "traceback": [
      "Interpreter Error: "
     ]
    }
   ],
   "source": [
    "struct Sales_data\n",
    "{\n",
    "    string bookNo;\n",
    "    unsigned units_sold = 0;\n",
    "    double revenue = 0.0;\n",
    "};\n",
    "\n",
    "//struct must end with ;"
   ]
  },
  {
   "cell_type": "code",
   "execution_count": 30,
   "id": "2b4d0420",
   "metadata": {},
   "outputs": [
    {
     "name": "stderr",
     "output_type": "stream",
     "text": [
      "\u001b[1minput_line_54:3:10: \u001b[0m\u001b[0;1;31mfatal error: \u001b[0m\u001b[1m'Sales_data.h' file not found\u001b[0m\n",
      "#include \"Sales_data.h\"\n",
      "\u001b[0;1;32m         ^~~~~~~~~~~~~~\n",
      "\u001b[0m"
     ]
    },
    {
     "ename": "Interpreter Error",
     "evalue": "",
     "output_type": "error",
     "traceback": [
      "Interpreter Error: "
     ]
    }
   ],
   "source": [
    "//Adding two Sales_data objects\n",
    "\n",
    "#include<iostream>\n",
    "#include<string>\n",
    "#include \"Sales_data.h\"\n",
    "int main()\n",
    "{\n",
    "    Sales_data data1,data2;\n",
    "    double price;\n",
    "    \n",
    "    //Reading Data into a Sales_data object\n",
    "    cout<<\"Enter book no, units, price\";\n",
    "    cin>>data1.bookNo>>data1.units_sold>>price;\n",
    "    data1.revenue = data1.units_sold * price;\n",
    "    cout<<\"Enter book no, units, price\";\n",
    "    std::cin >> data2.bookNo >> data2.units_sold >> price;\n",
    "    data2.revenue = data2.units_sold * price;\n",
    "    \n",
    "    //Printing the SUm of Two Sales_data objects\n",
    "    \n",
    "    if (data1.bookNo == data2.bookNo)\n",
    "    {\n",
    "        unsigned totalCnt = data1.units_sold + data2.units_sold;\n",
    "        double totalRevenue = data1.revenue + data2.revenue;\n",
    "        \n",
    "        //print: ISBN total sold toatl revenue average price per book\n",
    "        \n",
    "        std::cout << data1.bookNo << \" \"<< totalCnt\n",
    "            <<\" \"<< totalRevenue << \" \";\n",
    "        \n",
    "        if (totalCnt != 0 )\n",
    "            std::cout << totalRevenue/totalCnt << std::endl;\n",
    "        else\n",
    "            std::cout << \"(no sales)\" <<std::endl;\n",
    "        return 0;//indicate success\n",
    "    }\n",
    "    else\n",
    "    {\n",
    "        //transaction werent for the same ISBN\n",
    "        cerr<<\"data must refer to the same ISBN\"<<std::endl;\n",
    "        return -1;//indicate failure\n",
    "    }\n",
    "}"
   ]
  },
  {
   "cell_type": "code",
   "execution_count": 24,
   "id": "6922dce7",
   "metadata": {},
   "outputs": [
    {
     "name": "stderr",
     "output_type": "stream",
     "text": [
      "\u001b[1minput_line_44:2:2: \u001b[0m\u001b[0;1;31merror: \u001b[0m\u001b[1muse of undeclared identifier 'main'\u001b[0m\n",
      " main()\n",
      "\u001b[0;1;32m ^\n",
      "\u001b[0m"
     ]
    },
    {
     "ename": "Interpreter Error",
     "evalue": "",
     "output_type": "error",
     "traceback": [
      "Interpreter Error: "
     ]
    }
   ],
   "source": [
    "main()"
   ]
  },
  {
   "cell_type": "markdown",
   "id": "4928372b",
   "metadata": {},
   "source": [
    "Writing Our Own Header Files"
   ]
  },
  {
   "cell_type": "code",
   "execution_count": 31,
   "id": "2083460b",
   "metadata": {},
   "outputs": [
    {
     "name": "stderr",
     "output_type": "stream",
     "text": [
      "\u001b[1minput_line_55:6:2: \u001b[0m\u001b[0;1;31merror: \u001b[0m\u001b[1munterminated conditional directive\u001b[0m\n",
      "#ifndef SALES_DATA_H\n",
      "\u001b[0;1;32m ^\n",
      "\u001b[0m"
     ]
    },
    {
     "ename": "Interpreter Error",
     "evalue": "",
     "output_type": "error",
     "traceback": [
      "Interpreter Error: "
     ]
    }
   ],
   "source": [
    "//C++ uses preprocessor to define header guards\n",
    "//there are two directives that test twhether a given preprocessor \n",
    "//variable has or has not been defined:\n",
    "//ifdef is true if the variable has been defined and ifndef is true if teh variable has not been defined\n",
    "\n",
    "//We can use these facilities to guard against multiple inculsion as follows:\n",
    "\n",
    "#ifndef SALES_DATA_H\n",
    "#define SALES_DATA_H\n",
    "\n",
    "#include <string>\n",
    "\n",
    "struct Sales_data{\n",
    "    std::string bookNo;\n",
    "    unsigned units_sold = 0;\n",
    "    double revenue = 0.0;\n",
    "};\n",
    "#endif"
   ]
  },
  {
   "cell_type": "code",
   "execution_count": 26,
   "id": "1ae3b6aa",
   "metadata": {},
   "outputs": [
    {
     "name": "stderr",
     "output_type": "stream",
     "text": [
      "\u001b[1minput_line_46:1:10: \u001b[0m\u001b[0;1;31mfatal error: \u001b[0m\u001b[1m'Sales_data.h' file not found\u001b[0m\n",
      "#include \"Sales_data.h\"\n",
      "\u001b[0;1;32m         ^~~~~~~~~~~~~~\n",
      "\u001b[0m"
     ]
    },
    {
     "ename": "Interpreter Error",
     "evalue": "",
     "output_type": "error",
     "traceback": [
      "Interpreter Error: "
     ]
    }
   ],
   "source": [
    "#include \"Sales_data.h\""
   ]
  },
  {
   "cell_type": "code",
   "execution_count": null,
   "id": "796359f8",
   "metadata": {},
   "outputs": [],
   "source": []
  }
 ],
 "metadata": {
  "kernelspec": {
   "display_name": "C++11",
   "language": "python",
   "name": "xcpp11"
  },
  "language_info": {
   "codemirror_mode": "text/x-c++src",
   "file_extension": ".cpp",
   "mimetype": "text/x-c++src",
   "name": "python",
   "version": "3.11.0 | packaged by conda-forge | (main, Oct 25 2022, 06:24:40) [GCC 10.4.0]"
  },
  "vscode": {
   "interpreter": {
    "hash": "f1d1fc19b365f9ad1716256121e630045ec3968373de9ab098681291a9c3ca4f"
   }
  }
 },
 "nbformat": 4,
 "nbformat_minor": 5
}
