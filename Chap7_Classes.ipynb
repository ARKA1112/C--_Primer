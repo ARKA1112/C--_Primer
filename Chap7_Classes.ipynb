{
 "cells": [
  {
   "attachments": {},
   "cell_type": "markdown",
   "metadata": {},
   "source": [
    "## Classes"
   ]
  },
  {
   "cell_type": "code",
   "execution_count": null,
   "metadata": {},
   "outputs": [],
   "source": [
    "#include <iostream>\n",
    "#include <vector>\n",
    "using namespace std; "
   ]
  },
  {
   "cell_type": "code",
   "execution_count": null,
   "metadata": {},
   "outputs": [],
   "source": [
    "//256"
   ]
  },
  {
   "cell_type": "code",
   "execution_count": null,
   "metadata": {},
   "outputs": [],
   "source": [
    "//A class is a user-defined type.\n",
    "//A class contains member functions\n",
    "//most common members are data members and member functions\n",
    "//Members are accessed using . (dot) for objects and −> (arrow) for pointers.\n",
    "//A clss is a namesspace containing its memebers."
   ]
  },
  {
   "cell_type": "code",
   "execution_count": null,
   "metadata": {},
   "outputs": [],
   "source": [
    "class X{\n",
    "    private:\n",
    "        int m;\n",
    "    public:\n",
    "        X(int i = 0):m{i}{} // a constructor (initialize the data member m)\n",
    "\n",
    "        int mf(int i)\n",
    "        {\n",
    "            int old = m;\n",
    "            m = i;\n",
    "            return old;\n",
    "        }\n",
    "};"
   ]
  },
  {
   "cell_type": "code",
   "execution_count": null,
   "metadata": {},
   "outputs": [],
   "source": [
    "X var{7} //a variable of type X, initialized to 7"
   ]
  },
  {
   "cell_type": "code",
   "execution_count": null,
   "metadata": {},
   "outputs": [],
   "source": [
    "int user(X var, X* ptr)\n",
    "{\n",
    "    int x = var.mf(7);\n",
    "    int y = ptr->mf(9);\n",
    "    int z = var.m;\n",
    "}"
   ]
  },
  {
   "attachments": {},
   "cell_type": "markdown",
   "metadata": {},
   "source": [
    "Membe Functions"
   ]
  },
  {
   "cell_type": "code",
   "execution_count": null,
   "metadata": {},
   "outputs": [],
   "source": [
    "//struct is a class where all the members are public\n",
    "\n",
    "struct Date{\n",
    "    int d, m, y;\n",
    "    \n",
    "    void init(int dd, int mm, int yy);\n",
    "    void add_year(int n);\n",
    "    void add_month(int n);\n",
    "    void add_day(int n);\n",
    "\n",
    "}"
   ]
  },
  {
   "cell_type": "code",
   "execution_count": null,
   "metadata": {},
   "outputs": [],
   "source": [
    "Date my_birthday;\n"
   ]
  },
  {
   "cell_type": "code",
   "execution_count": null,
   "metadata": {},
   "outputs": [],
   "source": [
    "void f()\n",
    "{\n",
    "    Date today;\n",
    "    today.init(24,04,2023);\n",
    "    my_birthday.init(28,07,1992);\n",
    "\n",
    "    Date tomorrow = today;\n",
    "    tomorrow.add_day(1);\n",
    "}"
   ]
  },
  {
   "cell_type": "code",
   "execution_count": null,
   "metadata": {},
   "outputs": [],
   "source": [
    "//we must specify the structure name when defining a member function\n",
    "\n",
    "\n",
    "void Date::init(int dd, int mm, int yy)\n",
    "{\n",
    "    d = dd;\n",
    "    m = mm;\n",
    "    y = yy;\n",
    "}"
   ]
  },
  {
   "attachments": {},
   "cell_type": "markdown",
   "metadata": {},
   "source": [
    "Access Control"
   ]
  },
  {
   "cell_type": "code",
   "execution_count": null,
   "metadata": {},
   "outputs": [],
   "source": [
    "class Date\n",
    "{\n",
    "    int d, m, y;\n",
    "public:\n",
    "    void init(int dd, int mm, int yy);\n",
    "\n",
    "    void add_year(int n);\n",
    "    void add_month(int n);\n",
    "    void add_day(int n);\n",
    "};"
   ]
  },
  {
   "cell_type": "code",
   "execution_count": null,
   "metadata": {},
   "outputs": [],
   "source": [
    "//member functions can access the variables \n",
    "void Date::add_year(int n)\n",
    "{\n",
    "    y += n;\n",
    "}"
   ]
  },
  {
   "cell_type": "code",
   "execution_count": null,
   "metadata": {},
   "outputs": [],
   "source": [
    "//But Non Member functions cannot\n",
    "\n",
    "void timewarp(Date& d)\n",
    "{\n",
    "    d.y -= 200;\n",
    "}"
   ]
  },
  {
   "cell_type": "code",
   "execution_count": null,
   "metadata": {},
   "outputs": [],
   "source": [
    "//The init() function is now essential because making "
   ]
  },
  {
   "cell_type": "code",
   "execution_count": null,
   "metadata": {},
   "outputs": [],
   "source": [
    "Date dx;"
   ]
  },
  {
   "cell_type": "code",
   "execution_count": null,
   "metadata": {},
   "outputs": [],
   "source": [
    "//dx.m = 3\n",
    "dx.init(24,4,2023);"
   ]
  },
  {
   "cell_type": "code",
   "execution_count": null,
   "metadata": {},
   "outputs": [],
   "source": [
    "//redefine Sales_data\n",
    "\n",
    "struct Sales_data {\n",
    "    //new members: operations on Sales_data\n",
    "    std::string isbn() const {return bookNo;}\n",
    "    Sales_data& combine(const Sales_data&)\n",
    "    double avg_price() const;\n",
    "\n",
    "    //data members are unchanged\n",
    "    std::string bookNo;\n",
    "    unsigned units_sold = 0;\n",
    "    double revenue = 0.0;\n",
    "};\n",
    "\n",
    "// nonmember Sales_data interface functions\n",
    "\n",
    "Sales_data add(const Sales_data&, const Sales_data&);\n",
    "std::ostream &print(std::ostream&, const Sales_data&)\n",
    "std::istream &read(std::istream&, Sales_data&)"
   ]
  },
  {
   "cell_type": "code",
   "execution_count": null,
   "metadata": {},
   "outputs": [],
   "source": [
    "//Ex..7.4+7.5\n",
    "\n",
    "class Persona\n",
    "{\n",
    "    private:\n",
    "        string name,address;\n",
    "    public:\n",
    "        void init(const string& n, const string& a){name=n;address=a;};\n",
    "        const string& fullname() {return name;};\n",
    "        const string& location() {return address;};\n",
    "\n",
    "}\n",
    "Persona person_a;\n",
    "person_a.init(\"arka\",\"kolkata\")\n",
    "person_a.fullname()\n",
    "person_a.location()\n",
    "\n",
    "//Done"
   ]
  },
  {
   "attachments": {},
   "cell_type": "markdown",
   "metadata": {},
   "source": [
    "Defining Nonmemeber Class-Related Functions"
   ]
  },
  {
   "cell_type": "code",
   "execution_count": null,
   "metadata": {},
   "outputs": [],
   "source": [
    "// Ex7.6-7.7\n",
    "\n",
    "class Persona\n",
    "{\n",
    "    private:\n",
    "        string name,address;\n",
    "    public:\n",
    "        //void init(const string& n, const string& a){name=n;address=a;};\n",
    "        const string& fullname() {return name;};\n",
    "        const string& location() {return address;};\n",
    "        int add(){return 0;};\n",
    "        istream& read(istream& is, Persona& person){is>>person.name>>person.address;return is;};\n",
    "\n",
    "}"
   ]
  },
  {
   "cell_type": "code",
   "execution_count": null,
   "metadata": {},
   "outputs": [],
   "source": [
    "Persona person_a;"
   ]
  },
  {
   "cell_type": "code",
   "execution_count": null,
   "metadata": {},
   "outputs": [],
   "source": [
    "person_a.read()"
   ]
  },
  {
   "attachments": {},
   "cell_type": "markdown",
   "metadata": {},
   "source": [
    "Constructors"
   ]
  },
  {
   "cell_type": "code",
   "execution_count": null,
   "metadata": {},
   "outputs": [],
   "source": [
    "//The use of functions such as inti() to provide initialization for class objects is inelegant and error-prone. Because it is nowhere stated that an object must be initialized, a programmmer can forget to do so or do so twice\n",
    "\n",
    "//A better approach is to allow the programme to declare a function with the explicit purpose of initializing objects. Because such a function constructs values of a given type is called a constructor\n",
    "\n",
    "\n",
    "class Date{\n",
    "    int d,m,y;\n",
    "public:\n",
    "    Date(int dd, int mm, int yy);\n",
    "};"
   ]
  },
  {
   "cell_type": "code",
   "execution_count": null,
   "metadata": {},
   "outputs": [],
   "source": [
    "Date today = Date(12,3,2022)"
   ]
  },
  {
   "cell_type": "code",
   "execution_count": null,
   "metadata": {},
   "outputs": [],
   "source": [
    "today"
   ]
  },
  {
   "cell_type": "code",
   "execution_count": null,
   "metadata": {},
   "outputs": [],
   "source": [
    "//Using default arguments to reduce the number of related functions\n",
    "\n",
    "class Date{\n",
    "    int d,m,y;\n",
    "public:\n",
    "    Date(int dd = 0, int mm = 0, int yy = 0);\n",
    "\n",
    "};"
   ]
  },
  {
   "cell_type": "code",
   "execution_count": null,
   "metadata": {},
   "outputs": [],
   "source": [
    "Date today{4}"
   ]
  },
  {
   "cell_type": "code",
   "execution_count": null,
   "metadata": {},
   "outputs": [],
   "source": [
    "Date::Date(int dd,int mm, int yy)\n",
    "{\n",
    "    d = dd ? dd:today.d;\n",
    "    m = mm ? mm:today.m;\n",
    "    y = yy ? yy:today.y;\n",
    "}"
   ]
  },
  {
   "cell_type": "code",
   "execution_count": null,
   "metadata": {},
   "outputs": [],
   "source": [
    "//Alternatively, we could use the default values directly as default arguments:\n",
    "class Date {\n",
    "    int d, m, y;\n",
    "public:\n",
    "    Date(int dd =today.d, int mm =today.m, int yy =today.y);\n",
    "};"
   ]
  },
  {
   "attachments": {},
   "cell_type": "markdown",
   "metadata": {},
   "source": [
    "explicit Constructors"
   ]
  },
  {
   "cell_type": "code",
   "execution_count": null,
   "metadata": {},
   "outputs": [],
   "source": [
    "complex<double> d{1};"
   ]
  },
  {
   "cell_type": "code",
   "execution_count": null,
   "metadata": {},
   "outputs": [],
   "source": [
    "d"
   ]
  },
  {
   "cell_type": "code",
   "execution_count": null,
   "metadata": {},
   "outputs": [],
   "source": [
    "\n",
    "//We can also define implicit or explicit constructors\n",
    "\n",
    "\n",
    "class Date{\n",
    "    int d, m, y;\n",
    "public:\n",
    "    explicit Date(int dd = 0, int mm = 0, int yy = 0);\n",
    "}"
   ]
  },
  {
   "cell_type": "code",
   "execution_count": null,
   "metadata": {},
   "outputs": [],
   "source": [
    "Date d1{15};  //explicit declaration\n",
    "\n",
    "Date d2 = 15;  //implicit not supported\n",
    "\n",
    "Date d3  = {15}; //implicit not supported\n",
    "\n",
    "Date d4 = 15; //again implicit"
   ]
  },
  {
   "cell_type": "code",
   "execution_count": null,
   "metadata": {},
   "outputs": [],
   "source": [
    "//always recommended to use explicit constructor\n",
    "\n"
   ]
  }
 ],
 "metadata": {
  "kernelspec": {
   "display_name": "C++11",
   "language": "C++11",
   "name": "xcpp11"
  },
  "language_info": {
   "codemirror_mode": "text/x-c++src",
   "file_extension": ".cpp",
   "mimetype": "text/x-c++src",
   "name": "c++",
   "version": "11"
  },
  "orig_nbformat": 4
 },
 "nbformat": 4,
 "nbformat_minor": 2
}
