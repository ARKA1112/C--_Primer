{
 "cells": [
  {
   "attachments": {},
   "cell_type": "markdown",
   "metadata": {},
   "source": [
    "## Classes"
   ]
  },
  {
   "cell_type": "code",
   "execution_count": null,
   "metadata": {
    "vscode": {
     "languageId": "c++"
    }
   },
   "outputs": [],
   "source": [
    "#include <iostream>\n",
    "#include <vector>\n",
    "using namespace std; "
   ]
  },
  {
   "cell_type": "code",
   "execution_count": null,
   "metadata": {
    "vscode": {
     "languageId": "c++"
    }
   },
   "outputs": [],
   "source": [
    "//256"
   ]
  },
  {
   "cell_type": "code",
   "execution_count": null,
   "metadata": {
    "vscode": {
     "languageId": "c++"
    }
   },
   "outputs": [],
   "source": [
    "//A class is a user-defined type.\n",
    "//A class contains member functions\n",
    "//most common members are data members and member functions\n",
    "//Members are accessed using . (dot) for objects and −> (arrow) for pointers.\n",
    "//A clss is a namesspace containing its memebers."
   ]
  },
  {
   "cell_type": "code",
   "execution_count": null,
   "metadata": {
    "vscode": {
     "languageId": "c++"
    }
   },
   "outputs": [],
   "source": [
    "class X{\n",
    "    private:\n",
    "        int m;\n",
    "    public:\n",
    "        X(int i = 0):m{i}{} // a constructor (initialize the data member m)\n",
    "\n",
    "        int mf(int i)\n",
    "        {\n",
    "            int old = m;\n",
    "            m = i;\n",
    "            return old;\n",
    "        }\n",
    "};"
   ]
  },
  {
   "cell_type": "code",
   "execution_count": null,
   "metadata": {
    "vscode": {
     "languageId": "c++"
    }
   },
   "outputs": [],
   "source": [
    "X var{7} //a variable of type X, initialized to 7"
   ]
  },
  {
   "cell_type": "code",
   "execution_count": null,
   "metadata": {
    "vscode": {
     "languageId": "c++"
    }
   },
   "outputs": [],
   "source": [
    "int user(X var, X* ptr)\n",
    "{\n",
    "    int x = var.mf(7);\n",
    "    int y = ptr->mf(9);\n",
    "    int z = var.m;\n",
    "}"
   ]
  },
  {
   "attachments": {},
   "cell_type": "markdown",
   "metadata": {},
   "source": [
    "Membe Functions"
   ]
  },
  {
   "cell_type": "code",
   "execution_count": null,
   "metadata": {
    "vscode": {
     "languageId": "c++"
    }
   },
   "outputs": [],
   "source": [
    "//struct is a class where all the members are public\n",
    "\n",
    "struct Date{\n",
    "    int d, m, y;\n",
    "    \n",
    "    void init(int dd, int mm, int yy);\n",
    "    void add_year(int n);\n",
    "    void add_month(int n);\n",
    "    void add_day(int n);\n",
    "\n",
    "}"
   ]
  },
  {
   "cell_type": "code",
   "execution_count": null,
   "metadata": {
    "vscode": {
     "languageId": "c++"
    }
   },
   "outputs": [],
   "source": [
    "Date my_birthday;\n"
   ]
  },
  {
   "cell_type": "code",
   "execution_count": null,
   "metadata": {
    "vscode": {
     "languageId": "c++"
    }
   },
   "outputs": [],
   "source": [
    "void f()\n",
    "{\n",
    "    Date today;\n",
    "    today.init(24,04,2023);\n",
    "    my_birthday.init(28,07,1992);\n",
    "\n",
    "    Date tomorrow = today;\n",
    "    tomorrow.add_day(1);\n",
    "}"
   ]
  },
  {
   "cell_type": "code",
   "execution_count": null,
   "metadata": {
    "vscode": {
     "languageId": "c++"
    }
   },
   "outputs": [],
   "source": [
    "//we must specify the structure name when defining a member function\n",
    "\n",
    "\n",
    "void Date::init(int dd, int mm, int yy)\n",
    "{\n",
    "    d = dd;\n",
    "    m = mm;\n",
    "    y = yy;\n",
    "}"
   ]
  },
  {
   "attachments": {},
   "cell_type": "markdown",
   "metadata": {},
   "source": [
    "Access Control"
   ]
  },
  {
   "cell_type": "code",
   "execution_count": null,
   "metadata": {
    "vscode": {
     "languageId": "c++"
    }
   },
   "outputs": [],
   "source": [
    "class Date\n",
    "{\n",
    "    int d, m, y;\n",
    "public:\n",
    "    void init(int dd, int mm, int yy);\n",
    "\n",
    "    void add_year(int n);\n",
    "    void add_month(int n);\n",
    "    void add_day(int n);\n",
    "};"
   ]
  },
  {
   "cell_type": "code",
   "execution_count": null,
   "metadata": {
    "vscode": {
     "languageId": "c++"
    }
   },
   "outputs": [],
   "source": [
    "//member functions can access the variables \n",
    "void Date::add_year(int n)\n",
    "{\n",
    "    y += n;\n",
    "}"
   ]
  },
  {
   "cell_type": "code",
   "execution_count": null,
   "metadata": {
    "vscode": {
     "languageId": "c++"
    }
   },
   "outputs": [],
   "source": [
    "//But Non Member functions cannot\n",
    "\n",
    "void timewarp(Date& d)\n",
    "{\n",
    "    d.y -= 200;\n",
    "}"
   ]
  },
  {
   "cell_type": "code",
   "execution_count": null,
   "metadata": {
    "vscode": {
     "languageId": "c++"
    }
   },
   "outputs": [],
   "source": [
    "//The init() function is now essential because making "
   ]
  },
  {
   "cell_type": "code",
   "execution_count": null,
   "metadata": {
    "vscode": {
     "languageId": "c++"
    }
   },
   "outputs": [],
   "source": [
    "Date dx;"
   ]
  },
  {
   "cell_type": "code",
   "execution_count": null,
   "metadata": {
    "vscode": {
     "languageId": "c++"
    }
   },
   "outputs": [],
   "source": [
    "//dx.m = 3\n",
    "dx.init(24,4,2023);"
   ]
  },
  {
   "cell_type": "code",
   "execution_count": null,
   "metadata": {
    "vscode": {
     "languageId": "c++"
    }
   },
   "outputs": [],
   "source": [
    "//redefine Sales_data\n",
    "\n",
    "struct Sales_data {\n",
    "    //new members: operations on Sales_data\n",
    "    std::string isbn() const {return bookNo;}\n",
    "    Sales_data& combine(const Sales_data&)\n",
    "    double avg_price() const;\n",
    "\n",
    "    //data members are unchanged\n",
    "    std::string bookNo;\n",
    "    unsigned units_sold = 0;\n",
    "    double revenue = 0.0;\n",
    "};\n",
    "\n",
    "// nonmember Sales_data interface functions\n",
    "\n",
    "Sales_data add(const Sales_data&, const Sales_data&);\n",
    "std::ostream &print(std::ostream&, const Sales_data&)\n",
    "std::istream &read(std::istream&, Sales_data&)"
   ]
  },
  {
   "cell_type": "code",
   "execution_count": null,
   "metadata": {
    "vscode": {
     "languageId": "c++"
    }
   },
   "outputs": [],
   "source": [
    "//Ex..7.4+7.5\n",
    "\n",
    "class Persona\n",
    "{\n",
    "    private:\n",
    "        string name,address;\n",
    "    public:\n",
    "        void init(const string& n, const string& a){name=n;address=a;};\n",
    "        const string& fullname() {return name;};\n",
    "        const string& location() {return address;};\n",
    "\n",
    "}\n",
    "Persona person_a;\n",
    "person_a.init(\"arka\",\"kolkata\")\n",
    "person_a.fullname()\n",
    "person_a.location()\n",
    "\n",
    "//Done"
   ]
  },
  {
   "attachments": {},
   "cell_type": "markdown",
   "metadata": {},
   "source": [
    "Defining Nonmemeber Class-Related Functions"
   ]
  },
  {
   "cell_type": "code",
   "execution_count": null,
   "metadata": {
    "vscode": {
     "languageId": "c++"
    }
   },
   "outputs": [],
   "source": [
    "// Ex7.6-7.7\n",
    "\n",
    "class Persona\n",
    "{\n",
    "    private:\n",
    "        string name,address;\n",
    "    public:\n",
    "        //void init(const string& n, const string& a){name=n;address=a;};\n",
    "        const string& fullname() {return name;};\n",
    "        const string& location() {return address;};\n",
    "        int add(){return 0;};\n",
    "        istream& read(istream& is, Persona& person){is>>person.name>>person.address;return is;};\n",
    "\n",
    "}"
   ]
  },
  {
   "cell_type": "code",
   "execution_count": null,
   "metadata": {
    "vscode": {
     "languageId": "c++"
    }
   },
   "outputs": [],
   "source": [
    "Persona person_a;"
   ]
  },
  {
   "cell_type": "code",
   "execution_count": null,
   "metadata": {
    "vscode": {
     "languageId": "c++"
    }
   },
   "outputs": [],
   "source": [
    "person_a.read()"
   ]
  },
  {
   "attachments": {},
   "cell_type": "markdown",
   "metadata": {},
   "source": [
    "Constructors"
   ]
  },
  {
   "cell_type": "code",
   "execution_count": null,
   "metadata": {
    "vscode": {
     "languageId": "c++"
    }
   },
   "outputs": [],
   "source": [
    "//The use of functions such as inti() to provide initialization for class objects is inelegant and error-prone. Because it is nowhere stated that an object must be initialized, a programmmer can forget to do so or do so twice\n",
    "\n",
    "//A better approach is to allow the programme to declare a function with the explicit purpose of initializing objects. Because such a function constructs values of a given type is called a constructor\n",
    "\n",
    "\n",
    "class Date{\n",
    "    int d,m,y;\n",
    "public:\n",
    "    Date(int dd, int mm, int yy);\n",
    "};"
   ]
  },
  {
   "cell_type": "code",
   "execution_count": null,
   "metadata": {
    "vscode": {
     "languageId": "c++"
    }
   },
   "outputs": [],
   "source": [
    "Date today = Date(12,3,2022)"
   ]
  },
  {
   "cell_type": "code",
   "execution_count": null,
   "metadata": {
    "vscode": {
     "languageId": "c++"
    }
   },
   "outputs": [],
   "source": [
    "today"
   ]
  },
  {
   "cell_type": "code",
   "execution_count": null,
   "metadata": {
    "vscode": {
     "languageId": "c++"
    }
   },
   "outputs": [],
   "source": [
    "//Using default arguments to reduce the number of related functions\n",
    "\n",
    "class Date{\n",
    "    int d,m,y;\n",
    "public:\n",
    "    Date(int dd = 0, int mm = 0, int yy = 0);\n",
    "\n",
    "};"
   ]
  },
  {
   "cell_type": "code",
   "execution_count": null,
   "metadata": {
    "vscode": {
     "languageId": "c++"
    }
   },
   "outputs": [],
   "source": [
    "Date today{4}"
   ]
  },
  {
   "cell_type": "code",
   "execution_count": null,
   "metadata": {
    "vscode": {
     "languageId": "c++"
    }
   },
   "outputs": [],
   "source": [
    "Date::Date(int dd,int mm, int yy)\n",
    "{\n",
    "    d = dd ? dd:today.d;\n",
    "    m = mm ? mm:today.m;\n",
    "    y = yy ? yy:today.y;\n",
    "}"
   ]
  },
  {
   "cell_type": "code",
   "execution_count": null,
   "metadata": {
    "vscode": {
     "languageId": "c++"
    }
   },
   "outputs": [],
   "source": [
    "//Alternatively, we could use the default values directly as default arguments:\n",
    "class Date {\n",
    "    int d, m, y;\n",
    "public:\n",
    "    Date(int dd =today.d, int mm =today.m, int yy =today.y);\n",
    "};"
   ]
  },
  {
   "attachments": {},
   "cell_type": "markdown",
   "metadata": {},
   "source": [
    "explicit Constructors"
   ]
  },
  {
   "cell_type": "code",
   "execution_count": null,
   "metadata": {
    "vscode": {
     "languageId": "c++"
    }
   },
   "outputs": [],
   "source": [
    "complex<double> d{1};"
   ]
  },
  {
   "cell_type": "code",
   "execution_count": null,
   "metadata": {
    "vscode": {
     "languageId": "c++"
    }
   },
   "outputs": [],
   "source": [
    "d"
   ]
  },
  {
   "cell_type": "code",
   "execution_count": null,
   "metadata": {
    "vscode": {
     "languageId": "c++"
    }
   },
   "outputs": [],
   "source": [
    "\n",
    "//We can also define implicit or explicit constructors\n",
    "\n",
    "\n",
    "class Date{\n",
    "    int d, m, y;\n",
    "public:\n",
    "    explicit Date(int dd = 0, int mm = 0, int yy = 0);\n",
    "}"
   ]
  },
  {
   "cell_type": "code",
   "execution_count": null,
   "metadata": {
    "vscode": {
     "languageId": "c++"
    }
   },
   "outputs": [],
   "source": [
    "Date d1{15};  //explicit declaration\n",
    "\n",
    "Date d2 = 15;  //implicit not supported\n",
    "\n",
    "Date d3  = {15}; //implicit not supported\n",
    "\n",
    "Date d4 = 15; //again implicit"
   ]
  },
  {
   "cell_type": "code",
   "execution_count": null,
   "metadata": {
    "vscode": {
     "languageId": "c++"
    }
   },
   "outputs": [],
   "source": [
    "//always recommended to use explicit constructor\n",
    "\n"
   ]
  },
  {
   "attachments": {},
   "cell_type": "markdown",
   "metadata": {},
   "source": [
    "In-Class Initializers"
   ]
  },
  {
   "cell_type": "code",
   "execution_count": null,
   "metadata": {
    "vscode": {
     "languageId": "cuda-cpp"
    }
   },
   "outputs": [],
   "source": [
    "#include <iostream>\n",
    "#include <vector>"
   ]
  },
  {
   "cell_type": "code",
   "execution_count": null,
   "metadata": {
    "vscode": {
     "languageId": "cuda-cpp"
    }
   },
   "outputs": [],
   "source": [
    "//Default arguments during class declaration\n",
    "\n",
    "class Date {\n",
    "    int d {today.d};\n",
    "    int m {today.m};\n",
    "    int y {today.y};\n",
    "public:\n",
    "    Date(int, int, int);\n",
    "    Date(int, int);\n",
    "    Date(int);\n",
    "    Date(); //Default Date: today\n",
    "}\n",
    "\n",
    "\n",
    "\n"
   ]
  },
  {
   "cell_type": "code",
   "execution_count": null,
   "metadata": {
    "vscode": {
     "languageId": "cuda-cpp"
    }
   },
   "outputs": [],
   "source": [
    "//Now, each constructor has the d, m, and y initialized unless it does it itself. For example:\n",
    "Date::Date(int dd)\n",
    "    :d{dd}\n",
    "{\n",
    "// check that the Date is valid\n",
    "}"
   ]
  },
  {
   "attachments": {},
   "cell_type": "markdown",
   "metadata": {},
   "source": [
    "In-Class Function Definitions"
   ]
  },
  {
   "cell_type": "code",
   "execution_count": null,
   "metadata": {
    "vscode": {
     "languageId": "cuda-cpp"
    }
   },
   "outputs": [],
   "source": [
    "inline  void Date::add_month(int n) // add n months\n",
    "{\n",
    "    m+=n;\n",
    "}"
   ]
  },
  {
   "attachments": {},
   "cell_type": "markdown",
   "metadata": {},
   "source": [
    "Mutability"
   ]
  },
  {
   "cell_type": "code",
   "execution_count": null,
   "metadata": {
    "vscode": {
     "languageId": "cuda-cpp"
    }
   },
   "outputs": [],
   "source": [
    "//Constant Member Functions\n",
    "\n",
    "//Individual functions for reading the day, month and year\n",
    "\n",
    "class Date{\n",
    "    int d,m,y;\n",
    "public:\n",
    "    int day() const {return d;}\n",
    "    int month() const {return m;}\n",
    "    int year() const;\n",
    "}"
   ]
  },
  {
   "cell_type": "code",
   "execution_count": null,
   "metadata": {
    "vscode": {
     "languageId": "cuda-cpp"
    }
   },
   "outputs": [],
   "source": [
    "//The const after the (empty) argument list in the function declarations indicates that these functions do not modify the state of a Date\n",
    "\n",
    "int Date::year() const\n",
    "{\n",
    "    return ++y;\n",
    "\n",
    "}"
   ]
  },
  {
   "cell_type": "code",
   "execution_count": null,
   "metadata": {
    "vscode": {
     "languageId": "cuda-cpp"
    }
   },
   "outputs": [],
   "source": [
    "//mutable\n",
    "//We can define a member of a class to be mutable, meaning that it can be modified even in a const\n",
    "\n",
    "\n",
    "class Date{\n",
    "    public:\n",
    "        //\n",
    "        string string_rep() const;\n",
    "    private:\n",
    "        mutable bool cache_valid;\n",
    "        mutable string cache;\n",
    "        void compute_cache_value() const;\n",
    "};\n",
    "\n",
    "\n",
    "//Now we can define string_rep() in the same way\n",
    "\n",
    "\n",
    "string Date::string_rep() const\n",
    "{\n",
    "    if (!cache_valid) {\n",
    "        compute_cache_value();\n",
    "        cache_valid = true;\n",
    "    }\n",
    "    return cache;\n",
    "}"
   ]
  },
  {
   "attachments": {},
   "cell_type": "markdown",
   "metadata": {},
   "source": [
    "Self-Reference"
   ]
  },
  {
   "cell_type": "code",
   "execution_count": null,
   "metadata": {
    "vscode": {
     "languageId": "cuda-cpp"
    }
   },
   "outputs": [],
   "source": [
    "//The state update functions add_year(), add_month(), and add_day() (§16.2.3) were defined not to return values. For such a set of related update functions, it is often useful to return a reference to the updated object so that the operations can be chained. For example, we would like to write.\n",
    "\n",
    "void f(Date& d)\n",
    "{\n",
    "    d.add_day(1).add_month(1).add_year(1);\n",
    "}\n",
    "\n",
    "class Date {\n",
    "    //\n",
    "    Date& add_year(int n);\n",
    "    Date& add_month(int n);\n",
    "    Date& add_day(int n); \n",
    "};\n",
    "\n",
    "\n",
    "Date& Date::add_year(int n)\n",
    "{\n",
    "    if (d=19&m==2&&!leapyear(y+n)){\n",
    "        d = 1;\n",
    "        m  = 3;\n",
    "\n",
    "    }\n",
    "     y+=n;\n",
    "     return *this;\n",
    "}"
   ]
  },
  {
   "cell_type": "code",
   "execution_count": null,
   "metadata": {
    "vscode": {
     "languageId": "cuda-cpp"
    }
   },
   "outputs": [],
   "source": []
  }
 ],
 "metadata": {
  "kernelspec": {
   "display_name": "C++17",
   "language": "C++17",
   "name": "xcpp17"
  },
  "language_info": {
   "codemirror_mode": "text/x-c++src",
   "file_extension": ".cpp",
   "mimetype": "text/x-c++src",
   "name": "C++17",
   "version": "17"
  },
  "orig_nbformat": 4
 },
 "nbformat": 4,
 "nbformat_minor": 2
}
