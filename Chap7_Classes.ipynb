{
 "cells": [
  {
   "attachments": {},
   "cell_type": "markdown",
   "metadata": {},
   "source": [
    "## Classes"
   ]
  },
  {
   "cell_type": "code",
   "execution_count": 1,
   "metadata": {},
   "outputs": [],
   "source": [
    "#include <iostream>\n",
    "#include <vector>\n",
    "using namespace std; "
   ]
  },
  {
   "cell_type": "code",
   "execution_count": null,
   "metadata": {},
   "outputs": [],
   "source": [
    "//256"
   ]
  },
  {
   "cell_type": "code",
   "execution_count": null,
   "metadata": {},
   "outputs": [],
   "source": [
    "//A class is a user-defined type.\n",
    "//A class contains member functions\n",
    "//most common members are data members and member functions\n",
    "//Members are accessed using . (dot) for objects and −> (arrow) for pointers.\n",
    "//A clss is a namesspace containing its memebers."
   ]
  },
  {
   "cell_type": "code",
   "execution_count": 2,
   "metadata": {},
   "outputs": [],
   "source": [
    "class X{\n",
    "    private:\n",
    "        int m;\n",
    "    public:\n",
    "        X(int i = 0):m{i}{} // a constructor (initialize the data member m)\n",
    "\n",
    "        int mf(int i)\n",
    "        {\n",
    "            int old = m;\n",
    "            m = i;\n",
    "            return old;\n",
    "        }\n",
    "};"
   ]
  },
  {
   "cell_type": "code",
   "execution_count": 6,
   "metadata": {},
   "outputs": [],
   "source": [
    "X var{7} //a variable of type X, initialized to 7"
   ]
  },
  {
   "cell_type": "code",
   "execution_count": 7,
   "metadata": {},
   "outputs": [
    {
     "name": "stderr",
     "output_type": "stream",
     "text": [
      "input_line_17:5:17: error: 'm' is a private member of '__cling_N52::X'\n",
      "    int z = var.m;\n",
      "                ^\n",
      "input_line_9:3:13: note: declared private here\n",
      "        int m;\n",
      "            ^\n"
     ]
    },
    {
     "ename": "Interpreter Error",
     "evalue": "",
     "output_type": "error",
     "traceback": [
      "Interpreter Error: "
     ]
    }
   ],
   "source": [
    "int user(X var, X* ptr)\n",
    "{\n",
    "    int x = var.mf(7);\n",
    "    int y = ptr->mf(9);\n",
    "    int z = var.m;\n",
    "}"
   ]
  },
  {
   "attachments": {},
   "cell_type": "markdown",
   "metadata": {},
   "source": [
    "Membe Functions"
   ]
  },
  {
   "cell_type": "code",
   "execution_count": 10,
   "metadata": {},
   "outputs": [],
   "source": [
    "//struct is a class where all the members are public\n",
    "\n",
    "struct Date{\n",
    "    int d, m, y;\n",
    "    \n",
    "    void init(int dd, int mm, int yy);\n",
    "    void add_year(int n);\n",
    "    void add_month(int n);\n",
    "    void add_day(int n);\n",
    "\n",
    "}"
   ]
  },
  {
   "cell_type": "code",
   "execution_count": 11,
   "metadata": {},
   "outputs": [],
   "source": [
    "Date my_birthday;\n"
   ]
  },
  {
   "cell_type": "code",
   "execution_count": 13,
   "metadata": {},
   "outputs": [],
   "source": [
    "void f()\n",
    "{\n",
    "    Date today;\n",
    "    today.init(24,04,2023);\n",
    "    my_birthday.init(28,07,1992);\n",
    "\n",
    "    Date tomorrow = today;\n",
    "    tomorrow.add_day(1);\n",
    "}"
   ]
  },
  {
   "cell_type": "code",
   "execution_count": 15,
   "metadata": {},
   "outputs": [],
   "source": [
    "//we must specify the structure name when defining a member function\n",
    "\n",
    "\n",
    "void Date::init(int dd, int mm, int yy)\n",
    "{\n",
    "    d = dd;\n",
    "    m = mm;\n",
    "    y = yy;\n",
    "}"
   ]
  },
  {
   "attachments": {},
   "cell_type": "markdown",
   "metadata": {},
   "source": [
    "Access Control"
   ]
  },
  {
   "cell_type": "code",
   "execution_count": 22,
   "metadata": {},
   "outputs": [],
   "source": [
    "class Date\n",
    "{\n",
    "    int d, m, y;\n",
    "public:\n",
    "    void init(int dd, int mm, int yy);\n",
    "\n",
    "    void add_year(int n);\n",
    "    void add_month(int n);\n",
    "    void add_day(int n);\n",
    "};"
   ]
  },
  {
   "cell_type": "code",
   "execution_count": 23,
   "metadata": {},
   "outputs": [],
   "source": [
    "//member functions can access the variables \n",
    "void Date::add_year(int n)\n",
    "{\n",
    "    y += n;\n",
    "}"
   ]
  },
  {
   "cell_type": "code",
   "execution_count": null,
   "metadata": {},
   "outputs": [],
   "source": [
    "//But Non Member functions cannot\n",
    "\n",
    "void timewarp(Date& d)\n",
    "{\n",
    "    d.y -= 200;\n",
    "}"
   ]
  },
  {
   "cell_type": "code",
   "execution_count": null,
   "metadata": {},
   "outputs": [],
   "source": []
  }
 ],
 "metadata": {
  "kernelspec": {
   "display_name": "C++11",
   "language": "C++11",
   "name": "xcpp11"
  },
  "language_info": {
   "codemirror_mode": "text/x-c++src",
   "file_extension": ".cpp",
   "mimetype": "text/x-c++src",
   "name": "c++",
   "version": "11"
  },
  "orig_nbformat": 4
 },
 "nbformat": 4,
 "nbformat_minor": 2
}
