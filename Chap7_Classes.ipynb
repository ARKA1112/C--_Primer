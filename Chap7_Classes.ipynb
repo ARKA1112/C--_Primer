{
 "cells": [
  {
   "attachments": {},
   "cell_type": "markdown",
   "metadata": {},
   "source": [
    "## Classes"
   ]
  },
  {
   "cell_type": "code",
   "execution_count": 1,
   "metadata": {},
   "outputs": [],
   "source": [
    "#include <iostream>\n",
    "#include <vector>\n",
    "using namespace std; "
   ]
  },
  {
   "cell_type": "code",
   "execution_count": null,
   "metadata": {},
   "outputs": [],
   "source": [
    "//256"
   ]
  },
  {
   "cell_type": "code",
   "execution_count": null,
   "metadata": {},
   "outputs": [],
   "source": [
    "//A class is a user-defined type.\n",
    "//A class contains member functions\n",
    "//most common members are data members and member functions\n",
    "//Members are accessed using . (dot) for objects and −> (arrow) for pointers.\n",
    "//A clss is a namesspace containing its memebers."
   ]
  },
  {
   "cell_type": "code",
   "execution_count": null,
   "metadata": {},
   "outputs": [],
   "source": [
    "class X{\n",
    "    private:\n",
    "        int m;\n",
    "    public:\n",
    "        X(int i = 0):m{i}{} // a constructor (initialize the data member m)\n",
    "\n",
    "        int mf(int i)\n",
    "        {\n",
    "            int old = m;\n",
    "            m = i;\n",
    "            return old;\n",
    "        }\n",
    "};"
   ]
  },
  {
   "cell_type": "code",
   "execution_count": null,
   "metadata": {},
   "outputs": [],
   "source": [
    "X var{7} //a variable of type X, initialized to 7"
   ]
  },
  {
   "cell_type": "code",
   "execution_count": null,
   "metadata": {},
   "outputs": [],
   "source": [
    "int user(X var, X* ptr)\n",
    "{\n",
    "    int x = var.mf(7);\n",
    "    int y = ptr->mf(9);\n",
    "    int z = var.m;\n",
    "}"
   ]
  },
  {
   "attachments": {},
   "cell_type": "markdown",
   "metadata": {},
   "source": [
    "Membe Functions"
   ]
  },
  {
   "cell_type": "code",
   "execution_count": null,
   "metadata": {},
   "outputs": [],
   "source": [
    "//struct is a class where all the members are public\n",
    "\n",
    "struct Date{\n",
    "    int d, m, y;\n",
    "    \n",
    "    void init(int dd, int mm, int yy);\n",
    "    void add_year(int n);\n",
    "    void add_month(int n);\n",
    "    void add_day(int n);\n",
    "\n",
    "}"
   ]
  },
  {
   "cell_type": "code",
   "execution_count": null,
   "metadata": {},
   "outputs": [],
   "source": [
    "Date my_birthday;\n"
   ]
  },
  {
   "cell_type": "code",
   "execution_count": null,
   "metadata": {},
   "outputs": [],
   "source": [
    "void f()\n",
    "{\n",
    "    Date today;\n",
    "    today.init(24,04,2023);\n",
    "    my_birthday.init(28,07,1992);\n",
    "\n",
    "    Date tomorrow = today;\n",
    "    tomorrow.add_day(1);\n",
    "}"
   ]
  },
  {
   "cell_type": "code",
   "execution_count": null,
   "metadata": {},
   "outputs": [],
   "source": [
    "//we must specify the structure name when defining a member function\n",
    "\n",
    "\n",
    "void Date::init(int dd, int mm, int yy)\n",
    "{\n",
    "    d = dd;\n",
    "    m = mm;\n",
    "    y = yy;\n",
    "}"
   ]
  },
  {
   "attachments": {},
   "cell_type": "markdown",
   "metadata": {},
   "source": [
    "Access Control"
   ]
  },
  {
   "cell_type": "code",
   "execution_count": null,
   "metadata": {},
   "outputs": [],
   "source": [
    "class Date\n",
    "{\n",
    "    int d, m, y;\n",
    "public:\n",
    "    void init(int dd, int mm, int yy);\n",
    "\n",
    "    void add_year(int n);\n",
    "    void add_month(int n);\n",
    "    void add_day(int n);\n",
    "};"
   ]
  },
  {
   "cell_type": "code",
   "execution_count": null,
   "metadata": {},
   "outputs": [],
   "source": [
    "//member functions can access the variables \n",
    "void Date::add_year(int n)\n",
    "{\n",
    "    y += n;\n",
    "}"
   ]
  },
  {
   "cell_type": "code",
   "execution_count": null,
   "metadata": {},
   "outputs": [],
   "source": [
    "//But Non Member functions cannot\n",
    "\n",
    "void timewarp(Date& d)\n",
    "{\n",
    "    d.y -= 200;\n",
    "}"
   ]
  },
  {
   "cell_type": "code",
   "execution_count": null,
   "metadata": {},
   "outputs": [],
   "source": [
    "//The init() function is now essential because making "
   ]
  },
  {
   "cell_type": "code",
   "execution_count": null,
   "metadata": {},
   "outputs": [],
   "source": [
    "Date dx;"
   ]
  },
  {
   "cell_type": "code",
   "execution_count": null,
   "metadata": {},
   "outputs": [],
   "source": [
    "//dx.m = 3\n",
    "dx.init(24,4,2023);"
   ]
  },
  {
   "cell_type": "code",
   "execution_count": null,
   "metadata": {},
   "outputs": [],
   "source": [
    "//redefine Sales_data\n",
    "\n",
    "struct Sales_data {\n",
    "    //new members: operations on Sales_data\n",
    "    std::string isbn() const {return bookNo;}\n",
    "    Sales_data& combine(const Sales_data&)\n",
    "    double avg_price() const;\n",
    "\n",
    "    //data members are unchanged\n",
    "    std::string bookNo;\n",
    "    unsigned units_sold = 0;\n",
    "    double revenue = 0.0;\n",
    "};\n",
    "\n",
    "// nonmember Sales_data interface functions\n",
    "\n",
    "Sales_data add(const Sales_data&, const Sales_data&);\n",
    "std::ostream &print(std::ostream&, const Sales_data&)\n",
    "std::istream &read(std::istream&, Sales_data&)"
   ]
  },
  {
   "cell_type": "code",
   "execution_count": null,
   "metadata": {},
   "outputs": [],
   "source": [
    "//Ex..7.4+7.5\n",
    "\n",
    "class Persona\n",
    "{\n",
    "    private:\n",
    "        string name,address;\n",
    "    public:\n",
    "        void init(const string& n, const string& a){name=n;address=a;};\n",
    "        const string& fullname() {return name;};\n",
    "        const string& location() {return address;};\n",
    "\n",
    "}\n",
    "Persona person_a;\n",
    "person_a.init(\"arka\",\"kolkata\")\n",
    "person_a.fullname()\n",
    "person_a.location()\n",
    "\n",
    "//Done"
   ]
  },
  {
   "attachments": {},
   "cell_type": "markdown",
   "metadata": {},
   "source": [
    "Defining Nonmemeber Class-Related Functions"
   ]
  },
  {
   "cell_type": "code",
   "execution_count": null,
   "metadata": {},
   "outputs": [],
   "source": [
    "// Ex7.6-7.7\n",
    "\n",
    "class Persona\n",
    "{\n",
    "    private:\n",
    "        string name,address;\n",
    "    public:\n",
    "        //void init(const string& n, const string& a){name=n;address=a;};\n",
    "        const string& fullname() {return name;};\n",
    "        const string& location() {return address;};\n",
    "        int add(){return 0;};\n",
    "        istream& read(istream& is, Persona& person){is>>person.name>>person.address;return is;};\n",
    "\n",
    "}"
   ]
  },
  {
   "cell_type": "code",
   "execution_count": null,
   "metadata": {},
   "outputs": [],
   "source": [
    "Persona person_a;"
   ]
  },
  {
   "cell_type": "code",
   "execution_count": null,
   "metadata": {},
   "outputs": [],
   "source": [
    "person_a.read()"
   ]
  },
  {
   "attachments": {},
   "cell_type": "markdown",
   "metadata": {},
   "source": [
    "Constructors"
   ]
  },
  {
   "cell_type": "code",
   "execution_count": null,
   "metadata": {},
   "outputs": [],
   "source": [
    "//The use of functions such as inti() to provide initialization for class objects is inelegant and error-prone. Because it is nowhere stated that an object must be initialized, a programmmer can forget to do so or do so twice\n",
    "\n",
    "//A better approach is to allow the programme to declare a function with the explicit purpose of initializing objects. Because such a function constructs values of a given type is called a constructor\n",
    "\n",
    "\n",
    "class Date{\n",
    "    int d,m,y;\n",
    "public:\n",
    "    Date(int dd, int mm, int yy);\n",
    "};"
   ]
  },
  {
   "cell_type": "code",
   "execution_count": null,
   "metadata": {},
   "outputs": [],
   "source": [
    "Date today = Date(12,3,2022)"
   ]
  },
  {
   "cell_type": "code",
   "execution_count": null,
   "metadata": {},
   "outputs": [],
   "source": [
    "today"
   ]
  },
  {
   "cell_type": "code",
   "execution_count": null,
   "metadata": {},
   "outputs": [],
   "source": [
    "//Using default arguments to reduce the number of related functions\n",
    "\n",
    "class Date{\n",
    "    int d,m,y;\n",
    "public:\n",
    "    Date(int dd = 0, int mm = 0, int yy = 0);\n",
    "\n",
    "};"
   ]
  },
  {
   "cell_type": "code",
   "execution_count": null,
   "metadata": {},
   "outputs": [],
   "source": [
    "Date today{4}"
   ]
  },
  {
   "cell_type": "code",
   "execution_count": null,
   "metadata": {},
   "outputs": [],
   "source": [
    "Date::Date(int dd,int mm, int yy)\n",
    "{\n",
    "    d = dd ? dd:today.d;\n",
    "    m = mm ? mm:today.m;\n",
    "    y = yy ? yy:today.y;\n",
    "}"
   ]
  },
  {
   "cell_type": "code",
   "execution_count": null,
   "metadata": {},
   "outputs": [],
   "source": [
    "//Alternatively, we could use the default values directly as default arguments:\n",
    "class Date {\n",
    "    int d, m, y;\n",
    "public:\n",
    "    Date(int dd =today.d, int mm =today.m, int yy =today.y);\n",
    "};"
   ]
  },
  {
   "attachments": {},
   "cell_type": "markdown",
   "metadata": {},
   "source": [
    "explicit Constructors"
   ]
  },
  {
   "cell_type": "code",
   "execution_count": null,
   "metadata": {},
   "outputs": [],
   "source": [
    "complex<double> d{1};"
   ]
  },
  {
   "cell_type": "code",
   "execution_count": null,
   "metadata": {},
   "outputs": [],
   "source": [
    "d"
   ]
  },
  {
   "cell_type": "code",
   "execution_count": null,
   "metadata": {},
   "outputs": [],
   "source": [
    "\n",
    "//We can also define implicit or explicit constructors\n",
    "\n",
    "\n",
    "class Date{\n",
    "    int d, m, y;\n",
    "public:\n",
    "    explicit Date(int dd = 0, int mm = 0, int yy = 0);\n",
    "}"
   ]
  },
  {
   "cell_type": "code",
   "execution_count": null,
   "metadata": {},
   "outputs": [],
   "source": [
    "Date d1{15};  //explicit declaration\n",
    "\n",
    "Date d2 = 15;  //implicit not supported\n",
    "\n",
    "Date d3  = {15}; //implicit not supported\n",
    "\n",
    "Date d4 = 15; //again implicit"
   ]
  },
  {
   "cell_type": "code",
   "execution_count": null,
   "metadata": {},
   "outputs": [],
   "source": [
    "//always recommended to use explicit constructor\n",
    "\n"
   ]
  },
  {
   "attachments": {},
   "cell_type": "markdown",
   "metadata": {},
   "source": [
    "In-Class Initializers"
   ]
  },
  {
   "cell_type": "code",
   "execution_count": null,
   "metadata": {
    "vscode": {
     "languageId": "cuda-cpp"
    }
   },
   "outputs": [],
   "source": [
    "#include <iostream>\n",
    "#include <vector>"
   ]
  },
  {
   "cell_type": "code",
   "execution_count": null,
   "metadata": {
    "vscode": {
     "languageId": "cuda-cpp"
    }
   },
   "outputs": [],
   "source": [
    "//Default arguments during class declaration\n",
    "\n",
    "class Date {\n",
    "    int d {today.d};\n",
    "    int m {today.m};\n",
    "    int y {today.y};\n",
    "public:\n",
    "    Date(int, int, int);\n",
    "    Date(int, int);\n",
    "    Date(int);\n",
    "    Date(); //Default Date: today\n",
    "}\n",
    "\n",
    "\n",
    "\n"
   ]
  },
  {
   "cell_type": "code",
   "execution_count": null,
   "metadata": {
    "vscode": {
     "languageId": "cuda-cpp"
    }
   },
   "outputs": [],
   "source": [
    "//Now, each constructor has the d, m, and y initialized unless it does it itself. For example:\n",
    "Date::Date(int dd)\n",
    "    :d{dd}\n",
    "{\n",
    "// check that the Date is valid\n",
    "}"
   ]
  },
  {
   "attachments": {},
   "cell_type": "markdown",
   "metadata": {},
   "source": [
    "In-Class Function Definitions"
   ]
  },
  {
   "cell_type": "code",
   "execution_count": null,
   "metadata": {
    "vscode": {
     "languageId": "cuda-cpp"
    }
   },
   "outputs": [],
   "source": [
    "inline  void Date::add_month(int n) // add n months\n",
    "{\n",
    "    m+=n;\n",
    "}"
   ]
  },
  {
   "attachments": {},
   "cell_type": "markdown",
   "metadata": {},
   "source": [
    "Mutability"
   ]
  },
  {
   "cell_type": "code",
   "execution_count": null,
   "metadata": {
    "vscode": {
     "languageId": "cuda-cpp"
    }
   },
   "outputs": [],
   "source": [
    "//Constant Member Functions\n",
    "\n",
    "//Individual functions for reading the day, month and year\n",
    "\n",
    "class Date{\n",
    "    int d,m,y;\n",
    "public:\n",
    "    int day() const {return d;}\n",
    "    int month() const {return m;}\n",
    "    int year() const;\n",
    "}"
   ]
  },
  {
   "cell_type": "code",
   "execution_count": null,
   "metadata": {
    "vscode": {
     "languageId": "cuda-cpp"
    }
   },
   "outputs": [],
   "source": [
    "//The const after the (empty) argument list in the function declarations indicates that these functions do not modify the state of a Date\n",
    "\n",
    "int Date::year() const\n",
    "{\n",
    "    return ++y;\n",
    "\n",
    "}"
   ]
  },
  {
   "cell_type": "code",
   "execution_count": null,
   "metadata": {
    "vscode": {
     "languageId": "cuda-cpp"
    }
   },
   "outputs": [],
   "source": [
    "//mutable\n",
    "//We can define a member of a class to be mutable, meaning that it can be modified even in a const\n",
    "\n",
    "\n",
    "class Date{\n",
    "    public:\n",
    "        //\n",
    "        string string_rep() const;\n",
    "    private:\n",
    "        mutable bool cache_valid;\n",
    "        mutable string cache;\n",
    "        void compute_cache_value() const;\n",
    "};\n",
    "\n",
    "\n",
    "//Now we can define string_rep() in the same way\n",
    "\n",
    "\n",
    "string Date::string_rep() const\n",
    "{\n",
    "    if (!cache_valid) {\n",
    "        compute_cache_value();\n",
    "        cache_valid = true;\n",
    "    }\n",
    "    return cache;\n",
    "}"
   ]
  },
  {
   "attachments": {},
   "cell_type": "markdown",
   "metadata": {},
   "source": [
    "Self-Reference"
   ]
  },
  {
   "cell_type": "code",
   "execution_count": null,
   "metadata": {
    "vscode": {
     "languageId": "cuda-cpp"
    }
   },
   "outputs": [],
   "source": [
    "//The state update functions add_year(), add_month(), and add_day() (§16.2.3) were defined not to return values. For such a set of related update functions, it is often useful to return a reference to the updated object so that the operations can be chained. For example, we would like to write.\n",
    "\n",
    "void f(Date& d)\n",
    "{\n",
    "    d.add_day(1).add_month(1).add_year(1);\n",
    "}\n",
    "\n",
    "class Date {\n",
    "    //\n",
    "    Date& add_year(int n);\n",
    "    Date& add_month(int n);\n",
    "    Date& add_day(int n); \n",
    "};\n",
    "\n",
    "\n",
    "Date& Date::add_year(int n)\n",
    "{\n",
    "    if (d=19&m==2&&!leapyear(y+n)){\n",
    "        d = 1;\n",
    "        m  = 3;\n",
    "\n",
    "    }\n",
    "     y+=n;\n",
    "     return *this;\n",
    "}"
   ]
  },
  {
   "cell_type": "code",
   "execution_count": null,
   "metadata": {},
   "outputs": [],
   "source": [
    "class Employee\n",
    "{\n",
    "    private:\n",
    "        std::string name {};\n",
    "        int id;\n",
    "        double wage;\n",
    "    public:\n",
    "        void print()\n",
    "        {\n",
    "            cout<<\"Emp name: \"<<name<<'\\n'<<\n",
    "                \"Emp id: \"<<id<<'\\n'<<\n",
    "                \"salary: \"<<wage<<endl;\n",
    "        }\n",
    "}"
   ]
  },
  {
   "attachments": {},
   "cell_type": "markdown",
   "metadata": {},
   "source": [
    "Friends"
   ]
  },
  {
   "cell_type": "code",
   "execution_count": null,
   "metadata": {},
   "outputs": [],
   "source": [
    "class Sales_data {\n",
    "// friend declarations for nonmember Sales_data operations added\n",
    "    friend Sales_data add(const Sales_data&, const Sales_data&);\n",
    "    friend std::istream &read(std::istream&, Sales_data&);\n",
    "    friend std::ostream &print(std::ostream&, const Sales_data&);\n",
    "// other members and access specifiers as before\n",
    "public:\n",
    "    Sales_data() = default;\n",
    "    Sales_data(const std::string &s, unsigned n, double p):\n",
    "        bookNo(s), units_sold(n), revenue(p*n) { }\n",
    "    Sales_data(const std::string &s): bookNo(s) { }\n",
    "    Sales_data(std::istream&);\n",
    "    std::string isbn() const { return bookNo; }\n",
    "    Sales_data &combine(const Sales_data&);\n",
    "private:\n",
    "    std::string bookNo;\n",
    "    unsigned units_sold = 0;\n",
    "    double revenue = 0.0;\n",
    "};"
   ]
  },
  {
   "cell_type": "code",
   "execution_count": null,
   "metadata": {},
   "outputs": [],
   "source": [
    "Sales_data sales {\"emb\",2,4.5};\n"
   ]
  },
  {
   "cell_type": "code",
   "execution_count": null,
   "metadata": {},
   "outputs": [],
   "source": [
    "sales.isbn()"
   ]
  },
  {
   "attachments": {},
   "cell_type": "markdown",
   "metadata": {},
   "source": [
    "Additional Class Features"
   ]
  },
  {
   "cell_type": "code",
   "execution_count": null,
   "metadata": {},
   "outputs": [],
   "source": [
    "class Screen {\n",
    "    public: \n",
    "        using pos = std::string::size_type;\n",
    "    private:\n",
    "        pos cursor = 0;\n",
    "        pos height = 0;\n",
    "        std::string contents;\n",
    "}"
   ]
  },
  {
   "cell_type": "code",
   "execution_count": null,
   "metadata": {},
   "outputs": [],
   "source": [
    "//Member Function s of class Screen\n",
    "\n",
    "\n",
    "class Screen{\n",
    "    public:\n",
    "        using pos = std::string::size_type;\n",
    "        Screen() = default; //needed because Screen has another constructor\n",
    "        // cursor initialized to 0 by its in-class initializer\n",
    "        \n",
    "}"
   ]
  },
  {
   "attachments": {},
   "cell_type": "markdown",
   "metadata": {},
   "source": [
    "Member Access"
   ]
  },
  {
   "cell_type": "code",
   "execution_count": null,
   "metadata": {},
   "outputs": [],
   "source": [
    "struct X {\n",
    "    void f();\n",
    "    int m;\n",
    "}"
   ]
  },
  {
   "cell_type": "code",
   "execution_count": null,
   "metadata": {},
   "outputs": [],
   "source": [
    "void user(X x, X* px)\n",
    "{\n",
    "    m =1; // error: there is no m in scope\n",
    "    x.m =1 ; //ok\n",
    "    x->m = 1; //error: X is not a pointer\n",
    "    px->m = 1; //Ok\n",
    "    px.m = 1; //error: px is a pointer\n",
    "}"
   ]
  },
  {
   "cell_type": "code",
   "execution_count": null,
   "metadata": {},
   "outputs": [],
   "source": [
    "// A member function can refer to the name of a member before it has been declared:\n",
    "\n",
    "struct X {\n",
    "    int f() {return m;} // fine: return this X's m\n",
    "    int m;\n",
    "}"
   ]
  },
  {
   "cell_type": "code",
   "execution_count": null,
   "metadata": {},
   "outputs": [],
   "source": [
    "struct S {\n",
    "    int m;\n",
    "    int f();\n",
    "    static int sm;\n",
    "};\n",
    "\n",
    "\n",
    "int X::f(){ return m;}\n",
    "int X::sm {7};\n",
    "int(S::*) pmf() {&S::f};"
   ]
  },
  {
   "attachments": {},
   "cell_type": "markdown",
   "metadata": {},
   "source": [
    "Static Members"
   ]
  },
  {
   "cell_type": "code",
   "execution_count": null,
   "metadata": {},
   "outputs": [],
   "source": [
    "#A variable that is part fo a class yet is not part of an object of that class is #called a static member.\n",
    "\n",
    "\n"
   ]
  },
  {
   "cell_type": "code",
   "execution_count": null,
   "metadata": {},
   "outputs": [],
   "source": [
    "class Screen {\n",
    "    public:\n",
    "        typedef std::string::size_type pos;\n",
    "    private:\n",
    "        pos cursor = 0;\n",
    "        pos height = 0, width = 0;\n",
    "        std::string contents;\n",
    "};"
   ]
  },
  {
   "cell_type": "code",
   "execution_count": null,
   "metadata": {},
   "outputs": [],
   "source": [
    "Screen X = Screen()"
   ]
  },
  {
   "cell_type": "code",
   "execution_count": null,
   "metadata": {},
   "outputs": [],
   "source": [
    "//256"
   ]
  },
  {
   "cell_type": "markdown",
   "metadata": {},
   "source": [
    "mutable Data Members"
   ]
  },
  {
   "cell_type": "code",
   "execution_count": null,
   "metadata": {},
   "outputs": [],
   "source": [
    "//A mutable data member is never const, even when it is a member of a const object. Accordingly, a const member function may change a mutable member.As an example we will give Screen a mutable member named access_ctr, which we will us to track how often each Screen member function is called\n",
    "\n",
    "\n",
    "class Screen {\n",
    "    public:\n",
    "        void some_member() const;\n",
    "    private:\n",
    "        mutable size_t access_ctr;\n",
    "};\n",
    "\n"
   ]
  },
  {
   "cell_type": "code",
   "execution_count": null,
   "metadata": {},
   "outputs": [],
   "source": [
    "void Screen::some_member() const\n",
    "{\n",
    "    ++access_ctr; //keep a count of the calls to any member funciton \n",
    "}"
   ]
  },
  {
   "attachments": {},
   "cell_type": "markdown",
   "metadata": {},
   "source": [
    "Initializers for Data Members of Class Type"
   ]
  },
  {
   "cell_type": "code",
   "execution_count": null,
   "metadata": {},
   "outputs": [],
   "source": [
    "class Sales_data\n",
    "{\n",
    "    public:\n",
    "        string isbn;\n",
    "        int bookNo;\n",
    "        int units_sold;\n",
    "}"
   ]
  },
  {
   "cell_type": "code",
   "execution_count": null,
   "metadata": {},
   "outputs": [],
   "source": [
    "//Under the new standard, the best way to specify this default value is as an in-class initializer\n",
    "\n",
    "class Window_mgr {\n",
    "    private:\n",
    "        //screens this window_mgr is tracking\n",
    "        // by default a window mgr has one standard sized blank Screen\n",
    "        std::vector<Screen> screens{Screen(24, 80, ' ')};\n",
    "}"
   ]
  },
  {
   "cell_type": "code",
   "execution_count": null,
   "metadata": {},
   "outputs": [],
   "source": [
    "#include <istream>\n",
    "#include <ostream>\n",
    "#include <iostream>\n",
    "using namespace std;"
   ]
  },
  {
   "cell_type": "code",
   "execution_count": null,
   "metadata": {},
   "outputs": [],
   "source": [
    "istream &read(istream &is, Sales_data &item)\n",
    "{\n",
    "    double price = 0;\n",
    "    is >> item.bookNo>> item.units_sold >> price;\n",
    "    item.revenue = price * item.units_sold;\n",
    "    return is;\n",
    "}"
   ]
  },
  {
   "attachments": {},
   "cell_type": "markdown",
   "metadata": {},
   "source": [
    "Access Control and Encapsulation"
   ]
  },
  {
   "cell_type": "code",
   "execution_count": 3,
   "metadata": {},
   "outputs": [],
   "source": [
    "//Redefining Sales_data once again.\n",
    "\n",
    "\n",
    "class Sales_data {\n",
    "    public:    //access specifier added\n",
    "        Sales_data() = default;\n",
    "        Sales_data(const std::string &s, unsigned n, double p): bookNo(s), units_sold(n), revenue(p*n) {}\n",
    "        Sales_data(const std::string &s): bookNo(s) {}\n",
    "        Sales_data(std::istream&);\n",
    "        std::string isbn() const {return bookNo;}\n",
    "        Sales_data &combine(const Sales_data&);\n",
    "    private:\n",
    "        double avg_price() const\n",
    "            { return units_sold ? revenue/units_sold : 0;}\n",
    "        std::string bookNo;\n",
    "        unsigned units_sold = 0;\n",
    "        double revenue = 0.0;\n",
    "};\n",
    "//The constructors and member functions that are part of the interface follow the public specifier; the data members and the functions that are part of the implementation follow the private specifier.\n",
    "\n",
    "//A class may contain zero or more access specifiers and there are no restrictions on how oftern an access specifier may appear. Each access specifier  specifies the access level of the succeeding members. The specified access level reamain in effect until the next access specifier or the end of the class body.d"
   ]
  },
  {
   "cell_type": "code",
   "execution_count": 9,
   "metadata": {},
   "outputs": [],
   "source": [
    "Sales_data Sales(\"12AJKHKJLB3\")\n",
    "Sales.isbn()"
   ]
  },
  {
   "attachments": {},
   "cell_type": "markdown",
   "metadata": {},
   "source": [
    "Additional Class Features"
   ]
  },
  {
   "cell_type": "code",
   "execution_count": null,
   "metadata": {},
   "outputs": [],
   "source": []
  },
  {
   "cell_type": "code",
   "execution_count": null,
   "metadata": {},
   "outputs": [],
   "source": []
  }
 ],
 "metadata": {
  "kernelspec": {
   "display_name": "C++14",
   "language": "C++14",
   "name": "xcpp14"
  },
  "language_info": {
   "codemirror_mode": "text/x-c++src",
   "file_extension": ".cpp",
   "mimetype": "text/x-c++src",
   "name": "c++",
   "version": "14"
  },
  "orig_nbformat": 4
 },
 "nbformat": 4,
 "nbformat_minor": 2
}
