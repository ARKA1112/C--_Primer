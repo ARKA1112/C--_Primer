{
 "cells": [
  {
   "cell_type": "code",
   "execution_count": 1,
   "id": "90f17801-03ab-43bf-95fa-bc00de26dca8",
   "metadata": {},
   "outputs": [],
   "source": [
    "#include <iostream>\n",
    "#include <vector>\n",
    "using namespace std;"
   ]
  },
  {
   "cell_type": "code",
   "execution_count": 2,
   "id": "a70c642b-f0ad-4024-a06f-3376c38dcbb0",
   "metadata": {},
   "outputs": [],
   "source": [
    "//Simple Statements\n",
    "\n",
    "//Most statements in C++ wnd with a semicolon.An expression such as ival +5,\n",
    "//becomes an expression statement when it is followed by a semicolor. Expression statements\n",
    "//casue the expression to be evaluated and its result discarded:\n",
    "\n",
    "char *ival; "
   ]
  },
  {
   "cell_type": "code",
   "execution_count": 3,
   "id": "2337abd5-af82-4cb9-956d-2a7e79443ef5",
   "metadata": {},
   "outputs": [
    {
     "data": {
      "text/plain": [
       "0x5 <invalid memory address>"
      ]
     },
     "execution_count": 3,
     "metadata": {},
     "output_type": "execute_result"
    }
   ],
   "source": [
    "ival + 5"
   ]
  },
  {
   "cell_type": "code",
   "execution_count": 4,
   "id": "da6c432f-c902-4297-ad8a-fe264efbe2a8",
   "metadata": {},
   "outputs": [],
   "source": [
    "//a single semicolon is null statement as well as an empty statement is alos known as a null statemtnt."
   ]
  },
  {
   "cell_type": "code",
   "execution_count": 5,
   "id": "ffcd487d-17eb-40ec-ba0c-066b78e017a8",
   "metadata": {},
   "outputs": [],
   "source": [
    "//Compound Statements (Blocks)\n",
    "\n"
   ]
  },
  {
   "cell_type": "markdown",
   "id": "dfb3da06-edcc-49c4-8be3-06322f49ba11",
   "metadata": {},
   "source": [
    "Statement Scope"
   ]
  },
  {
   "cell_type": "code",
   "execution_count": 6,
   "id": "ce60e60a-491e-403f-8af4-c05fc86a62ac",
   "metadata": {},
   "outputs": [],
   "source": [
    "vector <int> v = {1,2,3,4,5};"
   ]
  },
  {
   "cell_type": "code",
   "execution_count": 7,
   "id": "d417af8c-cb6d-4282-91b5-3c4347882304",
   "metadata": {},
   "outputs": [],
   "source": [
    "//To access the control variable we must define the statement outside\n",
    "\n",
    "auto beg = v.begin();\n",
    "while (beg != v.end() && *beg >= 0)\n",
    "    ++beg;"
   ]
  },
  {
   "cell_type": "code",
   "execution_count": 8,
   "id": "d60b94fa-519e-4d84-8497-9a16f862f332",
   "metadata": {},
   "outputs": [],
   "source": [
    "string v = \"hello world\";\n",
    "\n",
    "string::iterator iter"
   ]
  },
  {
   "cell_type": "markdown",
   "id": "a8e9febf-aedd-41a6-981c-f7eb973165cc",
   "metadata": {},
   "source": [
    "Conditional Statements\n",
    "\n"
   ]
  },
  {
   "cell_type": "code",
   "execution_count": 10,
   "id": "4cc16522-7fc9-4140-8b7e-fc951a4ed030",
   "metadata": {},
   "outputs": [],
   "source": [
    "const vector<string> scores = {\"F\", \"D\", \"C\", \"B\", \"A\", \"A++\"};\n",
    "vector<int> grades = {};"
   ]
  },
  {
   "cell_type": "code",
   "execution_count": null,
   "id": "563f2e10-93f4-4291-abd7-f653a0bd61d7",
   "metadata": {},
   "outputs": [],
   "source": [
    "string lettergrade;\n",
    "if (grade < 60)\n",
    "    lettergrade = scores[0];\n",
    "else\n",
    "    lettergrade = scores[(grade - 50)/10];"
   ]
  },
  {
   "cell_type": "code",
   "execution_count": null,
   "id": "0f4cbe36-ee7a-495b-93de-bc693ac9fab6",
   "metadata": {},
   "outputs": [],
   "source": []
  }
 ],
 "metadata": {
  "kernelspec": {
   "display_name": "C++11 [conda env:xeus-cling]",
   "language": "C++11",
   "name": "conda-env-xeus-cling-xcpp11"
  },
  "language_info": {
   "codemirror_mode": "text/x-c++src",
   "file_extension": ".cpp",
   "mimetype": "text/x-c++src",
   "name": "c++",
   "version": "11"
  }
 },
 "nbformat": 4,
 "nbformat_minor": 5
}
