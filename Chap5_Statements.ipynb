{
 "cells": [
  {
   "cell_type": "code",
   "execution_count": 1,
   "id": "90f17801-03ab-43bf-95fa-bc00de26dca8",
   "metadata": {},
   "outputs": [],
   "source": [
    "#include <iostream>\n",
    "#include <vector>\n",
    "using namespace std;"
   ]
  },
  {
   "cell_type": "code",
   "execution_count": 2,
   "id": "a70c642b-f0ad-4024-a06f-3376c38dcbb0",
   "metadata": {},
   "outputs": [],
   "source": [
    "//Simple Statements\n",
    "\n",
    "//Most statements in C++ wnd with a semicolon.An expression such as ival +5,\n",
    "//becomes an expression statement when it is followed by a semicolor. Expression statements\n",
    "//casue the expression to be evaluated and its result discarded:\n",
    "\n",
    "char *ival; "
   ]
  },
  {
   "cell_type": "code",
   "execution_count": 3,
   "id": "2337abd5-af82-4cb9-956d-2a7e79443ef5",
   "metadata": {},
   "outputs": [
    {
     "data": {
      "text/plain": [
       "0x5 <invalid memory address>"
      ]
     },
     "execution_count": 3,
     "metadata": {},
     "output_type": "execute_result"
    }
   ],
   "source": [
    "ival + 5"
   ]
  },
  {
   "cell_type": "code",
   "execution_count": 4,
   "id": "da6c432f-c902-4297-ad8a-fe264efbe2a8",
   "metadata": {},
   "outputs": [],
   "source": [
    "//a single semicolon is null statement as well as an empty statement is alos known as a null statemtnt."
   ]
  },
  {
   "cell_type": "code",
   "execution_count": 5,
   "id": "ffcd487d-17eb-40ec-ba0c-066b78e017a8",
   "metadata": {},
   "outputs": [],
   "source": [
    "//Compound Statements (Blocks)\n",
    "\n"
   ]
  },
  {
   "cell_type": "markdown",
   "id": "dfb3da06-edcc-49c4-8be3-06322f49ba11",
   "metadata": {},
   "source": [
    "Statement Scope"
   ]
  },
  {
   "cell_type": "code",
   "execution_count": 6,
   "id": "ce60e60a-491e-403f-8af4-c05fc86a62ac",
   "metadata": {},
   "outputs": [],
   "source": [
    "vector <int> v = {1,2,3,4,5};"
   ]
  },
  {
   "cell_type": "code",
   "execution_count": 7,
   "id": "d417af8c-cb6d-4282-91b5-3c4347882304",
   "metadata": {},
   "outputs": [],
   "source": [
    "//To access the control variable we must define the statement outside\n",
    "\n",
    "auto beg = v.begin();\n",
    "while (beg != v.end() && *beg >= 0)\n",
    "    ++beg;"
   ]
  },
  {
   "cell_type": "code",
   "execution_count": 8,
   "id": "d60b94fa-519e-4d84-8497-9a16f862f332",
   "metadata": {},
   "outputs": [],
   "source": [
    "string v = \"hello world\";\n",
    "\n",
    "string::iterator iter"
   ]
  },
  {
   "cell_type": "markdown",
   "id": "a8e9febf-aedd-41a6-981c-f7eb973165cc",
   "metadata": {},
   "source": [
    "Conditional Statements\n",
    "\n"
   ]
  },
  {
   "cell_type": "code",
   "execution_count": 10,
   "id": "4cc16522-7fc9-4140-8b7e-fc951a4ed030",
   "metadata": {},
   "outputs": [],
   "source": [
    "const vector<string> scores = {\"F\", \"D\", \"C\", \"B\", \"A\", \"A++\"};\n",
    "vector<int> grades = {};"
   ]
  },
  {
   "cell_type": "code",
   "execution_count": null,
   "id": "563f2e10-93f4-4291-abd7-f653a0bd61d7",
   "metadata": {},
   "outputs": [],
   "source": [
    "string lettergrade;\n",
    "if (grade < 60)\n",
    "    lettergrade = scores[0];\n",
    "else\n",
    "    lettergrade = scores[(grade - 50)/10];"
   ]
  },
  {
   "cell_type": "markdown",
   "id": "d10bf7fe-7ff2-4db1-940d-e785a1aa0504",
   "metadata": {},
   "source": [
    "The switch statement"
   ]
  },
  {
   "cell_type": "code",
   "execution_count": 4,
   "id": "bff66ff6-3819-4581-af16-1865175366fb",
   "metadata": {},
   "outputs": [],
   "source": [
    "//A switch statement provides  aconvenient way of selecting among a possibly large number of fixed alternatives\n",
    "//as one example suppose that we want to count how often each of the five vowels appears\n",
    "//in some segment of text.\n",
    "//out program logic is as follows"
   ]
  },
  {
   "cell_type": "code",
   "execution_count": 5,
   "id": "626fa0e3-ea15-49fe-9cf5-6a75fca51272",
   "metadata": {},
   "outputs": [],
   "source": [
    "unsigned aCnt = 0, eCnt = 0, iCnt = 0, oCnt = 0, uCnt = 0"
   ]
  },
  {
   "cell_type": "code",
   "execution_count": 6,
   "id": "6b3e1b5d-caac-409b-ac4f-31e8a79e45de",
   "metadata": {},
   "outputs": [
    {
     "name": "stderr",
     "output_type": "stream",
     "text": [
      "\u001b[1m<<< cling interactive line includer >>>:1:1: \u001b[0m\u001b[0;1;31merror: \u001b[0m\u001b[1mexpected '}'\u001b[0m\n",
      "\u001b[1minput_line_16:1:42: \u001b[0m\u001b[0;1;30mnote: \u001b[0mto match this '{'\u001b[0m\n",
      "void __cling_Un1Qu36(void* vpClingValue) {\n",
      "\u001b[0;1;32m                                         ^\n",
      "\u001b[0m"
     ]
    },
    {
     "ename": "Interpreter Error",
     "evalue": "",
     "output_type": "error",
     "traceback": [
      "Interpreter Error: "
     ]
    }
   ],
   "source": [
    "char ch;\n",
    "while(cin>>ch){\n",
    "    //if ch is a vowel increment the ppropriate counter\n",
    "    switch(ch){\n",
    "        case 'a':\n",
    "            ++aCnt;\n",
    "            break;\n",
    "        case 'e':\n",
    "            ++eCnt;\n",
    "            break;\n",
    "        case 'i':\n",
    "            ++iCnt;\n",
    "            break;\n",
    "        case 'o':\n",
    "            ++oCnt;\n",
    "            break;\n",
    "        case 'u':\n",
    "            ++uCnt;\n",
    "            break;\n",
    "    }"
   ]
  },
  {
   "cell_type": "code",
   "execution_count": 7,
   "id": "efbdce19-75f0-43ae-b513-bc71d0cbb32c",
   "metadata": {},
   "outputs": [
    {
     "name": "stderr",
     "output_type": "stream",
     "text": [
      "\u001b[1minput_line_17:7:11: \u001b[0m\u001b[0;1;31merror: \u001b[0m\u001b[1muse of undeclared identifier 'getVal'\u001b[0m\n",
      "char ch = getVal()\n",
      "\u001b[0;1;32m          ^\n",
      "\u001b[0m"
     ]
    },
    {
     "ename": "Interpreter Error",
     "evalue": "",
     "output_type": "error",
     "traceback": [
      "Interpreter Error: "
     ]
    }
   ],
   "source": [
    "//If the expression matches the value of a case label executin begins with the first\n",
    "//statement following that label. Execution continues normally from that statement\n",
    "//through the end of the swtich or until a break statement.\n",
    "\n",
    "//If no match is found, execution falls through to the first staement following the swtich.\n",
    "//As we already know in this example, exiting the switch returns control to the condition in the while.\n",
    "\n",
    "char ch = getVal()"
   ]
  },
  {
   "cell_type": "code",
   "execution_count": null,
   "id": "94d8a641-73eb-4e1e-80e6-a022d17116a8",
   "metadata": {},
   "outputs": [],
   "source": [
    "//Control Flow within a switch\n",
    "\n",
    "unsigned vowelCnt = 0;\n",
    "switch (ch)\n",
    "{\n",
    "    case 'a':\n",
    "    case 'a':\n",
    "    case 'i':\n",
    "        ...\n",
    "    ++vowelCnt;\n",
    "        break;\n",
    "}"
   ]
  },
  {
   "cell_type": "code",
   "execution_count": null,
   "id": "a2889d08-7343-47d4-8614-87e80254ee98",
   "metadata": {},
   "outputs": [],
   "source": [
    "//Alternative syntax\n",
    "switch (ch)\n",
    "{\n",
    "// alternative legal syntax\n",
    "case ’a’: case ’e’: case ’i’: case ’o’: case ’u’:\n",
    "++vowelCnt;\n",
    "break;\n",
    "}"
   ]
  },
  {
   "cell_type": "code",
   "execution_count": null,
   "id": "2f3dc980-5cbf-4b33-a52d-5b4812b3e651",
   "metadata": {},
   "outputs": [],
   "source": [
    "// if ch is a vowel, increment the appropriate counter\n",
    "switch (ch) {\n",
    "case ’a’: case ’e’: case ’i’: case ’o’: case ’u’:\n",
    "++vowelCnt;\n",
    "break;\n",
    "default:\n",
    "++otherCnt;\n",
    "break;\n",
    "}\n",
    "}"
   ]
  },
  {
   "cell_type": "markdown",
   "id": "a05b7761-0b23-49f1-9bc8-dfa28b81582e",
   "metadata": {},
   "source": [
    "Variable Definitions inside the Body of a switch"
   ]
  },
  {
   "cell_type": "markdown",
   "id": "94d6f8bb-950a-4742-86de-04ad84829f65",
   "metadata": {},
   "source": [
    "Iterative Statements"
   ]
  },
  {
   "cell_type": "code",
   "execution_count": 2,
   "id": "b89ff65d-5d05-4619-83ef-5cd66646ef4c",
   "metadata": {},
   "outputs": [],
   "source": [
    "//Iterative statements, commonly called loops provide for repeated execution until \n",
    "//a condition is true. the while and for statements test the condition before\n",
    "//executing the body. the do while executes the body and then tests its condition."
   ]
  },
  {
   "cell_type": "markdown",
   "id": "85481b18-45f3-411b-b60e-70930de45cd9",
   "metadata": {},
   "source": [
    "The while statement"
   ]
  },
  {
   "cell_type": "code",
   "execution_count": 3,
   "id": "a6c8ced6-7d62-4952-badd-890d6f25d6d5",
   "metadata": {},
   "outputs": [],
   "source": [
    "//A while statement repeatedly executes a target statement as long as a condition is true\n",
    "\n"
   ]
  },
  {
   "cell_type": "markdown",
   "id": "a595b3b3-2a9f-42a3-ba91-cd657ebae1fa",
   "metadata": {},
   "source": [
    "The While Loop\n"
   ]
  },
  {
   "cell_type": "markdown",
   "id": "9beabcd9",
   "metadata": {},
   "source": [
    "Traditional for statement"
   ]
  },
  {
   "cell_type": "code",
   "execution_count": null,
   "id": "3c5e5d86",
   "metadata": {
    "vscode": {
     "languageId": "plaintext"
    }
   },
   "outputs": [],
   "source": [
    "expression must represent a sequence, such as a braced initializer list,\n",
    "an array or an object of a type such as ector or string that has begin and end memebers that return iterators.\n",
    "\n",
    "declaration defines a variable. It must be possible to convert each element of the sequence to the variable's type. The easiest way to ensure that the types match is to use the auto type specifier. That way the compiler will deduce the type for us. If we want to write to the elements in the sequence, the loop variable must be a reference type.\n",
    "\n",
    "On each iteration, the control variable is defined an initialized by the next value in the sequence, after which statement is execure. As usual , statment can be a single statement or a block. Execution ends once all the elements have been processed.\n",
    "\n",
    "We have already seen several such loops, but for completeness, here is one that doubles the value of each element in a vector:\n",
    "\n",
    "\n",
    "vector<int> v = {1,2,3,4,5,6,7,8,9}\n",
    "//the variable must be a  reference so we can write tot hte lements\n",
    "\n",
    "for (auto &r : v) // for each element in v\n",
    "    r *= 2; //double the value of each element  in value\n",
    "\n"
   ]
  },
  {
   "cell_type": "code",
   "execution_count": 3,
   "id": "2ab14770",
   "metadata": {
    "vscode": {
     "languageId": "plaintext"
    }
   },
   "outputs": [],
   "source": [
    "vector <int> v = {0, 1, 2, 3, 4, 5, 6, 7, 8, 9};\n",
    "//range variable must be a reference so we can write to the elements\n",
    "\n",
    "for (auto &r : v)\n",
    "    r *= 2;\n",
    "//Imp : Because we want to change the value of the lements in v, we declar3e r as a reference."
   ]
  },
  {
   "cell_type": "code",
   "execution_count": 5,
   "id": "bbf31198-cbaa-4613-8aee-f7971e748c1d",
   "metadata": {},
   "outputs": [
    {
     "data": {
      "text/plain": [
       "{ 0, 2, 4, 6, 8, 10, 12, 14, 16, 18 }"
      ]
     },
     "execution_count": 5,
     "metadata": {},
     "output_type": "execute_result"
    }
   ],
   "source": [
    "v"
   ]
  },
  {
   "cell_type": "code",
   "execution_count": 2,
   "id": "39492f34-63e4-4f33-b770-6c16346b477b",
   "metadata": {},
   "outputs": [
    {
     "name": "stderr",
     "output_type": "stream",
     "text": [
      "\u001b[1minput_line_8:2:2: \u001b[0m\u001b[0;1;31merror: \u001b[0m\u001b[1mno template named 'vector'; did you mean 'std::vector'?\u001b[0m\n",
      " vector<int> v = {0,1,2,3,4,5,6,7,8};\n",
      "\u001b[0;1;32m ^~~~~~\n",
      "\u001b[0m\u001b[0;32m std::vector\n",
      "\u001b[0m\u001b[1m/home/susearc/miniconda3/envs/xeus-cling/bin/../lib/gcc/../../x86_64-conda-linux-gnu/include/c++/12.2.0/bits/stl_vector.h:423:11: \u001b[0m\u001b[0;1;30mnote: \u001b[0m'std::vector' declared here\u001b[0m\n",
      "    class vector : protected _Vector_base<_Tp, _Alloc>\n",
      "\u001b[0;1;32m          ^\n",
      "\u001b[0m"
     ]
    },
    {
     "ename": "Interpreter Error",
     "evalue": "",
     "output_type": "error",
     "traceback": [
      "Interpreter Error: "
     ]
    }
   ],
   "source": [
    "vector<int> v = {0,1,2,3,4,5,6,7,8};\n",
    "for (auto beg = v.begin(), end = v.end(); beg != end; ++beg)\n",
    "{\n",
    "    auto &r = *beg; // rmust be a reference so we can change the element\n",
    "    r *= 2;      // djouble the value of each element in v\n",
    "}"
   ]
  },
  {
   "cell_type": "markdown",
   "id": "23c4256a-bee6-4360-a901-9e062a689498",
   "metadata": {},
   "source": [
    "The do while statement"
   ]
  },
  {
   "cell_type": "code",
   "execution_count": null,
   "id": "e92d8fb5-e03b-4c62-82f9-80a443e06d2f",
   "metadata": {},
   "outputs": [],
   "source": [
    "//A do while statement is like a while but the condition is tested after the staement body completes\n",
    "//Regardless of the value of the condition, we execute the loop at least once.\n",
    "//The syntactic form is as follows\n",
    "\n",
    "do\n",
    "    ......\n",
    "while (condition)"
   ]
  },
  {
   "cell_type": "markdown",
   "id": "40fb62ae-2077-4720-b0c9-b8f2c8a44ca1",
   "metadata": {},
   "source": [
    "The break statement \n",
    "\n",
    "str"
   ]
  },
  {
   "cell_type": "code",
   "execution_count": 2,
   "id": "96b22d88-5fa1-4e45-9e4e-1e998bdde7ec",
   "metadata": {},
   "outputs": [
    {
     "name": "stdin",
     "output_type": "stream",
     "text": [
      " -uffer\n"
     ]
    },
    {
     "name": "stdout",
     "output_type": "stream",
     "text": [
      "-uffer"
     ]
    },
    {
     "name": "stdin",
     "output_type": "stream",
     "text": [
      " +buffer\n"
     ]
    },
    {
     "name": "stdout",
     "output_type": "stream",
     "text": [
      "Hello world"
     ]
    },
    {
     "name": "stdin",
     "output_type": "stream",
     "text": [
      " nein\n"
     ]
    }
   ],
   "source": [
    "string buf;\n",
    "while (cin>> buf && buf[0] != 'n')\n",
    "{\n",
    "    switch (buf[0])\n",
    "    {\n",
    "        case '-':\n",
    "            //process to fill the first blank\n",
    "            for (auto it = buf.begin() + 1; it != buf.end(); ++it)\n",
    "            {\n",
    "                if (*it == ' ')\n",
    "                    break;\n",
    "            }\n",
    "            cout<<buf;\n",
    "            //break\n",
    "            //remaining\n",
    "            break; // leaves the switch statement\n",
    "        case '+':\n",
    "            cout<<\"Hello world\";\n",
    "    }\n",
    "}"
   ]
  },
  {
   "cell_type": "markdown",
   "id": "24fb459f-d8d3-41b5-b22d-367b1d11baf6",
   "metadata": {},
   "source": [
    "The goto Statement"
   ]
  },
  {
   "cell_type": "code",
   "execution_count": 1,
   "id": "97c121fa-9d80-4be3-bec6-07457cb7f450",
   "metadata": {},
   "outputs": [],
   "source": [
    "//A goto statement provides an unconditional jump from the goto to an another statement in the same funciton."
   ]
  },
  {
   "cell_type": "code",
   "execution_count": 2,
   "id": "d6aee8a4-f5ae-40d9-94a3-18c5a6428a5f",
   "metadata": {},
   "outputs": [],
   "source": [
    "//A labeled statement is any statement that is preceded by an identitfier followed by a colon:\n",
    "\n"
   ]
  },
  {
   "cell_type": "markdown",
   "id": "e0ba4fce-a8fa-4c75-80fb-7f538ed06a1e",
   "metadata": {},
   "source": [
    "try Blocks and Exception Handling"
   ]
  },
  {
   "cell_type": "markdown",
   "id": "d5e59642-d1a1-465f-970a-1c0199bcdc07",
   "metadata": {},
   "source": [
    "A throw Expression"
   ]
  },
  {
   "cell_type": "code",
   "execution_count": null,
   "id": "d00d86a2-a36a-4d19-ad3f-ea997763f97f",
   "metadata": {},
   "outputs": [],
   "source": []
  }
 ],
 "metadata": {
  "kernelspec": {
   "display_name": "C++11 [conda env:xeus-cling]",
   "language": "C++11",
   "name": "conda-env-xeus-cling-xcpp11"
  },
  "language_info": {
   "codemirror_mode": "text/x-c++src",
   "file_extension": ".cpp",
   "mimetype": "text/x-c++src",
   "name": "c++",
   "version": "11"
  }
 },
 "nbformat": 4,
 "nbformat_minor": 5
}
