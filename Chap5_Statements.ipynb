{
 "cells": [
  {
   "cell_type": "code",
   "execution_count": 3,
   "id": "90f17801-03ab-43bf-95fa-bc00de26dca8",
   "metadata": {},
   "outputs": [],
   "source": [
    "#include <iostream>\n",
    "#include <vector>\n",
    "using namespace std;"
   ]
  },
  {
   "cell_type": "code",
   "execution_count": 6,
   "id": "a70c642b-f0ad-4024-a06f-3376c38dcbb0",
   "metadata": {},
   "outputs": [],
   "source": [
    "//Simple Statements\n",
    "\n",
    "//Most statements in C++ wnd with a semicolon.An expression such as ival +5,\n",
    "//becomes an expression statement when it is followed by a semicolor. Expression statements\n",
    "//casue the expression to be evaluated and its result discarded:\n",
    "\n",
    "char *ival; "
   ]
  },
  {
   "cell_type": "code",
   "execution_count": 7,
   "id": "2337abd5-af82-4cb9-956d-2a7e79443ef5",
   "metadata": {},
   "outputs": [
    {
     "data": {
      "text/plain": [
       "0x5 <invalid memory address>"
      ]
     },
     "execution_count": 7,
     "metadata": {},
     "output_type": "execute_result"
    }
   ],
   "source": [
    "ival + 5"
   ]
  },
  {
   "cell_type": "code",
   "execution_count": 9,
   "id": "da6c432f-c902-4297-ad8a-fe264efbe2a8",
   "metadata": {},
   "outputs": [],
   "source": [
    "//a single semicolon is null statement as well as an empty statement is alos known as a null statemtnt."
   ]
  },
  {
   "cell_type": "code",
   "execution_count": 2,
   "id": "ffcd487d-17eb-40ec-ba0c-066b78e017a8",
   "metadata": {},
   "outputs": [],
   "source": [
    "//Compound Statements (Blocks)\n",
    "\n"
   ]
  },
  {
   "cell_type": "markdown",
   "id": "dfb3da06-edcc-49c4-8be3-06322f49ba11",
   "metadata": {},
   "source": [
    "Statement Scope"
   ]
  },
  {
   "cell_type": "code",
   "execution_count": 4,
   "id": "ce60e60a-491e-403f-8af4-c05fc86a62ac",
   "metadata": {},
   "outputs": [],
   "source": [
    "vector <int> v = {1,2,3,4,5};"
   ]
  },
  {
   "cell_type": "code",
   "execution_count": 6,
   "id": "d417af8c-cb6d-4282-91b5-3c4347882304",
   "metadata": {},
   "outputs": [],
   "source": [
    "//To access the control variable we must define the statement outside\n",
    "\n",
    "auto beg = v.begin();\n",
    "while (beg != v.end() && *beg >= 0)\n",
    "    ++beg;"
   ]
  },
  {
   "cell_type": "code",
   "execution_count": 16,
   "id": "d60b94fa-519e-4d84-8497-9a16f862f332",
   "metadata": {},
   "outputs": [
    {
     "name": "stderr",
     "output_type": "stream",
     "text": [
      "\u001b[1minput_line_24:3:18: \u001b[0m\u001b[0;1;31merror: \u001b[0m\u001b[1mno matching constructor for initialization of 'string::iterator' (aka '__normal_iterator<char *, std::__cxx11::basic_string<char> >')\u001b[0m\n",
      "string::iterator iter\n",
      "\u001b[0;1;32m                 ^\n",
      "\u001b[0m\u001b[1m/home/susearc/miniconda3/envs/xeus-cling/bin/../lib/gcc/../../x86_64-conda-linux-gnu/include/c++/12.2.0/bits/stl_iterator.h:1079:2: \u001b[0m\u001b[0;1;30mnote: \u001b[0mcandidate constructor template not viable: requires single argument '__i', but no arguments were provided\u001b[0m\n",
      "        __normal_iterator(const __normal_iterator<_Iter, _Container>& __i)\n",
      "\u001b[0;1;32m        ^\n",
      "\u001b[0m\u001b[1m/home/susearc/miniconda3/envs/xeus-cling/bin/../lib/gcc/../../x86_64-conda-linux-gnu/include/c++/12.2.0/bits/stl_iterator.h:1072:7: \u001b[0m\u001b[0;1;30mnote: \u001b[0mcandidate constructor not viable: requires single argument '__i', but no arguments were provided\u001b[0m\n",
      "      __normal_iterator(const _Iterator& __i) _GLIBCXX_NOEXCEPT\n",
      "\u001b[0;1;32m      ^\n",
      "\u001b[0m\u001b[1m/home/susearc/miniconda3/envs/xeus-cling/bin/../lib/gcc/../../x86_64-conda-linux-gnu/include/c++/12.2.0/bits/stl_iterator.h:1043:11: \u001b[0m\u001b[0;1;30mnote: \u001b[0mcandidate constructor (the implicit copy constructor) not viable: requires 1 argument, but 0 were provided\u001b[0m\n",
      "    class __normal_iterator\n",
      "\u001b[0;1;32m          ^\n",
      "\u001b[0m\u001b[1m/home/susearc/miniconda3/envs/xeus-cling/bin/../lib/gcc/../../x86_64-conda-linux-gnu/include/c++/12.2.0/bits/stl_iterator.h:1043:11: \u001b[0m\u001b[0;1;30mnote: \u001b[0mcandidate constructor (the implicit move constructor) not viable: requires 1 argument, but 0 were provided\u001b[0m\n"
     ]
    },
    {
     "ename": "Interpreter Error",
     "evalue": "",
     "output_type": "error",
     "traceback": [
      "Interpreter Error: "
     ]
    }
   ],
   "source": [
    "string v = \"hello world\";\n",
    "\n",
    "string::iterator iter"
   ]
  },
  {
   "cell_type": "code",
   "execution_count": null,
   "id": "256aef61-d99e-43cf-8cec-c149bca10228",
   "metadata": {},
   "outputs": [],
   "source": []
  }
 ],
 "metadata": {
  "kernelspec": {
   "display_name": "C++11 [conda env:xeus-cling]",
   "language": "C++11",
   "name": "conda-env-xeus-cling-xcpp11"
  },
  "language_info": {
   "codemirror_mode": "text/x-c++src",
   "file_extension": ".cpp",
   "mimetype": "text/x-c++src",
   "name": "c++",
   "version": "11"
  }
 },
 "nbformat": 4,
 "nbformat_minor": 5
}
