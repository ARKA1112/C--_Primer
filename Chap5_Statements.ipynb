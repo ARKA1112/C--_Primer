{
 "cells": [
  {
   "cell_type": "code",
   "execution_count": 1,
   "id": "90f17801-03ab-43bf-95fa-bc00de26dca8",
   "metadata": {},
   "outputs": [],
   "source": [
    "#include <iostream>\n",
    "#include <vector>\n",
    "using namespace std;"
   ]
  },
  {
   "cell_type": "code",
   "execution_count": 2,
   "id": "a70c642b-f0ad-4024-a06f-3376c38dcbb0",
   "metadata": {},
   "outputs": [],
   "source": [
    "//Simple Statements\n",
    "\n",
    "//Most statements in C++ wnd with a semicolon.An expression such as ival +5,\n",
    "//becomes an expression statement when it is followed by a semicolor. Expression statements\n",
    "//casue the expression to be evaluated and its result discarded:\n",
    "\n",
    "char *ival; "
   ]
  },
  {
   "cell_type": "code",
   "execution_count": 3,
   "id": "2337abd5-af82-4cb9-956d-2a7e79443ef5",
   "metadata": {},
   "outputs": [
    {
     "data": {
      "text/plain": [
       "0x5 <invalid memory address>"
      ]
     },
     "execution_count": 3,
     "metadata": {},
     "output_type": "execute_result"
    }
   ],
   "source": [
    "ival + 5"
   ]
  },
  {
   "cell_type": "code",
   "execution_count": 4,
   "id": "da6c432f-c902-4297-ad8a-fe264efbe2a8",
   "metadata": {},
   "outputs": [],
   "source": [
    "//a single semicolon is null statement as well as an empty statement is alos known as a null statemtnt."
   ]
  },
  {
   "cell_type": "code",
   "execution_count": 5,
   "id": "ffcd487d-17eb-40ec-ba0c-066b78e017a8",
   "metadata": {},
   "outputs": [],
   "source": [
    "//Compound Statements (Blocks)\n",
    "\n"
   ]
  },
  {
   "cell_type": "markdown",
   "id": "dfb3da06-edcc-49c4-8be3-06322f49ba11",
   "metadata": {},
   "source": [
    "Statement Scope"
   ]
  },
  {
   "cell_type": "code",
   "execution_count": 6,
   "id": "ce60e60a-491e-403f-8af4-c05fc86a62ac",
   "metadata": {},
   "outputs": [],
   "source": [
    "vector <int> v = {1,2,3,4,5};"
   ]
  },
  {
   "cell_type": "code",
   "execution_count": 7,
   "id": "d417af8c-cb6d-4282-91b5-3c4347882304",
   "metadata": {},
   "outputs": [],
   "source": [
    "//To access the control variable we must define the statement outside\n",
    "\n",
    "auto beg = v.begin();\n",
    "while (beg != v.end() && *beg >= 0)\n",
    "    ++beg;"
   ]
  },
  {
   "cell_type": "code",
   "execution_count": 8,
   "id": "d60b94fa-519e-4d84-8497-9a16f862f332",
   "metadata": {},
   "outputs": [],
   "source": [
    "string v = \"hello world\";\n",
    "\n",
    "string::iterator iter"
   ]
  },
  {
   "cell_type": "markdown",
   "id": "a8e9febf-aedd-41a6-981c-f7eb973165cc",
   "metadata": {},
   "source": [
    "Conditional Statements\n",
    "\n"
   ]
  },
  {
   "cell_type": "code",
   "execution_count": 10,
   "id": "4cc16522-7fc9-4140-8b7e-fc951a4ed030",
   "metadata": {},
   "outputs": [],
   "source": [
    "const vector<string> scores = {\"F\", \"D\", \"C\", \"B\", \"A\", \"A++\"};\n",
    "vector<int> grades = {};"
   ]
  },
  {
   "cell_type": "code",
   "execution_count": null,
   "id": "563f2e10-93f4-4291-abd7-f653a0bd61d7",
   "metadata": {},
   "outputs": [],
   "source": [
    "string lettergrade;\n",
    "if (grade < 60)\n",
    "    lettergrade = scores[0];\n",
    "else\n",
    "    lettergrade = scores[(grade - 50)/10];"
   ]
  },
  {
   "cell_type": "markdown",
   "id": "d10bf7fe-7ff2-4db1-940d-e785a1aa0504",
   "metadata": {},
   "source": [
    "The switch statement"
   ]
  },
  {
   "cell_type": "code",
   "execution_count": 4,
   "id": "bff66ff6-3819-4581-af16-1865175366fb",
   "metadata": {},
   "outputs": [],
   "source": [
    "//A switch statement provides  aconvenient way of selecting among a possibly large number of fixed alternatives\n",
    "//as one example suppose that we want to count how often each of the five vowels appears\n",
    "//in some segment of text.\n",
    "//out program logic is as follows"
   ]
  },
  {
   "cell_type": "code",
   "execution_count": 5,
   "id": "626fa0e3-ea15-49fe-9cf5-6a75fca51272",
   "metadata": {},
   "outputs": [],
   "source": [
    "unsigned aCnt = 0, eCnt = 0, iCnt = 0, oCnt = 0, uCnt = 0"
   ]
  },
  {
   "cell_type": "code",
   "execution_count": 6,
   "id": "6b3e1b5d-caac-409b-ac4f-31e8a79e45de",
   "metadata": {},
   "outputs": [
    {
     "name": "stderr",
     "output_type": "stream",
     "text": [
      "\u001b[1m<<< cling interactive line includer >>>:1:1: \u001b[0m\u001b[0;1;31merror: \u001b[0m\u001b[1mexpected '}'\u001b[0m\n",
      "\u001b[1minput_line_16:1:42: \u001b[0m\u001b[0;1;30mnote: \u001b[0mto match this '{'\u001b[0m\n",
      "void __cling_Un1Qu36(void* vpClingValue) {\n",
      "\u001b[0;1;32m                                         ^\n",
      "\u001b[0m"
     ]
    },
    {
     "ename": "Interpreter Error",
     "evalue": "",
     "output_type": "error",
     "traceback": [
      "Interpreter Error: "
     ]
    }
   ],
   "source": [
    "char ch;\n",
    "while(cin>>ch){\n",
    "    //if ch is a vowel increment the ppropriate counter\n",
    "    switch(ch){\n",
    "        case 'a':\n",
    "            ++aCnt;\n",
    "            break;\n",
    "        case 'e':\n",
    "            ++eCnt;\n",
    "            break;\n",
    "        case 'i':\n",
    "            ++iCnt;\n",
    "            break;\n",
    "        case 'o':\n",
    "            ++oCnt;\n",
    "            break;\n",
    "        case 'u':\n",
    "            ++uCnt;\n",
    "            break;\n",
    "    }"
   ]
  },
  {
   "cell_type": "code",
   "execution_count": 7,
   "id": "efbdce19-75f0-43ae-b513-bc71d0cbb32c",
   "metadata": {},
   "outputs": [
    {
     "name": "stderr",
     "output_type": "stream",
     "text": [
      "\u001b[1minput_line_17:7:11: \u001b[0m\u001b[0;1;31merror: \u001b[0m\u001b[1muse of undeclared identifier 'getVal'\u001b[0m\n",
      "char ch = getVal()\n",
      "\u001b[0;1;32m          ^\n",
      "\u001b[0m"
     ]
    },
    {
     "ename": "Interpreter Error",
     "evalue": "",
     "output_type": "error",
     "traceback": [
      "Interpreter Error: "
     ]
    }
   ],
   "source": [
    "//If the expression matches the value of a case label executin begins with the first\n",
    "//statement following that label. Execution continues normally from that statement\n",
    "//through the end of the swtich or until a break statement.\n",
    "\n",
    "//If no match is found, execution falls through to the first staement following the swtich.\n",
    "//As we already know in this example, exiting the switch returns control to the condition in the while.\n",
    "\n",
    "char ch = getVal()"
   ]
  },
  {
   "cell_type": "code",
   "execution_count": null,
   "id": "94d8a641-73eb-4e1e-80e6-a022d17116a8",
   "metadata": {},
   "outputs": [],
   "source": [
    "//Control Flow within a switch\n",
    "\n",
    "unsigned vowelCnt = 0;\n",
    "switch (ch)\n",
    "{\n",
    "    case 'a':\n",
    "    case 'a':\n",
    "    case 'i':\n",
    "        ...\n",
    "    ++vowelCnt;\n",
    "        break;\n",
    "}"
   ]
  },
  {
   "cell_type": "code",
   "execution_count": null,
   "id": "a2889d08-7343-47d4-8614-87e80254ee98",
   "metadata": {},
   "outputs": [],
   "source": [
    "//Alternative syntax\n",
    "switch (ch)\n",
    "{\n",
    "// alternative legal syntax\n",
    "case ’a’: case ’e’: case ’i’: case ’o’: case ’u’:\n",
    "++vowelCnt;\n",
    "break;\n",
    "}"
   ]
  },
  {
   "cell_type": "code",
   "execution_count": null,
   "id": "2f3dc980-5cbf-4b33-a52d-5b4812b3e651",
   "metadata": {},
   "outputs": [],
   "source": [
    "// if ch is a vowel, increment the appropriate counter\n",
    "switch (ch) {\n",
    "case ’a’: case ’e’: case ’i’: case ’o’: case ’u’:\n",
    "++vowelCnt;\n",
    "break;\n",
    "default:\n",
    "++otherCnt;\n",
    "break;\n",
    "}\n",
    "}"
   ]
  },
  {
   "cell_type": "markdown",
   "id": "a05b7761-0b23-49f1-9bc8-dfa28b81582e",
   "metadata": {},
   "source": [
    "Variable Definitions inside the Body of a switch"
   ]
  },
  {
   "cell_type": "code",
   "execution_count": null,
   "id": "22bfdd79-4334-44b7-832c-52d622e7bdb8",
   "metadata": {},
   "outputs": [],
   "source": []
  }
 ],
 "metadata": {
  "kernelspec": {
   "display_name": "C++11 [conda env:xeus-cling]",
   "language": "C++11",
   "name": "conda-env-xeus-cling-xcpp11"
  },
  "language_info": {
   "codemirror_mode": "text/x-c++src",
   "file_extension": ".cpp",
   "mimetype": "text/x-c++src",
   "name": "c++",
   "version": "11"
  }
 },
 "nbformat": 4,
 "nbformat_minor": 5
}
