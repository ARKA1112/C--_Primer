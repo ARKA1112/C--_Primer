{
 "cells": [
  {
   "cell_type": "code",
   "execution_count": 1,
   "metadata": {},
   "outputs": [],
   "source": [
    "#include <iostream>\n",
    "#include <string>\n",
    "#include <vector>\n",
    "using namespace std;"
   ]
  },
  {
   "cell_type": "code",
   "execution_count": 2,
   "metadata": {},
   "outputs": [],
   "source": [
    "//An expression with two or more operators is a compund expression."
   ]
  },
  {
   "cell_type": "code",
   "execution_count": 3,
   "metadata": {},
   "outputs": [],
   "source": [
    "int ia[] = {0,2,4,6,8}"
   ]
  },
  {
   "cell_type": "code",
   "execution_count": 4,
   "metadata": {},
   "outputs": [],
   "source": [
    "int last = *(ia + 4)"
   ]
  },
  {
   "cell_type": "code",
   "execution_count": 5,
   "metadata": {},
   "outputs": [
    {
     "data": {
      "text/plain": [
       "8"
      ]
     },
     "execution_count": 5,
     "metadata": {},
     "output_type": "execute_result"
    }
   ],
   "source": [
    "last"
   ]
  },
  {
   "cell_type": "code",
   "execution_count": 6,
   "metadata": {},
   "outputs": [
    {
     "name": "stderr",
     "output_type": "stream",
     "text": [
      "\u001b[1minput_line_16:2:7: \u001b[0m\u001b[0;1;31merror: \u001b[0m\u001b[1mmember reference base type 'int' is not a structure or union\u001b[0m\n",
      " (*ia).begin()\n",
      "\u001b[0;1;32m ~~~~~^~~~~~\n",
      "\u001b[0m"
     ]
    },
    {
     "ename": "Interpreter Error",
     "evalue": "",
     "output_type": "error",
     "traceback": [
      "Interpreter Error: "
     ]
    }
   ],
   "source": [
    "(*ia).begin()"
   ]
  },
  {
   "cell_type": "code",
   "execution_count": 7,
   "metadata": {},
   "outputs": [
    {
     "name": "stderr",
     "output_type": "stream",
     "text": [
      "\u001b[1minput_line_17:3:17: \u001b[0m\u001b[0;1;35mwarning: \u001b[0m\u001b[1munsequenced modification and access to 'i' [-Wunsequenced]\u001b[0m\n",
      "cout<< i<< \" \"<<++i;\n",
      "\u001b[0;1;32m       ~        ^\n",
      "\u001b[0m"
     ]
    },
    {
     "name": "stdout",
     "output_type": "stream",
     "text": [
      "0 1"
     ]
    }
   ],
   "source": [
    "int i = 0;\n",
    "cout<< i<< \" \"<<++i;"
   ]
  },
  {
   "cell_type": "code",
   "execution_count": 8,
   "metadata": {},
   "outputs": [],
   "source": [
    "//The logical AND(&&) opertor guaranteed that its left hand operand is evaluated first\n",
    "//Moreover we are also guaranteed that the right hand operand is evaluated \n",
    "//if the left hand operand is true."
   ]
  },
  {
   "cell_type": "code",
   "execution_count": 9,
   "metadata": {},
   "outputs": [],
   "source": [
    "int i = 1034;\n",
    "int k = -i;\n",
    "signed j = -i;"
   ]
  },
  {
   "cell_type": "code",
   "execution_count": 10,
   "metadata": {},
   "outputs": [
    {
     "data": {
      "text/plain": [
       "@0x7ffecb81c008"
      ]
     },
     "execution_count": 10,
     "metadata": {},
     "output_type": "execute_result"
    }
   ],
   "source": [
    "&j"
   ]
  },
  {
   "cell_type": "code",
   "execution_count": 11,
   "metadata": {},
   "outputs": [
    {
     "data": {
      "text/plain": [
       "@0x7ffecb81c008"
      ]
     },
     "execution_count": 11,
     "metadata": {},
     "output_type": "execute_result"
    }
   ],
   "source": [
    "&k"
   ]
  },
  {
   "cell_type": "code",
   "execution_count": 12,
   "metadata": {},
   "outputs": [],
   "source": [
    "short short_value = 32767;"
   ]
  },
  {
   "cell_type": "code",
   "execution_count": 14,
   "metadata": {},
   "outputs": [
    {
     "data": {
      "text/plain": [
       "-32768"
      ]
     },
     "execution_count": 14,
     "metadata": {},
     "output_type": "execute_result"
    }
   ],
   "source": [
    "short_value+=1"
   ]
  },
  {
   "cell_type": "code",
   "execution_count": 15,
   "metadata": {},
   "outputs": [
    {
     "name": "stdout",
     "output_type": "stream",
     "text": [
      "short value: -32768\n"
     ]
    }
   ],
   "source": [
    "cout<<\"short value: \"<< short_value << endl;"
   ]
  },
  {
   "cell_type": "code",
   "execution_count": 16,
   "metadata": {},
   "outputs": [],
   "source": [
    "int ival1 = 21/6"
   ]
  },
  {
   "cell_type": "code",
   "execution_count": 17,
   "metadata": {},
   "outputs": [
    {
     "data": {
      "text/plain": [
       "3"
      ]
     },
     "execution_count": 17,
     "metadata": {},
     "output_type": "execute_result"
    }
   ],
   "source": [
    "ival1  //result is truncated remainder is discarded"
   ]
  },
  {
   "cell_type": "code",
   "execution_count": 18,
   "metadata": {},
   "outputs": [],
   "source": [
    "int ival2 = 21/7 ///no remainder result is an integral value"
   ]
  },
  {
   "cell_type": "code",
   "execution_count": 19,
   "metadata": {},
   "outputs": [
    {
     "data": {
      "text/plain": [
       "3"
      ]
     },
     "execution_count": 19,
     "metadata": {},
     "output_type": "execute_result"
    }
   ],
   "source": [
    "ival2"
   ]
  },
  {
   "cell_type": "code",
   "execution_count": 20,
   "metadata": {},
   "outputs": [],
   "source": [
    "int ival = 42;\n"
   ]
  },
  {
   "cell_type": "code",
   "execution_count": 21,
   "metadata": {},
   "outputs": [],
   "source": [
    "double dval = 3.14;"
   ]
  },
  {
   "cell_type": "code",
   "execution_count": 22,
   "metadata": {},
   "outputs": [
    {
     "data": {
      "text/plain": [
       "3.1400000"
      ]
     },
     "execution_count": 22,
     "metadata": {},
     "output_type": "execute_result"
    }
   ],
   "source": [
    "dval"
   ]
  },
  {
   "cell_type": "code",
   "execution_count": 23,
   "metadata": {},
   "outputs": [],
   "source": [
    "ival % 12;"
   ]
  },
  {
   "cell_type": "code",
   "execution_count": 28,
   "metadata": {},
   "outputs": [],
   "source": [
    "//ex4.2_4.6 vdone\n",
    "void checker()\n",
    "{\n",
    "    int a;\n",
    "    cin>>a;\n",
    "    if (a%2==0)\n",
    "    {\n",
    "        cout<<\"Number is even\";\n",
    "    }\n",
    "    else\n",
    "    {\n",
    "        cout<<\"Number is odd\";\n",
    "    };\n",
    "}"
   ]
  },
  {
   "cell_type": "code",
   "execution_count": 29,
   "metadata": {},
   "outputs": [
    {
     "name": "stdout",
     "output_type": "stream",
     "text": [
      "12\n",
      "Number is even"
     ]
    }
   ],
   "source": [
    "checker()\n",
    "    "
   ]
  },
  {
   "cell_type": "code",
   "execution_count": 30,
   "metadata": {},
   "outputs": [
    {
     "name": "stdout",
     "output_type": "stream",
     "text": [
      "3\n",
      "Number is odd"
     ]
    }
   ],
   "source": [
    "checker()\n",
    "    "
   ]
  },
  {
   "cell_type": "code",
   "execution_count": 41,
   "metadata": {},
   "outputs": [],
   "source": [
    "string text[] = {\"hello\",\"world\"}"
   ]
  },
  {
   "cell_type": "code",
   "execution_count": 42,
   "metadata": {},
   "outputs": [
    {
     "name": "stderr",
     "output_type": "stream",
     "text": [
      "\u001b[1minput_line_59:6:24: \u001b[0m\u001b[0;1;31merror: \u001b[0m\u001b[1mexpected unqualified-id\u001b[0m\n",
      "    if (s.empty() || s.[s.size() - 1] == '.')\n",
      "\u001b[0;1;32m                       ^\n",
      "\u001b[0m"
     ]
    },
    {
     "ename": "Interpreter Error",
     "evalue": "",
     "output_type": "error",
     "traceback": [
      "Interpreter Error: "
     ]
    }
   ],
   "source": [
    "for (const auto &s : text)\n",
    "{\n",
    "    cout<<s;\n",
    "    \n",
    "    if (s.empty() || s.[s.size() - 1] == '.')\n",
    "        cout<<endl;\n",
    "    else\n",
    "        cout<< \" \";\n",
    "}"
   ]
  },
  {
   "cell_type": "code",
   "execution_count": 46,
   "metadata": {},
   "outputs": [],
   "source": [
    "vector <int> vec =  {}"
   ]
  },
  {
   "cell_type": "code",
   "execution_count": 52,
   "metadata": {},
   "outputs": [],
   "source": [
    "vec.push_back(4)"
   ]
  },
  {
   "cell_type": "code",
   "execution_count": 53,
   "metadata": {},
   "outputs": [
    {
     "data": {
      "text/plain": [
       "{ 1, 2, 4 }"
      ]
     },
     "execution_count": 53,
     "metadata": {},
     "output_type": "execute_result"
    }
   ],
   "source": [
    "vec"
   ]
  },
  {
   "cell_type": "code",
   "execution_count": 55,
   "metadata": {},
   "outputs": [],
   "source": [
    "if (!vec.empty())\n",
    "    cout<<vec[0];"
   ]
  },
  {
   "cell_type": "code",
   "execution_count": 68,
   "metadata": {},
   "outputs": [],
   "source": [
    "const char *cp = \"Hello World\";"
   ]
  },
  {
   "cell_type": "code",
   "execution_count": 61,
   "metadata": {},
   "outputs": [
    {
     "name": "stdout",
     "output_type": "stream",
     "text": [
      "true"
     ]
    }
   ],
   "source": [
    "if (cp && *cp)\n",
    "    cout<<\"true\""
   ]
  },
  {
   "cell_type": "code",
   "execution_count": 72,
   "metadata": {},
   "outputs": [
    {
     "data": {
      "text/plain": [
       "\"llo World\""
      ]
     },
     "execution_count": 72,
     "metadata": {},
     "output_type": "execute_result"
    }
   ],
   "source": [
    "cp+2"
   ]
  },
  {
   "cell_type": "code",
   "execution_count": 65,
   "metadata": {},
   "outputs": [
    {
     "data": {
      "text/plain": [
       "\"ello World\""
      ]
     },
     "execution_count": 65,
     "metadata": {},
     "output_type": "execute_result"
    }
   ],
   "source": [
    "cp"
   ]
  },
  {
   "cell_type": "code",
   "execution_count": 75,
   "metadata": {},
   "outputs": [
    {
     "name": "stdout",
     "output_type": "stream",
     "text": [
      "12\n",
      "12\n",
      "42\n"
     ]
    }
   ],
   "source": [
    "int a;\n",
    "while (a!=42)\n",
    "{\n",
    "    cin>>a;\n",
    "}"
   ]
  },
  {
   "cell_type": "code",
   "execution_count": 80,
   "metadata": {
    "scrolled": true
   },
   "outputs": [
    {
     "name": "stdout",
     "output_type": "stream",
     "text": [
      "1\n",
      "2\n",
      "34\n",
      "5\n",
      "Not satisfied"
     ]
    }
   ],
   "source": [
    "int a,b,c,d;\n",
    "cin>>a>>b>>c>>d;\n",
    "if (a>b && b>c && c>d)\n",
    "{\n",
    "    cout<<\"the Condition Satisfies\";\n",
    "}\n",
    "else\n",
    "{\n",
    "    cout<<\"Not satisfied\";\n",
    "}"
   ]
  },
  {
   "cell_type": "code",
   "execution_count": 81,
   "metadata": {},
   "outputs": [],
   "source": [
    "//ex 4.12 means i not equal to 0 or 1 where if j<k then 0 and 1 when j!<k"
   ]
  },
  {
   "cell_type": "code",
   "execution_count": 82,
   "metadata": {},
   "outputs": [
    {
     "name": "stderr",
     "output_type": "stream",
     "text": [
      "\u001b[1minput_line_113:2:10: \u001b[0m\u001b[0;1;31merror: \u001b[0m\u001b[1muse of undeclared identifier 'get_value'\u001b[0m\n",
      " int i = get_value();\n",
      "\u001b[0;1;32m         ^\n",
      "\u001b[0m\u001b[1minput_line_113:6:9: \u001b[0m\u001b[0;1;31merror: \u001b[0m\u001b[1muse of undeclared identifier 'get_value'\u001b[0m\n",
      "    i = get_value();\n",
      "\u001b[0;1;32m        ^\n",
      "\u001b[0m"
     ]
    },
    {
     "ename": "Interpreter Error",
     "evalue": "",
     "output_type": "error",
     "traceback": [
      "Interpreter Error: "
     ]
    }
   ],
   "source": [
    "int i = get_value();\n",
    "while (i != 42)\n",
    "{\n",
    "    cout<<\"42 Not allowed\";\n",
    "    i = get_value();\n",
    "}"
   ]
  },
  {
   "cell_type": "code",
   "execution_count": 83,
   "metadata": {},
   "outputs": [
    {
     "name": "stderr",
     "output_type": "stream",
     "text": [
      "\u001b[1minput_line_114:2:10: \u001b[0m\u001b[0;1;31merror: \u001b[0m\u001b[1muse of undeclared identifier 'get_value'\u001b[0m\n",
      " int i = get_value()\n",
      "\u001b[0;1;32m         ^\n",
      "\u001b[0m"
     ]
    },
    {
     "ename": "Interpreter Error",
     "evalue": "",
     "output_type": "error",
     "traceback": [
      "Interpreter Error: "
     ]
    }
   ],
   "source": [
    "int i = get_value()"
   ]
  },
  {
   "cell_type": "code",
   "execution_count": 84,
   "metadata": {},
   "outputs": [],
   "source": [
    "int sum;"
   ]
  },
  {
   "cell_type": "code",
   "execution_count": 85,
   "metadata": {},
   "outputs": [],
   "source": [
    "for (int val=0; val<=10; ++val)\n",
    "    sum += val;"
   ]
  },
  {
   "cell_type": "code",
   "execution_count": 86,
   "metadata": {},
   "outputs": [
    {
     "data": {
      "text/plain": [
       "55"
      ]
     },
     "execution_count": 86,
     "metadata": {},
     "output_type": "execute_result"
    }
   ],
   "source": [
    "sum"
   ]
  },
  {
   "cell_type": "code",
   "execution_count": 89,
   "metadata": {},
   "outputs": [
    {
     "name": "stderr",
     "output_type": "stream",
     "text": [
      "\u001b[1minput_line_121:3:6: \u001b[0m\u001b[0;1;35mwarning: \u001b[0m\u001b[1musing the result of an assignment as a condition without parentheses [-Wparentheses]\u001b[0m\n",
      "if (i=42)\n",
      "\u001b[0;1;32m    ~^~~\n",
      "\u001b[0m\u001b[1minput_line_121:3:6: \u001b[0m\u001b[0;1;30mnote: \u001b[0mplace parentheses around the assignment to silence this warning\u001b[0m\n",
      "if (i=42)\n",
      "\u001b[0;1;32m     ^\n",
      "\u001b[0m\u001b[0;32m    (   )\n",
      "\u001b[0m\u001b[1minput_line_121:3:6: \u001b[0m\u001b[0;1;30mnote: \u001b[0muse '==' to turn this assignment into an equality comparison\u001b[0m\n",
      "if (i=42)\n",
      "\u001b[0;1;32m     ^\n",
      "\u001b[0m\u001b[0;32m     ==\n",
      "\u001b[0m"
     ]
    },
    {
     "name": "stdout",
     "output_type": "stream",
     "text": [
      "tTrue"
     ]
    }
   ],
   "source": [
    "int i;\n",
    "if (i=42)\n",
    "{\n",
    "    cout<<\"tTrue\";\n",
    "}"
   ]
  },
  {
   "cell_type": "code",
   "execution_count": 106,
   "metadata": {},
   "outputs": [],
   "source": [
    "double dval; int ival; int *(pi)"
   ]
  },
  {
   "cell_type": "code",
   "execution_count": 108,
   "metadata": {},
   "outputs": [
    {
     "name": "stderr",
     "output_type": "stream",
     "text": [
      "\u001b[1minput_line_143:2:17: \u001b[0m\u001b[0;1;35mwarning: \u001b[0m\u001b[1mnull passed to a callee that requires a non-null argument [-Wnonnull]\u001b[0m\n",
      " dval = ival = *pi = 1;\n",
      "\u001b[0;1;32m                ^~\n",
      "\u001b[0m"
     ]
    },
    {
     "ename": "Interpreter Exception",
     "evalue": "",
     "output_type": "error",
     "traceback": [
      "Interpreter Exception: "
     ]
    }
   ],
   "source": [
    "dval = ival = *pi = 1;"
   ]
  },
  {
   "cell_type": "code",
   "execution_count": 110,
   "metadata": {},
   "outputs": [],
   "source": [
    "int p"
   ]
  },
  {
   "cell_type": "code",
   "execution_count": 111,
   "metadata": {},
   "outputs": [
    {
     "name": "stderr",
     "output_type": "stream",
     "text": [
      "\u001b[1minput_line_146:2:12: \u001b[0m\u001b[0;1;31merror: \u001b[0m\u001b[1muse of undeclared identifier 'getPtr'; did you mean 'getpt'?\u001b[0m\n",
      " if (p == (getPtr() != 0))\n",
      "\u001b[0;1;32m           ^~~~~~\n",
      "\u001b[0m\u001b[0;32m           getpt\n",
      "\u001b[0m\u001b[1m/home/susearc/miniconda3/envs/xeus-cling/x86_64-conda-linux-gnu/sysroot/usr/include/stdlib.h:955:12: \u001b[0m\u001b[0;1;30mnote: \u001b[0m'getpt' declared here\u001b[0m\n",
      "extern int getpt (void);\n",
      "\u001b[0;1;32m           ^\n",
      "\u001b[0m\u001b[1minput_line_146:4:18: \u001b[0m\u001b[0;1;31merror: \u001b[0m\u001b[1mexpected ';' after expression\u001b[0m\n",
      "    cout<<\"Hello\"\n",
      "\u001b[0;1;32m                 ^\n",
      "\u001b[0m\u001b[0;32m                 ;\n",
      "\u001b[0m"
     ]
    },
    {
     "ename": "Interpreter Error",
     "evalue": "",
     "output_type": "error",
     "traceback": [
      "Interpreter Error: "
     ]
    }
   ],
   "source": [
    "if (p == (getPtr() != 0))\n",
    "{\n",
    "    cout<<\"Hello\"\n",
    "}"
   ]
  },
  {
   "cell_type": "code",
   "execution_count": 118,
   "metadata": {},
   "outputs": [],
   "source": [
    "int i,j;"
   ]
  },
  {
   "cell_type": "code",
   "execution_count": 122,
   "metadata": {},
   "outputs": [],
   "source": [
    "//j = ++i;\n",
    "j = i++;"
   ]
  },
  {
   "cell_type": "code",
   "execution_count": 123,
   "metadata": {},
   "outputs": [
    {
     "data": {
      "text/plain": [
       "1"
      ]
     },
     "execution_count": 123,
     "metadata": {},
     "output_type": "execute_result"
    }
   ],
   "source": [
    "j"
   ]
  },
  {
   "cell_type": "code",
   "execution_count": 124,
   "metadata": {},
   "outputs": [
    {
     "data": {
      "text/plain": [
       "2"
      ]
     },
     "execution_count": 124,
     "metadata": {},
     "output_type": "execute_result"
    }
   ],
   "source": [
    "i"
   ]
  },
  {
   "cell_type": "markdown",
   "metadata": {},
   "source": [
    "Combingin Dereference and Increment in a Single Expression"
   ]
  },
  {
   "cell_type": "code",
   "execution_count": 134,
   "metadata": {},
   "outputs": [],
   "source": [
    "vector <int> v = {-11,2,3,4,5}"
   ]
  },
  {
   "cell_type": "code",
   "execution_count": 146,
   "metadata": {
    "scrolled": true
   },
   "outputs": [],
   "source": [
    "auto pbeg = v.begin();\n"
   ]
  },
  {
   "cell_type": "code",
   "execution_count": 150,
   "metadata": {},
   "outputs": [
    {
     "name": "stderr",
     "output_type": "stream",
     "text": [
      "\u001b[1minput_line_194:3:13: \u001b[0m\u001b[0;1;31merror: \u001b[0m\u001b[1mindirection requires pointer operand ('__gnu_cxx::__normal_iterator<int *, std::vector<int, std::allocator<int> > >' invalid)\u001b[0m\n",
      "    cout << *pbeg <<endl;\n",
      "\u001b[0;1;32m            ^~~~~\n",
      "\u001b[0m"
     ]
    },
    {
     "ename": "Interpreter Error",
     "evalue": "",
     "output_type": "error",
     "traceback": [
      "Interpreter Error: "
     ]
    }
   ],
   "source": [
    "while (pbeg != v.end())\n",
    "    cout << *pbeg <<endl;"
   ]
  },
  {
   "cell_type": "code",
   "execution_count": 142,
   "metadata": {},
   "outputs": [
    {
     "data": {
      "text/plain": [
       "@0x7ffecb81c008"
      ]
     },
     "execution_count": 142,
     "metadata": {},
     "output_type": "execute_result"
    }
   ],
   "source": [
    "&pbeg"
   ]
  },
  {
   "cell_type": "code",
   "execution_count": 158,
   "metadata": {},
   "outputs": [],
   "source": [
    "\n",
    "int *ptr = &ival"
   ]
  },
  {
   "cell_type": "code",
   "execution_count": 164,
   "metadata": {},
   "outputs": [],
   "source": [
    "vector <int> vec {1,2,3,4,5,6,7}"
   ]
  },
  {
   "cell_type": "code",
   "execution_count": 156,
   "metadata": {},
   "outputs": [],
   "source": [
    "int ival = 9"
   ]
  },
  {
   "cell_type": "code",
   "execution_count": 159,
   "metadata": {},
   "outputs": [
    {
     "data": {
      "text/plain": [
       "true"
      ]
     },
     "execution_count": 159,
     "metadata": {},
     "output_type": "execute_result"
    }
   ],
   "source": [
    "ptr !=0 && *ptr++"
   ]
  },
  {
   "cell_type": "code",
   "execution_count": 161,
   "metadata": {},
   "outputs": [
    {
     "data": {
      "text/plain": [
       "0"
      ]
     },
     "execution_count": 161,
     "metadata": {},
     "output_type": "execute_result"
    }
   ],
   "source": [
    "*ptr"
   ]
  },
  {
   "cell_type": "code",
   "execution_count": 165,
   "metadata": {},
   "outputs": [
    {
     "data": {
      "text/plain": [
       "10"
      ]
     },
     "execution_count": 165,
     "metadata": {},
     "output_type": "execute_result"
    }
   ],
   "source": [
    "ival++"
   ]
  },
  {
   "cell_type": "code",
   "execution_count": 169,
   "metadata": {},
   "outputs": [
    {
     "name": "stderr",
     "output_type": "stream",
     "text": [
      "\u001b[1minput_line_223:2:10: \u001b[0m\u001b[0;1;35mwarning: \u001b[0m\u001b[1munsequenced modification and access to 'ival' [-Wunsequenced]\u001b[0m\n",
      " vec[ival++] <= vec[ival]\n",
      "\u001b[0;1;32m         ^          ~~~~\n",
      "\u001b[0m"
     ]
    },
    {
     "data": {
      "text/plain": [
       "false"
      ]
     },
     "execution_count": 169,
     "metadata": {},
     "output_type": "execute_result"
    }
   ],
   "source": [
    "vec[ival++] <= vec[ival]"
   ]
  },
  {
   "cell_type": "markdown",
   "metadata": {},
   "source": [
    "The Member Access Operators"
   ]
  },
  {
   "cell_type": "code",
   "execution_count": 170,
   "metadata": {},
   "outputs": [],
   "source": [
    "string s1 = \"a string\""
   ]
  },
  {
   "cell_type": "code",
   "execution_count": 172,
   "metadata": {},
   "outputs": [],
   "source": [
    "string *p1 = &s1;"
   ]
  },
  {
   "cell_type": "code",
   "execution_count": 173,
   "metadata": {},
   "outputs": [],
   "source": [
    "auto n  = s1.size();"
   ]
  },
  {
   "cell_type": "code",
   "execution_count": 174,
   "metadata": {},
   "outputs": [
    {
     "data": {
      "text/plain": [
       "8"
      ]
     },
     "execution_count": 174,
     "metadata": {},
     "output_type": "execute_result"
    }
   ],
   "source": [
    "n\n"
   ]
  },
  {
   "cell_type": "code",
   "execution_count": 177,
   "metadata": {},
   "outputs": [
    {
     "data": {
      "text/plain": [
       "8"
      ]
     },
     "execution_count": 177,
     "metadata": {},
     "output_type": "execute_result"
    }
   ],
   "source": [
    "n = (*p1).size()"
   ]
  },
  {
   "cell_type": "code",
   "execution_count": 180,
   "metadata": {
    "scrolled": true
   },
   "outputs": [
    {
     "name": "stderr",
     "output_type": "stream",
     "text": [
      "\u001b[1minput_line_237:2:5: \u001b[0m\u001b[0;1;31merror: \u001b[0m\u001b[1mmember reference type 'std::string *' (aka 'basic_string<char> *') is a pointer; did you mean to use '->'?\u001b[0m\n",
      " *p1.size()\n",
      "\u001b[0;1;32m  ~~^\n",
      "\u001b[0m\u001b[0;32m    ->\n",
      "\u001b[0m\u001b[1minput_line_237:2:2: \u001b[0m\u001b[0;1;31merror: \u001b[0m\u001b[1mindirection requires pointer operand ('std::__cxx11::basic_string<char, std::char_traits<char>, std::allocator<char> >::size_type' (aka 'unsigned long') invalid)\u001b[0m\n",
      " *p1.size()\n",
      "\u001b[0;1;32m ^~~~~~~~~~\n",
      "\u001b[0m"
     ]
    },
    {
     "ename": "Interpreter Error",
     "evalue": "",
     "output_type": "error",
     "traceback": [
      "Interpreter Error: "
     ]
    }
   ],
   "source": [
    "*p1.size()"
   ]
  },
  {
   "cell_type": "code",
   "execution_count": 186,
   "metadata": {},
   "outputs": [
    {
     "name": "stderr",
     "output_type": "stream",
     "text": [
      "\u001b[1minput_line_243:2:2: \u001b[0m\u001b[0;1;35mwarning: \u001b[0m\u001b[1mdeclaration does not declare anything [-Wmissing-declarations]\u001b[0m\n",
      " vector<string>::iterator\n",
      "\u001b[0;1;32m ^~~~~~~~~~~~~~~~~~~~~~~~\n",
      "\u001b[0m"
     ]
    }
   ],
   "source": [
    "vector<string>::iterator"
   ]
  },
  {
   "cell_type": "code",
   "execution_count": 183,
   "metadata": {},
   "outputs": [
    {
     "name": "stderr",
     "output_type": "stream",
     "text": [
      "\u001b[1minput_line_240:2:2: \u001b[0m\u001b[0;1;31merror: \u001b[0m\u001b[1mC++ requires a type specifier for all declarations\u001b[0m\n",
      " iterator\n",
      "\u001b[0;1;32m ^\n",
      "\u001b[0m"
     ]
    },
    {
     "ename": "Interpreter Error",
     "evalue": "",
     "output_type": "error",
     "traceback": [
      "Interpreter Error: "
     ]
    }
   ],
   "source": [
    "iterator"
   ]
  },
  {
   "cell_type": "code",
   "execution_count": 187,
   "metadata": {},
   "outputs": [
    {
     "data": {
      "text/plain": [
       "{ 1, 2, 3, 4, 5, 6, 7 }"
      ]
     },
     "execution_count": 187,
     "metadata": {},
     "output_type": "execute_result"
    }
   ],
   "source": [
    "vec"
   ]
  },
  {
   "cell_type": "code",
   "execution_count": 199,
   "metadata": {},
   "outputs": [],
   "source": [
    "vector <string> st"
   ]
  },
  {
   "cell_type": "code",
   "execution_count": 211,
   "metadata": {},
   "outputs": [],
   "source": [
    "st.push_back(\"helloab\")"
   ]
  },
  {
   "cell_type": "code",
   "execution_count": 212,
   "metadata": {},
   "outputs": [],
   "source": [
    "st.push_back(\"worldab\")"
   ]
  },
  {
   "cell_type": "code",
   "execution_count": 213,
   "metadata": {},
   "outputs": [
    {
     "data": {
      "text/plain": [
       "{ \"hello\", \"world\", \"helloa\", \"worlda\", \"helloab\", \"worldab\" }"
      ]
     },
     "execution_count": 213,
     "metadata": {},
     "output_type": "execute_result"
    }
   ],
   "source": [
    "st"
   ]
  },
  {
   "cell_type": "code",
   "execution_count": 214,
   "metadata": {},
   "outputs": [],
   "source": [
    "vector<string>::iterator iter"
   ]
  },
  {
   "cell_type": "code",
   "execution_count": 215,
   "metadata": {},
   "outputs": [
    {
     "data": {
      "text/plain": [
       "@0x7effc0c372b8"
      ]
     },
     "execution_count": 215,
     "metadata": {},
     "output_type": "execute_result"
    }
   ],
   "source": [
    "iter\n"
   ]
  },
  {
   "cell_type": "code",
   "execution_count": 216,
   "metadata": {},
   "outputs": [
    {
     "data": {
      "text/plain": [
       "@0x7effc0c372b8"
      ]
     },
     "execution_count": 216,
     "metadata": {},
     "output_type": "execute_result"
    }
   ],
   "source": [
    "iter=st.begin()"
   ]
  },
  {
   "cell_type": "code",
   "execution_count": 217,
   "metadata": {},
   "outputs": [
    {
     "data": {
      "text/plain": [
       "@0x7effc0c372b8"
      ]
     },
     "execution_count": 217,
     "metadata": {},
     "output_type": "execute_result"
    }
   ],
   "source": [
    "iter"
   ]
  },
  {
   "cell_type": "code",
   "execution_count": 219,
   "metadata": {},
   "outputs": [
    {
     "data": {
      "text/plain": [
       "\"hello\""
      ]
     },
     "execution_count": 219,
     "metadata": {},
     "output_type": "execute_result"
    }
   ],
   "source": [
    "*iter++"
   ]
  },
  {
   "cell_type": "code",
   "execution_count": 220,
   "metadata": {},
   "outputs": [
    {
     "data": {
      "text/plain": [
       "\"world\""
      ]
     },
     "execution_count": 220,
     "metadata": {},
     "output_type": "execute_result"
    }
   ],
   "source": [
    "*iter"
   ]
  },
  {
   "cell_type": "code",
   "execution_count": 221,
   "metadata": {},
   "outputs": [
    {
     "name": "stderr",
     "output_type": "stream",
     "text": [
      "\u001b[1minput_line_293:2:9: \u001b[0m\u001b[0;1;31merror: \u001b[0m\u001b[1mcannot increment value of type 'std::__cxx11::basic_string<char>'\u001b[0m\n",
      " (*iter)++\n",
      "\u001b[0;1;32m ~~~~~~~^\n",
      "\u001b[0m"
     ]
    },
    {
     "ename": "Interpreter Error",
     "evalue": "",
     "output_type": "error",
     "traceback": [
      "Interpreter Error: "
     ]
    }
   ],
   "source": [
    "//(*iter)++ illegal because value cannot be incremented"
   ]
  },
  {
   "cell_type": "code",
   "execution_count": 229,
   "metadata": {},
   "outputs": [],
   "source": [
    "st.push_back(\" \")"
   ]
  },
  {
   "cell_type": "code",
   "execution_count": 230,
   "metadata": {},
   "outputs": [
    {
     "data": {
      "text/plain": [
       "{ \"hello\", \"world\", \"helloa\", \"worlda\", \"helloab\", \"worldab\", \" \" }"
      ]
     },
     "execution_count": 230,
     "metadata": {},
     "output_type": "execute_result"
    }
   ],
   "source": [
    "st"
   ]
  },
  {
   "cell_type": "code",
   "execution_count": 234,
   "metadata": {},
   "outputs": [
    {
     "data": {
      "text/plain": [
       "false"
      ]
     },
     "execution_count": 234,
     "metadata": {},
     "output_type": "execute_result"
    }
   ],
   "source": [
    "(*iter).empty()"
   ]
  },
  {
   "cell_type": "code",
   "execution_count": 236,
   "metadata": {},
   "outputs": [
    {
     "name": "stderr",
     "output_type": "stream",
     "text": [
      "\u001b[1minput_line_312:2:8: \u001b[0m\u001b[0;1;31merror: \u001b[0m\u001b[1mmember reference type '__gnu_cxx::__normal_iterator<std::__cxx11::basic_string<char> *, std::vector<std::__cxx11::basic_string<char>, std::allocator<std::__cxx11::basic_string<char> > > >' is not a pointer; did you mean to use '.'?\u001b[0m\n",
      " iter++->empty()\n",
      "\u001b[0;1;32m ~~~~~~^~\n",
      "\u001b[0m\u001b[0;32m       .\n",
      "\u001b[0m\u001b[1minput_line_312:2:10: \u001b[0m\u001b[0;1;31merror: \u001b[0m\u001b[1mno member named 'empty' in '__gnu_cxx::__normal_iterator<std::__cxx11::basic_string<char> *, std::vector<std::__cxx11::basic_string<char>, std::allocator<std::__cxx11::basic_string<char> > > >'\u001b[0m\n",
      " iter++->empty()\n",
      "\u001b[0;1;32m ~~~~~~  ^\n",
      "\u001b[0m"
     ]
    },
    {
     "ename": "Interpreter Error",
     "evalue": "",
     "output_type": "error",
     "traceback": [
      "Interpreter Error: "
     ]
    }
   ],
   "source": [
    "iter++->empty()"
   ]
  },
  {
   "cell_type": "code",
   "execution_count": 237,
   "metadata": {},
   "outputs": [
    {
     "data": {
      "text/plain": [
       "@0x55d466706a40"
      ]
     },
     "execution_count": 237,
     "metadata": {},
     "output_type": "execute_result"
    }
   ],
   "source": [
    "iter++"
   ]
  },
  {
   "cell_type": "code",
   "execution_count": 240,
   "metadata": {},
   "outputs": [
    {
     "data": {
      "text/plain": [
       "\"helloa\""
      ]
     },
     "execution_count": 240,
     "metadata": {},
     "output_type": "execute_result"
    }
   ],
   "source": [
    "*iter++"
   ]
  },
  {
   "cell_type": "code",
   "execution_count": 241,
   "metadata": {},
   "outputs": [
    {
     "data": {
      "text/plain": [
       "\"worlda\""
      ]
     },
     "execution_count": 241,
     "metadata": {},
     "output_type": "execute_result"
    }
   ],
   "source": [
    "*iter"
   ]
  },
  {
   "cell_type": "code",
   "execution_count": 244,
   "metadata": {},
   "outputs": [
    {
     "data": {
      "text/plain": [
       "@0x7effc0c372b8"
      ]
     },
     "execution_count": 244,
     "metadata": {},
     "output_type": "execute_result"
    }
   ],
   "source": [
    "++iter"
   ]
  },
  {
   "cell_type": "code",
   "execution_count": 247,
   "metadata": {},
   "outputs": [
    {
     "data": {
      "text/plain": [
       "\"helloab\""
      ]
     },
     "execution_count": 247,
     "metadata": {},
     "output_type": "execute_result"
    }
   ],
   "source": [
    "*iter++"
   ]
  },
  {
   "cell_type": "code",
   "execution_count": 255,
   "metadata": {},
   "outputs": [
    {
     "data": {
      "text/plain": [
       "false"
      ]
     },
     "execution_count": 255,
     "metadata": {},
     "output_type": "execute_result"
    }
   ],
   "source": [
    "(*iter).empty()"
   ]
  },
  {
   "cell_type": "code",
   "execution_count": 257,
   "metadata": {},
   "outputs": [
    {
     "name": "stderr",
     "output_type": "stream",
     "text": [
      "\u001b[1minput_line_346:2:2: \u001b[0m\u001b[0;1;31merror: \u001b[0m\u001b[1mno matching function for call to 'isblank'\u001b[0m\n",
      " isblank(*iter)\n",
      "\u001b[0;1;32m ^~~~~~~\n",
      "\u001b[0m\u001b[1m/home/susearc/miniconda3/envs/xeus-cling/x86_64-conda-linux-gnu/sysroot/usr/include/ctype.h:128:12: \u001b[0m\u001b[0;1;30mnote: \u001b[0mcandidate function not viable: no known conversion from 'std::__cxx11::basic_string<char>' to 'int' for 1st argument\u001b[0m\n",
      "__exctype (isblank);\n",
      "\u001b[0;1;32m           ^\n",
      "\u001b[0m\u001b[1m/home/susearc/miniconda3/envs/xeus-cling/x86_64-conda-linux-gnu/sysroot/usr/include/ctype.h:94:36: \u001b[0m\u001b[0;1;30mnote: \u001b[0mexpanded from macro '__exctype'\u001b[0m\n",
      "#define __exctype(name) extern int name (int) __THROW\n",
      "\u001b[0;1;32m                                   ^\n",
      "\u001b[0m\u001b[1m/home/susearc/miniconda3/envs/xeus-cling/bin/../lib/gcc/../../x86_64-conda-linux-gnu/include/c++/12.2.0/bits/locale_facets.h:2668:5: \u001b[0m\u001b[0;1;30mnote: \u001b[0mcandidate function template not viable: requires 2 arguments, but 1 was provided\u001b[0m\n",
      "    isblank(_CharT __c, const locale& __loc)\n",
      "\u001b[0;1;32m    ^\n",
      "\u001b[0m"
     ]
    },
    {
     "ename": "Interpreter Error",
     "evalue": "",
     "output_type": "error",
     "traceback": [
      "Interpreter Error: "
     ]
    }
   ],
   "source": [
    "isblank(*iter)"
   ]
  },
  {
   "cell_type": "code",
   "execution_count": 258,
   "metadata": {},
   "outputs": [
    {
     "data": {
      "text/plain": [
       "\" \""
      ]
     },
     "execution_count": 258,
     "metadata": {},
     "output_type": "execute_result"
    }
   ],
   "source": [
    "*iter"
   ]
  },
  {
   "cell_type": "markdown",
   "metadata": {},
   "source": [
    "Conditionals and Nested Conditionals"
   ]
  },
  {
   "cell_type": "code",
   "execution_count": 6,
   "metadata": {},
   "outputs": [],
   "source": [
    "double grade {90};\n",
    "string finalgrade;"
   ]
  },
  {
   "cell_type": "code",
   "execution_count": 8,
   "metadata": {},
   "outputs": [
    {
     "data": {
      "text/plain": [
       "\"High Pass\""
      ]
     },
     "execution_count": 8,
     "metadata": {},
     "output_type": "execute_result"
    }
   ],
   "source": [
    "finalgrade = (grade>=90)? \"High Pass\"\n",
    "    :(grade<60) ? \"fail\" : \"pass\""
   ]
  },
  {
   "cell_type": "code",
   "execution_count": 9,
   "metadata": {},
   "outputs": [
    {
     "name": "stdout",
     "output_type": "stream",
     "text": [
      "pass"
     ]
    },
    {
     "data": {
      "text/plain": [
       "@0x7f9ac25fdb60"
      ]
     },
     "execution_count": 9,
     "metadata": {},
     "output_type": "execute_result"
    }
   ],
   "source": [
    "cout << ((grade < 60) ? \"fail\":\"pass\")"
   ]
  },
  {
   "cell_type": "code",
   "execution_count": 10,
   "metadata": {},
   "outputs": [
    {
     "name": "stderr",
     "output_type": "stream",
     "text": [
      "\u001b[1minput_line_23:2:23: \u001b[0m\u001b[0;1;35mwarning: \u001b[0m\u001b[1moperator '?:' has lower precedence than '<<'; '<<' will be evaluated first [-Wparentheses]\u001b[0m\n",
      " cout << (grade < 60) ? \"fail\" : \"pass\"\n",
      "\u001b[0;1;32m ~~~~~~~~~~~~~~~~~~~~ ^\n",
      "\u001b[0m\u001b[1minput_line_23:2:23: \u001b[0m\u001b[0;1;30mnote: \u001b[0mplace parentheses around the '<<' expression to silence this warning\u001b[0m\n",
      " cout << (grade < 60) ? \"fail\" : \"pass\"\n",
      "\u001b[0;1;32m                      ^\n",
      "\u001b[0m\u001b[0;32m (                   )\n",
      "\u001b[0m\u001b[1minput_line_23:2:23: \u001b[0m\u001b[0;1;30mnote: \u001b[0mplace parentheses around the '?:' expression to evaluate it first\u001b[0m\n",
      " cout << (grade < 60) ? \"fail\" : \"pass\"\n",
      "\u001b[0;1;32m                      ^\n",
      "\u001b[0m\u001b[0;32m         (                             )\n",
      "\u001b[0m"
     ]
    },
    {
     "name": "stdout",
     "output_type": "stream",
     "text": [
      "0"
     ]
    },
    {
     "data": {
      "text/plain": [
       "\"fail\""
      ]
     },
     "execution_count": 10,
     "metadata": {},
     "output_type": "execute_result"
    }
   ],
   "source": [
    "cout << (grade < 60) ? \"fail\" : \"pass\""
   ]
  },
  {
   "cell_type": "code",
   "execution_count": 12,
   "metadata": {},
   "outputs": [],
   "source": [
    "//ex section 4.7\n",
    "\n",
    "//ex 4.21\n",
    "\n",
    "vector <int> vec {1,3,534,5345,6,234}"
   ]
  },
  {
   "cell_type": "code",
   "execution_count": 13,
   "metadata": {},
   "outputs": [],
   "source": [
    "vector <int>::iterator i;"
   ]
  },
  {
   "cell_type": "code",
   "execution_count": 20,
   "metadata": {},
   "outputs": [
    {
     "name": "stderr",
     "output_type": "stream",
     "text": [
      "\u001b[1minput_line_34:2:15: \u001b[0m\u001b[0;1;31merror: \u001b[0m\u001b[1mno member named 'begin' in 'std::vector<int, std::allocator<int> >'\u001b[0m\n",
      " for (i = vec.begin();i!=vec.end();++i)\n",
      "\u001b[0;1;32m          ~~~ ^\n",
      "\u001b[0m\u001b[1minput_line_34:2:30: \u001b[0m\u001b[0;1;31merror: \u001b[0m\u001b[1mno member named 'end' in 'std::vector<int, std::allocator<int> >'\u001b[0m\n",
      " for (i = vec.begin();i!=vec.end();++i)\n",
      "\u001b[0;1;32m                         ~~~ ^\n",
      "\u001b[0m\u001b[1minput_line_34:2:36: \u001b[0m\u001b[0;1;31merror: \u001b[0m\u001b[1mcannot increment value of type 'vector<int>::iterator' (aka '__normal_iterator<int *, std::vector<int, std::allocator<int> > >')\u001b[0m\n",
      " for (i = vec.begin();i!=vec.end();++i)\n",
      "\u001b[0;1;32m                                   ^ ~\n",
      "\u001b[0m\u001b[1minput_line_34:4:13: \u001b[0m\u001b[0;1;31merror: \u001b[0m\u001b[1mindirection requires pointer operand ('vector<int>::iterator' (aka '__normal_iterator<int *, std::vector<int, std::allocator<int> > >') invalid)\u001b[0m\n",
      "    cout<<((*i%2==0) ? \"even\":\"odd\");\n",
      "\u001b[0;1;32m            ^~\n",
      "\u001b[0mIn file included from input_line_5:1:\n",
      "In file included from /home/susearc/miniconda3/envs/xeus-cling/include/xeus/xinterpreter.hpp:15:\n",
      "In file included from /home/susearc/miniconda3/envs/xeus-cling/bin/../lib/gcc/../../x86_64-conda-linux-gnu/include/c++/12.2.0/vector:64:\n",
      "\u001b[1m/home/susearc/miniconda3/envs/xeus-cling/bin/../lib/gcc/../../x86_64-conda-linux-gnu/include/c++/12.2.0/bits/stl_vector.h:960:16: \u001b[0m\u001b[0;1;31merror: \u001b[0m\u001b[1mcannot convert 'const std::_Vector_base<int, std::allocator<int> >::pointer' (aka 'int *const') to 'std::vector<int, std::allocator<int> >::const_iterator' (aka '__normal_iterator<const int *, std::vector<int, std::allocator<int> > >') without a conversion operator\u001b[0m\n",
      "      { return const_iterator(this->_M_impl._M_finish); }\n",
      "\u001b[0;1;32m               ^~~~~~~~~~~~~~~~~~~~~~~~~~~~~~~~~~~~~~\n",
      "\u001b[0m\u001b[1minput_line_34:2:30: \u001b[0m\u001b[0;1;30mnote: \u001b[0min instantiation of member function 'std::vector<int, std::allocator<int> >::cend' requested here\u001b[0m\n",
      " for (i = vec.begin();i!=vec.end();++i)\n",
      "\u001b[0;1;32m                             ^\n",
      "\u001b[0m"
     ]
    },
    {
     "ename": "Interpreter Error",
     "evalue": "",
     "output_type": "error",
     "traceback": [
      "Interpreter Error: "
     ]
    }
   ],
   "source": [
    "for (i = vec.begin();i!=vec.end();++i)\n",
    "{\n",
    "    cout<<((*i%2==0) ? \"even\":\"odd\");\n",
    "}"
   ]
  },
  {
   "cell_type": "code",
   "execution_count": 17,
   "metadata": {},
   "outputs": [
    {
     "name": "stderr",
     "output_type": "stream",
     "text": [
      "In file included from input_line_5:1:\n",
      "In file included from /home/susearc/miniconda3/envs/xeus-cling/include/xeus/xinterpreter.hpp:14:\n",
      "In file included from /home/susearc/miniconda3/envs/xeus-cling/bin/../lib/gcc/../../x86_64-conda-linux-gnu/include/c++/12.2.0/string:47:\n",
      "\u001b[1m/home/susearc/miniconda3/envs/xeus-cling/bin/../lib/gcc/../../x86_64-conda-linux-gnu/include/c++/12.2.0/bits/stl_iterator.h:133:60: \u001b[0m\u001b[0;1;31merror: \u001b[0m\u001b[1mno type named 'iterator_category' in 'std::iterator_traits<__gnu_cxx::__normal_iterator<const int *, std::vector<int, std::allocator<int> > > >'\u001b[0m\n",
      "    : public iterator<typename iterator_traits<_Iterator>::iterator_category,\n",
      "\u001b[0;1;32m                      ~~~~~~~~~~~~~~~~~~~~~~~~~~~~~~~~~~~~~^~~~~~~~~~~~~~~~~\n",
      "\u001b[0m\u001b[1minput_line_31:2:6: \u001b[0m\u001b[0;1;30mnote: \u001b[0min instantiation of template class 'std::reverse_iterator<__gnu_cxx::__normal_iterator<const int *, std::vector<int, std::allocator<int> > > >' requested here\u001b[0m\n",
      " vec.begin()\n",
      "\u001b[0;1;32m     ^\n",
      "\u001b[0mIn file included from input_line_5:1:\n",
      "In file included from /home/susearc/miniconda3/envs/xeus-cling/include/xeus/xinterpreter.hpp:14:\n",
      "In file included from /home/susearc/miniconda3/envs/xeus-cling/bin/../lib/gcc/../../x86_64-conda-linux-gnu/include/c++/12.2.0/string:47:\n",
      "\u001b[1m/home/susearc/miniconda3/envs/xeus-cling/bin/../lib/gcc/../../x86_64-conda-linux-gnu/include/c++/12.2.0/bits/stl_iterator.h:157:39: \u001b[0m\u001b[0;1;31merror: \u001b[0m\u001b[1mno type named 'pointer' in 'std::iterator_traits<__gnu_cxx::__normal_iterator<const int *, std::vector<int, std::allocator<int> > > >'\u001b[0m\n",
      "      typedef typename __traits_type::pointer           pointer;\n",
      "\u001b[0;1;32m              ~~~~~~~~~~~~~~~~~~~~~~~~^~~~~~~\n",
      "\u001b[0m\u001b[1m/home/susearc/miniconda3/envs/xeus-cling/bin/../lib/gcc/../../x86_64-conda-linux-gnu/include/c++/12.2.0/bits/stl_iterator.h:159:39: \u001b[0m\u001b[0;1;31merror: \u001b[0m\u001b[1mno type named 'difference_type' in 'std::iterator_traits<__gnu_cxx::__normal_iterator<const int *, std::vector<int, std::allocator<int> > > >'\u001b[0m\n",
      "      typedef typename __traits_type::difference_type   difference_type;\n",
      "\u001b[0;1;32m              ~~~~~~~~~~~~~~~~~~~~~~~~^~~~~~~~~~~~~~~\n",
      "\u001b[0m\u001b[1m/home/susearc/miniconda3/envs/xeus-cling/bin/../lib/gcc/../../x86_64-conda-linux-gnu/include/c++/12.2.0/bits/stl_iterator.h:160:39: \u001b[0m\u001b[0;1;31merror: \u001b[0m\u001b[1mno type named 'reference' in 'std::iterator_traits<__gnu_cxx::__normal_iterator<const int *, std::vector<int, std::allocator<int> > > >'\u001b[0m\n",
      "      typedef typename __traits_type::reference         reference;\n",
      "\u001b[0;1;32m              ~~~~~~~~~~~~~~~~~~~~~~~~^~~~~~~~~\n",
      "\u001b[0m\u001b[1minput_line_31:2:6: \u001b[0m\u001b[0;1;31merror: \u001b[0m\u001b[1mno member named 'begin' in 'std::vector<int, std::allocator<int> >'\u001b[0m\n",
      " vec.begin()\n",
      "\u001b[0;1;32m ~~~ ^\n",
      "\u001b[0m"
     ]
    },
    {
     "ename": "Interpreter Error",
     "evalue": "",
     "output_type": "error",
     "traceback": [
      "Interpreter Error: "
     ]
    }
   ],
   "source": [
    "vec.begin()"
   ]
  },
  {
   "cell_type": "code",
   "execution_count": 19,
   "metadata": {},
   "outputs": [
    {
     "name": "stderr",
     "output_type": "stream",
     "text": [
      "\u001b[1minput_line_33:2:2: \u001b[0m\u001b[0;1;31merror: \u001b[0m\u001b[1mno matching function for call to 'begin'\u001b[0m\n",
      " begin(vec)\n",
      "\u001b[0;1;32m ^~~~~\n",
      "\u001b[0m\u001b[1m/home/susearc/miniconda3/envs/xeus-cling/bin/../lib/gcc/../../x86_64-conda-linux-gnu/include/c++/12.2.0/initializer_list:90:5: \u001b[0m\u001b[0;1;30mnote: \u001b[0mcandidate template ignored: could not match 'initializer_list' against 'vector'\u001b[0m\n",
      "    begin(initializer_list<_Tp> __ils) noexcept\n",
      "\u001b[0;1;32m    ^\n",
      "\u001b[0m\u001b[1m/home/susearc/miniconda3/envs/xeus-cling/bin/../lib/gcc/../../x86_64-conda-linux-gnu/include/c++/12.2.0/bits/range_access.h:52:5: \u001b[0m\u001b[0;1;30mnote: \u001b[0mcandidate template ignored: substitution failure [with _Container = std::vector<int, std::allocator<int> >]: no member named 'begin' in 'std::vector<int, std::allocator<int> >'\u001b[0m\n",
      "    begin(_Container& __cont) -> decltype(__cont.begin())\n",
      "\u001b[0;1;32m    ^                                            ~~~~~\n",
      "\u001b[0m\u001b[1m/home/susearc/miniconda3/envs/xeus-cling/bin/../lib/gcc/../../x86_64-conda-linux-gnu/include/c++/12.2.0/bits/range_access.h:63:5: \u001b[0m\u001b[0;1;30mnote: \u001b[0mcandidate template ignored: substitution failure [with _Container = std::vector<int, std::allocator<int> >]: no member named 'begin' in 'std::vector<int, std::allocator<int> >'\u001b[0m\n",
      "    begin(const _Container& __cont) -> decltype(__cont.begin())\n",
      "\u001b[0;1;32m    ^                                                  ~~~~~\n",
      "\u001b[0m\u001b[1m/home/susearc/miniconda3/envs/xeus-cling/bin/../lib/gcc/../../x86_64-conda-linux-gnu/include/c++/12.2.0/bits/range_access.h:95:5: \u001b[0m\u001b[0;1;30mnote: \u001b[0mcandidate template ignored: could not match '_Tp [_Nm]' against 'vector<int>'\u001b[0m\n",
      "    begin(_Tp (&__arr)[_Nm]) noexcept\n",
      "\u001b[0;1;32m    ^\n",
      "\u001b[0m\u001b[1m/home/susearc/miniconda3/envs/xeus-cling/bin/../lib/gcc/../../x86_64-conda-linux-gnu/include/c++/12.2.0/valarray:1215:5: \u001b[0m\u001b[0;1;30mnote: \u001b[0mcandidate template ignored: could not match 'valarray' against 'vector'\u001b[0m\n",
      "    begin(valarray<_Tp>& __va) noexcept\n",
      "\u001b[0;1;32m    ^\n",
      "\u001b[0m\u001b[1m/home/susearc/miniconda3/envs/xeus-cling/bin/../lib/gcc/../../x86_64-conda-linux-gnu/include/c++/12.2.0/valarray:1226:5: \u001b[0m\u001b[0;1;30mnote: \u001b[0mcandidate template ignored: could not match 'valarray' against 'vector'\u001b[0m\n",
      "    begin(const valarray<_Tp>& __va) noexcept\n",
      "\u001b[0;1;32m    ^\n",
      "\u001b[0m"
     ]
    },
    {
     "ename": "Interpreter Error",
     "evalue": "",
     "output_type": "error",
     "traceback": [
      "Interpreter Error: "
     ]
    }
   ],
   "source": [
    "begin(vec)"
   ]
  },
  {
   "cell_type": "code",
   "execution_count": null,
   "metadata": {},
   "outputs": [],
   "source": []
  }
 ],
 "metadata": {
  "kernelspec": {
   "display_name": "C++11 [conda env:xeus-cling]",
   "language": "C++11",
   "name": "conda-env-xeus-cling-xcpp11"
  },
  "language_info": {
   "codemirror_mode": "text/x-c++src",
   "file_extension": ".cpp",
   "mimetype": "text/x-c++src",
   "name": "c++",
   "version": "11"
  },
  "vscode": {
   "interpreter": {
    "hash": "f1d1fc19b365f9ad1716256121e630045ec3968373de9ab098681291a9c3ca4f"
   }
  }
 },
 "nbformat": 4,
 "nbformat_minor": 2
}
