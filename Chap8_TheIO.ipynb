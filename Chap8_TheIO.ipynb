{
 "cells": [
  {
   "cell_type": "code",
   "execution_count": 1,
   "metadata": {},
   "outputs": [],
   "source": [
    "#include <iostream>\n",
    "#include <fstream>\n",
    "using namespace std;"
   ]
  },
  {
   "cell_type": "code",
   "execution_count": null,
   "metadata": {},
   "outputs": [],
   "source": [
    "istream& readStream(istream& is)\n",
    "{\n",
    "    char c;\n",
    "    while(is.get(c))\n",
    "    {\n",
    "        cout<<c;\n",
    "    }\n",
    "    is.clear();\n",
    "    return is;\n",
    "}"
   ]
  },
  {
   "cell_type": "code",
   "execution_count": null,
   "metadata": {},
   "outputs": [],
   "source": [
    "readStream(cin)"
   ]
  },
  {
   "cell_type": "code",
   "execution_count": null,
   "metadata": {},
   "outputs": [],
   "source": [
    "cout << \"isteream\"<<flush; //adds a new line and then flushes the buffer.\n",
    "cout<<\"istream\"<<ends; // writes hi and a null and flushes the buffer; adds no data.\n",
    "cout<<\"istream\"<<endl; // writes hi and readlines and flushes the buffer."
   ]
  },
  {
   "cell_type": "code",
   "execution_count": null,
   "metadata": {},
   "outputs": [],
   "source": [
    "cout<<unitbuf"
   ]
  },
  {
   "cell_type": "code",
   "execution_count": null,
   "metadata": {},
   "outputs": [],
   "source": [
    "cout<<\"hello\""
   ]
  },
  {
   "cell_type": "code",
   "execution_count": null,
   "metadata": {},
   "outputs": [],
   "source": [
    "cout.clear()"
   ]
  },
  {
   "cell_type": "code",
   "execution_count": null,
   "metadata": {},
   "outputs": [],
   "source": [
    "cout<<\"hello\""
   ]
  },
  {
   "cell_type": "code",
   "execution_count": null,
   "metadata": {},
   "outputs": [],
   "source": [
    "// tying a stream\n",
    "\n",
    "// to tie cin and cout\n",
    "// for every input in cin the cout gets flushed\n",
    "\n",
    "\n",
    "cin.tie(cout&)\n",
    "\n",
    "\n",
    "\n",
    "// for every cin flushes the cerrr which is not a good idea\n",
    "\n",
    "cin.tie(cerr&)\n",
    "\n",
    "\n",
    "// to reset the stream\n",
    "\n",
    "cin.tie(nullptr) //reestablish normal tie between cin and cout"
   ]
  },
  {
   "cell_type": "code",
   "execution_count": null,
   "metadata": {},
   "outputs": [],
   "source": [
    "ifstream //read from a file\n",
    "ofstream //write to a file\n",
    "fstream // read and write from the same file"
   ]
  },
  {
   "cell_type": "code",
   "execution_count": 17,
   "metadata": {},
   "outputs": [
    {
     "name": "stderr",
     "output_type": "stream",
     "text": [
      "input_line_26:2:42: error: function definition is not allowed here\n",
      " vector<string> readFile(string filename){\n",
      "                                         ^\n"
     ]
    },
    {
     "ename": "Interpreter Error",
     "evalue": "",
     "output_type": "error",
     "traceback": [
      "Interpreter Error: "
     ]
    }
   ],
   "source": [
    "\n",
    "\n"
   ]
  },
  {
   "cell_type": "code",
   "execution_count": 2,
   "metadata": {},
   "outputs": [],
   "source": [
    "string filename = \"demo.txt\""
   ]
  },
  {
   "cell_type": "code",
   "execution_count": 2,
   "metadata": {},
   "outputs": [],
   "source": [
    "#include <sstream>\n",
    "struct PersonInfo{\n",
    "    string name;\n",
    "    vector<string> phones;\n",
    "};\n"
   ]
  },
  {
   "cell_type": "code",
   "execution_count": 3,
   "metadata": {},
   "outputs": [],
   "source": [
    "string line, word;\n",
    "vector<PersonInfo> people;\n",
    "\n",
    "while (getline(cin, line) && line != \"stop\"){\n",
    "\n",
    "    PersonInfo info;\n",
    "    istringstream record(line);\n",
    "    record >> info.name;\n",
    "    while (record >> word)\n",
    "    {\n",
    "        info.phones.push_back(word);\n",
    "    }\n",
    "    people.push_back(info);\n",
    "}"
   ]
  }
 ],
 "metadata": {
  "kernelspec": {
   "display_name": "C++14",
   "language": "C++14",
   "name": "xcpp14"
  },
  "language_info": {
   "codemirror_mode": "text/x-c++src",
   "file_extension": ".cpp",
   "mimetype": "text/x-c++src",
   "name": "c++",
   "version": "14"
  },
  "orig_nbformat": 4
 },
 "nbformat": 4,
 "nbformat_minor": 2
}
