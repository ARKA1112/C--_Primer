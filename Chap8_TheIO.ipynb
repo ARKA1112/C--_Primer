{
 "cells": [
  {
   "cell_type": "code",
   "execution_count": null,
   "metadata": {
    "vscode": {
     "languageId": "c++"
    }
   },
   "outputs": [],
   "source": [
    "#include <iostream>\n",
    "#include <fstream>\n",
    "#include <vector>\n",
    "#include <string>\n",
    "using namespace std;"
   ]
  },
  {
   "cell_type": "code",
   "execution_count": null,
   "metadata": {
    "vscode": {
     "languageId": "c++"
    }
   },
   "outputs": [],
   "source": [
    "istream& readStream(istream& is)\n",
    "{\n",
    "    char c;\n",
    "    while(is.get(c) && c!= 's')\n",
    "    {\n",
    "        cout<<c;\n",
    "    }\n",
    "    is.clear();\n",
    "    return is;\n",
    "}"
   ]
  },
  {
   "cell_type": "code",
   "execution_count": null,
   "metadata": {
    "vscode": {
     "languageId": "c++"
    }
   },
   "outputs": [],
   "source": [
    "readStream(cin)"
   ]
  },
  {
   "cell_type": "code",
   "execution_count": null,
   "metadata": {
    "vscode": {
     "languageId": "c++"
    }
   },
   "outputs": [],
   "source": [
    "cout << \"isteream\"<<flush; //adds a new line and then flushes the buffer.\n",
    "cout<<\"istream\"<<ends; // writes hi and a null and flushes the buffer; adds no data.\n",
    "cout<<\"istream\"<<endl; // writes hi and readlines and flushes the buffer."
   ]
  },
  {
   "cell_type": "code",
   "execution_count": null,
   "metadata": {
    "vscode": {
     "languageId": "c++"
    }
   },
   "outputs": [],
   "source": [
    "cout<<unitbuf"
   ]
  },
  {
   "cell_type": "code",
   "execution_count": null,
   "metadata": {
    "vscode": {
     "languageId": "c++"
    }
   },
   "outputs": [],
   "source": [
    "cout<<\"hello\""
   ]
  },
  {
   "cell_type": "code",
   "execution_count": null,
   "metadata": {
    "vscode": {
     "languageId": "c++"
    }
   },
   "outputs": [],
   "source": [
    "cout.clear()"
   ]
  },
  {
   "cell_type": "code",
   "execution_count": null,
   "metadata": {
    "vscode": {
     "languageId": "c++"
    }
   },
   "outputs": [],
   "source": [
    "cout<<\"hello\""
   ]
  },
  {
   "cell_type": "code",
   "execution_count": null,
   "metadata": {
    "vscode": {
     "languageId": "c++"
    }
   },
   "outputs": [],
   "source": [
    "// tying a stream\n",
    "\n",
    "// to tie cin and cout\n",
    "// for every input in cin the cout gets flushed\n",
    "\n",
    "\n",
    "cin.tie(cout&)\n",
    "\n",
    "\n",
    "\n",
    "// for every cin flushes the cerrr which is not a good idea\n",
    "\n",
    "cin.tie(cerr&)\n",
    "\n",
    "\n",
    "// to reset the stream\n",
    "\n",
    "cin.tie(nullptr) //reestablish normal tie between cin and cout"
   ]
  },
  {
   "cell_type": "code",
   "execution_count": null,
   "metadata": {
    "vscode": {
     "languageId": "c++"
    }
   },
   "outputs": [],
   "source": [
    "ifstream //read from a file\n",
    "ofstream //write to a file\n",
    "fstream // read and write from the same file"
   ]
  },
  {
   "cell_type": "code",
   "execution_count": null,
   "metadata": {
    "vscode": {
     "languageId": "c++"
    }
   },
   "outputs": [],
   "source": [
    "\n",
    "\n"
   ]
  },
  {
   "cell_type": "code",
   "execution_count": null,
   "metadata": {
    "vscode": {
     "languageId": "c++"
    }
   },
   "outputs": [],
   "source": [
    "string filename = \"demo.txt\""
   ]
  },
  {
   "cell_type": "code",
   "execution_count": 13,
   "metadata": {
    "vscode": {
     "languageId": "c++"
    }
   },
   "outputs": [],
   "source": [
    "#include <sstream>\n",
    "struct PersonInfo{\n",
    "    string name;\n",
    "    vector<string> phones;\n",
    "};\n"
   ]
  },
  {
   "cell_type": "code",
   "execution_count": 14,
   "metadata": {
    "vscode": {
     "languageId": "c++"
    }
   },
   "outputs": [
    {
     "name": "stderr",
     "output_type": "stream",
     "text": [
      "input_line_25:6:23: error: no matching constructor for initialization of 'std::istringstream' (aka 'basic_istringstream<char>')\n",
      "        istringstream record(line);\n",
      "                      ^      ~~~~\n",
      "/home/susearc/miniconda3/envs/xeus-cling/bin/../lib/gcc/../../x86_64-conda-linux-gnu/include/c++/12.2.0/sstream:587:7: note: candidate constructor not viable: no known conversion from 'std::string' (aka 'basic_string<char>') to 'ios_base::openmode' (aka 'std::_Ios_Openmode') for 1st argument\n",
      "      basic_istringstream(ios_base::openmode __mode)\n",
      "      ^\n",
      "/home/susearc/miniconda3/envs/xeus-cling/bin/../lib/gcc/../../x86_64-conda-linux-gnu/include/c++/12.2.0/sstream:620:7: note: candidate constructor not viable: no known conversion from 'std::string' (aka 'basic_string<char>') to 'const std::__cxx11::basic_istringstream<char>' for 1st argument\n",
      "      basic_istringstream(const basic_istringstream&) = delete;\n",
      "      ^\n",
      "/home/susearc/miniconda3/envs/xeus-cling/bin/../lib/gcc/../../x86_64-conda-linux-gnu/include/c++/12.2.0/sstream:622:7: note: candidate constructor not viable: no known conversion from 'std::string' (aka 'basic_string<char>') to 'std::__cxx11::basic_istringstream<char>' for 1st argument\n",
      "      basic_istringstream(basic_istringstream&& __rhs)\n",
      "      ^\n",
      "/home/susearc/miniconda3/envs/xeus-cling/bin/../lib/gcc/../../x86_64-conda-linux-gnu/include/c++/12.2.0/sstream:570:7: note: candidate constructor not viable: requires 0 arguments, but 1 was provided\n",
      "      basic_istringstream()\n",
      "      ^\n",
      "In file included from input_line_5:1:\n",
      "In file included from /home/susearc/miniconda3/envs/xeus-cling/include/xeus/xinterpreter.hpp:14:\n",
      "In file included from /home/susearc/miniconda3/envs/xeus-cling/bin/../lib/gcc/../../x86_64-conda-linux-gnu/include/c++/12.2.0/string:53:\n",
      "/home/susearc/miniconda3/envs/xeus-cling/bin/../lib/gcc/../../x86_64-conda-linux-gnu/include/c++/12.2.0/bits/basic_string.h:3925:45: error: no member named 'widen' in 'std::basic_istream<char>'\n",
      "    { return std::getline(__is, __str, __is.widen('\\n')); }\n",
      "                                       ~~~~ ^\n",
      "input_line_25:4:8: note: in instantiation of function template specialization 'std::getline<char, std::char_traits<char>, std::allocator<char> >' requested here\n",
      "while (getline(cin, line)){\n",
      "       ^\n",
      "input_line_24:1:8: error: no matching constructor for initialization of 'vector<std::string>' (aka 'vector<basic_string<char> >')\n",
      "struct PersonInfo{\n",
      "       ^~~~~~~~~~\n",
      "/home/susearc/miniconda3/envs/xeus-cling/bin/../lib/gcc/../../x86_64-conda-linux-gnu/include/c++/12.2.0/bits/new_allocator.h:175:23: note: in implicit copy constructor for '__cling_N513::PersonInfo' first required here\n",
      "        { ::new((void *)__p) _Up(std::forward<_Args>(__args)...); }\n",
      "                             ^\n",
      "/home/susearc/miniconda3/envs/xeus-cling/bin/../lib/gcc/../../x86_64-conda-linux-gnu/include/c++/12.2.0/bits/alloc_traits.h:516:8: note: in instantiation of function template specialization 'std::__new_allocator<__cling_N513::PersonInfo>::construct<__cling_N513::PersonInfo, const __cling_N513::PersonInfo &>' requested here\n",
      "          __a.construct(__p, std::forward<_Args>(__args)...);\n",
      "              ^\n",
      "/home/susearc/miniconda3/envs/xeus-cling/bin/../lib/gcc/../../x86_64-conda-linux-gnu/include/c++/12.2.0/bits/stl_vector.h:1281:21: note: in instantiation of function template specialization 'std::allocator_traits<std::allocator<__cling_N513::PersonInfo> >::construct<__cling_N513::PersonInfo, const __cling_N513::PersonInfo &>' requested here\n",
      "            _Alloc_traits::construct(this->_M_impl, this->_M_impl._M_finish,\n",
      "                           ^\n",
      "input_line_25:12:16: note: in instantiation of member function 'std::vector<__cling_N513::PersonInfo, std::allocator<__cling_N513::PersonInfo> >::push_back' requested here\n",
      "        people.push_back(info);\n",
      "               ^\n",
      "/home/susearc/miniconda3/envs/xeus-cling/bin/../lib/gcc/../../x86_64-conda-linux-gnu/include/c++/12.2.0/bits/stl_vector.h:537:7: note: candidate constructor not viable: no known conversion from 'const vector<std::string>' (aka 'const vector<basic_string<char> >') to 'const std::vector<std::__cxx11::basic_string<char>, std::allocator<std::__cxx11::basic_string<char> > >::allocator_type' (aka 'const std::allocator<std::__cxx11::basic_string<char> >') for 1st argument\n",
      "      vector(const allocator_type& __a) _GLIBCXX_NOEXCEPT\n",
      "      ^\n",
      "/home/susearc/miniconda3/envs/xeus-cling/bin/../lib/gcc/../../x86_64-conda-linux-gnu/include/c++/12.2.0/bits/stl_vector.h:551:7: note: candidate constructor not viable: no known conversion from 'const vector<std::string>' (aka 'const vector<basic_string<char> >') to 'std::vector::size_type' (aka 'unsigned long') for 1st argument\n",
      "      vector(size_type __n, const allocator_type& __a = allocator_type())\n",
      "      ^\n",
      "/home/susearc/miniconda3/envs/xeus-cling/bin/../lib/gcc/../../x86_64-conda-linux-gnu/include/c++/12.2.0/bits/stl_vector.h:615:7: note: candidate constructor not viable: 1st argument ('const vector<std::string>' (aka 'const vector<basic_string<char> >')) would lose const qualifier\n",
      "      vector(vector&&) noexcept = default;\n",
      "      ^\n",
      "/home/susearc/miniconda3/envs/xeus-cling/bin/../lib/gcc/../../x86_64-conda-linux-gnu/include/c++/12.2.0/bits/stl_vector.h:673:7: note: candidate constructor not viable: no known conversion from 'const vector<std::string>' (aka 'const vector<basic_string<char> >') to 'initializer_list<std::vector<std::__cxx11::basic_string<char>, std::allocator<std::__cxx11::basic_string<char> > >::value_type>' (aka 'initializer_list<std::__cxx11::basic_string<char> >') for 1st argument\n",
      "      vector(initializer_list<value_type> __l,\n",
      "      ^\n",
      "/home/susearc/miniconda3/envs/xeus-cling/bin/../lib/gcc/../../x86_64-conda-linux-gnu/include/c++/12.2.0/bits/stl_vector.h:702:2: note: candidate constructor template not viable: requires at least 2 arguments, but 1 was provided\n",
      "        vector(_InputIterator __first, _InputIterator __last,\n",
      "        ^\n",
      "/home/susearc/miniconda3/envs/xeus-cling/bin/../lib/gcc/../../x86_64-conda-linux-gnu/include/c++/12.2.0/bits/stl_vector.h:526:7: note: candidate constructor not viable: requires 0 arguments, but 1 was provided\n",
      "      vector() = default;\n",
      "      ^\n",
      "/home/susearc/miniconda3/envs/xeus-cling/bin/../lib/gcc/../../x86_64-conda-linux-gnu/include/c++/12.2.0/bits/stl_vector.h:619:7: note: candidate constructor not viable: requires 2 arguments, but 1 was provided\n",
      "      vector(const vector& __x, const __type_identity_t<allocator_type>& __a)\n",
      "      ^\n",
      "/home/susearc/miniconda3/envs/xeus-cling/bin/../lib/gcc/../../x86_64-conda-linux-gnu/include/c++/12.2.0/bits/stl_vector.h:654:7: note: candidate constructor not viable: requires 2 arguments, but 1 was provided\n",
      "      vector(vector&& __rv, const __type_identity_t<allocator_type>& __m)\n",
      "      ^\n",
      "/home/susearc/miniconda3/envs/xeus-cling/bin/../lib/gcc/../../x86_64-conda-linux-gnu/include/c++/12.2.0/bits/stl_vector.h:564:7: note: candidate constructor not viable: requires at least 2 arguments, but 1 was provided\n",
      "      vector(size_type __n, const value_type& __value,\n",
      "      ^\n",
      "/home/susearc/miniconda3/envs/xeus-cling/bin/../lib/gcc/../../x86_64-conda-linux-gnu/include/c++/12.2.0/bits/stl_vector.h:630:7: note: candidate constructor not viable: requires 3 arguments, but 1 was provided\n",
      "      vector(vector&& __rv, const allocator_type& __m, true_type) noexcept\n",
      "      ^\n",
      "/home/susearc/miniconda3/envs/xeus-cling/bin/../lib/gcc/../../x86_64-conda-linux-gnu/include/c++/12.2.0/bits/stl_vector.h:635:7: note: candidate constructor not viable: requires 3 arguments, but 1 was provided\n",
      "      vector(vector&& __rv, const allocator_type& __m, false_type)\n",
      "      ^\n"
     ]
    },
    {
     "ename": "Interpreter Error",
     "evalue": "",
     "output_type": "error",
     "traceback": [
      "Interpreter Error: "
     ]
    }
   ],
   "source": [
    "string line, word;\n",
    "vector<PersonInfo> people;\n",
    "\n",
    "while (getline(cin, line)){\n",
    "\n",
    "        PersonInfo info;\n",
    "        istringstream record(line);\n",
    "        record >> info.name;\n",
    "        while (record >> word)\n",
    "        {\n",
    "            info.phones.push_back(word);\n",
    "        }\n",
    "        people.push_back(info);\n",
    "}"
   ]
  },
  {
   "cell_type": "code",
   "execution_count": null,
   "metadata": {
    "vscode": {
     "languageId": "c++"
    }
   },
   "outputs": [],
   "source": [
    "istringstream record(cin);\n"
   ]
  },
  {
   "cell_type": "code",
   "execution_count": null,
   "metadata": {
    "vscode": {
     "languageId": "c++"
    }
   },
   "outputs": [],
   "source": [
    "//inclass initializer\n",
    "\n",
    "struct PersonInfo {\n",
    "    std::string name = \"ark pand\";\n",
    "    vector <string> phn = {\"266366\",\"8866778989\"};\n",
    "}"
   ]
  },
  {
   "cell_type": "markdown",
   "metadata": {},
   "source": [
    "## Using ostringstreams"
   ]
  },
  {
   "cell_type": "code",
   "execution_count": null,
   "metadata": {
    "vscode": {
     "languageId": "c++"
    }
   },
   "outputs": [],
   "source": [
    "for (const auto &entry : people) {\n",
    "// for each entry in people\n",
    "ostringstream formatted, badNums; // objects created on each loop\n",
    "for (const auto &nums : entry.phones) { // for each number\n",
    "if (!valid(nums)) {\n",
    "badNums << \" \" << nums; // string in badNums\n",
    "} else\n",
    "// ‘‘writes’’ to formatted’s string\n",
    "formatted << \" \" << format(nums);\n",
    "}\n",
    "if (badNums.str().empty())\n",
    "// there were no bad numbers\n",
    "os << entry.name << \" \"\n",
    "// print the name\n",
    "<< formatted.str() << endl; // and reformatted numbers\n",
    "else\n",
    "// otherwise, print the name and bad numbers\n",
    "cerr << \"input error: \" << entry.name\n",
    "<< \" invalid number(s) \" << badNums.str() << endl;\n",
    "}"
   ]
  },
  {
   "cell_type": "code",
   "execution_count": null,
   "metadata": {
    "vscode": {
     "languageId": "c++"
    }
   },
   "outputs": [],
   "source": []
  }
 ],
 "metadata": {
  "kernelspec": {
   "display_name": "C++14",
   "language": "C++14",
   "name": "xcpp14"
  },
  "language_info": {
   "codemirror_mode": "text/x-c++src",
   "file_extension": ".cpp",
   "mimetype": "text/x-c++src",
   "name": "C++14",
   "version": "14"
  },
  "orig_nbformat": 4
 },
 "nbformat": 4,
 "nbformat_minor": 2
}
