{
 "cells": [
  {
   "cell_type": "code",
   "execution_count": 1,
   "id": "b6118363",
   "metadata": {},
   "outputs": [],
   "source": [
    "#include<iostream>\n",
    "#include<vector>\n",
    "using namespace std;"
   ]
  },
  {
   "cell_type": "code",
   "execution_count": null,
   "id": "529c539e",
   "metadata": {},
   "outputs": [],
   "source": [
    "//A string is a variable length sequence of characters\n",
    "//A vector holds a variable length sequenec of objects of a given type"
   ]
  },
  {
   "cell_type": "markdown",
   "id": "c7352416",
   "metadata": {},
   "source": [
    "Namespace using Declarations"
   ]
  },
  {
   "cell_type": "code",
   "execution_count": null,
   "id": "20a44302",
   "metadata": {
    "vscode": {
     "languageId": "html"
    }
   },
   "outputs": [],
   "source": [
    "//std::cin says that we want ot use the name cin form the namespace std"
   ]
  },
  {
   "cell_type": "code",
   "execution_count": null,
   "id": "6827ffaf",
   "metadata": {},
   "outputs": [],
   "source": [
    "//A using declaration lets us use a name from a anamespace without\n",
    "//qualifying the name with a namespace_name::prefic . A using declaration has the form \n",
    "//using namespace::name;"
   ]
  },
  {
   "cell_type": "code",
   "execution_count": null,
   "id": "33a749ba",
   "metadata": {},
   "outputs": [],
   "source": [
    "using namespace std;"
   ]
  },
  {
   "cell_type": "markdown",
   "id": "57ff8802",
   "metadata": {},
   "source": [
    "A separate using Declaration is required for each name"
   ]
  },
  {
   "cell_type": "code",
   "execution_count": null,
   "id": "56a224fa",
   "metadata": {},
   "outputs": [],
   "source": [
    "//Headers should no include using Declaration"
   ]
  },
  {
   "cell_type": "code",
   "execution_count": null,
   "id": "6259bcdc",
   "metadata": {},
   "outputs": [],
   "source": [
    "//Defining Strings\n",
    "\n",
    "#include <string>\n"
   ]
  },
  {
   "cell_type": "code",
   "execution_count": null,
   "id": "637a516b",
   "metadata": {},
   "outputs": [],
   "source": [
    "string s1"
   ]
  },
  {
   "cell_type": "code",
   "execution_count": null,
   "id": "3ae3da41",
   "metadata": {},
   "outputs": [],
   "source": [
    "#include <string>\n",
    "#include <iostream>\n",
    "using namespace std;\n",
    "string s1;\n",
    "string s2 = s1;//copy\n",
    "string s3 = \"hiya\";\n",
    "string s4{10,'c'};  //10 cs\n",
    "s4"
   ]
  },
  {
   "cell_type": "code",
   "execution_count": null,
   "id": "c4e25046",
   "metadata": {
    "vscode": {
     "languageId": "bat"
    }
   },
   "outputs": [],
   "source": [
    "s3"
   ]
  },
  {
   "cell_type": "markdown",
   "id": "299b23f5",
   "metadata": {
    "vscode": {
     "languageId": "bat"
    }
   },
   "source": [
    "Operations on strings"
   ]
  },
  {
   "cell_type": "code",
   "execution_count": null,
   "id": "48fa1235-b45d-4c09-b271-64f6c561b187",
   "metadata": {},
   "outputs": [],
   "source": [
    "#include<iostream>\n",
    "#include<string>\n",
    "using namespace std;"
   ]
  },
  {
   "cell_type": "code",
   "execution_count": null,
   "id": "a1cca641",
   "metadata": {},
   "outputs": [],
   "source": [
    "//Reading and Writing strings\n",
    "\n",
    "\n",
    "\n",
    "int main()\n",
    "{\n",
    "    string s;\n",
    "    cin >>s;\n",
    "    cout << s << endl;\n",
    "    return 0;\n",
    "}\n",
    "main()"
   ]
  },
  {
   "cell_type": "code",
   "execution_count": null,
   "id": "e0de783b-2203-4119-a2a4-d07e92aa1c98",
   "metadata": {},
   "outputs": [],
   "source": [
    "string s1, s2;\n",
    "cin >> s1>>s2;//resd first input into s1 and second into s2\n",
    "\n",
    "cout<<s1 <<s2; //write both strings"
   ]
  },
  {
   "cell_type": "code",
   "execution_count": null,
   "id": "62c21341-476a-4c81-ab6e-faa1972254f3",
   "metadata": {},
   "outputs": [],
   "source": [
    "//Reading an Unknown Number of strings\n",
    "string s;\n",
    "while (cin>>s && s!=\"end\")\n",
    "    cout<<s;"
   ]
  },
  {
   "cell_type": "code",
   "execution_count": null,
   "id": "82828017-09b0-41fa-9976-311b1aabdb4c",
   "metadata": {},
   "outputs": [],
   "source": [
    "//Using getline to Read an Entire Line\n",
    "\n",
    "\n",
    "int main()\n",
    "{\n",
    "    string line;\n",
    "    //read input a line at a time until end of file\n",
    "    while (getline(cin, line))\n",
    "        cout <<line;\n",
    "    return 0;\n",
    "}\n",
    "\n",
    "//pg87.cpp"
   ]
  },
  {
   "cell_type": "code",
   "execution_count": null,
   "id": "917ae97a-2ef8-4d35-a971-bf8a278d7e18",
   "metadata": {},
   "outputs": [],
   "source": [
    "// The sring empty and size Operations\n",
    "\n",
    "while (getline(cin,line))\n",
    "    if (!line.empty())\n",
    "        cout<<line <<endl;"
   ]
  },
  {
   "cell_type": "code",
   "execution_count": null,
   "id": "1312225b-62c4-43fc-8498-44d703ef7790",
   "metadata": {},
   "outputs": [],
   "source": [
    "//The size member return the length of a string . We can use size to print only lline longer than 80 characters\n",
    "string line;\n",
    "while (getline(cin, line))\n",
    "    if (line.size() > 80)\n",
    "        cout << line;"
   ]
  },
  {
   "cell_type": "code",
   "execution_count": null,
   "id": "c1abffd1-aae9-4947-8312-a571ec2aac6f",
   "metadata": {},
   "outputs": [],
   "source": [
    "string line {\"hello\"};\n",
    "line.size()"
   ]
  },
  {
   "cell_type": "code",
   "execution_count": null,
   "id": "d98fcf40-7885-494b-8baa-651fba9524d6",
   "metadata": {},
   "outputs": [],
   "source": [
    "//The string::size_type Type\n",
    "\n",
    "auto len = line.size();"
   ]
  },
  {
   "cell_type": "code",
   "execution_count": null,
   "id": "c52ec657-80bd-44f2-a73a-5d9f51b452c8",
   "metadata": {},
   "outputs": [],
   "source": [
    "decltype(line.size()) len = line.size()"
   ]
  },
  {
   "cell_type": "code",
   "execution_count": null,
   "id": "a6e4d796-7b82-4fc8-a696-de277f480d27",
   "metadata": {},
   "outputs": [],
   "source": [
    "//Comparing strings\n",
    "/*Rule1 - If two strings have different lengths and if every character in the shorter\n",
    "string is equal to the corresponding character of the longer string, then\n",
    "the shorter string is less than the longer one.*/\n",
    "\n",
    "/*Rule2 - If any characters at corresponding positions in the two strings differ, then\n",
    "the result of the string comparison is the result of comparing the first char-\n",
    "acter at which the strings differ.*/"
   ]
  },
  {
   "cell_type": "code",
   "execution_count": null,
   "id": "918a1895-3811-45ca-b58a-a3d310056986",
   "metadata": {},
   "outputs": [],
   "source": [
    "string str = \"Hello\";\n",
    "string phrase = \"Hello WOrld\";//highest length\n",
    "string slang = \"Hiya\";"
   ]
  },
  {
   "cell_type": "code",
   "execution_count": null,
   "id": "82843022-0eeb-477b-9e4c-291449c49cfd",
   "metadata": {},
   "outputs": [],
   "source": [
    "str>slang //still str is larger than slang by Rule2"
   ]
  },
  {
   "cell_type": "code",
   "execution_count": null,
   "id": "2705fef1-d6b0-445e-b05e-72efda8d12d0",
   "metadata": {},
   "outputs": [],
   "source": [
    "//Assignment for stirngs\n",
    "string s1 = \"Hello,\",s2 = \"World\\n\";\n",
    "string s3 =  s1 + s2;\n",
    "\n",
    "\n",
    "s1+=s2;  //equivalent to s1 = s1 + s2;"
   ]
  },
  {
   "cell_type": "code",
   "execution_count": null,
   "id": "b540031d-e630-4659-b8ed-1d4702c0b594",
   "metadata": {},
   "outputs": [],
   "source": [
    "//Adding Literals and strings\n",
    "\n",
    "string s4 = \"Hello\"+ s2;"
   ]
  },
  {
   "cell_type": "code",
   "execution_count": null,
   "id": "6c403b83-34f9-4280-ae6a-3df9c1e7ecdf",
   "metadata": {},
   "outputs": [],
   "source": [
    "//Excercise - To input one line at a time we can use getline(cin, line)\n",
    "//To input one word at a time we can use cin>>line;\n",
    "\n",
    "\n",
    "//3.3//3.4//3.5 all done"
   ]
  },
  {
   "cell_type": "markdown",
   "id": "5b777c5a-7139-42c7-b106-0d25d2d294ae",
   "metadata": {},
   "source": [
    "Dealing with the Characters in a string"
   ]
  },
  {
   "cell_type": "code",
   "execution_count": null,
   "id": "2607ccb7-7ca8-40fa-a56f-65b9091cde8c",
   "metadata": {},
   "outputs": [],
   "source": [
    "//Processing every character?\n",
    "//Use Range-Based for\n",
    "\n",
    "/*for (declaration:expression)\n",
    "    statement*/\n",
    "\n",
    "string str {\"some string\"};"
   ]
  },
  {
   "cell_type": "markdown",
   "id": "caa8a12e-36ee-413e-ab1b-de8e4a627910",
   "metadata": {},
   "source": [
    "![Alt text](Screenshot%20from%202022-12-15%2013-46-41.png)"
   ]
  },
  {
   "cell_type": "code",
   "execution_count": null,
   "id": "b56b1de6",
   "metadata": {},
   "outputs": [],
   "source": [
    "//using a Rnage for to change the characters in a string\n",
    "\n",
    "string s {\"Hello World\"};\n",
    "\n",
    "for (auto &x : s)\n",
    "    x = toupper(x); //c is a reference so the assignmentr chages the char in s\n",
    "cout<<s<<endl;"
   ]
  },
  {
   "cell_type": "code",
   "execution_count": null,
   "id": "d1be8d1b-883a-48b5-8e57-603a73547d87",
   "metadata": {},
   "outputs": [],
   "source": [
    "//Processing Only some characters?\n",
    "//Thera re two way to access individual characters in atring: We cna use a sub\n",
    "//scirpt or an iterator. We will have more to say about iterators later\n",
    "//the subscript operator(the [] operator) takes a string::size_type\n",
    "\n",
    "//first character s[0]\n",
    "//last character \n"
   ]
  },
  {
   "cell_type": "code",
   "execution_count": null,
   "id": "7ee02a6f",
   "metadata": {},
   "outputs": [],
   "source": [
    "c = toupper(c); //c is a reference so \n",
    "//the assignment  changes the char in s"
   ]
  },
  {
   "cell_type": "markdown",
   "id": "74928d92",
   "metadata": {},
   "source": [
    "Processing Only Some Characters?"
   ]
  },
  {
   "cell_type": "code",
   "execution_count": null,
   "id": "31b4cdb0",
   "metadata": {},
   "outputs": [],
   "source": [
    "//A range for works well when we need to process every character. However,\n",
    "//sometimes we need to access only a single character or to access\n",
    "//characters until some condition is reached.\n",
    "\n",
    "///[] is the subscript operator takes a string::size_type\n",
    "\n",
    "//first character s[1]\n",
    "//Last character s[s.size() -  1]\n",
    "\n",
    "\n"
   ]
  },
  {
   "cell_type": "code",
   "execution_count": null,
   "id": "0bc06676",
   "metadata": {},
   "outputs": [],
   "source": [
    "\n",
    "string s = \"Hello World!\""
   ]
  },
  {
   "cell_type": "code",
   "execution_count": null,
   "id": "9ab8556d",
   "metadata": {},
   "outputs": [],
   "source": [
    "if (!s.empty())\n",
    "    cout<<s[0]<<endl;"
   ]
  },
  {
   "cell_type": "code",
   "execution_count": null,
   "id": "bbd6dc57",
   "metadata": {},
   "outputs": [],
   "source": [
    "string s(\"some string\");\n",
    "if (!s.empty())\n",
    "    s[0] = toupper(s[0])"
   ]
  },
  {
   "cell_type": "code",
   "execution_count": null,
   "id": "3a59b4b6",
   "metadata": {},
   "outputs": [],
   "source": [
    "//Using a Subscript for Iteration\n",
    "\n",
    "//As another example, we'll change th efirst word in s to all uppercase:\n",
    "\n",
    "for (decltype(s.size()) index = 0;\n",
    "    index != s.size() && !isspace(s[index]); ++index)\n",
    "    s[index] = toupper(s[index]);"
   ]
  },
  {
   "cell_type": "markdown",
   "id": "7c819d55",
   "metadata": {},
   "source": [
    "Using a Subscript for Random Access"
   ]
  },
  {
   "cell_type": "code",
   "execution_count": null,
   "id": "1a1cf6d3",
   "metadata": {},
   "outputs": [],
   "source": [
    "const string hexdigits = \"0123456789ABCDEF\";"
   ]
  },
  {
   "cell_type": "code",
   "execution_count": null,
   "id": "25494298",
   "metadata": {},
   "outputs": [],
   "source": [
    "cout << \"Enter a series of numbers between 0 and 15\"\n",
    "    << \" Separated by spaces. Hit ENTER when finished: \"\n",
    "    <<endl;"
   ]
  },
  {
   "cell_type": "code",
   "execution_count": null,
   "id": "d54774f7",
   "metadata": {},
   "outputs": [],
   "source": [
    "string result;  //will hold the resultign hexifyd string"
   ]
  },
  {
   "cell_type": "code",
   "execution_count": null,
   "id": "2747db86",
   "metadata": {},
   "outputs": [],
   "source": [
    "string:: size_type  n; // hold numbers from the input\n",
    "while (cin >> n)\n",
    "    if (n < hexdigits.size()) //ignore invalid input\n",
    "        result += hexdigits[n]; //fetch the indicated hex digit\n",
    "cout << \"Your hex number is: \" << result << endl;"
   ]
  },
  {
   "cell_type": "code",
   "execution_count": null,
   "id": "f5622f6b",
   "metadata": {},
   "outputs": [],
   "source": [
    "//pg95.cpp"
   ]
  },
  {
   "cell_type": "code",
   "execution_count": null,
   "id": "9707addc",
   "metadata": {},
   "outputs": [],
   "source": [
    "string s;"
   ]
  },
  {
   "cell_type": "code",
   "execution_count": null,
   "id": "c4c7b43f",
   "metadata": {},
   "outputs": [],
   "source": [
    "cout<<s[0]<<endl;"
   ]
  },
  {
   "cell_type": "code",
   "execution_count": null,
   "id": "ee548454",
   "metadata": {},
   "outputs": [],
   "source": [
    "const string s = \"Keep Out!\""
   ]
  },
  {
   "cell_type": "code",
   "execution_count": null,
   "id": "6a04afb0",
   "metadata": {},
   "outputs": [],
   "source": [
    "for (auto &c: s){cout<<&c;}"
   ]
  },
  {
   "cell_type": "markdown",
   "id": "66bced5f",
   "metadata": {},
   "source": [
    "Library vector Type"
   ]
  },
  {
   "cell_type": "code",
   "execution_count": null,
   "id": "79ffa815",
   "metadata": {},
   "outputs": [],
   "source": [
    "//A vector is a collection of objects all of which have the sma type. Every\n",
    "//object in the collection has an associated index which gives access to that object.\n",
    "//A vector is often referred to as a container because it \"contains\"\n",
    "//other objects.\n",
    "//We'll have much more to say about containers in PartII\n",
    "\n",
    "\n",
    "//To use a vetor we must include the appropriate header.\n",
    "//In our examples we also assume that an appropriate using declaration is made:\n",
    "\n",
    "#include <vector>\n",
    "using std::vector;"
   ]
  },
  {
   "cell_type": "code",
   "execution_count": null,
   "id": "f81086eb",
   "metadata": {},
   "outputs": [],
   "source": [
    "vector<int> ivec; //ivec holds objects of type int\n",
    "vector<Sales_item> Sales_vec; //jolds Sales_items type objects\n",
    "vector<vector<string>> file; //objects that holds vectors and each vector holds string objects"
   ]
  },
  {
   "cell_type": "code",
   "execution_count": null,
   "id": "da469ff8",
   "metadata": {},
   "outputs": [],
   "source": [
    "//vector is  a template not a type. Types generated form vector must include the element type, for "
   ]
  },
  {
   "cell_type": "markdown",
   "id": "81d95bdd",
   "metadata": {},
   "source": [
    "Defining and Initializing vectors"
   ]
  },
  {
   "cell_type": "code",
   "execution_count": null,
   "id": "ff14bca6",
   "metadata": {},
   "outputs": [],
   "source": [
    "vector<int> ivec; //empty vector\n",
    "\n",
    "//lets give ivec some values\n",
    "\n",
    "vector<int> ivec2(ivec); //copy elemnts of ivec into ivec2\n",
    "vector<int> ivec3 = ivec;"
   ]
  },
  {
   "cell_type": "code",
   "execution_count": null,
   "id": "042efc19",
   "metadata": {},
   "outputs": [],
   "source": [
    "vector<string> svec(ivec2)  //type mismatch"
   ]
  },
  {
   "cell_type": "markdown",
   "id": "bf48fb54",
   "metadata": {},
   "source": [
    "List initializing a vector"
   ]
  },
  {
   "cell_type": "code",
   "execution_count": null,
   "id": "6f2c70f8",
   "metadata": {},
   "outputs": [],
   "source": [
    "vector<string> articles = {\"a\", \"an\", \"the\"}"
   ]
  },
  {
   "cell_type": "code",
   "execution_count": null,
   "id": "c31b45ae",
   "metadata": {},
   "outputs": [],
   "source": [
    "articles"
   ]
  },
  {
   "cell_type": "markdown",
   "id": "2503a2f2",
   "metadata": {},
   "source": [
    "Createing a Specified Number of Elements"
   ]
  },
  {
   "cell_type": "code",
   "execution_count": null,
   "id": "59f3e7ab",
   "metadata": {},
   "outputs": [],
   "source": [
    "vector<int> ivec(10,-1)  //vector of 10 elements each initialized to -1"
   ]
  },
  {
   "cell_type": "code",
   "execution_count": null,
   "id": "dffbcd99",
   "metadata": {},
   "outputs": [],
   "source": [
    "ivec"
   ]
  },
  {
   "cell_type": "code",
   "execution_count": null,
   "id": "ca06c66e",
   "metadata": {},
   "outputs": [],
   "source": [
    "vector<string> svec {10,\"hi\"}"
   ]
  },
  {
   "cell_type": "code",
   "execution_count": null,
   "id": "1517ab0a",
   "metadata": {},
   "outputs": [],
   "source": [
    "svec"
   ]
  },
  {
   "cell_type": "markdown",
   "id": "6dfb207c",
   "metadata": {},
   "source": [
    "List Initializer or Element Count"
   ]
  },
  {
   "cell_type": "code",
   "execution_count": null,
   "id": "6631c412",
   "metadata": {},
   "outputs": [],
   "source": [
    "vector<int> v1(19); //v1 has ten elements with value 0\n",
    "vector<int> v2{10}; // v2 has one elemment with value 10"
   ]
  },
  {
   "cell_type": "code",
   "execution_count": null,
   "id": "67518618",
   "metadata": {},
   "outputs": [],
   "source": [
    "vector<vector<int>> ivec;\n"
   ]
  },
  {
   "cell_type": "code",
   "execution_count": null,
   "id": "12c698cb",
   "metadata": {},
   "outputs": [],
   "source": [
    "vector<string> svec(10, \"null\")"
   ]
  },
  {
   "cell_type": "code",
   "execution_count": null,
   "id": "9d4924e8",
   "metadata": {},
   "outputs": [],
   "source": [
    "svec"
   ]
  },
  {
   "cell_type": "code",
   "execution_count": null,
   "id": "4c97d898",
   "metadata": {},
   "outputs": [],
   "source": [
    "vector<string> v7 {10, \"hi\"}"
   ]
  },
  {
   "cell_type": "code",
   "execution_count": null,
   "id": "084cdb16",
   "metadata": {},
   "outputs": [],
   "source": [
    "v7"
   ]
  },
  {
   "cell_type": "markdown",
   "id": "d8983734",
   "metadata": {},
   "source": [
    "Adding elements to a vector"
   ]
  },
  {
   "cell_type": "code",
   "execution_count": null,
   "id": "09de36d7",
   "metadata": {},
   "outputs": [],
   "source": [
    "vector <int> v2; //empty vector\n"
   ]
  },
  {
   "cell_type": "code",
   "execution_count": null,
   "id": "922c7620",
   "metadata": {},
   "outputs": [],
   "source": [
    "for (int i; i!=100; ++i)\n",
    "    v2.push_back(i)"
   ]
  },
  {
   "cell_type": "code",
   "execution_count": null,
   "id": "e674247d",
   "metadata": {},
   "outputs": [],
   "source": [
    "string word;\n",
    "vector<string> text;"
   ]
  },
  {
   "cell_type": "code",
   "execution_count": null,
   "id": "b141d89b",
   "metadata": {
    "scrolled": true
   },
   "outputs": [],
   "source": [
    "while (cin>>word) {\n",
    "    text.push_back(word);\n",
    "}"
   ]
  },
  {
   "cell_type": "code",
   "execution_count": null,
   "id": "54d9b2ae",
   "metadata": {},
   "outputs": [],
   "source": [
    "text"
   ]
  },
  {
   "cell_type": "markdown",
   "id": "4684be17",
   "metadata": {},
   "source": [
    "Other vector Operations"
   ]
  },
  {
   "cell_type": "code",
   "execution_count": null,
   "id": "83effab3",
   "metadata": {},
   "outputs": [],
   "source": [
    "vector<int> v{1,2,3,4,5,6,7,8,9};\n",
    "for (auto &i:v) //for each element in v(note: i is a reference)\n",
    "    i*=i;\n",
    "for (auto i:v) //for each element in v\n",
    "    cout<<i<<\" \";"
   ]
  },
  {
   "cell_type": "code",
   "execution_count": null,
   "id": "684ecbbb",
   "metadata": {},
   "outputs": [],
   "source": [
    "//Computing a vector Index"
   ]
  },
  {
   "cell_type": "code",
   "execution_count": null,
   "id": "1cc8eeff",
   "metadata": {},
   "outputs": [],
   "source": [
    "//count the number of grades by clusterns of ten\n",
    "\n",
    "vector<unsigned> scores(11,0); //11 buckets all initally 0\n",
    "unsigned grade;\n",
    "while (cin >> grade) {   //read the rules\n",
    "    if (grade <= 100)    // handle only valid grades\n",
    "        ++scores[grade/10];\n",
    "}"
   ]
  },
  {
   "cell_type": "code",
   "execution_count": null,
   "id": "5a0a02c6",
   "metadata": {},
   "outputs": [],
   "source": [
    "scores"
   ]
  },
  {
   "cell_type": "code",
   "execution_count": null,
   "id": "c1fc2ca2",
   "metadata": {},
   "outputs": [],
   "source": [
    "vector<int> ivec;\n",
    "ivec[1] = 42;"
   ]
  },
  {
   "cell_type": "code",
   "execution_count": null,
   "id": "0d9f4a36",
   "metadata": {},
   "outputs": [],
   "source": [
    "cout<< ivec[1]"
   ]
  },
  {
   "cell_type": "code",
   "execution_count": null,
   "id": "3efc890b",
   "metadata": {},
   "outputs": [],
   "source": [
    "vector<string> words(11);\n",
    "string cums;\n",
    "for (auto i=0;i!=words.size();++i)\n",
    "    cin>>cums;\n",
    "    words.push_back(cums);\n",
    "    if (cums==\"exit\") {break;};"
   ]
  },
  {
   "cell_type": "code",
   "execution_count": null,
   "id": "debad86e",
   "metadata": {},
   "outputs": [],
   "source": [
    "words"
   ]
  },
  {
   "cell_type": "code",
   "execution_count": 15,
   "id": "d4b470e8",
   "metadata": {},
   "outputs": [],
   "source": [
    "//ex3.19\n",
    "\n",
    "vector<int> vec1 (10,42);\n",
    "vector<int> vec2 {42,42,42,42,42,42,42,42,42,42};\n",
    "//vector<string> vec3 {10,\"42\"}"
   ]
  },
  {
   "cell_type": "markdown",
   "id": "7a244b68",
   "metadata": {},
   "source": [
    "Introducing Iterators"
   ]
  },
  {
   "cell_type": "code",
   "execution_count": 27,
   "id": "1c06c6a9",
   "metadata": {},
   "outputs": [],
   "source": [
    "string vec = \"hello\""
   ]
  },
  {
   "cell_type": "code",
   "execution_count": 28,
   "id": "6d2361f7",
   "metadata": {},
   "outputs": [
    {
     "data": {
      "text/plain": [
       "\"hello\""
      ]
     },
     "execution_count": 28,
     "metadata": {},
     "output_type": "execute_result"
    }
   ],
   "source": [
    "vec"
   ]
  },
  {
   "cell_type": "code",
   "execution_count": 30,
   "id": "fa6b1fa0",
   "metadata": {},
   "outputs": [],
   "source": [
    "string s(\"some string\");\n",
    "if (s.begin() != s.end()){\n",
    "    auto it = s.begin();\n",
    "    *it = toupper(*it);\n",
    "}"
   ]
  },
  {
   "cell_type": "code",
   "execution_count": 43,
   "id": "bf7a4bf9",
   "metadata": {},
   "outputs": [],
   "source": [
    "for (auto i = *vec.begin(); i!=*vec.end() && !isspace(i); ++i)\n",
    "{\n",
    "    cout<<i<<'\\n';\n",
    "}"
   ]
  },
  {
   "cell_type": "code",
   "execution_count": 44,
   "id": "86847eb6",
   "metadata": {},
   "outputs": [
    {
     "data": {
      "text/plain": [
       "@0x555825e3aa80"
      ]
     },
     "execution_count": 44,
     "metadata": {},
     "output_type": "execute_result"
    }
   ],
   "source": [
    "vec.end()"
   ]
  },
  {
   "cell_type": "markdown",
   "id": "1a6287bc",
   "metadata": {},
   "source": [
    "Iterator Types"
   ]
  },
  {
   "cell_type": "code",
   "execution_count": 47,
   "id": "d4af48c1",
   "metadata": {},
   "outputs": [],
   "source": [
    "//Just as we do not know the precise type of a vectors or string ssize_type member. so too we generally do not know\n",
    "//and do not need to know the precise type of an iterator\n",
    "\n",
    "vector<int>::iterator it; //it can read and write vector<int> elements\n",
    "string::iterator it2; // it2 can read and write characters in a string"
   ]
  },
  {
   "cell_type": "code",
   "execution_count": 48,
   "id": "3710bbd1",
   "metadata": {},
   "outputs": [],
   "source": [
    "vector<int>::const_iterator it3;  //it3 can read but not write elements\n",
    "string:: const_iterator it4;     // it4 can read but not write characters"
   ]
  },
  {
   "cell_type": "code",
   "execution_count": 3,
   "id": "539e1436",
   "metadata": {},
   "outputs": [],
   "source": [
    "vector<int> v;\n",
    "auto it3 = v.cbegin();  //it3 has a type const_iterator"
   ]
  },
  {
   "cell_type": "code",
   "execution_count": 4,
   "id": "3d030122",
   "metadata": {},
   "outputs": [],
   "source": [
    "//v.begin() the first element\n",
    "//v.end() the element after the last\n",
    "\n",
    "\n"
   ]
  },
  {
   "cell_type": "markdown",
   "id": "1637e950",
   "metadata": {},
   "source": [
    "Combining Dereference an Member Access"
   ]
  },
  {
   "cell_type": "code",
   "execution_count": 22,
   "id": "077943c7",
   "metadata": {},
   "outputs": [],
   "source": [
    "vector<int> el(10,1)"
   ]
  },
  {
   "cell_type": "code",
   "execution_count": 34,
   "id": "b778e6b6",
   "metadata": {},
   "outputs": [
    {
     "name": "stderr",
     "output_type": "stream",
     "text": [
      "\u001b[1minput_line_52:2:22: \u001b[0m\u001b[0;1;31merror: \u001b[0m\u001b[1mno member named 'size' in 'std::vector<int, std::allocator<int> >'\u001b[0m\n",
      " for (auto i=0;i= el.size();++i)\n",
      "\u001b[0;1;32m                  ~~ ^\n",
      "\u001b[0m"
     ]
    },
    {
     "ename": "Interpreter Error",
     "evalue": "",
     "output_type": "error",
     "traceback": [
      "Interpreter Error: "
     ]
    }
   ],
   "source": [
    "for (auto i=0;i= el.size();++i)\n",
    "    {cout<<i;}"
   ]
  },
  {
   "cell_type": "code",
   "execution_count": 32,
   "id": "9aff3e6b",
   "metadata": {},
   "outputs": [],
   "source": [
    "vector<int> ve = {1,1,1,1,1,1,1,1,1,1}"
   ]
  },
  {
   "cell_type": "code",
   "execution_count": 33,
   "id": "ed999d19",
   "metadata": {},
   "outputs": [
    {
     "data": {
      "text/plain": [
       "@0x7fbe80a850c0"
      ]
     },
     "execution_count": 33,
     "metadata": {},
     "output_type": "execute_result"
    }
   ],
   "source": [
    "ve"
   ]
  },
  {
   "cell_type": "code",
   "execution_count": 2,
   "id": "fdb1e3e5",
   "metadata": {},
   "outputs": [],
   "source": [
    "vector<int> sett;\n",
    "int ele;"
   ]
  },
  {
   "cell_type": "code",
   "execution_count": 11,
   "id": "7bbbf50d",
   "metadata": {},
   "outputs": [
    {
     "name": "stdout",
     "output_type": "stream",
     "text": [
      "1\n",
      "2\n",
      "3\n",
      "4\n",
      "5\n",
      "3\n",
      "2nd6\n",
      "5\n",
      "2nd6\n",
      "7\n",
      "2nd6\n",
      "9\n",
      "2nd6\n"
     ]
    }
   ],
   "source": [
    "//ex 3.3.3/3.20/3.24\n",
    "\n",
    "int ele;\n",
    "vector<int> sett;\n",
    "while (sett.size() < 5)\n",
    "{\n",
    "    cin>>ele;\n",
    "    sett.push_back(ele);\n",
    "}\n",
    "for (auto x=0; x<sett.size()-1;++x)\n",
    "{\n",
    "    cout<<sett[x] + sett[x+1]<<endl;\n",
    "    cout<<\"2nd\"<<sett[x] + sett[sett.size()-1 - x]<<endl;\n",
    "}\n"
   ]
  },
  {
   "cell_type": "code",
   "execution_count": 6,
   "id": "0f0c7b4d",
   "metadata": {},
   "outputs": [
    {
     "data": {
      "text/plain": [
       "1852402787"
      ]
     },
     "execution_count": 6,
     "metadata": {},
     "output_type": "execute_result"
    }
   ],
   "source": [
    "sett[5]"
   ]
  },
  {
   "cell_type": "markdown",
   "id": "cc39e8b5",
   "metadata": {},
   "source": [
    "Arrays"
   ]
  },
  {
   "cell_type": "code",
   "execution_count": 10,
   "id": "ae5e64e6",
   "metadata": {},
   "outputs": [],
   "source": [
    "//fixed length and elements cannot be added afterwards\n",
    "//increased performance wrt vector but comes at a cost of flexibility"
   ]
  },
  {
   "cell_type": "markdown",
   "id": "8e7b41fa",
   "metadata": {},
   "source": [
    "Defining and Initializing built in arrays"
   ]
  },
  {
   "cell_type": "code",
   "execution_count": 12,
   "id": "d14e8d19",
   "metadata": {},
   "outputs": [
    {
     "name": "stderr",
     "output_type": "stream",
     "text": [
      "\u001b[1minput_line_23:2:2: \u001b[0m\u001b[0;1;31merror: \u001b[0m\u001b[1muse of undeclared identifier 'get_size'\u001b[0m\n",
      " get_size()\n",
      "\u001b[0;1;32m ^\n",
      "\u001b[0m"
     ]
    },
    {
     "ename": "Interpreter Error",
     "evalue": "",
     "output_type": "error",
     "traceback": [
      "Interpreter Error: "
     ]
    }
   ],
   "source": [
    "get_size()"
   ]
  },
  {
   "cell_type": "code",
   "execution_count": 13,
   "id": "e60996ed",
   "metadata": {},
   "outputs": [],
   "source": [
    "string strs[3]"
   ]
  },
  {
   "cell_type": "code",
   "execution_count": 15,
   "id": "4b531fca",
   "metadata": {},
   "outputs": [],
   "source": [
    "unsigned cnt =42"
   ]
  },
  {
   "cell_type": "code",
   "execution_count": 18,
   "id": "4003151d",
   "metadata": {},
   "outputs": [],
   "source": [
    "unsigned cnt =42;\n",
    "constexpr unsigned sz = 42;\n"
   ]
  },
  {
   "cell_type": "code",
   "execution_count": 19,
   "id": "c5c4fa20",
   "metadata": {},
   "outputs": [],
   "source": [
    "int arr[10];"
   ]
  },
  {
   "cell_type": "code",
   "execution_count": 21,
   "id": "9e641852",
   "metadata": {},
   "outputs": [],
   "source": [
    "int *parr[sz] //array of 42 pointers to int"
   ]
  },
  {
   "cell_type": "code",
   "execution_count": 25,
   "id": "1437e29f",
   "metadata": {},
   "outputs": [
    {
     "data": {
      "text/plain": [
       "@0x7ffd48995e18"
      ]
     },
     "execution_count": 25,
     "metadata": {},
     "output_type": "execute_result"
    }
   ],
   "source": []
  },
  {
   "cell_type": "code",
   "execution_count": 26,
   "id": "0a916a26",
   "metadata": {},
   "outputs": [],
   "source": [
    "//Explicityly Initializing Array Elements"
   ]
  },
  {
   "cell_type": "code",
   "execution_count": 34,
   "id": "0fd63cd3",
   "metadata": {},
   "outputs": [],
   "source": [
    "const unsigned sz  = 3;\n",
    "int ia1[sz] = {0,1,2}; //array of three ints\n",
    "\n",
    "int a2[] = {0,1,2}; //dimension inferred from the elements\n",
    "\n",
    "int a3[5] = {0,1,2}; //excess positions initialized to zero"
   ]
  },
  {
   "cell_type": "code",
   "execution_count": 38,
   "id": "2fd51734",
   "metadata": {},
   "outputs": [],
   "source": [
    "string a4[3] = {\"hi\", \"bye\"};\n",
    "//same as {\"hi\",\"bye\",\"\"}"
   ]
  },
  {
   "cell_type": "code",
   "execution_count": 40,
   "id": "6b807542",
   "metadata": {},
   "outputs": [
    {
     "name": "stderr",
     "output_type": "stream",
     "text": [
      "\u001b[1minput_line_60:2:19: \u001b[0m\u001b[0;1;31merror: \u001b[0m\u001b[1mexcess elements in array initializer\u001b[0m\n",
      " int a5[2] = {0,1,2};//excess elements\n",
      "\u001b[0;1;32m                  ^\n",
      "\u001b[0m"
     ]
    },
    {
     "ename": "Interpreter Error",
     "evalue": "",
     "output_type": "error",
     "traceback": [
      "Interpreter Error: "
     ]
    }
   ],
   "source": [
    "int a5[2] = {0,1,2};//excess elements"
   ]
  },
  {
   "cell_type": "markdown",
   "id": "b34fc154",
   "metadata": {},
   "source": [
    "Character Arrays are special"
   ]
  },
  {
   "cell_type": "code",
   "execution_count": 54,
   "id": "6811c4a5",
   "metadata": {},
   "outputs": [
    {
     "name": "stderr",
     "output_type": "stream",
     "text": [
      "\u001b[1minput_line_77:6:20: \u001b[0m\u001b[0;1;31merror: \u001b[0m\u001b[1minitializer-string for char array is too long\u001b[0m\n",
      "const char a4[6] = \"Daniel\"; //error no space for the null\n",
      "\u001b[0;1;32m                   ^~~~~~~~\n",
      "\u001b[0m"
     ]
    },
    {
     "ename": "Interpreter Error",
     "evalue": "",
     "output_type": "error",
     "traceback": [
      "Interpreter Error: "
     ]
    }
   ],
   "source": [
    "//when string is initialized, a null character is automatically initialized\n",
    "\n",
    "char a[] = {'C','+','+'}; //no null\n",
    "char a1[] = {'C','+','+','\\0'}; //with explicit null\n",
    "char a3[] = \"C++\";   //null added automatically\n",
    "const char a4[6] = \"Daniel\"; //error no space for the null"
   ]
  },
  {
   "cell_type": "code",
   "execution_count": 52,
   "id": "e919bdcc",
   "metadata": {},
   "outputs": [
    {
     "data": {
      "text/plain": [
       "\"C++\""
      ]
     },
     "execution_count": 52,
     "metadata": {},
     "output_type": "execute_result"
    }
   ],
   "source": [
    "a3"
   ]
  },
  {
   "cell_type": "markdown",
   "id": "c138dfa0",
   "metadata": {},
   "source": [
    "No Copy or Assignment"
   ]
  },
  {
   "cell_type": "code",
   "execution_count": 56,
   "id": "ea84a2c6",
   "metadata": {},
   "outputs": [
    {
     "name": "stderr",
     "output_type": "stream",
     "text": [
      "\u001b[1minput_line_79:5:5: \u001b[0m\u001b[0;1;31merror: \u001b[0m\u001b[1marray initializer must be an initializer list\u001b[0m\n",
      "int a2[] = a; //cannot initialize one array with another\n",
      "\u001b[0;1;32m    ^\n",
      "\u001b[0m"
     ]
    },
    {
     "ename": "Interpreter Error",
     "evalue": "",
     "output_type": "error",
     "traceback": [
      "Interpreter Error: "
     ]
    }
   ],
   "source": [
    "//We cannot initialize an array as a copy of another array nor is it legal to assign \n",
    "//one array to another\n",
    "\n",
    "int a[] = {0,1,2};\n",
    "int a2[] = a; //cannot initialize one array with another\n",
    "\n",
    "a2 = a;"
   ]
  },
  {
   "cell_type": "code",
   "execution_count": 57,
   "id": "1b9f2b83",
   "metadata": {},
   "outputs": [],
   "source": [
    "//Understanding Complicated Array Declarations"
   ]
  },
  {
   "cell_type": "code",
   "execution_count": 58,
   "id": "b17dd4f0",
   "metadata": {},
   "outputs": [],
   "source": [
    "int arr[10]"
   ]
  },
  {
   "cell_type": "code",
   "execution_count": 59,
   "id": "ad022913",
   "metadata": {},
   "outputs": [
    {
     "data": {
      "text/plain": [
       "{ 0, 0, 0, 0, 0, 0, 0, 0, 0, 0 }"
      ]
     },
     "execution_count": 59,
     "metadata": {},
     "output_type": "execute_result"
    }
   ],
   "source": [
    "arr"
   ]
  },
  {
   "cell_type": "code",
   "execution_count": 63,
   "id": "221aa828",
   "metadata": {},
   "outputs": [],
   "source": [
    "int (*Parray)[10] = &arr  //points to an array of ten ints"
   ]
  },
  {
   "cell_type": "code",
   "execution_count": 64,
   "id": "100b7e98",
   "metadata": {},
   "outputs": [
    {
     "data": {
      "text/plain": [
       "{ 0, 0, 0, 0, 0, 0, 0, 0, 0, 0 }"
      ]
     },
     "execution_count": 64,
     "metadata": {},
     "output_type": "execute_result"
    }
   ],
   "source": [
    "*Parray"
   ]
  },
  {
   "cell_type": "code",
   "execution_count": 65,
   "id": "696cc174",
   "metadata": {},
   "outputs": [],
   "source": [
    "int (&arrRef)[10] = arr;"
   ]
  },
  {
   "cell_type": "code",
   "execution_count": 66,
   "id": "9c2035c8",
   "metadata": {},
   "outputs": [
    {
     "data": {
      "text/plain": [
       "{ 0, 0, 0, 0, 0, 0, 0, 0, 0, 0 }"
      ]
     },
     "execution_count": 66,
     "metadata": {},
     "output_type": "execute_result"
    }
   ],
   "source": [
    "arrRef"
   ]
  },
  {
   "cell_type": "code",
   "execution_count": 69,
   "id": "0d21ae02",
   "metadata": {},
   "outputs": [],
   "source": [
    "char st[12] = \"fundamental\""
   ]
  },
  {
   "cell_type": "code",
   "execution_count": 80,
   "id": "33eeae4e",
   "metadata": {},
   "outputs": [],
   "source": [
    "unsigned buf_size = 1024;\n"
   ]
  },
  {
   "cell_type": "code",
   "execution_count": 81,
   "id": "dccef05f",
   "metadata": {},
   "outputs": [
    {
     "name": "stderr",
     "output_type": "stream",
     "text": [
      "\u001b[1minput_line_113:2:6: \u001b[0m\u001b[0;1;31merror: \u001b[0m\u001b[1mvariable length array declaration not allowed at file scope\u001b[0m\n",
      " int ia[buf_size]\n",
      "\u001b[0;1;32m     ^  ~~~~~~~~\n",
      "\u001b[0m"
     ]
    },
    {
     "ename": "Interpreter Error",
     "evalue": "",
     "output_type": "error",
     "traceback": [
      "Interpreter Error: "
     ]
    }
   ],
   "source": [
    "int ia[buf_size]  //not constant size"
   ]
  },
  {
   "cell_type": "code",
   "execution_count": 83,
   "id": "0f06b1cc",
   "metadata": {},
   "outputs": [],
   "source": [
    "int text_size()\n",
    "{\n",
    "    return 1;\n",
    "}"
   ]
  },
  {
   "cell_type": "code",
   "execution_count": 84,
   "id": "04594ac4",
   "metadata": {},
   "outputs": [
    {
     "name": "stderr",
     "output_type": "stream",
     "text": [
      "\u001b[1minput_line_116:2:6: \u001b[0m\u001b[0;1;31merror: \u001b[0m\u001b[1mvariable length array declaration not allowed at file scope\u001b[0m\n",
      " int ia[text_size()]\n",
      "\u001b[0;1;32m     ^  ~~~~~~~~~~~\n",
      "\u001b[0m"
     ]
    },
    {
     "ename": "Interpreter Error",
     "evalue": "",
     "output_type": "error",
     "traceback": [
      "Interpreter Error: "
     ]
    }
   ],
   "source": [
    "int ia[text_size()]"
   ]
  },
  {
   "cell_type": "code",
   "execution_count": 85,
   "id": "1c55e72e",
   "metadata": {},
   "outputs": [],
   "source": [
    "int ia[4*7-14]"
   ]
  },
  {
   "cell_type": "markdown",
   "id": "07567be7",
   "metadata": {},
   "source": [
    "Accessing the elements of an Array"
   ]
  },
  {
   "cell_type": "code",
   "execution_count": 87,
   "id": "d2303984",
   "metadata": {},
   "outputs": [
    {
     "name": "stdout",
     "output_type": "stream",
     "text": [
      "2\n",
      "323\n",
      "4234\n",
      "423\n",
      "42\n",
      "34234\n",
      "ff\n"
     ]
    }
   ],
   "source": [
    "//count the number of grades by clusters of ten\n",
    "\n",
    "unsigned scores[11] = {}; //11 buckets all value initialized to 0\n",
    "unsigned grade;\n",
    "\n",
    "while (cin>>grade)\n",
    "{\n",
    "    if (grade <= 100)\n",
    "        ++scores[grade/10];\n",
    "}"
   ]
  },
  {
   "cell_type": "code",
   "execution_count": 88,
   "id": "87a1b816",
   "metadata": {},
   "outputs": [
    {
     "data": {
      "text/plain": [
       "{ 1, 0, 0, 0, 1, 0, 0, 0, 0, 0, 0 }"
      ]
     },
     "execution_count": 88,
     "metadata": {},
     "output_type": "execute_result"
    }
   ],
   "source": [
    "scores"
   ]
  },
  {
   "cell_type": "code",
   "execution_count": 91,
   "id": "9c94eed3",
   "metadata": {},
   "outputs": [
    {
     "name": "stdout",
     "output_type": "stream",
     "text": [
      "1 0 0 0 1 0 0 0 0 0 0 \n"
     ]
    }
   ],
   "source": [
    "for (auto i: scores)\n",
    "{\n",
    "    cout<<i<<\" \";\n",
    "    \n",
    "}\n",
    "cout<<endl;"
   ]
  },
  {
   "cell_type": "markdown",
   "id": "c0e097cc",
   "metadata": {},
   "source": [
    "Checking Subscript Values"
   ]
  },
  {
   "cell_type": "code",
   "execution_count": null,
   "id": "f2cd22d2",
   "metadata": {},
   "outputs": [],
   "source": [
    "#"
   ]
  },
  {
   "cell_type": "code",
   "execution_count": 2,
   "id": "98a1ca10",
   "metadata": {},
   "outputs": [],
   "source": [
    "constexpr size_t array_size =10;"
   ]
  },
  {
   "cell_type": "code",
   "execution_count": 3,
   "id": "ebbafa9c",
   "metadata": {},
   "outputs": [],
   "source": [
    "int ia[array_size];"
   ]
  },
  {
   "cell_type": "code",
   "execution_count": 4,
   "id": "efa87a83",
   "metadata": {},
   "outputs": [],
   "source": [
    "for (size_t ix = 1; ix <= array_size; ++ix)\n",
    "    ia[ix] = ix;"
   ]
  },
  {
   "cell_type": "code",
   "execution_count": 13,
   "id": "383517c1",
   "metadata": {},
   "outputs": [],
   "source": [
    "int arr[10];\n",
    "\n",
    "for (auto i=0; i<10;++i)\n",
    "    arr[i] = i+1"
   ]
  },
  {
   "cell_type": "code",
   "execution_count": 14,
   "id": "d1e71bd2",
   "metadata": {},
   "outputs": [
    {
     "data": {
      "text/plain": [
       "{ 1, 2, 3, 4, 5, 6, 7, 8, 9, 10 }"
      ]
     },
     "execution_count": 14,
     "metadata": {},
     "output_type": "execute_result"
    }
   ],
   "source": [
    "arr"
   ]
  },
  {
   "cell_type": "code",
   "execution_count": 19,
   "id": "25cae193",
   "metadata": {},
   "outputs": [],
   "source": [
    "int arr2[10]"
   ]
  },
  {
   "cell_type": "code",
   "execution_count": 25,
   "id": "45d204ad",
   "metadata": {},
   "outputs": [],
   "source": [
    "for(auto i: arr2)\n",
    "    arr2[i] = arr[i]"
   ]
  },
  {
   "cell_type": "code",
   "execution_count": 26,
   "id": "70d45205",
   "metadata": {},
   "outputs": [
    {
     "data": {
      "text/plain": [
       "{ 1, 2, 3, 4, 5, 6, 7, 8, 9, 10 }"
      ]
     },
     "execution_count": 26,
     "metadata": {},
     "output_type": "execute_result"
    }
   ],
   "source": [
    "arr2"
   ]
  },
  {
   "cell_type": "code",
   "execution_count": 13,
   "id": "54c5b29b",
   "metadata": {},
   "outputs": [],
   "source": [
    "//Using vectors\n",
    "\n",
    "vector <int> arr,arr2"
   ]
  },
  {
   "cell_type": "code",
   "execution_count": 14,
   "id": "a8955a7f",
   "metadata": {},
   "outputs": [],
   "source": [
    "for (auto i=0;i<10;++i)\n",
    "    arr.push_back(i+1)"
   ]
  },
  {
   "cell_type": "code",
   "execution_count": 15,
   "id": "9c81b1bc",
   "metadata": {},
   "outputs": [
    {
     "data": {
      "text/plain": [
       "{ 1, 2, 3, 4, 5, 6, 7, 8, 9, 10 }"
      ]
     },
     "execution_count": 15,
     "metadata": {},
     "output_type": "execute_result"
    }
   ],
   "source": [
    "arr"
   ]
  },
  {
   "cell_type": "code",
   "execution_count": 16,
   "id": "25c78a48",
   "metadata": {},
   "outputs": [
    {
     "data": {
      "text/plain": [
       "{ 1, 2, 3, 4, 5, 6, 7, 8, 9, 10 }"
      ]
     },
     "execution_count": 16,
     "metadata": {},
     "output_type": "execute_result"
    }
   ],
   "source": [
    "arr2 = arr"
   ]
  },
  {
   "cell_type": "code",
   "execution_count": 17,
   "id": "cd6bbfcc",
   "metadata": {},
   "outputs": [
    {
     "data": {
      "text/plain": [
       "{ 1, 2, 3, 4, 5, 6, 7, 8, 9, 10 }"
      ]
     },
     "execution_count": 17,
     "metadata": {},
     "output_type": "execute_result"
    }
   ],
   "source": [
    "arr2"
   ]
  },
  {
   "cell_type": "markdown",
   "id": "e52968de",
   "metadata": {},
   "source": [
    "Pointers and Arrays"
   ]
  },
  {
   "cell_type": "code",
   "execution_count": 19,
   "id": "a9ede708",
   "metadata": {},
   "outputs": [
    {
     "data": {
      "text/plain": [
       "{ 0, 1, 2, 3, 4, 5, 6, 7 }"
      ]
     },
     "execution_count": 19,
     "metadata": {},
     "output_type": "execute_result"
    }
   ],
   "source": [
    "//Pointers are iterators\n",
    "\n",
    "int arr[] = {0,1,2,3,4,5,6,7};\n",
    "arr"
   ]
  },
  {
   "cell_type": "code",
   "execution_count": 22,
   "id": "6d0a327d",
   "metadata": {},
   "outputs": [],
   "source": [
    "int *p = arr;"
   ]
  },
  {
   "cell_type": "code",
   "execution_count": 23,
   "id": "6616904b",
   "metadata": {},
   "outputs": [
    {
     "data": {
      "text/plain": [
       "@0x7fff89ac1eb8"
      ]
     },
     "execution_count": 23,
     "metadata": {},
     "output_type": "execute_result"
    }
   ],
   "source": [
    "++p"
   ]
  },
  {
   "cell_type": "code",
   "execution_count": 26,
   "id": "9b42971f",
   "metadata": {},
   "outputs": [],
   "source": [
    "//pointer position can be changed with the ++"
   ]
  },
  {
   "cell_type": "code",
   "execution_count": 34,
   "id": "75c84709",
   "metadata": {},
   "outputs": [
    {
     "name": "stderr",
     "output_type": "stream",
     "text": [
      "\u001b[1minput_line_60:2:12: \u001b[0m\u001b[0;1;35mwarning: \u001b[0m\u001b[1marray index 10 is past the end of the array (which contains 8 elements) [-Warray-bounds]\u001b[0m\n",
      " int *e = &arr[10]\n",
      "\u001b[0;1;32m           ^   ~~\n",
      "\u001b[0m\u001b[1minput_line_34:3:1: \u001b[0m\u001b[0;1;30mnote: \u001b[0marray 'arr' declared here\u001b[0m\n",
      "int arr[] = {0,1,2,3,4,5,6,7};\n",
      "\u001b[0;1;32m^\n",
      "\u001b[0m"
     ]
    }
   ],
   "source": [
    "int *e = &arr[10]"
   ]
  },
  {
   "cell_type": "code",
   "execution_count": 35,
   "id": "404e4cb6",
   "metadata": {},
   "outputs": [
    {
     "data": {
      "text/plain": [
       "-611561052"
      ]
     },
     "execution_count": 35,
     "metadata": {},
     "output_type": "execute_result"
    }
   ],
   "source": [
    "*e"
   ]
  },
  {
   "cell_type": "code",
   "execution_count": 40,
   "id": "5a69a738",
   "metadata": {},
   "outputs": [
    {
     "data": {
      "text/plain": [
       "@0x7fff89ac1eb8"
      ]
     },
     "execution_count": 40,
     "metadata": {},
     "output_type": "execute_result"
    }
   ],
   "source": [
    "--e"
   ]
  },
  {
   "cell_type": "code",
   "execution_count": 41,
   "id": "cbb3be00",
   "metadata": {},
   "outputs": [
    {
     "data": {
      "text/plain": [
       "7"
      ]
     },
     "execution_count": 41,
     "metadata": {},
     "output_type": "execute_result"
    }
   ],
   "source": [
    "*e"
   ]
  },
  {
   "cell_type": "code",
   "execution_count": 42,
   "id": "f09cb254",
   "metadata": {},
   "outputs": [
    {
     "data": {
      "text/plain": [
       "-611561052"
      ]
     },
     "execution_count": 42,
     "metadata": {},
     "output_type": "execute_result"
    }
   ],
   "source": [
    "++e;\n",
    "*e"
   ]
  },
  {
   "cell_type": "code",
   "execution_count": 43,
   "id": "7f78884c",
   "metadata": {},
   "outputs": [
    {
     "name": "stdout",
     "output_type": "stream",
     "text": [
      "0\n",
      "1\n",
      "2\n",
      "3\n",
      "4\n",
      "5\n",
      "6\n",
      "7\n"
     ]
    }
   ],
   "source": [
    "for (int *b = arr; b != e; ++b)\n",
    "    cout << *b <<endl;"
   ]
  },
  {
   "cell_type": "markdown",
   "id": "a7caa251",
   "metadata": {},
   "source": [
    "The Library begin and end Functions"
   ]
  },
  {
   "cell_type": "code",
   "execution_count": 44,
   "id": "73806a07",
   "metadata": {},
   "outputs": [
    {
     "data": {
      "text/plain": [
       "{ 0, 1, 2, 3, 4, 5, 6, 7 }"
      ]
     },
     "execution_count": 44,
     "metadata": {},
     "output_type": "execute_result"
    }
   ],
   "source": [
    "arr"
   ]
  },
  {
   "cell_type": "code",
   "execution_count": 50,
   "id": "512b527b",
   "metadata": {},
   "outputs": [],
   "source": [
    "//int *beg = begin(arr);\n",
    "int *last = end(arr);"
   ]
  },
  {
   "cell_type": "code",
   "execution_count": 52,
   "id": "8bf45a67",
   "metadata": {},
   "outputs": [],
   "source": [
    "//Begin returs apointer to the first, and end returns a pointer one past\n",
    "//the last element in the given array"
   ]
  },
  {
   "cell_type": "code",
   "execution_count": 54,
   "id": "614a06e9",
   "metadata": {},
   "outputs": [
    {
     "name": "stderr",
     "output_type": "stream",
     "text": [
      "\u001b[1minput_line_91:5:8: \u001b[0m\u001b[0;1;31merror: \u001b[0m\u001b[1muse of undeclared identifier 'pbeg'; did you mean 'beg'?\u001b[0m\n",
      "while (pbeg != pend && *pbeg >= 0)\n",
      "\u001b[0;1;32m       ^~~~\n",
      "\u001b[0m\u001b[0;32m       beg\n",
      "\u001b[0m\u001b[1minput_line_91:3:6: \u001b[0m\u001b[0;1;30mnote: \u001b[0m'beg' declared here\u001b[0m\n",
      "int *beg = begin(arr);\n",
      "\u001b[0;1;32m     ^\n",
      "\u001b[0m\u001b[1minput_line_91:5:16: \u001b[0m\u001b[0;1;31merror: \u001b[0m\u001b[1muse of undeclared identifier 'pend'\u001b[0m\n",
      "while (pbeg != pend && *pbeg >= 0)\n",
      "\u001b[0;1;32m               ^\n",
      "\u001b[0m\u001b[1minput_line_91:5:25: \u001b[0m\u001b[0;1;31merror: \u001b[0m\u001b[1muse of undeclared identifier 'pbeg'\u001b[0m\n",
      "while (pbeg != pend && *pbeg >= 0)\n",
      "\u001b[0;1;32m                        ^\n",
      "\u001b[0m\u001b[1minput_line_91:6:7: \u001b[0m\u001b[0;1;31merror: \u001b[0m\u001b[1muse of undeclared identifier 'pbeg'; did you mean 'beg'?\u001b[0m\n",
      "    ++pbeg;\n",
      "\u001b[0;1;32m      ^~~~\n",
      "\u001b[0m\u001b[0;32m      beg\n",
      "\u001b[0m\u001b[1minput_line_91:3:6: \u001b[0m\u001b[0;1;30mnote: \u001b[0m'beg' declared here\u001b[0m\n",
      "int *beg = begin(arr);\n",
      "\u001b[0;1;32m     ^\n",
      "\u001b[0m"
     ]
    },
    {
     "ename": "Interpreter Error",
     "evalue": "",
     "output_type": "error",
     "traceback": [
      "Interpreter Error: "
     ]
    }
   ],
   "source": [
    "//find the first negative element, stopping if we have seen all the elemtns\n",
    "int *beg = begin(arr);\n",
    "int *last = end(arr);\n",
    "while (pbeg != pend && *pbeg >= 0)\n",
    "    ++pbeg;"
   ]
  },
  {
   "cell_type": "markdown",
   "id": "5a103017",
   "metadata": {},
   "source": [
    "Pointer Arithmetic"
   ]
  },
  {
   "cell_type": "code",
   "execution_count": 2,
   "id": "013d5b54",
   "metadata": {},
   "outputs": [
    {
     "data": {
      "text/plain": [
       "1"
      ]
     },
     "execution_count": 2,
     "metadata": {},
     "output_type": "execute_result"
    }
   ],
   "source": [
    "constexpr size_t sz = 5;\n",
    "int arr[sz] = {1,2,3,4,5};\n",
    "int *ip = arr;\n",
    "*ip"
   ]
  },
  {
   "cell_type": "code",
   "execution_count": 3,
   "id": "6c260869",
   "metadata": {},
   "outputs": [],
   "source": [
    "auto *ip2 = ip + 4;"
   ]
  },
  {
   "cell_type": "code",
   "execution_count": 5,
   "id": "db54ed6e",
   "metadata": {},
   "outputs": [
    {
     "data": {
      "text/plain": [
       "5"
      ]
     },
     "execution_count": 5,
     "metadata": {},
     "output_type": "execute_result"
    }
   ],
   "source": [
    "*ip2"
   ]
  },
  {
   "cell_type": "code",
   "execution_count": 8,
   "id": "70c3328d",
   "metadata": {},
   "outputs": [],
   "source": [
    "auto n = end(arr) - begin(arr)"
   ]
  },
  {
   "cell_type": "code",
   "execution_count": 9,
   "id": "bf577852",
   "metadata": {},
   "outputs": [
    {
     "data": {
      "text/plain": [
       "5"
      ]
     },
     "execution_count": 9,
     "metadata": {},
     "output_type": "execute_result"
    }
   ],
   "source": [
    "n"
   ]
  },
  {
   "cell_type": "code",
   "execution_count": 12,
   "id": "d56908ae",
   "metadata": {},
   "outputs": [],
   "source": [
    "//The result of subtracting two pointers is a library type named ptrdiff_t.\n",
    "//Like size_t, the ptrdiff_t type is a machine specific type and is defined in the \n",
    "//cstddef header.\n",
    "\n",
    "//Because subtraction might yield a negative distance, ptrdiff_t\n",
    "// is a signed integral type."
   ]
  },
  {
   "cell_type": "code",
   "execution_count": 13,
   "id": "b4e47e23",
   "metadata": {},
   "outputs": [],
   "source": [
    "//Traverse the lements of an array\n",
    "\n",
    "int *b = arr, *e = arr + sz;"
   ]
  },
  {
   "cell_type": "code",
   "execution_count": 17,
   "id": "a9572325",
   "metadata": {},
   "outputs": [],
   "source": [
    "while (b<e){\n",
    "    //use *b\n",
    "    ++b;\n",
    "}"
   ]
  },
  {
   "cell_type": "code",
   "execution_count": 19,
   "id": "dc9fbc4e",
   "metadata": {},
   "outputs": [],
   "source": [
    "//We cannot use the relational operators on pointers to two unrelated objects:\n",
    "int i = 0, sz = 42;\n",
    "int *p = &i, *e = &sz;"
   ]
  },
  {
   "cell_type": "code",
   "execution_count": 22,
   "id": "d2cfcc0e",
   "metadata": {},
   "outputs": [
    {
     "data": {
      "text/plain": [
       "42"
      ]
     },
     "execution_count": 22,
     "metadata": {},
     "output_type": "execute_result"
    }
   ],
   "source": [
    "*e"
   ]
  },
  {
   "cell_type": "markdown",
   "id": "21eec4fc",
   "metadata": {},
   "source": [
    "Interatction between Dereference and Pointer Arithmetic"
   ]
  },
  {
   "cell_type": "code",
   "execution_count": 25,
   "id": "e5b0aa81",
   "metadata": {},
   "outputs": [],
   "source": [
    "int ia[] = {0,2,4,6,8};\n",
    "int last = *(ia + 4);"
   ]
  },
  {
   "cell_type": "code",
   "execution_count": 27,
   "id": "8b9d3398",
   "metadata": {},
   "outputs": [
    {
     "data": {
      "text/plain": [
       "8"
      ]
     },
     "execution_count": 27,
     "metadata": {},
     "output_type": "execute_result"
    }
   ],
   "source": [
    "last"
   ]
  },
  {
   "cell_type": "markdown",
   "id": "2de77533",
   "metadata": {},
   "source": [
    "Subscripts and Pointers"
   ]
  },
  {
   "cell_type": "code",
   "execution_count": 2,
   "id": "3a94e2be",
   "metadata": {},
   "outputs": [],
   "source": [
    "//As qw have seen in most places when we use the name of an array, we are\n",
    "//really using a pointer to the first element in that array. One place where the compiler\n",
    "//does this transformation is when we subscript an array. Given\n",
    "\n",
    "\n",
    "int ia[] = {0,2,4,6,8};"
   ]
  },
  {
   "cell_type": "code",
   "execution_count": 3,
   "id": "19ee5f99",
   "metadata": {},
   "outputs": [],
   "source": [
    "//if we write ia[0] that is an expression that usess the name of an array. When \n",
    "//we subscript an array, we are really subscripting a pointer to an aelement in that array:\n",
    "\n",
    "int i = ia[2]"
   ]
  },
  {
   "cell_type": "code",
   "execution_count": 7,
   "id": "be10443a",
   "metadata": {},
   "outputs": [
    {
     "data": {
      "text/plain": [
       "0"
      ]
     },
     "execution_count": 7,
     "metadata": {},
     "output_type": "execute_result"
    }
   ],
   "source": [
    "int *p = ia;\n",
    "//p points to the first element in ia\n",
    "\n",
    "*p"
   ]
  },
  {
   "cell_type": "code",
   "execution_count": 8,
   "id": "87ff138b",
   "metadata": {},
   "outputs": [
    {
     "data": {
      "text/plain": [
       "4"
      ]
     },
     "execution_count": 8,
     "metadata": {},
     "output_type": "execute_result"
    }
   ],
   "source": [
    "i = *(p + 2)"
   ]
  },
  {
   "cell_type": "code",
   "execution_count": 9,
   "id": "65f6d707",
   "metadata": {},
   "outputs": [],
   "source": [
    "//We can use the subscript operator on anay pointer, as long as that pointer points to an element(or one past the last element in an array)"
   ]
  },
  {
   "cell_type": "code",
   "execution_count": 12,
   "id": "7d7df789",
   "metadata": {},
   "outputs": [],
   "source": [
    "int *p = &ia[2] //p points to the element indexed by 2"
   ]
  },
  {
   "cell_type": "code",
   "execution_count": 13,
   "id": "e9aa185a",
   "metadata": {},
   "outputs": [
    {
     "data": {
      "text/plain": [
       "4"
      ]
     },
     "execution_count": 13,
     "metadata": {},
     "output_type": "execute_result"
    }
   ],
   "source": [
    "*p"
   ]
  },
  {
   "cell_type": "code",
   "execution_count": 16,
   "id": "9325f96b",
   "metadata": {},
   "outputs": [],
   "source": [
    "int j = p[1] //p[1] is equivalent to *(p+1)"
   ]
  },
  {
   "cell_type": "code",
   "execution_count": 15,
   "id": "41dcc3d9",
   "metadata": {},
   "outputs": [
    {
     "data": {
      "text/plain": [
       "6"
      ]
     },
     "execution_count": 15,
     "metadata": {},
     "output_type": "execute_result"
    }
   ],
   "source": [
    "j"
   ]
  },
  {
   "cell_type": "code",
   "execution_count": 18,
   "id": "aea56b15",
   "metadata": {},
   "outputs": [
    {
     "data": {
      "text/plain": [
       "6"
      ]
     },
     "execution_count": 18,
     "metadata": {},
     "output_type": "execute_result"
    }
   ],
   "source": [
    "//The library types force the index used with a subscript to be an unsigned value.\n",
    "//The built in subscript operator does not"
   ]
  },
  {
   "cell_type": "code",
   "execution_count": 41,
   "id": "bc0687dc",
   "metadata": {},
   "outputs": [],
   "source": [
    "int *p1 = &ia[1];\n",
    "int *p2 = &ia[4];"
   ]
  },
  {
   "cell_type": "code",
   "execution_count": 42,
   "id": "effd6dbe",
   "metadata": {},
   "outputs": [
    {
     "data": {
      "text/plain": [
       "@0x7ffe74656038"
      ]
     },
     "execution_count": 42,
     "metadata": {},
     "output_type": "execute_result"
    }
   ],
   "source": [
    "p1 += p2-p1"
   ]
  },
  {
   "cell_type": "code",
   "execution_count": 43,
   "id": "77b1d3d7",
   "metadata": {},
   "outputs": [
    {
     "data": {
      "text/plain": [
       "8"
      ]
     },
     "execution_count": 43,
     "metadata": {},
     "output_type": "execute_result"
    }
   ],
   "source": [
    "*p1"
   ]
  },
  {
   "cell_type": "code",
   "execution_count": 53,
   "id": "e1260fac",
   "metadata": {},
   "outputs": [],
   "source": [
    "//ex3.35\n",
    "int *p = ia;\n",
    "while (p<end(ia))\n",
    "{\n",
    "    *p=0;\n",
    "    ++p;\n",
    "}\n",
    "//done"
   ]
  },
  {
   "cell_type": "code",
   "execution_count": 54,
   "id": "af85ead5",
   "metadata": {},
   "outputs": [
    {
     "data": {
      "text/plain": [
       "{ 0, 0, 0, 0, 0 }"
      ]
     },
     "execution_count": 54,
     "metadata": {},
     "output_type": "execute_result"
    }
   ],
   "source": [
    "ia"
   ]
  },
  {
   "cell_type": "code",
   "execution_count": 3,
   "id": "431b4728",
   "metadata": {},
   "outputs": [],
   "source": [
    "int ia1[] = {1,2,3,4,5,6};\n",
    "int ia2[] = {2,3,4,5,6,7};"
   ]
  },
  {
   "cell_type": "code",
   "execution_count": 12,
   "id": "ca2a4ed4",
   "metadata": {},
   "outputs": [],
   "source": [
    "int *p1 = ia1;\n",
    "int *p2 = ia2;"
   ]
  },
  {
   "cell_type": "code",
   "execution_count": 17,
   "id": "3a68cdf8",
   "metadata": {},
   "outputs": [
    {
     "name": "stderr",
     "output_type": "stream",
     "text": [
      "In file included from input_line_5:1:\n",
      "In file included from /home/susearc/miniconda3/envs/xeus-cling/include/xeus/xinterpreter.hpp:17:\n",
      "In file included from /home/susearc/miniconda3/envs/xeus-cling/include/xeus/xcomm.hpp:19:\n",
      "In file included from /home/susearc/miniconda3/envs/xeus-cling/include/nlohmann/json.hpp:55:\n",
      "In file included from /home/susearc/miniconda3/envs/xeus-cling/include/nlohmann/detail/input/binary_reader.hpp:16:\n",
      "In file included from /home/susearc/miniconda3/envs/xeus-cling/include/nlohmann/detail/input/input_adapters.hpp:7:\n",
      "In file included from /home/susearc/miniconda3/envs/xeus-cling/bin/../lib/gcc/../../x86_64-conda-linux-gnu/include/c++/12.2.0/istream:39:\n",
      "\u001b[1m/home/susearc/miniconda3/envs/xeus-cling/bin/../lib/gcc/../../x86_64-conda-linux-gnu/include/c++/12.2.0/ostream:618:8: \u001b[0m\u001b[0;1;31merror: \u001b[0m\u001b[1mno member named 'setstate' in 'std::basic_ostream<char>'\u001b[0m\n",
      "        __out.setstate(ios_base::badbit);\n",
      "\u001b[0;1;32m        ~~~~~ ^\n",
      "\u001b[0m\u001b[1minput_line_24:7:5: \u001b[0m\u001b[0;1;30mnote: \u001b[0min instantiation of function template specialization 'std::operator<<<std::char_traits<char> >' requested here\u001b[0m\n",
      "cout<<\"H\";\n",
      "\u001b[0;1;32m    ^\n",
      "\u001b[0m"
     ]
    },
    {
     "ename": "Interpreter Error",
     "evalue": "",
     "output_type": "error",
     "traceback": [
      "Interpreter Error: "
     ]
    }
   ],
   "source": [
    "while(p1==p2)\n",
    "{\n",
    "    ++p1;\n",
    "    ++p2;\n",
    "}\n",
    "cout<<\"H\";"
   ]
  },
  {
   "cell_type": "code",
   "execution_count": 19,
   "id": "06934bb4",
   "metadata": {},
   "outputs": [],
   "source": [
    "vector <int> ia {1,23}"
   ]
  },
  {
   "cell_type": "code",
   "execution_count": 20,
   "id": "bd196867",
   "metadata": {},
   "outputs": [
    {
     "data": {
      "text/plain": [
       "1"
      ]
     },
     "execution_count": 20,
     "metadata": {},
     "output_type": "execute_result"
    }
   ],
   "source": [
    "ia[0]"
   ]
  },
  {
   "cell_type": "code",
   "execution_count": 21,
   "id": "a3051bad",
   "metadata": {},
   "outputs": [
    {
     "data": {
      "text/plain": [
       "@0x56026d2675b0"
      ]
     },
     "execution_count": 21,
     "metadata": {},
     "output_type": "execute_result"
    }
   ],
   "source": [
    "end(ia)"
   ]
  },
  {
   "cell_type": "code",
   "execution_count": null,
   "id": "04046d11",
   "metadata": {},
   "outputs": [],
   "source": []
  }
 ],
 "metadata": {
  "kernelspec": {
   "display_name": "C++11 [conda env:xeus-cling]",
   "language": "C++11",
   "name": "conda-env-xeus-cling-xcpp11"
  },
  "language_info": {
   "codemirror_mode": "text/x-c++src",
   "file_extension": ".cpp",
   "mimetype": "text/x-c++src",
   "name": "c++",
   "version": "11"
  },
  "vscode": {
   "interpreter": {
    "hash": "f1d1fc19b365f9ad1716256121e630045ec3968373de9ab098681291a9c3ca4f"
   }
  }
 },
 "nbformat": 4,
 "nbformat_minor": 5
}
