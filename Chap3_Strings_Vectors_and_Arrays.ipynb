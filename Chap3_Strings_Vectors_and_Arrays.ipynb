{
 "cells": [
  {
   "cell_type": "code",
   "execution_count": null,
   "id": "b6118363",
   "metadata": {},
   "outputs": [],
   "source": [
    "#include<iostream>\n"
   ]
  },
  {
   "cell_type": "code",
   "execution_count": null,
   "id": "529c539e",
   "metadata": {},
   "outputs": [],
   "source": [
    "//A string is a variable length sequence of characters\n",
    "//A vector holds a variable length sequenec of objects of a given type"
   ]
  },
  {
   "cell_type": "markdown",
   "id": "c7352416",
   "metadata": {},
   "source": [
    "Namespace using Declarations"
   ]
  },
  {
   "cell_type": "code",
   "execution_count": null,
   "id": "20a44302",
   "metadata": {
    "vscode": {
     "languageId": "html"
    }
   },
   "outputs": [],
   "source": [
    "//std::cin says that we want ot use the name cin form the namespace std"
   ]
  },
  {
   "cell_type": "code",
   "execution_count": null,
   "id": "6827ffaf",
   "metadata": {},
   "outputs": [],
   "source": [
    "//A using declaration lets us use a name from a anamespace without\n",
    "//qualifying the name with a namespace_name::prefic . A using declaration has the form \n",
    "//using namespace::name;"
   ]
  },
  {
   "cell_type": "code",
   "execution_count": null,
   "id": "33a749ba",
   "metadata": {},
   "outputs": [],
   "source": [
    "using namespace std;"
   ]
  },
  {
   "attachments": {},
   "cell_type": "markdown",
   "id": "57ff8802",
   "metadata": {},
   "source": [
    "A separate using Declaration is required for each name"
   ]
  },
  {
   "cell_type": "code",
   "execution_count": null,
   "id": "56a224fa",
   "metadata": {},
   "outputs": [
    {
     "ename": "",
     "evalue": "",
     "output_type": "error",
     "traceback": [
      "\u001b[1;31mFailed to start the Kernel. \n",
      "\u001b[1;31mUnknown option: -=\n",
      "\u001b[1;31musage: /home/susearc/miniconda3/envs/xeus-cling/bin/python [option] ... [-c cmd | -m mod | file | -] [arg] ...\n",
      "\u001b[1;31mTry `python -h' for more information. \n",
      "\u001b[1;31mView Jupyter <a href='command:jupyter.viewOutput'>log</a> for further details."
     ]
    }
   ],
   "source": [
    "//Headers should no include using Declaration"
   ]
  },
  {
   "cell_type": "code",
   "execution_count": null,
   "id": "6259bcdc",
   "metadata": {
    "vscode": {
     "languageId": "cpp"
    }
   },
   "outputs": [
    {
     "ename": "",
     "evalue": "",
     "output_type": "error",
     "traceback": [
      "\u001b[1;31mFailed to start the Kernel. \n",
      "\u001b[1;31mUnknown option: -=\n",
      "\u001b[1;31musage: /home/susearc/miniconda3/envs/xeus-cling/bin/python [option] ... [-c cmd | -m mod | file | -] [arg] ...\n",
      "\u001b[1;31mTry `python -h' for more information. \n",
      "\u001b[1;31mView Jupyter <a href='command:jupyter.viewOutput'>log</a> for further details."
     ]
    }
   ],
   "source": [
    "//Defining Strings\n",
    "\n",
    "#include <string>\n"
   ]
  },
  {
   "cell_type": "code",
   "execution_count": null,
   "id": "58764d72",
   "metadata": {},
   "outputs": [],
   "source": []
  }
 ],
 "metadata": {
  "kernelspec": {
   "display_name": "C++11",
   "language": "python",
   "name": "xcpp11"
  },
  "language_info": {
   "codemirror_mode": "text/x-c++src",
   "file_extension": ".cpp",
   "mimetype": "text/x-c++src",
   "name": "python",
   "version": "3.11.0 | packaged by conda-forge | (main, Oct 25 2022, 06:24:40) [GCC 10.4.0]"
  },
  "vscode": {
   "interpreter": {
    "hash": "f1d1fc19b365f9ad1716256121e630045ec3968373de9ab098681291a9c3ca4f"
   }
  }
 },
 "nbformat": 4,
 "nbformat_minor": 5
}
