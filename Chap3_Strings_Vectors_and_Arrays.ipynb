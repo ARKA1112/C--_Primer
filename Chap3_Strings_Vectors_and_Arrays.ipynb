{
 "cells": [
  {
   "cell_type": "code",
   "execution_count": null,
   "id": "b6118363",
   "metadata": {},
   "outputs": [],
   "source": [
    "#include<iostream>\n",
    "using namespace std;"
   ]
  },
  {
   "cell_type": "code",
   "execution_count": null,
   "id": "529c539e",
   "metadata": {},
   "outputs": [],
   "source": [
    "//A string is a variable length sequence of characters\n",
    "//A vector holds a variable length sequenec of objects of a given type"
   ]
  },
  {
   "cell_type": "markdown",
   "id": "c7352416",
   "metadata": {},
   "source": [
    "Namespace using Declarations"
   ]
  },
  {
   "cell_type": "code",
   "execution_count": null,
   "id": "20a44302",
   "metadata": {
    "vscode": {
     "languageId": "html"
    }
   },
   "outputs": [],
   "source": [
    "//std::cin says that we want ot use the name cin form the namespace std"
   ]
  },
  {
   "cell_type": "code",
   "execution_count": null,
   "id": "6827ffaf",
   "metadata": {},
   "outputs": [],
   "source": [
    "//A using declaration lets us use a name from a anamespace without\n",
    "//qualifying the name with a namespace_name::prefic . A using declaration has the form \n",
    "//using namespace::name;"
   ]
  },
  {
   "cell_type": "code",
   "execution_count": null,
   "id": "33a749ba",
   "metadata": {},
   "outputs": [],
   "source": [
    "using namespace std;"
   ]
  },
  {
   "cell_type": "markdown",
   "id": "57ff8802",
   "metadata": {},
   "source": [
    "A separate using Declaration is required for each name"
   ]
  },
  {
   "cell_type": "code",
   "execution_count": null,
   "id": "56a224fa",
   "metadata": {},
   "outputs": [],
   "source": [
    "//Headers should no include using Declaration"
   ]
  },
  {
   "cell_type": "code",
   "execution_count": null,
   "id": "6259bcdc",
   "metadata": {},
   "outputs": [],
   "source": [
    "//Defining Strings\n",
    "\n",
    "#include <string>\n"
   ]
  },
  {
   "cell_type": "code",
   "execution_count": null,
   "id": "637a516b",
   "metadata": {},
   "outputs": [],
   "source": [
    "string s1"
   ]
  },
  {
   "cell_type": "code",
   "execution_count": null,
   "id": "3ae3da41",
   "metadata": {},
   "outputs": [],
   "source": [
    "#include <string>\n",
    "#include <iostream>\n",
    "using namespace std;\n",
    "string s1;\n",
    "string s2 = s1;//copy\n",
    "string s3 = \"hiya\";\n",
    "string s4{10,'c'};  //10 cs\n",
    "s4"
   ]
  },
  {
   "cell_type": "code",
   "execution_count": null,
   "id": "c4e25046",
   "metadata": {
    "vscode": {
     "languageId": "bat"
    }
   },
   "outputs": [],
   "source": [
    "s3"
   ]
  },
  {
   "cell_type": "markdown",
   "id": "299b23f5",
   "metadata": {
    "vscode": {
     "languageId": "bat"
    }
   },
   "source": [
    "Operations on strings"
   ]
  },
  {
   "cell_type": "code",
   "execution_count": null,
   "id": "48fa1235-b45d-4c09-b271-64f6c561b187",
   "metadata": {},
   "outputs": [],
   "source": [
    "#include<iostream>\n",
    "#include<string>\n",
    "using namespace std;"
   ]
  },
  {
   "cell_type": "code",
   "execution_count": null,
   "id": "a1cca641",
   "metadata": {},
   "outputs": [],
   "source": [
    "//Reading and Writing strings\n",
    "\n",
    "\n",
    "\n",
    "int main()\n",
    "{\n",
    "    string s;\n",
    "    cin >>s;\n",
    "    cout << s << endl;\n",
    "    return 0;\n",
    "}\n",
    "main()"
   ]
  },
  {
   "cell_type": "code",
   "execution_count": null,
   "id": "e0de783b-2203-4119-a2a4-d07e92aa1c98",
   "metadata": {},
   "outputs": [],
   "source": [
    "string s1, s2;\n",
    "cin >> s1>>s2;//resd first input into s1 and second into s2\n",
    "\n",
    "cout<<s1 <<s2; //write both strings"
   ]
  },
  {
   "cell_type": "code",
   "execution_count": null,
   "id": "62c21341-476a-4c81-ab6e-faa1972254f3",
   "metadata": {},
   "outputs": [],
   "source": [
    "//Reading an Unknown Number of strings\n",
    "string s;\n",
    "while (cin>>s && s!=\"end\")\n",
    "    cout<<s;"
   ]
  },
  {
   "cell_type": "code",
   "execution_count": null,
   "id": "82828017-09b0-41fa-9976-311b1aabdb4c",
   "metadata": {},
   "outputs": [],
   "source": [
    "//Using getline to Read an Entire Line\n",
    "\n",
    "\n",
    "int main()\n",
    "{\n",
    "    string line;\n",
    "    //read input a line at a time until end of file\n",
    "    while (getline(cin, line))\n",
    "        cout <<line;\n",
    "    return 0;\n",
    "}\n",
    "\n",
    "//pg87.cpp"
   ]
  },
  {
   "cell_type": "code",
   "execution_count": null,
   "id": "917ae97a-2ef8-4d35-a971-bf8a278d7e18",
   "metadata": {},
   "outputs": [],
   "source": [
    "// The sring empty and size Operations\n",
    "\n",
    "while (getline(cin,line))\n",
    "    if (!line.empty())\n",
    "        cout<<line <<endl;"
   ]
  },
  {
   "cell_type": "code",
   "execution_count": null,
   "id": "1312225b-62c4-43fc-8498-44d703ef7790",
   "metadata": {},
   "outputs": [],
   "source": [
    "//The size member return the length of a string . We can use size to print only lline longer than 80 characters\n",
    "string line;\n",
    "while (getline(cin, line))\n",
    "    if (line.size() > 80)\n",
    "        cout << line;"
   ]
  },
  {
   "cell_type": "code",
   "execution_count": null,
   "id": "c1abffd1-aae9-4947-8312-a571ec2aac6f",
   "metadata": {},
   "outputs": [],
   "source": [
    "string line {\"hello\"};\n",
    "line.size()"
   ]
  },
  {
   "cell_type": "code",
   "execution_count": null,
   "id": "d98fcf40-7885-494b-8baa-651fba9524d6",
   "metadata": {},
   "outputs": [],
   "source": [
    "//The string::size_type Type\n",
    "\n",
    "auto len = line.size();"
   ]
  },
  {
   "cell_type": "code",
   "execution_count": null,
   "id": "c52ec657-80bd-44f2-a73a-5d9f51b452c8",
   "metadata": {},
   "outputs": [],
   "source": [
    "decltype(line.size()) len = line.size()"
   ]
  },
  {
   "cell_type": "code",
   "execution_count": null,
   "id": "a6e4d796-7b82-4fc8-a696-de277f480d27",
   "metadata": {},
   "outputs": [],
   "source": [
    "//Comparing strings\n",
    "/*Rule1 - If two strings have different lengths and if every character in the shorter\n",
    "string is equal to the corresponding character of the longer string, then\n",
    "the shorter string is less than the longer one.*/\n",
    "\n",
    "/*Rule2 - If any characters at corresponding positions in the two strings differ, then\n",
    "the result of the string comparison is the result of comparing the first char-\n",
    "acter at which the strings differ.*/"
   ]
  },
  {
   "cell_type": "code",
   "execution_count": null,
   "id": "918a1895-3811-45ca-b58a-a3d310056986",
   "metadata": {},
   "outputs": [],
   "source": [
    "string str = \"Hello\";\n",
    "string phrase = \"Hello WOrld\";//highest length\n",
    "string slang = \"Hiya\";"
   ]
  },
  {
   "cell_type": "code",
   "execution_count": null,
   "id": "82843022-0eeb-477b-9e4c-291449c49cfd",
   "metadata": {},
   "outputs": [],
   "source": [
    "str>slang //still str is larger than slang by Rule2"
   ]
  },
  {
   "cell_type": "code",
   "execution_count": null,
   "id": "2705fef1-d6b0-445e-b05e-72efda8d12d0",
   "metadata": {},
   "outputs": [],
   "source": [
    "//Assignment for stirngs\n",
    "string s1 = \"Hello,\",s2 = \"World\\n\";\n",
    "string s3 =  s1 + s2;\n",
    "\n",
    "\n",
    "s1+=s2;  //equivalent to s1 = s1 + s2;"
   ]
  },
  {
   "cell_type": "code",
   "execution_count": null,
   "id": "b540031d-e630-4659-b8ed-1d4702c0b594",
   "metadata": {},
   "outputs": [],
   "source": [
    "//Adding Literals and strings\n",
    "\n",
    "string s4 = \"Hello\"+ s2;"
   ]
  },
  {
   "cell_type": "code",
   "execution_count": null,
   "id": "6c403b83-34f9-4280-ae6a-3df9c1e7ecdf",
   "metadata": {},
   "outputs": [],
   "source": [
    "//Excercise - To input one line at a time we can use getline(cin, line)\n",
    "//To input one word at a time we can use cin>>line;\n",
    "\n",
    "\n",
    "//3.3//3.4//3.5 all done"
   ]
  },
  {
   "cell_type": "markdown",
   "id": "5b777c5a-7139-42c7-b106-0d25d2d294ae",
   "metadata": {},
   "source": [
    "Dealing with the Characters in a string"
   ]
  },
  {
   "cell_type": "code",
   "execution_count": null,
   "id": "2607ccb7-7ca8-40fa-a56f-65b9091cde8c",
   "metadata": {},
   "outputs": [],
   "source": [
    "//Processing every character?\n",
    "//Use Range-Based for\n",
    "\n",
    "/*for (declaration:expression)\n",
    "    statement*/\n",
    "\n",
    "string str {\"some string\"};"
   ]
  },
  {
   "cell_type": "markdown",
   "id": "caa8a12e-36ee-413e-ab1b-de8e4a627910",
   "metadata": {},
   "source": [
    "![Alt text](Screenshot%20from%202022-12-15%2013-46-41.png)"
   ]
  },
  {
   "cell_type": "code",
   "execution_count": null,
   "id": "b56b1de6",
   "metadata": {},
   "outputs": [],
   "source": [
    "//using a Rnage for to change the characters in a string\n",
    "\n",
    "string s {\"Hello World\"};\n",
    "\n",
    "for (auto &x : s)\n",
    "    x = toupper(x); //c is a reference so the assignmentr chages the char in s\n",
    "cout<<s<<endl;"
   ]
  },
  {
   "cell_type": "code",
   "execution_count": null,
   "id": "d1be8d1b-883a-48b5-8e57-603a73547d87",
   "metadata": {},
   "outputs": [],
   "source": [
    "//Processing Only some characters?\n",
    "//Thera re two way to access individual characters in atring: We cna use a sub\n",
    "//scirpt or an iterator. We will have more to say about iterators later\n",
    "//the subscript operator(the [] operator) takes a string::size_type\n",
    "\n",
    "//first character s[0]\n",
    "//last character \n"
   ]
  }
 ],
 "metadata": {
  "kernelspec": {
   "display_name": "C++11 [conda env:xeus-cling]",
   "language": "C++11",
   "name": "conda-env-xeus-cling-xcpp11"
  },
  "language_info": {
   "codemirror_mode": "text/x-c++src",
   "file_extension": ".cpp",
   "mimetype": "text/x-c++src",
   "name": "c++",
   "version": "11"
  },
  "vscode": {
   "interpreter": {
    "hash": "f1d1fc19b365f9ad1716256121e630045ec3968373de9ab098681291a9c3ca4f"
   }
  }
 },
 "nbformat": 4,
 "nbformat_minor": 5
}
