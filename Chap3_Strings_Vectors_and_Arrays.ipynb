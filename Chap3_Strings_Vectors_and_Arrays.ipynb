{
 "cells": [
  {
   "cell_type": "code",
   "execution_count": 1,
   "id": "b6118363",
   "metadata": {
    "vscode": {
     "languageId": "c++"
    }
   },
   "outputs": [],
   "source": [
    "#include<iostream>\n",
    "#include<vector>\n",
    "using namespace std;"
   ]
  },
  {
   "cell_type": "code",
   "execution_count": null,
   "id": "529c539e",
   "metadata": {
    "vscode": {
     "languageId": "c++"
    }
   },
   "outputs": [],
   "source": [
    "//A string is a variable length sequence of characters\n",
    "//A vector holds a variable length sequenec of objects of a given type"
   ]
  },
  {
   "cell_type": "markdown",
   "id": "c7352416",
   "metadata": {},
   "source": [
    "Namespace using Declarations"
   ]
  },
  {
   "cell_type": "code",
   "execution_count": null,
   "id": "20a44302",
   "metadata": {
    "vscode": {
     "languageId": "html"
    }
   },
   "outputs": [],
   "source": [
    "//std::cin says that we want ot use the name cin form the namespace std"
   ]
  },
  {
   "cell_type": "code",
   "execution_count": null,
   "id": "6827ffaf",
   "metadata": {
    "vscode": {
     "languageId": "c++"
    }
   },
   "outputs": [],
   "source": [
    "//A using declaration lets us use a name from a anamespace without\n",
    "//qualifying the name with a namespace_name::prefic . A using declaration has the form \n",
    "//using namespace::name;"
   ]
  },
  {
   "cell_type": "code",
   "execution_count": null,
   "id": "33a749ba",
   "metadata": {
    "vscode": {
     "languageId": "c++"
    }
   },
   "outputs": [],
   "source": [
    "using namespace std;"
   ]
  },
  {
   "cell_type": "markdown",
   "id": "57ff8802",
   "metadata": {},
   "source": [
    "A separate using Declaration is required for each name"
   ]
  },
  {
   "cell_type": "code",
   "execution_count": null,
   "id": "56a224fa",
   "metadata": {
    "vscode": {
     "languageId": "c++"
    }
   },
   "outputs": [],
   "source": [
    "//Headers should no include using Declaration"
   ]
  },
  {
   "cell_type": "code",
   "execution_count": null,
   "id": "6259bcdc",
   "metadata": {
    "vscode": {
     "languageId": "c++"
    }
   },
   "outputs": [],
   "source": [
    "//Defining Strings\n",
    "\n",
    "#include <string>\n"
   ]
  },
  {
   "cell_type": "code",
   "execution_count": null,
   "id": "637a516b",
   "metadata": {
    "vscode": {
     "languageId": "c++"
    }
   },
   "outputs": [],
   "source": [
    "string s1"
   ]
  },
  {
   "cell_type": "code",
   "execution_count": null,
   "id": "3ae3da41",
   "metadata": {
    "vscode": {
     "languageId": "c++"
    }
   },
   "outputs": [],
   "source": [
    "#include <string>\n",
    "#include <iostream>\n",
    "using namespace std;\n",
    "string s1;\n",
    "string s2 = s1;//copy\n",
    "string s3 = \"hiya\";\n",
    "string s4{10,'c'};  //10 cs\n",
    "s4"
   ]
  },
  {
   "cell_type": "code",
   "execution_count": null,
   "id": "c4e25046",
   "metadata": {
    "vscode": {
     "languageId": "bat"
    }
   },
   "outputs": [],
   "source": [
    "s3"
   ]
  },
  {
   "cell_type": "markdown",
   "id": "299b23f5",
   "metadata": {
    "vscode": {
     "languageId": "bat"
    }
   },
   "source": [
    "Operations on strings"
   ]
  },
  {
   "cell_type": "code",
   "execution_count": null,
   "id": "48fa1235-b45d-4c09-b271-64f6c561b187",
   "metadata": {
    "vscode": {
     "languageId": "c++"
    }
   },
   "outputs": [],
   "source": [
    "#include<iostream>\n",
    "#include<string>\n",
    "using namespace std;"
   ]
  },
  {
   "cell_type": "code",
   "execution_count": null,
   "id": "a1cca641",
   "metadata": {
    "vscode": {
     "languageId": "c++"
    }
   },
   "outputs": [],
   "source": [
    "//Reading and Writing strings\n",
    "\n",
    "\n",
    "\n",
    "int main()\n",
    "{\n",
    "    string s;\n",
    "    cin >>s;\n",
    "    cout << s << endl;\n",
    "    return 0;\n",
    "}\n",
    "main()"
   ]
  },
  {
   "cell_type": "code",
   "execution_count": null,
   "id": "e0de783b-2203-4119-a2a4-d07e92aa1c98",
   "metadata": {
    "vscode": {
     "languageId": "c++"
    }
   },
   "outputs": [],
   "source": [
    "string s1, s2;\n",
    "cin >> s1>>s2;//resd first input into s1 and second into s2\n",
    "\n",
    "cout<<s1 <<s2; //write both strings"
   ]
  },
  {
   "cell_type": "code",
   "execution_count": null,
   "id": "62c21341-476a-4c81-ab6e-faa1972254f3",
   "metadata": {
    "vscode": {
     "languageId": "c++"
    }
   },
   "outputs": [],
   "source": [
    "//Reading an Unknown Number of strings\n",
    "string s;\n",
    "while (cin>>s && s!=\"end\")\n",
    "    cout<<s;"
   ]
  },
  {
   "cell_type": "code",
   "execution_count": null,
   "id": "82828017-09b0-41fa-9976-311b1aabdb4c",
   "metadata": {
    "vscode": {
     "languageId": "c++"
    }
   },
   "outputs": [],
   "source": [
    "//Using getline to Read an Entire Line\n",
    "\n",
    "\n",
    "int main()\n",
    "{\n",
    "    string line;\n",
    "    //read input a line at a time until end of file\n",
    "    while (getline(cin, line))\n",
    "        cout <<line;\n",
    "    return 0;\n",
    "}\n",
    "\n",
    "//pg87.cpp"
   ]
  },
  {
   "cell_type": "code",
   "execution_count": null,
   "id": "917ae97a-2ef8-4d35-a971-bf8a278d7e18",
   "metadata": {
    "vscode": {
     "languageId": "c++"
    }
   },
   "outputs": [],
   "source": [
    "// The sring empty and size Operations\n",
    "\n",
    "while (getline(cin,line))\n",
    "    if (!line.empty())\n",
    "        cout<<line <<endl;"
   ]
  },
  {
   "cell_type": "code",
   "execution_count": null,
   "id": "1312225b-62c4-43fc-8498-44d703ef7790",
   "metadata": {
    "vscode": {
     "languageId": "c++"
    }
   },
   "outputs": [],
   "source": [
    "//The size member return the length of a string . We can use size to print only lline longer than 80 characters\n",
    "string line;\n",
    "while (getline(cin, line))\n",
    "    if (line.size() > 80)\n",
    "        cout << line;"
   ]
  },
  {
   "cell_type": "code",
   "execution_count": null,
   "id": "c1abffd1-aae9-4947-8312-a571ec2aac6f",
   "metadata": {
    "vscode": {
     "languageId": "c++"
    }
   },
   "outputs": [],
   "source": [
    "string line {\"hello\"};\n",
    "line.size()"
   ]
  },
  {
   "cell_type": "code",
   "execution_count": null,
   "id": "d98fcf40-7885-494b-8baa-651fba9524d6",
   "metadata": {
    "vscode": {
     "languageId": "c++"
    }
   },
   "outputs": [],
   "source": [
    "//The string::size_type Type\n",
    "\n",
    "auto len = line.size();"
   ]
  },
  {
   "cell_type": "code",
   "execution_count": null,
   "id": "c52ec657-80bd-44f2-a73a-5d9f51b452c8",
   "metadata": {
    "vscode": {
     "languageId": "c++"
    }
   },
   "outputs": [],
   "source": [
    "decltype(line.size()) len = line.size()"
   ]
  },
  {
   "cell_type": "code",
   "execution_count": null,
   "id": "a6e4d796-7b82-4fc8-a696-de277f480d27",
   "metadata": {
    "vscode": {
     "languageId": "c++"
    }
   },
   "outputs": [],
   "source": [
    "//Comparing strings\n",
    "/*Rule1 - If two strings have different lengths and if every character in the shorter\n",
    "string is equal to the corresponding character of the longer string, then\n",
    "the shorter string is less than the longer one.*/\n",
    "\n",
    "/*Rule2 - If any characters at corresponding positions in the two strings differ, then\n",
    "the result of the string comparison is the result of comparing the first char-\n",
    "acter at which the strings differ.*/"
   ]
  },
  {
   "cell_type": "code",
   "execution_count": null,
   "id": "918a1895-3811-45ca-b58a-a3d310056986",
   "metadata": {
    "vscode": {
     "languageId": "c++"
    }
   },
   "outputs": [],
   "source": [
    "string str = \"Hello\";\n",
    "string phrase = \"Hello WOrld\";//highest length\n",
    "string slang = \"Hiya\";"
   ]
  },
  {
   "cell_type": "code",
   "execution_count": null,
   "id": "82843022-0eeb-477b-9e4c-291449c49cfd",
   "metadata": {
    "vscode": {
     "languageId": "c++"
    }
   },
   "outputs": [],
   "source": [
    "str>slang //still str is larger than slang by Rule2"
   ]
  },
  {
   "cell_type": "code",
   "execution_count": null,
   "id": "2705fef1-d6b0-445e-b05e-72efda8d12d0",
   "metadata": {
    "vscode": {
     "languageId": "c++"
    }
   },
   "outputs": [],
   "source": [
    "//Assignment for stirngs\n",
    "string s1 = \"Hello,\",s2 = \"World\\n\";\n",
    "string s3 =  s1 + s2;\n",
    "\n",
    "\n",
    "s1+=s2;  //equivalent to s1 = s1 + s2;"
   ]
  },
  {
   "cell_type": "code",
   "execution_count": null,
   "id": "b540031d-e630-4659-b8ed-1d4702c0b594",
   "metadata": {
    "vscode": {
     "languageId": "c++"
    }
   },
   "outputs": [],
   "source": [
    "//Adding Literals and strings\n",
    "\n",
    "string s4 = \"Hello\"+ s2;"
   ]
  },
  {
   "cell_type": "code",
   "execution_count": null,
   "id": "6c403b83-34f9-4280-ae6a-3df9c1e7ecdf",
   "metadata": {
    "vscode": {
     "languageId": "c++"
    }
   },
   "outputs": [],
   "source": [
    "//Excercise - To input one line at a time we can use getline(cin, line)\n",
    "//To input one word at a time we can use cin>>line;\n",
    "\n",
    "\n",
    "//3.3//3.4//3.5 all done"
   ]
  },
  {
   "cell_type": "markdown",
   "id": "5b777c5a-7139-42c7-b106-0d25d2d294ae",
   "metadata": {},
   "source": [
    "Dealing with the Characters in a string"
   ]
  },
  {
   "cell_type": "code",
   "execution_count": null,
   "id": "2607ccb7-7ca8-40fa-a56f-65b9091cde8c",
   "metadata": {
    "vscode": {
     "languageId": "c++"
    }
   },
   "outputs": [],
   "source": [
    "//Processing every character?\n",
    "//Use Range-Based for\n",
    "\n",
    "/*for (declaration:expression)\n",
    "    statement*/\n",
    "\n",
    "string str {\"some string\"};"
   ]
  },
  {
   "cell_type": "markdown",
   "id": "caa8a12e-36ee-413e-ab1b-de8e4a627910",
   "metadata": {},
   "source": [
    "![Alt text](Screenshot%20from%202022-12-15%2013-46-41.png)"
   ]
  },
  {
   "cell_type": "code",
   "execution_count": null,
   "id": "b56b1de6",
   "metadata": {
    "vscode": {
     "languageId": "c++"
    }
   },
   "outputs": [],
   "source": [
    "//using a Rnage for to change the characters in a string\n",
    "\n",
    "string s {\"Hello World\"};\n",
    "\n",
    "for (auto &x : s)\n",
    "    x = toupper(x); //c is a reference so the assignmentr chages the char in s\n",
    "cout<<s<<endl;"
   ]
  },
  {
   "cell_type": "code",
   "execution_count": null,
   "id": "d1be8d1b-883a-48b5-8e57-603a73547d87",
   "metadata": {
    "vscode": {
     "languageId": "c++"
    }
   },
   "outputs": [],
   "source": [
    "//Processing Only some characters?\n",
    "//Thera re two way to access individual characters in atring: We cna use a sub\n",
    "//scirpt or an iterator. We will have more to say about iterators later\n",
    "//the subscript operator(the [] operator) takes a string::size_type\n",
    "\n",
    "//first character s[0]\n",
    "//last character \n"
   ]
  },
  {
   "cell_type": "code",
   "execution_count": null,
   "id": "7ee02a6f",
   "metadata": {
    "vscode": {
     "languageId": "c++"
    }
   },
   "outputs": [],
   "source": [
    "c = toupper(c); //c is a reference so \n",
    "//the assignment  changes the char in s"
   ]
  },
  {
   "cell_type": "markdown",
   "id": "74928d92",
   "metadata": {},
   "source": [
    "Processing Only Some Characters?"
   ]
  },
  {
   "cell_type": "code",
   "execution_count": null,
   "id": "31b4cdb0",
   "metadata": {
    "vscode": {
     "languageId": "c++"
    }
   },
   "outputs": [],
   "source": [
    "//A range for works well when we need to process every character. However,\n",
    "//sometimes we need to access only a single character or to access\n",
    "//characters until some condition is reached.\n",
    "\n",
    "///[] is the subscript operator takes a string::size_type\n",
    "\n",
    "//first character s[1]\n",
    "//Last character s[s.size() -  1]\n",
    "\n",
    "\n"
   ]
  },
  {
   "cell_type": "code",
   "execution_count": null,
   "id": "0bc06676",
   "metadata": {
    "vscode": {
     "languageId": "c++"
    }
   },
   "outputs": [],
   "source": [
    "\n",
    "string s = \"Hello World!\""
   ]
  },
  {
   "cell_type": "code",
   "execution_count": null,
   "id": "9ab8556d",
   "metadata": {
    "vscode": {
     "languageId": "c++"
    }
   },
   "outputs": [],
   "source": [
    "if (!s.empty())\n",
    "    cout<<s[0]<<endl;"
   ]
  },
  {
   "cell_type": "code",
   "execution_count": null,
   "id": "bbd6dc57",
   "metadata": {
    "vscode": {
     "languageId": "c++"
    }
   },
   "outputs": [],
   "source": [
    "string s(\"some string\");\n",
    "if (!s.empty())\n",
    "    s[0] = toupper(s[0])"
   ]
  },
  {
   "cell_type": "code",
   "execution_count": null,
   "id": "3a59b4b6",
   "metadata": {
    "vscode": {
     "languageId": "c++"
    }
   },
   "outputs": [],
   "source": [
    "//Using a Subscript for Iteration\n",
    "\n",
    "//As another example, we'll change th efirst word in s to all uppercase:\n",
    "\n",
    "for (decltype(s.size()) index = 0;\n",
    "    index != s.size() && !isspace(s[index]); ++index)\n",
    "    s[index] = toupper(s[index]);"
   ]
  },
  {
   "cell_type": "markdown",
   "id": "7c819d55",
   "metadata": {},
   "source": [
    "Using a Subscript for Random Access"
   ]
  },
  {
   "cell_type": "code",
   "execution_count": null,
   "id": "1a1cf6d3",
   "metadata": {
    "vscode": {
     "languageId": "c++"
    }
   },
   "outputs": [],
   "source": [
    "const string hexdigits = \"0123456789ABCDEF\";"
   ]
  },
  {
   "cell_type": "code",
   "execution_count": null,
   "id": "25494298",
   "metadata": {
    "vscode": {
     "languageId": "c++"
    }
   },
   "outputs": [],
   "source": [
    "cout << \"Enter a series of numbers between 0 and 15\"\n",
    "    << \" Separated by spaces. Hit ENTER when finished: \"\n",
    "    <<endl;"
   ]
  },
  {
   "cell_type": "code",
   "execution_count": null,
   "id": "d54774f7",
   "metadata": {
    "vscode": {
     "languageId": "c++"
    }
   },
   "outputs": [],
   "source": [
    "string result;  //will hold the resultign hexifyd string"
   ]
  },
  {
   "cell_type": "code",
   "execution_count": null,
   "id": "2747db86",
   "metadata": {
    "vscode": {
     "languageId": "c++"
    }
   },
   "outputs": [],
   "source": [
    "string:: size_type  n; // hold numbers from the input\n",
    "while (cin >> n)\n",
    "    if (n < hexdigits.size()) //ignore invalid input\n",
    "        result += hexdigits[n]; //fetch the indicated hex digit\n",
    "cout << \"Your hex number is: \" << result << endl;"
   ]
  },
  {
   "cell_type": "code",
   "execution_count": null,
   "id": "f5622f6b",
   "metadata": {
    "vscode": {
     "languageId": "c++"
    }
   },
   "outputs": [],
   "source": [
    "//pg95.cpp"
   ]
  },
  {
   "cell_type": "code",
   "execution_count": null,
   "id": "9707addc",
   "metadata": {
    "vscode": {
     "languageId": "c++"
    }
   },
   "outputs": [],
   "source": [
    "string s;"
   ]
  },
  {
   "cell_type": "code",
   "execution_count": null,
   "id": "c4c7b43f",
   "metadata": {
    "vscode": {
     "languageId": "c++"
    }
   },
   "outputs": [],
   "source": [
    "cout<<s[0]<<endl;"
   ]
  },
  {
   "cell_type": "code",
   "execution_count": null,
   "id": "ee548454",
   "metadata": {
    "vscode": {
     "languageId": "c++"
    }
   },
   "outputs": [],
   "source": [
    "const string s = \"Keep Out!\""
   ]
  },
  {
   "cell_type": "code",
   "execution_count": null,
   "id": "6a04afb0",
   "metadata": {
    "vscode": {
     "languageId": "c++"
    }
   },
   "outputs": [],
   "source": [
    "for (auto &c: s){cout<<&c;}"
   ]
  },
  {
   "cell_type": "markdown",
   "id": "66bced5f",
   "metadata": {},
   "source": [
    "Library vector Type"
   ]
  },
  {
   "cell_type": "code",
   "execution_count": null,
   "id": "79ffa815",
   "metadata": {
    "vscode": {
     "languageId": "c++"
    }
   },
   "outputs": [],
   "source": [
    "//A vector is a collection of objects all of which have the sma type. Every\n",
    "//object in the collection has an associated index which gives access to that object.\n",
    "//A vector is often referred to as a container because it \"contains\"\n",
    "//other objects.\n",
    "//We'll have much more to say about containers in PartII\n",
    "\n",
    "\n",
    "//To use a vetor we must include the appropriate header.\n",
    "//In our examples we also assume that an appropriate using declaration is made:\n",
    "\n",
    "#include <vector>\n",
    "using std::vector;"
   ]
  },
  {
   "cell_type": "code",
   "execution_count": null,
   "id": "f81086eb",
   "metadata": {
    "vscode": {
     "languageId": "c++"
    }
   },
   "outputs": [],
   "source": [
    "vector<int> ivec; //ivec holds objects of type int\n",
    "vector<Sales_item> Sales_vec; //jolds Sales_items type objects\n",
    "vector<vector<string>> file; //objects that holds vectors and each vector holds string objects"
   ]
  },
  {
   "cell_type": "code",
   "execution_count": null,
   "id": "da469ff8",
   "metadata": {
    "vscode": {
     "languageId": "c++"
    }
   },
   "outputs": [],
   "source": [
    "//vector is  a template not a type. Types generated form vector must include the element type, for "
   ]
  },
  {
   "cell_type": "markdown",
   "id": "81d95bdd",
   "metadata": {},
   "source": [
    "Defining and Initializing vectors"
   ]
  },
  {
   "cell_type": "code",
   "execution_count": null,
   "id": "ff14bca6",
   "metadata": {
    "vscode": {
     "languageId": "c++"
    }
   },
   "outputs": [],
   "source": [
    "vector<int> ivec; //empty vector\n",
    "\n",
    "//lets give ivec some values\n",
    "\n",
    "vector<int> ivec2(ivec); //copy elemnts of ivec into ivec2\n",
    "vector<int> ivec3 = ivec;"
   ]
  },
  {
   "cell_type": "code",
   "execution_count": null,
   "id": "042efc19",
   "metadata": {
    "vscode": {
     "languageId": "c++"
    }
   },
   "outputs": [],
   "source": [
    "vector<string> svec(ivec2)  //type mismatch"
   ]
  },
  {
   "cell_type": "markdown",
   "id": "bf48fb54",
   "metadata": {},
   "source": [
    "List initializing a vector"
   ]
  },
  {
   "cell_type": "code",
   "execution_count": null,
   "id": "6f2c70f8",
   "metadata": {
    "vscode": {
     "languageId": "c++"
    }
   },
   "outputs": [],
   "source": [
    "vector<string> articles = {\"a\", \"an\", \"the\"}"
   ]
  },
  {
   "cell_type": "code",
   "execution_count": null,
   "id": "c31b45ae",
   "metadata": {
    "vscode": {
     "languageId": "c++"
    }
   },
   "outputs": [],
   "source": [
    "articles"
   ]
  },
  {
   "cell_type": "markdown",
   "id": "2503a2f2",
   "metadata": {},
   "source": [
    "Createing a Specified Number of Elements"
   ]
  },
  {
   "cell_type": "code",
   "execution_count": null,
   "id": "59f3e7ab",
   "metadata": {
    "vscode": {
     "languageId": "c++"
    }
   },
   "outputs": [],
   "source": [
    "vector<int> ivec(10,-1)  //vector of 10 elements each initialized to -1"
   ]
  },
  {
   "cell_type": "code",
   "execution_count": null,
   "id": "dffbcd99",
   "metadata": {
    "vscode": {
     "languageId": "c++"
    }
   },
   "outputs": [],
   "source": [
    "ivec"
   ]
  },
  {
   "cell_type": "code",
   "execution_count": null,
   "id": "ca06c66e",
   "metadata": {
    "vscode": {
     "languageId": "c++"
    }
   },
   "outputs": [],
   "source": [
    "vector<string> svec {10,\"hi\"}"
   ]
  },
  {
   "cell_type": "code",
   "execution_count": null,
   "id": "1517ab0a",
   "metadata": {
    "vscode": {
     "languageId": "c++"
    }
   },
   "outputs": [],
   "source": [
    "svec"
   ]
  },
  {
   "cell_type": "markdown",
   "id": "6dfb207c",
   "metadata": {},
   "source": [
    "List Initializer or Element Count"
   ]
  },
  {
   "cell_type": "code",
   "execution_count": null,
   "id": "6631c412",
   "metadata": {
    "vscode": {
     "languageId": "c++"
    }
   },
   "outputs": [],
   "source": [
    "vector<int> v1(19); //v1 has ten elements with value 0\n",
    "vector<int> v2{10}; // v2 has one elemment with value 10"
   ]
  },
  {
   "cell_type": "code",
   "execution_count": null,
   "id": "67518618",
   "metadata": {
    "vscode": {
     "languageId": "c++"
    }
   },
   "outputs": [],
   "source": [
    "vector<vector<int>> ivec;\n"
   ]
  },
  {
   "cell_type": "code",
   "execution_count": null,
   "id": "12c698cb",
   "metadata": {
    "vscode": {
     "languageId": "c++"
    }
   },
   "outputs": [],
   "source": [
    "vector<string> svec(10, \"null\")"
   ]
  },
  {
   "cell_type": "code",
   "execution_count": null,
   "id": "9d4924e8",
   "metadata": {
    "vscode": {
     "languageId": "c++"
    }
   },
   "outputs": [],
   "source": [
    "svec"
   ]
  },
  {
   "cell_type": "code",
   "execution_count": null,
   "id": "4c97d898",
   "metadata": {
    "vscode": {
     "languageId": "c++"
    }
   },
   "outputs": [],
   "source": [
    "vector<string> v7 {10, \"hi\"}"
   ]
  },
  {
   "cell_type": "code",
   "execution_count": null,
   "id": "084cdb16",
   "metadata": {
    "vscode": {
     "languageId": "c++"
    }
   },
   "outputs": [],
   "source": [
    "v7"
   ]
  },
  {
   "cell_type": "markdown",
   "id": "d8983734",
   "metadata": {},
   "source": [
    "Adding elements to a vector"
   ]
  },
  {
   "cell_type": "code",
   "execution_count": null,
   "id": "09de36d7",
   "metadata": {
    "vscode": {
     "languageId": "c++"
    }
   },
   "outputs": [],
   "source": [
    "vector <int> v2; //empty vector\n"
   ]
  },
  {
   "cell_type": "code",
   "execution_count": null,
   "id": "922c7620",
   "metadata": {
    "vscode": {
     "languageId": "c++"
    }
   },
   "outputs": [],
   "source": [
    "for (int i; i!=100; ++i)\n",
    "    v2.push_back(i)"
   ]
  },
  {
   "cell_type": "code",
   "execution_count": null,
   "id": "e674247d",
   "metadata": {
    "vscode": {
     "languageId": "c++"
    }
   },
   "outputs": [],
   "source": [
    "string word;\n",
    "vector<string> text;"
   ]
  },
  {
   "cell_type": "code",
   "execution_count": null,
   "id": "b141d89b",
   "metadata": {
    "scrolled": true,
    "vscode": {
     "languageId": "c++"
    }
   },
   "outputs": [],
   "source": [
    "while (cin>>word) {\n",
    "    text.push_back(word);\n",
    "}"
   ]
  },
  {
   "cell_type": "code",
   "execution_count": null,
   "id": "54d9b2ae",
   "metadata": {
    "vscode": {
     "languageId": "c++"
    }
   },
   "outputs": [],
   "source": [
    "text"
   ]
  },
  {
   "cell_type": "markdown",
   "id": "4684be17",
   "metadata": {},
   "source": [
    "Other vector Operations"
   ]
  },
  {
   "cell_type": "code",
   "execution_count": null,
   "id": "83effab3",
   "metadata": {
    "vscode": {
     "languageId": "c++"
    }
   },
   "outputs": [],
   "source": [
    "vector<int> v{1,2,3,4,5,6,7,8,9};\n",
    "for (auto &i:v) //for each element in v(note: i is a reference)\n",
    "    i*=i;\n",
    "for (auto i:v) //for each element in v\n",
    "    cout<<i<<\" \";"
   ]
  },
  {
   "cell_type": "code",
   "execution_count": null,
   "id": "684ecbbb",
   "metadata": {
    "vscode": {
     "languageId": "c++"
    }
   },
   "outputs": [],
   "source": [
    "//Computing a vector Index"
   ]
  },
  {
   "cell_type": "code",
   "execution_count": null,
   "id": "1cc8eeff",
   "metadata": {
    "vscode": {
     "languageId": "c++"
    }
   },
   "outputs": [],
   "source": [
    "//count the number of grades by clusterns of ten\n",
    "\n",
    "vector<unsigned> scores(11,0); //11 buckets all initally 0\n",
    "unsigned grade;\n",
    "while (cin >> grade) {   //read the rules\n",
    "    if (grade <= 100)    // handle only valid grades\n",
    "        ++scores[grade/10];\n",
    "}"
   ]
  },
  {
   "cell_type": "code",
   "execution_count": null,
   "id": "5a0a02c6",
   "metadata": {
    "vscode": {
     "languageId": "c++"
    }
   },
   "outputs": [],
   "source": [
    "scores"
   ]
  },
  {
   "cell_type": "code",
   "execution_count": null,
   "id": "c1fc2ca2",
   "metadata": {
    "vscode": {
     "languageId": "c++"
    }
   },
   "outputs": [],
   "source": [
    "vector<int> ivec;\n",
    "ivec[1] = 42;"
   ]
  },
  {
   "cell_type": "code",
   "execution_count": null,
   "id": "0d9f4a36",
   "metadata": {
    "vscode": {
     "languageId": "c++"
    }
   },
   "outputs": [],
   "source": [
    "cout<< ivec[1]"
   ]
  },
  {
   "cell_type": "code",
   "execution_count": null,
   "id": "3efc890b",
   "metadata": {
    "vscode": {
     "languageId": "c++"
    }
   },
   "outputs": [],
   "source": [
    "vector<string> words(11);\n",
    "string cums;\n",
    "for (auto i=0;i!=words.size();++i)\n",
    "    cin>>cums;\n",
    "    words.push_back(cums);\n",
    "    if (cums==\"exit\") {break;};"
   ]
  },
  {
   "cell_type": "code",
   "execution_count": null,
   "id": "debad86e",
   "metadata": {
    "vscode": {
     "languageId": "c++"
    }
   },
   "outputs": [],
   "source": [
    "words"
   ]
  },
  {
   "cell_type": "code",
   "execution_count": null,
   "id": "d4b470e8",
   "metadata": {
    "vscode": {
     "languageId": "c++"
    }
   },
   "outputs": [],
   "source": [
    "//ex3.19\n",
    "\n",
    "vector<int> vec1 (10,42);\n",
    "vector<int> vec2 {42,42,42,42,42,42,42,42,42,42};\n",
    "//vector<string> vec3 {10,\"42\"}"
   ]
  },
  {
   "cell_type": "markdown",
   "id": "7a244b68",
   "metadata": {},
   "source": [
    "Introducing Iterators"
   ]
  },
  {
   "cell_type": "code",
   "execution_count": null,
   "id": "1c06c6a9",
   "metadata": {
    "vscode": {
     "languageId": "c++"
    }
   },
   "outputs": [],
   "source": [
    "string vec = \"hello\""
   ]
  },
  {
   "cell_type": "code",
   "execution_count": null,
   "id": "6d2361f7",
   "metadata": {
    "vscode": {
     "languageId": "c++"
    }
   },
   "outputs": [],
   "source": [
    "vec"
   ]
  },
  {
   "cell_type": "code",
   "execution_count": null,
   "id": "fa6b1fa0",
   "metadata": {
    "vscode": {
     "languageId": "c++"
    }
   },
   "outputs": [],
   "source": [
    "string s(\"some string\");\n",
    "if (s.begin() != s.end()){\n",
    "    auto it = s.begin();\n",
    "    *it = toupper(*it);\n",
    "}"
   ]
  },
  {
   "cell_type": "code",
   "execution_count": null,
   "id": "bf7a4bf9",
   "metadata": {
    "vscode": {
     "languageId": "c++"
    }
   },
   "outputs": [],
   "source": [
    "for (auto i = *vec.begin(); i!=*vec.end() && !isspace(i); ++i)\n",
    "{\n",
    "    cout<<i<<'\\n';\n",
    "}"
   ]
  },
  {
   "cell_type": "code",
   "execution_count": null,
   "id": "86847eb6",
   "metadata": {
    "vscode": {
     "languageId": "c++"
    }
   },
   "outputs": [],
   "source": [
    "vec.end()"
   ]
  },
  {
   "cell_type": "markdown",
   "id": "1a6287bc",
   "metadata": {},
   "source": [
    "Iterator Types"
   ]
  },
  {
   "cell_type": "code",
   "execution_count": null,
   "id": "d4af48c1",
   "metadata": {
    "vscode": {
     "languageId": "c++"
    }
   },
   "outputs": [],
   "source": [
    "//Just as we do not know the precise type of a vectors or string ssize_type member. so too we generally do not know\n",
    "//and do not need to know the precise type of an iterator\n",
    "\n",
    "vector<int>::iterator it; //it can read and write vector<int> elements\n",
    "string::iterator it2; // it2 can read and write characters in a string"
   ]
  },
  {
   "cell_type": "code",
   "execution_count": null,
   "id": "3710bbd1",
   "metadata": {
    "vscode": {
     "languageId": "c++"
    }
   },
   "outputs": [],
   "source": [
    "vector<int>::const_iterator it3;  //it3 can read but not write elements\n",
    "string:: const_iterator it4;     // it4 can read but not write characters"
   ]
  },
  {
   "cell_type": "code",
   "execution_count": null,
   "id": "539e1436",
   "metadata": {
    "vscode": {
     "languageId": "c++"
    }
   },
   "outputs": [],
   "source": [
    "vector<int> v;\n",
    "auto it3 = v.cbegin();  //it3 has a type const_iterator"
   ]
  },
  {
   "cell_type": "code",
   "execution_count": null,
   "id": "3d030122",
   "metadata": {
    "vscode": {
     "languageId": "c++"
    }
   },
   "outputs": [],
   "source": [
    "//v.begin() the first element\n",
    "//v.end() the element after the last\n",
    "\n",
    "\n"
   ]
  },
  {
   "cell_type": "markdown",
   "id": "1637e950",
   "metadata": {},
   "source": [
    "Combining Dereference an Member Access"
   ]
  },
  {
   "cell_type": "code",
   "execution_count": null,
   "id": "077943c7",
   "metadata": {
    "vscode": {
     "languageId": "c++"
    }
   },
   "outputs": [],
   "source": [
    "vector<int> el(10,1)"
   ]
  },
  {
   "cell_type": "code",
   "execution_count": null,
   "id": "b778e6b6",
   "metadata": {
    "vscode": {
     "languageId": "c++"
    }
   },
   "outputs": [],
   "source": [
    "for (auto i=0;i= el.size();++i)\n",
    "    {cout<<i;}"
   ]
  },
  {
   "cell_type": "code",
   "execution_count": null,
   "id": "9aff3e6b",
   "metadata": {
    "vscode": {
     "languageId": "c++"
    }
   },
   "outputs": [],
   "source": [
    "vector<int> ve = {1,1,1,1,1,1,1,1,1,1}"
   ]
  },
  {
   "cell_type": "code",
   "execution_count": null,
   "id": "ed999d19",
   "metadata": {
    "vscode": {
     "languageId": "c++"
    }
   },
   "outputs": [],
   "source": [
    "ve"
   ]
  },
  {
   "cell_type": "code",
   "execution_count": null,
   "id": "fdb1e3e5",
   "metadata": {
    "vscode": {
     "languageId": "c++"
    }
   },
   "outputs": [],
   "source": [
    "vector<int> sett;\n",
    "int ele;"
   ]
  },
  {
   "cell_type": "code",
   "execution_count": null,
   "id": "7bbbf50d",
   "metadata": {
    "vscode": {
     "languageId": "c++"
    }
   },
   "outputs": [],
   "source": [
    "//ex 3.3.3/3.20/3.24\n",
    "\n",
    "int ele;\n",
    "vector<int> sett;\n",
    "while (sett.size() < 5)\n",
    "{\n",
    "    cin>>ele;\n",
    "    sett.push_back(ele);\n",
    "}\n",
    "for (auto x=0; x<sett.size()-1;++x)\n",
    "{\n",
    "    cout<<sett[x] + sett[x+1]<<endl;\n",
    "    cout<<\"2nd\"<<sett[x] + sett[sett.size()-1 - x]<<endl;\n",
    "}\n"
   ]
  },
  {
   "cell_type": "code",
   "execution_count": null,
   "id": "0f0c7b4d",
   "metadata": {
    "vscode": {
     "languageId": "c++"
    }
   },
   "outputs": [],
   "source": [
    "sett[5]"
   ]
  },
  {
   "cell_type": "markdown",
   "id": "cc39e8b5",
   "metadata": {},
   "source": [
    "Arrays"
   ]
  },
  {
   "cell_type": "code",
   "execution_count": null,
   "id": "ae5e64e6",
   "metadata": {
    "vscode": {
     "languageId": "c++"
    }
   },
   "outputs": [],
   "source": [
    "//fixed length and elements cannot be added afterwards\n",
    "//increased performance wrt vector but comes at a cost of flexibility"
   ]
  },
  {
   "cell_type": "markdown",
   "id": "8e7b41fa",
   "metadata": {},
   "source": [
    "Defining and Initializing built in arrays"
   ]
  },
  {
   "cell_type": "code",
   "execution_count": null,
   "id": "d14e8d19",
   "metadata": {
    "vscode": {
     "languageId": "c++"
    }
   },
   "outputs": [],
   "source": [
    "get_size()"
   ]
  },
  {
   "cell_type": "code",
   "execution_count": null,
   "id": "e60996ed",
   "metadata": {
    "vscode": {
     "languageId": "c++"
    }
   },
   "outputs": [],
   "source": [
    "string strs[3]"
   ]
  },
  {
   "cell_type": "code",
   "execution_count": null,
   "id": "4b531fca",
   "metadata": {
    "vscode": {
     "languageId": "c++"
    }
   },
   "outputs": [],
   "source": [
    "unsigned cnt =42"
   ]
  },
  {
   "cell_type": "code",
   "execution_count": null,
   "id": "4003151d",
   "metadata": {
    "vscode": {
     "languageId": "c++"
    }
   },
   "outputs": [],
   "source": [
    "unsigned cnt =42;\n",
    "constexpr unsigned sz = 42;\n"
   ]
  },
  {
   "cell_type": "code",
   "execution_count": null,
   "id": "c5c4fa20",
   "metadata": {
    "vscode": {
     "languageId": "c++"
    }
   },
   "outputs": [],
   "source": [
    "int arr[10];"
   ]
  },
  {
   "cell_type": "code",
   "execution_count": null,
   "id": "9e641852",
   "metadata": {
    "vscode": {
     "languageId": "c++"
    }
   },
   "outputs": [],
   "source": [
    "int *parr[sz] //array of 42 pointers to int"
   ]
  },
  {
   "cell_type": "code",
   "execution_count": null,
   "id": "1437e29f",
   "metadata": {
    "vscode": {
     "languageId": "c++"
    }
   },
   "outputs": [],
   "source": []
  },
  {
   "cell_type": "code",
   "execution_count": null,
   "id": "0a916a26",
   "metadata": {
    "vscode": {
     "languageId": "c++"
    }
   },
   "outputs": [],
   "source": [
    "//Explicityly Initializing Array Elements"
   ]
  },
  {
   "cell_type": "code",
   "execution_count": null,
   "id": "0fd63cd3",
   "metadata": {
    "vscode": {
     "languageId": "c++"
    }
   },
   "outputs": [],
   "source": [
    "const unsigned sz  = 3;\n",
    "int ia1[sz] = {0,1,2}; //array of three ints\n",
    "\n",
    "int a2[] = {0,1,2}; //dimension inferred from the elements\n",
    "\n",
    "int a3[5] = {0,1,2}; //excess positions initialized to zero"
   ]
  },
  {
   "cell_type": "code",
   "execution_count": null,
   "id": "2fd51734",
   "metadata": {
    "vscode": {
     "languageId": "c++"
    }
   },
   "outputs": [],
   "source": [
    "string a4[3] = {\"hi\", \"bye\"};\n",
    "//same as {\"hi\",\"bye\",\"\"}"
   ]
  },
  {
   "cell_type": "code",
   "execution_count": null,
   "id": "6b807542",
   "metadata": {
    "vscode": {
     "languageId": "c++"
    }
   },
   "outputs": [],
   "source": [
    "int a5[2] = {0,1,2};//excess elements"
   ]
  },
  {
   "cell_type": "markdown",
   "id": "b34fc154",
   "metadata": {},
   "source": [
    "Character Arrays are special"
   ]
  },
  {
   "cell_type": "code",
   "execution_count": null,
   "id": "6811c4a5",
   "metadata": {
    "vscode": {
     "languageId": "c++"
    }
   },
   "outputs": [],
   "source": [
    "//when string is initialized, a null character is automatically initialized\n",
    "\n",
    "char a[] = {'C','+','+'}; //no null\n",
    "char a1[] = {'C','+','+','\\0'}; //with explicit null\n",
    "char a3[] = \"C++\";   //null added automatically\n",
    "const char a4[6] = \"Daniel\"; //error no space for the null"
   ]
  },
  {
   "cell_type": "code",
   "execution_count": null,
   "id": "e919bdcc",
   "metadata": {
    "vscode": {
     "languageId": "c++"
    }
   },
   "outputs": [],
   "source": [
    "a3"
   ]
  },
  {
   "cell_type": "markdown",
   "id": "c138dfa0",
   "metadata": {},
   "source": [
    "No Copy or Assignment"
   ]
  },
  {
   "cell_type": "code",
   "execution_count": null,
   "id": "ea84a2c6",
   "metadata": {
    "vscode": {
     "languageId": "c++"
    }
   },
   "outputs": [],
   "source": [
    "//We cannot initialize an array as a copy of another array nor is it legal to assign \n",
    "//one array to another\n",
    "\n",
    "int a[] = {0,1,2};\n",
    "int a2[] = a; //cannot initialize one array with another\n",
    "\n",
    "a2 = a;"
   ]
  },
  {
   "cell_type": "code",
   "execution_count": null,
   "id": "1b9f2b83",
   "metadata": {
    "vscode": {
     "languageId": "c++"
    }
   },
   "outputs": [],
   "source": [
    "//Understanding Complicated Array Declarations"
   ]
  },
  {
   "cell_type": "code",
   "execution_count": null,
   "id": "b17dd4f0",
   "metadata": {
    "vscode": {
     "languageId": "c++"
    }
   },
   "outputs": [],
   "source": [
    "int arr[10]"
   ]
  },
  {
   "cell_type": "code",
   "execution_count": null,
   "id": "ad022913",
   "metadata": {
    "vscode": {
     "languageId": "c++"
    }
   },
   "outputs": [],
   "source": [
    "arr"
   ]
  },
  {
   "cell_type": "code",
   "execution_count": null,
   "id": "221aa828",
   "metadata": {
    "vscode": {
     "languageId": "c++"
    }
   },
   "outputs": [],
   "source": [
    "int (*Parray)[10] = &arr  //points to an array of ten ints"
   ]
  },
  {
   "cell_type": "code",
   "execution_count": null,
   "id": "100b7e98",
   "metadata": {
    "vscode": {
     "languageId": "c++"
    }
   },
   "outputs": [],
   "source": [
    "*Parray"
   ]
  },
  {
   "cell_type": "code",
   "execution_count": null,
   "id": "696cc174",
   "metadata": {
    "vscode": {
     "languageId": "c++"
    }
   },
   "outputs": [],
   "source": [
    "int (&arrRef)[10] = arr;"
   ]
  },
  {
   "cell_type": "code",
   "execution_count": null,
   "id": "9c2035c8",
   "metadata": {
    "vscode": {
     "languageId": "c++"
    }
   },
   "outputs": [],
   "source": [
    "arrRef"
   ]
  },
  {
   "cell_type": "code",
   "execution_count": null,
   "id": "0d21ae02",
   "metadata": {
    "vscode": {
     "languageId": "c++"
    }
   },
   "outputs": [],
   "source": [
    "char st[12] = \"fundamental\""
   ]
  },
  {
   "cell_type": "code",
   "execution_count": null,
   "id": "33eeae4e",
   "metadata": {
    "vscode": {
     "languageId": "c++"
    }
   },
   "outputs": [],
   "source": [
    "unsigned buf_size = 1024;\n"
   ]
  },
  {
   "cell_type": "code",
   "execution_count": null,
   "id": "dccef05f",
   "metadata": {
    "vscode": {
     "languageId": "c++"
    }
   },
   "outputs": [],
   "source": [
    "int ia[buf_size]  //not constant size"
   ]
  },
  {
   "cell_type": "code",
   "execution_count": null,
   "id": "0f06b1cc",
   "metadata": {
    "vscode": {
     "languageId": "c++"
    }
   },
   "outputs": [],
   "source": [
    "int text_size()\n",
    "{\n",
    "    return 1;\n",
    "}"
   ]
  },
  {
   "cell_type": "code",
   "execution_count": null,
   "id": "04594ac4",
   "metadata": {
    "vscode": {
     "languageId": "c++"
    }
   },
   "outputs": [],
   "source": [
    "int ia[text_size()]"
   ]
  },
  {
   "cell_type": "code",
   "execution_count": null,
   "id": "1c55e72e",
   "metadata": {
    "vscode": {
     "languageId": "c++"
    }
   },
   "outputs": [],
   "source": [
    "int ia[4*7-14]"
   ]
  },
  {
   "cell_type": "markdown",
   "id": "07567be7",
   "metadata": {},
   "source": [
    "Accessing the elements of an Array"
   ]
  },
  {
   "cell_type": "code",
   "execution_count": null,
   "id": "d2303984",
   "metadata": {
    "vscode": {
     "languageId": "c++"
    }
   },
   "outputs": [],
   "source": [
    "//count the number of grades by clusters of ten\n",
    "\n",
    "unsigned scores[11] = {}; //11 buckets all value initialized to 0\n",
    "unsigned grade;\n",
    "\n",
    "while (cin>>grade)\n",
    "{\n",
    "    if (grade <= 100)\n",
    "        ++scores[grade/10];\n",
    "}"
   ]
  },
  {
   "cell_type": "code",
   "execution_count": null,
   "id": "87a1b816",
   "metadata": {
    "vscode": {
     "languageId": "c++"
    }
   },
   "outputs": [],
   "source": [
    "scores"
   ]
  },
  {
   "cell_type": "code",
   "execution_count": null,
   "id": "9c94eed3",
   "metadata": {
    "vscode": {
     "languageId": "c++"
    }
   },
   "outputs": [],
   "source": [
    "for (auto i: scores)\n",
    "{\n",
    "    cout<<i<<\" \";\n",
    "    \n",
    "}\n",
    "cout<<endl;"
   ]
  },
  {
   "cell_type": "markdown",
   "id": "c0e097cc",
   "metadata": {},
   "source": [
    "Checking Subscript Values"
   ]
  },
  {
   "cell_type": "code",
   "execution_count": null,
   "id": "f2cd22d2",
   "metadata": {
    "vscode": {
     "languageId": "c++"
    }
   },
   "outputs": [],
   "source": [
    "#"
   ]
  },
  {
   "cell_type": "code",
   "execution_count": null,
   "id": "98a1ca10",
   "metadata": {
    "vscode": {
     "languageId": "c++"
    }
   },
   "outputs": [],
   "source": [
    "constexpr size_t array_size =10;"
   ]
  },
  {
   "cell_type": "code",
   "execution_count": null,
   "id": "ebbafa9c",
   "metadata": {
    "vscode": {
     "languageId": "c++"
    }
   },
   "outputs": [],
   "source": [
    "int ia[array_size];"
   ]
  },
  {
   "cell_type": "code",
   "execution_count": null,
   "id": "efa87a83",
   "metadata": {
    "vscode": {
     "languageId": "c++"
    }
   },
   "outputs": [],
   "source": [
    "for (size_t ix = 1; ix <= array_size; ++ix)\n",
    "    ia[ix] = ix;"
   ]
  },
  {
   "cell_type": "code",
   "execution_count": null,
   "id": "383517c1",
   "metadata": {
    "vscode": {
     "languageId": "c++"
    }
   },
   "outputs": [],
   "source": [
    "int arr[10];\n",
    "\n",
    "for (auto i=0; i<10;++i)\n",
    "    arr[i] = i+1"
   ]
  },
  {
   "cell_type": "code",
   "execution_count": null,
   "id": "d1e71bd2",
   "metadata": {
    "vscode": {
     "languageId": "c++"
    }
   },
   "outputs": [],
   "source": [
    "arr"
   ]
  },
  {
   "cell_type": "code",
   "execution_count": null,
   "id": "25cae193",
   "metadata": {
    "vscode": {
     "languageId": "c++"
    }
   },
   "outputs": [],
   "source": [
    "int arr2[10]"
   ]
  },
  {
   "cell_type": "code",
   "execution_count": null,
   "id": "45d204ad",
   "metadata": {
    "vscode": {
     "languageId": "c++"
    }
   },
   "outputs": [],
   "source": [
    "for(auto i: arr2)\n",
    "    arr2[i] = arr[i]"
   ]
  },
  {
   "cell_type": "code",
   "execution_count": null,
   "id": "70d45205",
   "metadata": {
    "vscode": {
     "languageId": "c++"
    }
   },
   "outputs": [],
   "source": [
    "arr2"
   ]
  },
  {
   "cell_type": "code",
   "execution_count": null,
   "id": "54c5b29b",
   "metadata": {
    "vscode": {
     "languageId": "c++"
    }
   },
   "outputs": [],
   "source": [
    "//Using vectors\n",
    "\n",
    "vector <int> arr,arr2"
   ]
  },
  {
   "cell_type": "code",
   "execution_count": null,
   "id": "a8955a7f",
   "metadata": {
    "vscode": {
     "languageId": "c++"
    }
   },
   "outputs": [],
   "source": [
    "for (auto i=0;i<10;++i)\n",
    "    arr.push_back(i+1)"
   ]
  },
  {
   "cell_type": "code",
   "execution_count": null,
   "id": "9c81b1bc",
   "metadata": {
    "vscode": {
     "languageId": "c++"
    }
   },
   "outputs": [],
   "source": [
    "arr"
   ]
  },
  {
   "cell_type": "code",
   "execution_count": null,
   "id": "25c78a48",
   "metadata": {
    "vscode": {
     "languageId": "c++"
    }
   },
   "outputs": [],
   "source": [
    "arr2 = arr"
   ]
  },
  {
   "cell_type": "code",
   "execution_count": null,
   "id": "cd6bbfcc",
   "metadata": {
    "vscode": {
     "languageId": "c++"
    }
   },
   "outputs": [],
   "source": [
    "arr2"
   ]
  },
  {
   "cell_type": "markdown",
   "id": "e52968de",
   "metadata": {},
   "source": [
    "Pointers and Arrays"
   ]
  },
  {
   "cell_type": "code",
   "execution_count": null,
   "id": "a9ede708",
   "metadata": {
    "vscode": {
     "languageId": "c++"
    }
   },
   "outputs": [],
   "source": [
    "//Pointers are iterators\n",
    "\n",
    "int arr[] = {0,1,2,3,4,5,6,7};\n",
    "arr"
   ]
  },
  {
   "cell_type": "code",
   "execution_count": null,
   "id": "6d0a327d",
   "metadata": {
    "vscode": {
     "languageId": "c++"
    }
   },
   "outputs": [],
   "source": [
    "int *p = arr;"
   ]
  },
  {
   "cell_type": "code",
   "execution_count": null,
   "id": "6616904b",
   "metadata": {
    "vscode": {
     "languageId": "c++"
    }
   },
   "outputs": [],
   "source": [
    "++p"
   ]
  },
  {
   "cell_type": "code",
   "execution_count": null,
   "id": "9b42971f",
   "metadata": {
    "vscode": {
     "languageId": "c++"
    }
   },
   "outputs": [],
   "source": [
    "//pointer position can be changed with the ++"
   ]
  },
  {
   "cell_type": "code",
   "execution_count": null,
   "id": "75c84709",
   "metadata": {
    "vscode": {
     "languageId": "c++"
    }
   },
   "outputs": [],
   "source": [
    "int *e = &arr[10]"
   ]
  },
  {
   "cell_type": "code",
   "execution_count": null,
   "id": "404e4cb6",
   "metadata": {
    "vscode": {
     "languageId": "c++"
    }
   },
   "outputs": [],
   "source": [
    "*e"
   ]
  },
  {
   "cell_type": "code",
   "execution_count": null,
   "id": "5a69a738",
   "metadata": {
    "vscode": {
     "languageId": "c++"
    }
   },
   "outputs": [],
   "source": [
    "--e"
   ]
  },
  {
   "cell_type": "code",
   "execution_count": null,
   "id": "cbb3be00",
   "metadata": {
    "vscode": {
     "languageId": "c++"
    }
   },
   "outputs": [],
   "source": [
    "*e"
   ]
  },
  {
   "cell_type": "code",
   "execution_count": null,
   "id": "f09cb254",
   "metadata": {
    "vscode": {
     "languageId": "c++"
    }
   },
   "outputs": [],
   "source": [
    "++e;\n",
    "*e"
   ]
  },
  {
   "cell_type": "code",
   "execution_count": null,
   "id": "7f78884c",
   "metadata": {
    "vscode": {
     "languageId": "c++"
    }
   },
   "outputs": [],
   "source": [
    "for (int *b = arr; b != e; ++b)\n",
    "    cout << *b <<endl;"
   ]
  },
  {
   "cell_type": "markdown",
   "id": "a7caa251",
   "metadata": {},
   "source": [
    "The Library begin and end Functions"
   ]
  },
  {
   "cell_type": "code",
   "execution_count": null,
   "id": "73806a07",
   "metadata": {
    "vscode": {
     "languageId": "c++"
    }
   },
   "outputs": [],
   "source": [
    "arr"
   ]
  },
  {
   "cell_type": "code",
   "execution_count": null,
   "id": "512b527b",
   "metadata": {
    "vscode": {
     "languageId": "c++"
    }
   },
   "outputs": [],
   "source": [
    "//int *beg = begin(arr);\n",
    "int *last = end(arr);"
   ]
  },
  {
   "cell_type": "code",
   "execution_count": null,
   "id": "8bf45a67",
   "metadata": {
    "vscode": {
     "languageId": "c++"
    }
   },
   "outputs": [],
   "source": [
    "//Begin returs apointer to the first, and end returns a pointer one past\n",
    "//the last element in the given array"
   ]
  },
  {
   "cell_type": "code",
   "execution_count": null,
   "id": "614a06e9",
   "metadata": {
    "vscode": {
     "languageId": "c++"
    }
   },
   "outputs": [],
   "source": [
    "//find the first negative element, stopping if we have seen all the elemtns\n",
    "int *beg = begin(arr);\n",
    "int *last = end(arr);\n",
    "while (pbeg != pend && *pbeg >= 0)\n",
    "    ++pbeg;"
   ]
  },
  {
   "cell_type": "markdown",
   "id": "5a103017",
   "metadata": {},
   "source": [
    "Pointer Arithmetic"
   ]
  },
  {
   "cell_type": "code",
   "execution_count": null,
   "id": "013d5b54",
   "metadata": {
    "vscode": {
     "languageId": "c++"
    }
   },
   "outputs": [],
   "source": [
    "constexpr size_t sz = 5;\n",
    "int arr[sz] = {1,2,3,4,5};\n",
    "int *ip = arr;\n",
    "*ip"
   ]
  },
  {
   "cell_type": "code",
   "execution_count": null,
   "id": "6c260869",
   "metadata": {
    "vscode": {
     "languageId": "c++"
    }
   },
   "outputs": [],
   "source": [
    "auto *ip2 = ip + 4;"
   ]
  },
  {
   "cell_type": "code",
   "execution_count": null,
   "id": "db54ed6e",
   "metadata": {
    "vscode": {
     "languageId": "c++"
    }
   },
   "outputs": [],
   "source": [
    "*ip2"
   ]
  },
  {
   "cell_type": "code",
   "execution_count": null,
   "id": "70c3328d",
   "metadata": {
    "vscode": {
     "languageId": "c++"
    }
   },
   "outputs": [],
   "source": [
    "auto n = end(arr) - begin(arr)"
   ]
  },
  {
   "cell_type": "code",
   "execution_count": null,
   "id": "bf577852",
   "metadata": {
    "vscode": {
     "languageId": "c++"
    }
   },
   "outputs": [],
   "source": [
    "n"
   ]
  },
  {
   "cell_type": "code",
   "execution_count": null,
   "id": "d56908ae",
   "metadata": {
    "vscode": {
     "languageId": "c++"
    }
   },
   "outputs": [],
   "source": [
    "//The result of subtracting two pointers is a library type named ptrdiff_t.\n",
    "//Like size_t, the ptrdiff_t type is a machine specific type and is defined in the \n",
    "//cstddef header.\n",
    "\n",
    "//Because subtraction might yield a negative distance, ptrdiff_t\n",
    "// is a signed integral type."
   ]
  },
  {
   "cell_type": "code",
   "execution_count": null,
   "id": "b4e47e23",
   "metadata": {
    "vscode": {
     "languageId": "c++"
    }
   },
   "outputs": [],
   "source": [
    "//Traverse the lements of an array\n",
    "\n",
    "int *b = arr, *e = arr + sz;"
   ]
  },
  {
   "cell_type": "code",
   "execution_count": null,
   "id": "a9572325",
   "metadata": {
    "vscode": {
     "languageId": "c++"
    }
   },
   "outputs": [],
   "source": [
    "while (b<e){\n",
    "    //use *b\n",
    "    ++b;\n",
    "}"
   ]
  },
  {
   "cell_type": "code",
   "execution_count": null,
   "id": "dc9fbc4e",
   "metadata": {
    "vscode": {
     "languageId": "c++"
    }
   },
   "outputs": [],
   "source": [
    "//We cannot use the relational operators on pointers to two unrelated objects:\n",
    "int i = 0, sz = 42;\n",
    "int *p = &i, *e = &sz;"
   ]
  },
  {
   "cell_type": "code",
   "execution_count": null,
   "id": "d2cfcc0e",
   "metadata": {
    "vscode": {
     "languageId": "c++"
    }
   },
   "outputs": [],
   "source": [
    "*e"
   ]
  },
  {
   "cell_type": "markdown",
   "id": "21eec4fc",
   "metadata": {},
   "source": [
    "Interatction between Dereference and Pointer Arithmetic"
   ]
  },
  {
   "cell_type": "code",
   "execution_count": null,
   "id": "e5b0aa81",
   "metadata": {
    "vscode": {
     "languageId": "c++"
    }
   },
   "outputs": [],
   "source": [
    "int ia[] = {0,2,4,6,8};\n",
    "int last = *(ia + 4);"
   ]
  },
  {
   "cell_type": "code",
   "execution_count": null,
   "id": "8b9d3398",
   "metadata": {
    "vscode": {
     "languageId": "c++"
    }
   },
   "outputs": [],
   "source": [
    "last"
   ]
  },
  {
   "cell_type": "markdown",
   "id": "2de77533",
   "metadata": {},
   "source": [
    "Subscripts and Pointers"
   ]
  },
  {
   "cell_type": "code",
   "execution_count": null,
   "id": "3a94e2be",
   "metadata": {
    "vscode": {
     "languageId": "c++"
    }
   },
   "outputs": [],
   "source": [
    "//As qw have seen in most places when we use the name of an array, we are\n",
    "//really using a pointer to the first element in that array. One place where the compiler\n",
    "//does this transformation is when we subscript an array. Given\n",
    "\n",
    "\n",
    "int ia[] = {0,2,4,6,8};"
   ]
  },
  {
   "cell_type": "code",
   "execution_count": null,
   "id": "ebb8de8d",
   "metadata": {
    "vscode": {
     "languageId": "c++"
    }
   },
   "outputs": [],
   "source": [
    "//if we write ia[0] that is an expression that usess the name of an array. When \n",
    "//we subscript an array, we are really subscripting a pointer to an aelement in that array:\n",
    "\n",
    "int i = ia[2]"
   ]
  },
  {
   "cell_type": "code",
   "execution_count": null,
   "id": "74b328b9",
   "metadata": {
    "vscode": {
     "languageId": "c++"
    }
   },
   "outputs": [],
   "source": [
    "int *p = ia;\n",
    "//p points to the first element in ia\n",
    "\n",
    "*p"
   ]
  },
  {
   "cell_type": "code",
   "execution_count": null,
   "id": "12b6d789",
   "metadata": {
    "vscode": {
     "languageId": "c++"
    }
   },
   "outputs": [],
   "source": [
    "i = *(p + 2)"
   ]
  },
  {
   "cell_type": "code",
   "execution_count": null,
   "id": "4452c645",
   "metadata": {
    "vscode": {
     "languageId": "c++"
    }
   },
   "outputs": [],
   "source": [
    "//We can use the subscript operator on anay pointer, as long as that pointer points to an element(or one past the last element in an array)"
   ]
  },
  {
   "cell_type": "code",
   "execution_count": null,
   "id": "b05d286a",
   "metadata": {
    "vscode": {
     "languageId": "c++"
    }
   },
   "outputs": [],
   "source": [
    "int *p = &ia[2] //p points to the element indexed by 2"
   ]
  },
  {
   "cell_type": "code",
   "execution_count": null,
   "id": "028a9ee1",
   "metadata": {
    "vscode": {
     "languageId": "c++"
    }
   },
   "outputs": [],
   "source": [
    "*p"
   ]
  },
  {
   "cell_type": "code",
   "execution_count": null,
   "id": "bb280073",
   "metadata": {
    "vscode": {
     "languageId": "c++"
    }
   },
   "outputs": [],
   "source": [
    "int j = p[1] //p[1] is equivalent to *(p+1)"
   ]
  },
  {
   "cell_type": "code",
   "execution_count": null,
   "id": "35f009cd",
   "metadata": {
    "vscode": {
     "languageId": "c++"
    }
   },
   "outputs": [],
   "source": [
    "j"
   ]
  },
  {
   "cell_type": "code",
   "execution_count": null,
   "id": "9caeb150",
   "metadata": {
    "vscode": {
     "languageId": "c++"
    }
   },
   "outputs": [],
   "source": [
    "//The library types force the index used with a subscript to be an unsigned value.\n",
    "//The built in subscript operator does not"
   ]
  },
  {
   "cell_type": "code",
   "execution_count": null,
   "id": "08d85634",
   "metadata": {
    "vscode": {
     "languageId": "c++"
    }
   },
   "outputs": [],
   "source": [
    "int *p1 = &ia[1];\n",
    "int *p2 = &ia[4];"
   ]
  },
  {
   "cell_type": "code",
   "execution_count": null,
   "id": "47e6d963",
   "metadata": {
    "vscode": {
     "languageId": "c++"
    }
   },
   "outputs": [],
   "source": [
    "p1 += p2-p1"
   ]
  },
  {
   "cell_type": "code",
   "execution_count": null,
   "id": "7f70266a",
   "metadata": {
    "vscode": {
     "languageId": "c++"
    }
   },
   "outputs": [],
   "source": [
    "*p1"
   ]
  },
  {
   "cell_type": "code",
   "execution_count": null,
   "id": "b34b4df8",
   "metadata": {
    "vscode": {
     "languageId": "c++"
    }
   },
   "outputs": [],
   "source": [
    "//ex3.35\n",
    "int *p = ia;\n",
    "while (p<end(ia))\n",
    "{\n",
    "    *p=0;\n",
    "    ++p;\n",
    "}\n",
    "//done"
   ]
  },
  {
   "cell_type": "code",
   "execution_count": null,
   "id": "ad91bc7e",
   "metadata": {
    "vscode": {
     "languageId": "c++"
    }
   },
   "outputs": [],
   "source": [
    "ia"
   ]
  },
  {
   "cell_type": "code",
   "execution_count": null,
   "id": "c0147514",
   "metadata": {
    "vscode": {
     "languageId": "c++"
    }
   },
   "outputs": [],
   "source": [
    "int ia1[] = {1,2,3,4,5,6};\n",
    "int ia2[] = {2,3,4,5,6,7};"
   ]
  },
  {
   "cell_type": "code",
   "execution_count": null,
   "id": "1250a608",
   "metadata": {
    "vscode": {
     "languageId": "c++"
    }
   },
   "outputs": [],
   "source": [
    "int *p1 = ia1;\n",
    "int *p2 = ia2;"
   ]
  },
  {
   "cell_type": "code",
   "execution_count": null,
   "id": "f9645408",
   "metadata": {
    "vscode": {
     "languageId": "c++"
    }
   },
   "outputs": [],
   "source": [
    "while(p1==p2)\n",
    "{\n",
    "    ++p1;\n",
    "    ++p2;\n",
    "}\n",
    "cout<<\"H\";"
   ]
  },
  {
   "cell_type": "code",
   "execution_count": null,
   "id": "09a4c76c",
   "metadata": {
    "vscode": {
     "languageId": "c++"
    }
   },
   "outputs": [],
   "source": [
    "vector <int> ia {1,23}"
   ]
  },
  {
   "cell_type": "code",
   "execution_count": null,
   "id": "7281ccd5",
   "metadata": {
    "vscode": {
     "languageId": "c++"
    }
   },
   "outputs": [],
   "source": [
    "ia[0]"
   ]
  },
  {
   "cell_type": "code",
   "execution_count": null,
   "id": "ad414b1b",
   "metadata": {
    "vscode": {
     "languageId": "c++"
    }
   },
   "outputs": [],
   "source": [
    "end(ia)"
   ]
  },
  {
   "cell_type": "markdown",
   "id": "4f7dba15",
   "metadata": {},
   "source": [
    "Comparing Strings"
   ]
  },
  {
   "cell_type": "code",
   "execution_count": null,
   "id": "0226af03",
   "metadata": {
    "vscode": {
     "languageId": "c++"
    }
   },
   "outputs": [],
   "source": [
    "//c style strings \n",
    "\n",
    "string s1 = \"A string example\";\n",
    "string s2 = \"A different string\";\n",
    "\n",
    "string *p1 = &s1;\n",
    "string *p2 = &s2;\n",
    "\n",
    "if (*p1 < *p2)\n",
    "{\n",
    "    cout<<\"Hello\"<<endl;\n",
    "}\n",
    "else\n",
    "{\n",
    "    cout<<\"Nein\";\n",
    "}"
   ]
  },
  {
   "cell_type": "code",
   "execution_count": null,
   "id": "00fee649",
   "metadata": {
    "vscode": {
     "languageId": "c++"
    }
   },
   "outputs": [],
   "source": [
    "s1[0] == s2[0]  \n",
    "    "
   ]
  },
  {
   "cell_type": "code",
   "execution_count": null,
   "id": "87410c54",
   "metadata": {
    "vscode": {
     "languageId": "c++"
    }
   },
   "outputs": [],
   "source": [
    "const char ca1[] = \"A string exmaple\";\n",
    "const char ca2[] = \"A different string\";"
   ]
  },
  {
   "cell_type": "code",
   "execution_count": null,
   "id": "82b6988f",
   "metadata": {
    "vscode": {
     "languageId": "c++"
    }
   },
   "outputs": [],
   "source": [
    "if (ca1 < ca2) //compares two unrelated addresses"
   ]
  },
  {
   "cell_type": "code",
   "execution_count": null,
   "id": "1fe8444d",
   "metadata": {
    "vscode": {
     "languageId": "c++"
    }
   },
   "outputs": [],
   "source": [
    "if (strcmp(ca1, ca2) < 0)\n",
    "{\n",
    "    cout<<\"check\";\n",
    "}"
   ]
  },
  {
   "cell_type": "code",
   "execution_count": null,
   "id": "85533ceb",
   "metadata": {
    "vscode": {
     "languageId": "c++"
    }
   },
   "outputs": [],
   "source": [
    "//Caller is responsible for size of a  destination string\n",
    "string largestring;\n",
    "strcpy(largestring, ca1);\n",
    "strcat(largestring, \" \");\n",
    "strcat(largestring, ca2);"
   ]
  },
  {
   "cell_type": "code",
   "execution_count": null,
   "id": "ad181dfb",
   "metadata": {
    "vscode": {
     "languageId": "c++"
    }
   },
   "outputs": [],
   "source": [
    "const char ca[] = {'h','e','l','l','o'};\n",
    "const char *p = ca;\n",
    "while(*p)\n",
    "{\n",
    "    cout<< *p <<endl;\n",
    "    ++p;\n",
    "}"
   ]
  },
  {
   "cell_type": "code",
   "execution_count": null,
   "id": "5d470e59",
   "metadata": {
    "vscode": {
     "languageId": "c++"
    }
   },
   "outputs": [],
   "source": [
    "//ex 3.38\n",
    "//Because pointers are basically variables that points to memory address\n",
    "//Hence two pointers points to two different locations in memory \n",
    "//hence adding them would make no sense"
   ]
  },
  {
   "cell_type": "code",
   "execution_count": null,
   "id": "c84389bd",
   "metadata": {
    "vscode": {
     "languageId": "c++"
    }
   },
   "outputs": [],
   "source": [
    "//ex 3.39\n",
    "\n",
    "string st1 = \"Hello World\";\n",
    "string st2 = \"Brave new world\";\n",
    "\n",
    "if (st1<st2)\n",
    "{\n",
    "    cout<<st1<<\" is smaller\";\n",
    "}\n",
    "else\n",
    "{\n",
    "    cout<<st2<<\" is larger\";\n",
    "}"
   ]
  },
  {
   "cell_type": "code",
   "execution_count": null,
   "id": "7239eaf8",
   "metadata": {
    "vscode": {
     "languageId": "c++"
    }
   },
   "outputs": [],
   "source": [
    "//above with c style strings\n",
    "\n",
    "const char st1[] = \"Hello worlds\";\n",
    "const char st2[] = \"Brave new world\";"
   ]
  },
  {
   "cell_type": "code",
   "execution_count": null,
   "id": "4751fc39",
   "metadata": {
    "vscode": {
     "languageId": "c++"
    }
   },
   "outputs": [],
   "source": [
    "if (st1[0]<st2[0])\n",
    "{\n",
    "    cout<<st1<<\" is smaller\";\n",
    "}\n",
    "else\n",
    "{\n",
    "    cout<<st2<<\" is larger\";\n",
    "}"
   ]
  },
  {
   "cell_type": "code",
   "execution_count": null,
   "id": "db39ae07",
   "metadata": {
    "vscode": {
     "languageId": "c++"
    }
   },
   "outputs": [],
   "source": [
    "//ex 3.40\n",
    "\n",
    "const char st1[] = {'H','e','l','l','o'};\n",
    "const char st2[] = {'B','r','a','v','e'};\n",
    "\n",
    "char st3[]{};"
   ]
  },
  {
   "cell_type": "code",
   "execution_count": null,
   "id": "0835e8bc",
   "metadata": {
    "vscode": {
     "languageId": "c++"
    }
   },
   "outputs": [],
   "source": [
    "strcpy(st3,st1)"
   ]
  },
  {
   "cell_type": "code",
   "execution_count": null,
   "id": "57134a53",
   "metadata": {
    "vscode": {
     "languageId": "c++"
    }
   },
   "outputs": [],
   "source": [
    "strcat(st3,\" \")"
   ]
  },
  {
   "cell_type": "code",
   "execution_count": null,
   "id": "30a1676f",
   "metadata": {
    "vscode": {
     "languageId": "c++"
    }
   },
   "outputs": [],
   "source": [
    "strcat(st3,st2)"
   ]
  },
  {
   "cell_type": "code",
   "execution_count": null,
   "id": "8ec1c917",
   "metadata": {
    "vscode": {
     "languageId": "c++"
    }
   },
   "outputs": [],
   "source": [
    "const char *p  = st3;"
   ]
  },
  {
   "cell_type": "code",
   "execution_count": null,
   "id": "bb3ac9b6",
   "metadata": {
    "vscode": {
     "languageId": "c++"
    }
   },
   "outputs": [],
   "source": [
    "while(*p)\n",
    "{\n",
    "    cout<<*p;\n",
    "    ++p;\n",
    "}"
   ]
  },
  {
   "cell_type": "markdown",
   "id": "7044f1c5",
   "metadata": {},
   "source": [
    "Interfacing to Older Code"
   ]
  },
  {
   "cell_type": "code",
   "execution_count": null,
   "id": "66c284a2",
   "metadata": {
    "vscode": {
     "languageId": "c++"
    }
   },
   "outputs": [],
   "source": [
    "string s(\"Hello World\");"
   ]
  },
  {
   "cell_type": "code",
   "execution_count": null,
   "id": "a4904643",
   "metadata": {
    "scrolled": true,
    "vscode": {
     "languageId": "c++"
    }
   },
   "outputs": [],
   "source": [
    "char *str = s[0]; //cannot be done this way"
   ]
  },
  {
   "cell_type": "code",
   "execution_count": null,
   "id": "0c68810c",
   "metadata": {
    "vscode": {
     "languageId": "c++"
    }
   },
   "outputs": [],
   "source": [
    "//Best way is \n",
    "const char *str = s.c_str();"
   ]
  },
  {
   "cell_type": "code",
   "execution_count": null,
   "id": "5c4d8a05",
   "metadata": {
    "vscode": {
     "languageId": "c++"
    }
   },
   "outputs": [],
   "source": [
    "str"
   ]
  },
  {
   "cell_type": "markdown",
   "id": "57ad586e",
   "metadata": {},
   "source": [
    "Using an Array to Initialize a Vector"
   ]
  },
  {
   "cell_type": "code",
   "execution_count": 73,
   "id": "03c223b6",
   "metadata": {
    "vscode": {
     "languageId": "c++"
    }
   },
   "outputs": [],
   "source": [
    "//We know that we cannot initialize a built in array from another array. \n",
    "//Nor can we initialize an array from a vector. However we can use an array to initialize a vector.\n",
    "//To do so we specigy the address of the first element and one past the last element\n",
    "//that we wish to copy:\n",
    "\n",
    "\n",
    "int int_arr[] = {0,1,2,3,4,5};"
   ]
  },
  {
   "cell_type": "code",
   "execution_count": 74,
   "id": "35106b81",
   "metadata": {
    "vscode": {
     "languageId": "c++"
    }
   },
   "outputs": [
    {
     "data": {
      "text/plain": [
       "{ 0, 1, 2, 3, 4, 5 }"
      ]
     },
     "execution_count": 74,
     "metadata": {},
     "output_type": "execute_result"
    }
   ],
   "source": [
    "int_arr\n"
   ]
  },
  {
   "cell_type": "code",
   "execution_count": 75,
   "id": "0acf1476",
   "metadata": {
    "vscode": {
     "languageId": "c++"
    }
   },
   "outputs": [],
   "source": [
    "//copy into a vector\n",
    "\n",
    "vector <int> int_vec (begin(int_arr), end(int_arr))"
   ]
  },
  {
   "cell_type": "code",
   "execution_count": 76,
   "id": "dc908e14",
   "metadata": {
    "vscode": {
     "languageId": "c++"
    }
   },
   "outputs": [
    {
     "data": {
      "text/plain": [
       "{ 0, 1, 2, 3, 4, 5 }"
      ]
     },
     "execution_count": 76,
     "metadata": {},
     "output_type": "execute_result"
    }
   ],
   "source": [
    "int_vec"
   ]
  },
  {
   "cell_type": "code",
   "execution_count": 77,
   "id": "ec28709c",
   "metadata": {
    "vscode": {
     "languageId": "c++"
    }
   },
   "outputs": [],
   "source": [
    "vector <int> subVec (int_arr + 1, int_arr + 4);"
   ]
  },
  {
   "cell_type": "code",
   "execution_count": 78,
   "id": "9cf25a9a",
   "metadata": {
    "vscode": {
     "languageId": "c++"
    }
   },
   "outputs": [
    {
     "data": {
      "text/plain": [
       "{ 1, 2, 3 }"
      ]
     },
     "execution_count": 78,
     "metadata": {},
     "output_type": "execute_result"
    }
   ],
   "source": [
    "subVec"
   ]
  },
  {
   "cell_type": "code",
   "execution_count": 80,
   "id": "c7702010",
   "metadata": {
    "vscode": {
     "languageId": "c++"
    }
   },
   "outputs": [],
   "source": [
    "//N.b Pointers and arrays are surprisingly error prone.\n",
    "//Modern C++ programs should use vectors and iterators instead of built in arrays and pointers\n",
    "//use strings rather than c style array based character strings."
   ]
  },
  {
   "cell_type": "markdown",
   "id": "f084bb5e",
   "metadata": {},
   "source": [
    "Multidimensional Arrays"
   ]
  },
  {
   "cell_type": "code",
   "execution_count": 90,
   "id": "6bacd05d",
   "metadata": {
    "vscode": {
     "languageId": "c++"
    }
   },
   "outputs": [],
   "source": [
    "int ia[3][4] //array of size 3 each element is an array of ints of size 4"
   ]
  },
  {
   "cell_type": "code",
   "execution_count": 91,
   "id": "df56536c",
   "metadata": {
    "vscode": {
     "languageId": "c++"
    }
   },
   "outputs": [],
   "source": [
    "int arr[10][20][30] //array of size 10 each element is an array of size 20 and each of those have 40 arrays"
   ]
  },
  {
   "cell_type": "code",
   "execution_count": 94,
   "id": "07e9be15",
   "metadata": {
    "vscode": {
     "languageId": "c++"
    }
   },
   "outputs": [
    {
     "data": {
      "text/plain": [
       "24000"
      ]
     },
     "execution_count": 94,
     "metadata": {},
     "output_type": "execute_result"
    }
   ],
   "source": [
    "sizeof(arr)"
   ]
  },
  {
   "cell_type": "code",
   "execution_count": 4,
   "id": "3792b90c",
   "metadata": {
    "vscode": {
     "languageId": "c++"
    }
   },
   "outputs": [],
   "source": [
    "//Initializing the elemnts of an array\n",
    "int ia[3][4] = {\n",
    "{0, 1, 2, 3},\n",
    "{4, 5, 6, 7},\n",
    "{8, 9, 10, 11}\n",
    "};"
   ]
  },
  {
   "cell_type": "code",
   "execution_count": 5,
   "id": "7a2f6dda",
   "metadata": {
    "vscode": {
     "languageId": "c++"
    }
   },
   "outputs": [
    {
     "data": {
      "text/plain": [
       "{ { 0, 1, 2, 3 }, { 4, 5, 6, 7 }, { 8, 9, 10, 11 } }"
      ]
     },
     "execution_count": 5,
     "metadata": {},
     "output_type": "execute_result"
    }
   ],
   "source": [
    "ia"
   ]
  },
  {
   "cell_type": "code",
   "execution_count": 6,
   "id": "b833d277",
   "metadata": {
    "vscode": {
     "languageId": "c++"
    }
   },
   "outputs": [],
   "source": [
    "int ia[3][4] = {0,1,2,3,4,5,6,7,8,9,10} //The nested brackets above are optional"
   ]
  },
  {
   "cell_type": "code",
   "execution_count": 7,
   "id": "9467f52d",
   "metadata": {
    "vscode": {
     "languageId": "c++"
    }
   },
   "outputs": [
    {
     "data": {
      "text/plain": [
       "{ { 0, 1, 2, 3 }, { 4, 5, 6, 7 }, { 8, 9, 10, 0 } }"
      ]
     },
     "execution_count": 7,
     "metadata": {},
     "output_type": "execute_result"
    }
   ],
   "source": [
    "ia"
   ]
  },
  {
   "cell_type": "code",
   "execution_count": 8,
   "id": "ba1b5dad",
   "metadata": {
    "vscode": {
     "languageId": "c++"
    }
   },
   "outputs": [],
   "source": [
    "int ia[3][4] = {{0},{4},{8}}"
   ]
  },
  {
   "cell_type": "code",
   "execution_count": 9,
   "id": "f83ab98c",
   "metadata": {
    "vscode": {
     "languageId": "c++"
    }
   },
   "outputs": [
    {
     "data": {
      "text/plain": [
       "{ { 0, 0, 0, 0 }, { 4, 0, 0, 0 }, { 8, 0, 0, 0 } }"
      ]
     },
     "execution_count": 9,
     "metadata": {},
     "output_type": "execute_result"
    }
   ],
   "source": [
    "ia"
   ]
  },
  {
   "cell_type": "code",
   "execution_count": 10,
   "id": "3af0d0fb",
   "metadata": {
    "vscode": {
     "languageId": "c++"
    }
   },
   "outputs": [],
   "source": [
    "//Explicitly initialize row0 the reamining elements are value initialized\n",
    "\n",
    "int ix[3][4] = {0,3,6,9};"
   ]
  },
  {
   "cell_type": "code",
   "execution_count": 11,
   "id": "c14c7916",
   "metadata": {
    "vscode": {
     "languageId": "c++"
    }
   },
   "outputs": [
    {
     "data": {
      "text/plain": [
       "{ { 0, 3, 6, 9 }, { 0, 0, 0, 0 }, { 0, 0, 0, 0 } }"
      ]
     },
     "execution_count": 11,
     "metadata": {},
     "output_type": "execute_result"
    }
   ],
   "source": [
    "ix"
   ]
  },
  {
   "cell_type": "markdown",
   "id": "34531e0d",
   "metadata": {},
   "source": [
    "Subscripting a Multidimensional Array"
   ]
  },
  {
   "cell_type": "code",
   "execution_count": 12,
   "id": "9dcf9d62",
   "metadata": {
    "vscode": {
     "languageId": "c++"
    }
   },
   "outputs": [
    {
     "name": "stderr",
     "output_type": "stream",
     "text": [
      "\u001b[1minput_line_25:2:15: \u001b[0m\u001b[0;1;31merror: \u001b[0m\u001b[1muse of undeclared identifier 'arr'; did you mean 'arg'?\u001b[0m\n",
      "  ia[2][3]  = arr[0][0][0];  //assigns the first element of arr to the last element\n",
      "\u001b[0;1;32m              ^~~\n",
      "\u001b[0m\u001b[0;32m              arg\n",
      "\u001b[0m\u001b[1m/home/susearc/miniconda3/envs/xeus-cling/bin/../lib/gcc/../../x86_64-conda-linux-gnu/include/c++/12.2.0/complex:653:5: \u001b[0m\u001b[0;1;30mnote: \u001b[0m'arg' declared here\u001b[0m\n",
      "    arg(const complex<_Tp>& __z) { return __complex_arg(__z.__rep()); }\n",
      "\u001b[0;1;32m    ^\n",
      "\u001b[0m\u001b[1minput_line_25:2:15: \u001b[0m\u001b[0;1;31merror: \u001b[0m\u001b[1mreference to overloaded function could not be resolved; did you mean to call it?\u001b[0m\n",
      "  ia[2][3]  = arr[0][0][0];  //assigns the first element of arr to the last element\n",
      "\u001b[0;1;32m              ^~~\n",
      "\u001b[0m\u001b[1m/home/susearc/miniconda3/envs/xeus-cling/bin/../lib/gcc/../../x86_64-conda-linux-gnu/include/c++/12.2.0/complex:653:5: \u001b[0m\u001b[0;1;30mnote: \u001b[0mpossible target for call\u001b[0m\n",
      "    arg(const complex<_Tp>& __z) { return __complex_arg(__z.__rep()); }\n",
      "\u001b[0;1;32m    ^\n",
      "\u001b[0m"
     ]
    },
    {
     "ename": "Interpreter Error",
     "evalue": "",
     "output_type": "error",
     "traceback": [
      "Interpreter Error: "
     ]
    }
   ],
   "source": [
    " ia[2][3]  = arr[0][0][0];  //assigns the first element of arr to the last element\n",
    "//in the last row of ia"
   ]
  },
  {
   "cell_type": "code",
   "execution_count": 13,
   "id": "75aa5e2e",
   "metadata": {
    "vscode": {
     "languageId": "c++"
    }
   },
   "outputs": [
    {
     "data": {
      "text/plain": [
       "{ { 0, 0, 0, 0 }, { 4, 0, 0, 0 }, { 8, 0, 0, 0 } }"
      ]
     },
     "execution_count": 13,
     "metadata": {},
     "output_type": "execute_result"
    }
   ],
   "source": [
    "ia"
   ]
  },
  {
   "cell_type": "code",
   "execution_count": 14,
   "id": "ff0d01cb",
   "metadata": {
    "vscode": {
     "languageId": "c++"
    }
   },
   "outputs": [],
   "source": [
    "int (&row) [4] = ia[1]; //binds row to the second four element array is ia"
   ]
  },
  {
   "cell_type": "code",
   "execution_count": 15,
   "id": "9b2e79bf",
   "metadata": {
    "vscode": {
     "languageId": "c++"
    }
   },
   "outputs": [
    {
     "data": {
      "text/plain": [
       "{ { 0, 0, 0, 0 }, { 4, 0, 0, 0 }, { 8, 0, 0, 0 } }"
      ]
     },
     "execution_count": 15,
     "metadata": {},
     "output_type": "execute_result"
    }
   ],
   "source": [
    "ia"
   ]
  },
  {
   "cell_type": "code",
   "execution_count": 16,
   "id": "2a4f93ef",
   "metadata": {
    "vscode": {
     "languageId": "c++"
    }
   },
   "outputs": [],
   "source": [
    "constexpr size_t rowCnt = 3, colCnt = 4;\n",
    "int ia[rowCnt][colCnt]"
   ]
  },
  {
   "cell_type": "code",
   "execution_count": 17,
   "id": "dfb0d232",
   "metadata": {
    "vscode": {
     "languageId": "c++"
    }
   },
   "outputs": [],
   "source": [
    "//for each row\n",
    "\n",
    "for (size_t i = 0; i != rowCnt; ++i){\n",
    "    //for each column within the row\n",
    "    for (size_t j = 0; j != colCnt; ++j){\n",
    "        // assign the lements positional index as its value\n",
    "        ia[i][j] = i * colCnt + j;\n",
    "    }\n",
    "}"
   ]
  },
  {
   "cell_type": "code",
   "execution_count": 18,
   "id": "d19caaf8",
   "metadata": {
    "vscode": {
     "languageId": "c++"
    }
   },
   "outputs": [
    {
     "data": {
      "text/plain": [
       "{ { 0, 1, 2, 3 }, { 4, 5, 6, 7 }, { 8, 9, 10, 11 } }"
      ]
     },
     "execution_count": 18,
     "metadata": {},
     "output_type": "execute_result"
    }
   ],
   "source": [
    "ia"
   ]
  },
  {
   "cell_type": "markdown",
   "id": "0c933bd0",
   "metadata": {},
   "source": [
    "Using a Range for with Multidimensional Arrays"
   ]
  },
  {
   "cell_type": "code",
   "execution_count": 19,
   "id": "79c46676",
   "metadata": {
    "vscode": {
     "languageId": "c++"
    }
   },
   "outputs": [],
   "source": [
    "//Under the new standard we can simplify the previous loop by using a range for:\n",
    "\n",
    "size_t cnt = 0;\n",
    "for (auto &row: ia)   //for every element in the outer array\n",
    "    for (auto &col : row) { //for every element in the inner array\n",
    "        col = cnt;          //give this element the next value\n",
    "        ++cnt;              // increment cnt\n",
    "        \n",
    "    }"
   ]
  },
  {
   "cell_type": "code",
   "execution_count": 20,
   "id": "23d88c6e",
   "metadata": {
    "vscode": {
     "languageId": "c++"
    }
   },
   "outputs": [
    {
     "name": "stdout",
     "output_type": "stream",
     "text": [
      "0\n",
      "1\n",
      "2\n",
      "3\n",
      "4\n",
      "5\n",
      "6\n",
      "7\n",
      "8\n",
      "9\n",
      "10\n",
      "11\n"
     ]
    }
   ],
   "source": [
    "//In the previoius example we used references as our loop control variables because we wanted to \n",
    "//change the elements in the array.\n",
    "\n",
    "for (const auto &row : ia)\n",
    "    for (auto col: row)\n",
    "        cout << col << endl;"
   ]
  },
  {
   "cell_type": "code",
   "execution_count": 15,
   "id": "ceabab86",
   "metadata": {
    "vscode": {
     "languageId": "c++"
    }
   },
   "outputs": [],
   "source": [
    "int ia[3][4];\n",
    "int (*p)[4] = ia;\n",
    "p = &ia[2];"
   ]
  },
  {
   "cell_type": "code",
   "execution_count": 20,
   "id": "3679d02f",
   "metadata": {
    "vscode": {
     "languageId": "c++"
    }
   },
   "outputs": [
    {
     "data": {
      "text/plain": [
       "{ 0, 0, 0, 0 }"
      ]
     },
     "execution_count": 20,
     "metadata": {},
     "output_type": "execute_result"
    }
   ],
   "source": [
    "*p"
   ]
  },
  {
   "cell_type": "code",
   "execution_count": 21,
   "id": "dbddb5a1",
   "metadata": {
    "vscode": {
     "languageId": "c++"
    }
   },
   "outputs": [
    {
     "name": "stdout",
     "output_type": "stream",
     "text": [
      "0 0 0 0 \n",
      "0 0 0 0 \n",
      "0 0 0 0 \n"
     ]
    }
   ],
   "source": [
    "//print the value of each element in ia with each inner array on its own line\n",
    "//p points to an array of four ints\n",
    "\n",
    "for (auto p = ia; p!=ia+3; ++p){\n",
    "    //q points to the first element of an array of four ints; that it q points to an int\n",
    "    for (auto q = *p; q!=*p +4; ++q)\n",
    "        cout << *q << ' ';\n",
    "    cout << endl;\n",
    "}"
   ]
  },
  {
   "cell_type": "code",
   "execution_count": 23,
   "id": "fa660342",
   "metadata": {
    "vscode": {
     "languageId": "c++"
    }
   },
   "outputs": [
    {
     "name": "stdout",
     "output_type": "stream",
     "text": [
      "0 0 0 0 0 0 0 0 0 0 0 0 \n"
     ]
    }
   ],
   "source": [
    "// Also we an even more easily write this loop using the livrary begin and the end funcitons\n",
    "\n",
    "//p points to the first array in ia\n",
    "\n",
    "for (auto p = begin(ia); p != end(ia); ++p)\n",
    "    //q points to the first element in an inner array\n",
    "    for (auto q = begin(*p); q != end(*p); ++q)\n",
    "        cout << *q << ' ';\n",
    "cout << endl;\n"
   ]
  },
  {
   "cell_type": "markdown",
   "id": "94b1d3b5",
   "metadata": {},
   "source": [
    "Type Aliases Simplify Pointers to Multidimensional Arrays"
   ]
  },
  {
   "cell_type": "code",
   "execution_count": 25,
   "id": "363256fb",
   "metadata": {
    "vscode": {
     "languageId": "c++"
    }
   },
   "outputs": [
    {
     "name": "stdout",
     "output_type": "stream",
     "text": [
      "0 0 0 0 \n",
      "0 0 0 0 \n",
      "0 0 0 0 \n"
     ]
    }
   ],
   "source": [
    "using int_array  = int[4];  // new style type alias declaration\n",
    "typedef int int_array[4];   // equivalent typedef declaration\n",
    "\n",
    "//print the value of each element in ia, with each inner array on its own line\n",
    "\n",
    "for (int_array *p = ia; p !=  ia+3; ++p) {\n",
    "    for (int *q = *p; q != *p +4; ++q)\n",
    "        cout << *q << ' ';\n",
    "    cout << endl;\n",
    "}"
   ]
  },
  {
   "cell_type": "code",
   "execution_count": 29,
   "id": "bd4f1336",
   "metadata": {
    "vscode": {
     "languageId": "c++"
    }
   },
   "outputs": [
    {
     "name": "stderr",
     "output_type": "stream",
     "text": [
      "\u001b[1minput_line_46:2:20: \u001b[0m\u001b[0;1;31merror: \u001b[0m\u001b[1muse of undeclared identifier 'nrow'\u001b[0m\n",
      " for(size_t i=0;i!=nrow;++i)\n",
      "\u001b[0;1;32m                   ^\n",
      "\u001b[0m\u001b[1minput_line_46:4:27: \u001b[0m\u001b[0;1;31merror: \u001b[0m\u001b[1muse of undeclared identifier 'ncol'\u001b[0m\n",
      "        for(size_t j=0;j!=ncol;++j)\n",
      "\u001b[0;1;32m                          ^\n",
      "\u001b[0m\u001b[1minput_line_46:6:17: \u001b[0m\u001b[0;1;31merror: \u001b[0m\u001b[1muse of undeclared identifier 'ia'\u001b[0m\n",
      "                ia[i][j] = i*ncol + j;\n",
      "\u001b[0;1;32m                ^\n",
      "\u001b[0m\u001b[1minput_line_46:6:30: \u001b[0m\u001b[0;1;31merror: \u001b[0m\u001b[1muse of undeclared identifier 'ncol'\u001b[0m\n",
      "                ia[i][j] = i*ncol + j;\n",
      "\u001b[0;1;32m                             ^\n",
      "\u001b[0m"
     ]
    },
    {
     "ename": "Interpreter Error",
     "evalue": "",
     "output_type": "error",
     "traceback": [
      "Interpreter Error: "
     ]
    }
   ],
   "source": [
    "for(size_t i=0;i!=nrow;++i)\n",
    "    {\n",
    "        for(size_t j=0;j!=ncol;++j)\n",
    "            {\n",
    "                ia[i][j] = i*ncol + j;\n",
    "            }\n",
    "    }"
   ]
  },
  {
   "cell_type": "code",
   "execution_count": 66,
   "id": "554cf6ba",
   "metadata": {
    "vscode": {
     "languageId": "c++"
    }
   },
   "outputs": [],
   "source": [
    "int nrow;\n",
    "int ncol;\n"
   ]
  },
  {
   "cell_type": "code",
   "execution_count": 67,
   "id": "4fd76415",
   "metadata": {
    "vscode": {
     "languageId": "c++"
    }
   },
   "outputs": [
    {
     "name": "stdout",
     "output_type": "stream",
     "text": [
      "3\n"
     ]
    },
    {
     "data": {
      "text/plain": [
       "@0x7feaec5fdc80"
      ]
     },
     "execution_count": 67,
     "metadata": {},
     "output_type": "execute_result"
    }
   ],
   "source": [
    "cin>>nrow"
   ]
  },
  {
   "cell_type": "code",
   "execution_count": 68,
   "id": "44e649dc",
   "metadata": {
    "vscode": {
     "languageId": "c++"
    }
   },
   "outputs": [
    {
     "name": "stdout",
     "output_type": "stream",
     "text": [
      "4\n"
     ]
    }
   ],
   "source": [
    "cin>>ncol;"
   ]
  },
  {
   "cell_type": "code",
   "execution_count": 69,
   "id": "e56e6635",
   "metadata": {
    "vscode": {
     "languageId": "c++"
    }
   },
   "outputs": [],
   "source": [
    "int ia[4][4];"
   ]
  },
  {
   "cell_type": "code",
   "execution_count": 63,
   "id": "d858664c",
   "metadata": {
    "vscode": {
     "languageId": "c++"
    }
   },
   "outputs": [
    {
     "name": "stderr",
     "output_type": "stream",
     "text": [
      "\u001b[1minput_line_82:2:17: \u001b[0m\u001b[0;1;31merror: \u001b[0m\u001b[1mcannot initialize a variable of type 'const int' with an lvalue of type 'int [4]'\u001b[0m\n",
      " for (const int i : ia)\n",
      "\u001b[0;1;32m                ^ ~\n",
      "\u001b[0m"
     ]
    },
    {
     "ename": "Interpreter Error",
     "evalue": "",
     "output_type": "error",
     "traceback": [
      "Interpreter Error: "
     ]
    }
   ],
   "source": [
    "for (const int i : ia)\n",
    "    cout<<i;"
   ]
  },
  {
   "cell_type": "code",
   "execution_count": 28,
   "id": "cdf56b08",
   "metadata": {
    "vscode": {
     "languageId": "c++"
    }
   },
   "outputs": [
    {
     "name": "stderr",
     "output_type": "stream",
     "text": [
      "\u001b[1minput_line_45:8:5: \u001b[0m\u001b[0;1;31merror: \u001b[0m\u001b[1mvariable length array declaration not allowed at file scope\u001b[0m\n",
      "int ia[nrow][ncol];\n",
      "\u001b[0;1;32m    ^  ~~~~\n",
      "\u001b[0mIn file included from input_line_5:1:\n",
      "In file included from /home/susearc/miniconda3/envs/xeus-cling/include/xeus/xinterpreter.hpp:17:\n",
      "In file included from /home/susearc/miniconda3/envs/xeus-cling/include/xeus/xcomm.hpp:19:\n",
      "In file included from /home/susearc/miniconda3/envs/xeus-cling/include/nlohmann/json.hpp:55:\n",
      "In file included from /home/susearc/miniconda3/envs/xeus-cling/include/nlohmann/detail/input/binary_reader.hpp:16:\n",
      "In file included from /home/susearc/miniconda3/envs/xeus-cling/include/nlohmann/detail/input/input_adapters.hpp:7:\n",
      "In file included from /home/susearc/miniconda3/envs/xeus-cling/bin/../lib/gcc/../../x86_64-conda-linux-gnu/include/c++/12.2.0/istream:39:\n",
      "\u001b[1m/home/susearc/miniconda3/envs/xeus-cling/bin/../lib/gcc/../../x86_64-conda-linux-gnu/include/c++/12.2.0/ostream:618:8: \u001b[0m\u001b[0;1;31merror: \u001b[0m\u001b[1mno member named 'setstate' in 'std::basic_ostream<char>'\u001b[0m\n",
      "        __out.setstate(ios_base::badbit);\n",
      "\u001b[0;1;32m        ~~~~~ ^\n",
      "\u001b[0m\u001b[1minput_line_45:4:5: \u001b[0m\u001b[0;1;30mnote: \u001b[0min instantiation of function template specialization 'std::operator<<<std::char_traits<char> >' requested here\u001b[0m\n",
      "cout<<\"Enter rows\";\n",
      "\u001b[0;1;32m    ^\n",
      "\u001b[0m"
     ]
    },
    {
     "ename": "Interpreter Error",
     "evalue": "",
     "output_type": "error",
     "traceback": [
      "Interpreter Error: "
     ]
    }
   ],
   "source": [
    "int nrow;\n",
    "int ncol;\n",
    "cout<<\"Enter rows\";\n",
    "cin>>nrow;\n",
    "cout<<\"Enter cols\";\n",
    "cin>>ncol;\n",
    "int ia[nrow][ncol];\n",
    "for (size_t i=0;i!=nrow;++i)\n",
    "{\n",
    "   for(size_t j=0;j!=ncol;++j)\n",
    "       {\n",
    "            ia[i][j] = i*ncol + j;\n",
    "       }\n",
    "};\n"
   ]
  },
  {
   "cell_type": "code",
   "execution_count": 3,
   "id": "dc4c9ea4",
   "metadata": {
    "vscode": {
     "languageId": "c++"
    }
   },
   "outputs": [
    {
     "data": {
      "text/plain": [
       "-4.89505e-4152"
      ]
     },
     "execution_count": 3,
     "metadata": {},
     "output_type": "execute_result"
    }
   ],
   "source": [
    "3.14L + 'a'"
   ]
  },
  {
   "cell_type": "code",
   "execution_count": 5,
   "id": "0f6828f0-2f22-4782-a601-2f4ba40289c8",
   "metadata": {
    "vscode": {
     "languageId": "c++"
    }
   },
   "outputs": [],
   "source": [
    "char cval = 'a' + 3"
   ]
  },
  {
   "cell_type": "code",
   "execution_count": 6,
   "id": "04764df9-b559-4fe2-9ab8-e1797fbdd4f5",
   "metadata": {
    "vscode": {
     "languageId": "c++"
    }
   },
   "outputs": [
    {
     "data": {
      "text/plain": [
       "'d'"
      ]
     },
     "execution_count": 6,
     "metadata": {},
     "output_type": "execute_result"
    }
   ],
   "source": [
    "cval"
   ]
  },
  {
   "cell_type": "code",
   "execution_count": 7,
   "id": "61351f0f-d9fc-42f1-96a1-c5e05996a2e2",
   "metadata": {
    "vscode": {
     "languageId": "c++"
    }
   },
   "outputs": [],
   "source": [
    "//Other Implicit Conversions\n",
    "\n",
    "int ia[10];"
   ]
  },
  {
   "cell_type": "code",
   "execution_count": 8,
   "id": "2cbc99d1-804e-41c1-a480-1fcdad383465",
   "metadata": {
    "vscode": {
     "languageId": "c++"
    }
   },
   "outputs": [],
   "source": [
    "int * ip = ia;"
   ]
  },
  {
   "cell_type": "code",
   "execution_count": 10,
   "id": "4e3bd55f-7734-4991-88bd-8d0a8af509a4",
   "metadata": {
    "vscode": {
     "languageId": "c++"
    }
   },
   "outputs": [],
   "source": [
    "int i;\n",
    "const int &j = i;\n"
   ]
  },
  {
   "cell_type": "code",
   "execution_count": 11,
   "id": "06ba4da8-18b7-418a-9095-8b61599c30a4",
   "metadata": {
    "vscode": {
     "languageId": "c++"
    }
   },
   "outputs": [],
   "source": [
    "const int *p = &i;"
   ]
  },
  {
   "cell_type": "code",
   "execution_count": 12,
   "id": "2bc9ad41-2563-4a89-a690-79cdac6c90f9",
   "metadata": {
    "vscode": {
     "languageId": "c++"
    }
   },
   "outputs": [
    {
     "data": {
      "text/plain": [
       "@0x7ffe35209f28"
      ]
     },
     "execution_count": 12,
     "metadata": {},
     "output_type": "execute_result"
    }
   ],
   "source": [
    "p"
   ]
  },
  {
   "cell_type": "code",
   "execution_count": 14,
   "id": "d166821c-2b44-4d86-a863-e7f38783bf55",
   "metadata": {
    "vscode": {
     "languageId": "c++"
    }
   },
   "outputs": [
    {
     "name": "stderr",
     "output_type": "stream",
     "text": [
      "\u001b[1minput_line_28:2:7: \u001b[0m\u001b[0;1;31merror: \u001b[0m\u001b[1mbinding reference of type 'int' to value of type 'const int' drops 'const' qualifier\u001b[0m\n",
      " int &r = j;\n",
      "\u001b[0;1;32m      ^   ~\n",
      "\u001b[0m"
     ]
    },
    {
     "ename": "Interpreter Error",
     "evalue": "",
     "output_type": "error",
     "traceback": [
      "Interpreter Error: "
     ]
    }
   ],
   "source": [
    "int &r = j;"
   ]
  },
  {
   "cell_type": "code",
   "execution_count": 9,
   "id": "06845135-0bc4-45a3-a5fe-bca86c622a46",
   "metadata": {
    "vscode": {
     "languageId": "c++"
    }
   },
   "outputs": [],
   "source": [
    "int i=6,j=7;\n"
   ]
  },
  {
   "cell_type": "code",
   "execution_count": 10,
   "id": "a85895ac-fcaa-4378-9bcc-abbd84a66b0b",
   "metadata": {
    "vscode": {
     "languageId": "c++"
    }
   },
   "outputs": [],
   "source": [
    "double slope  = i/j"
   ]
  },
  {
   "cell_type": "code",
   "execution_count": 11,
   "id": "1d3420af-ecad-4570-bf23-82a78eefd2e8",
   "metadata": {
    "vscode": {
     "languageId": "c++"
    }
   },
   "outputs": [
    {
     "data": {
      "text/plain": [
       "0.0000000"
      ]
     },
     "execution_count": 11,
     "metadata": {},
     "output_type": "execute_result"
    }
   ],
   "source": [
    "slope"
   ]
  },
  {
   "cell_type": "code",
   "execution_count": null,
   "id": "b8704e5e-8a11-4964-b383-62d45a5f1b9b",
   "metadata": {
    "vscode": {
     "languageId": "c++"
    }
   },
   "outputs": [],
   "source": []
  },
  {
   "cell_type": "code",
   "execution_count": null,
   "id": "388ff67f-74f9-47af-9af4-bde6590a8b01",
   "metadata": {
    "vscode": {
     "languageId": "c++"
    }
   },
   "outputs": [],
   "source": [
    "//Named Casts\n",
    "\n",
    "//A named cst has the following form:\n",
    "cast-name<type>(expression);\n",
    "//Where type is the target type of the conversion and expression isthe value to be cast\n",
    "//If type is a reference then the result is an lvalue. The cast name may be one of static_cast, dynamic_cast, const_cast, and reinterpret_cast"
   ]
  },
  {
   "cell_type": "code",
   "execution_count": 12,
   "id": "c1830227-c5ac-4a40-9de7-7bf16b6d585b",
   "metadata": {
    "vscode": {
     "languageId": "c++"
    }
   },
   "outputs": [],
   "source": [
    "//ANy well defined type conversion other than those involving low level const can be requested using a static_cast For example we can force our expression to use floating point division by casting \n",
    "//one of the operands to double."
   ]
  },
  {
   "cell_type": "code",
   "execution_count": 13,
   "id": "61881c54-2a1b-4b7b-a060-b68ea6040417",
   "metadata": {
    "vscode": {
     "languageId": "c++"
    }
   },
   "outputs": [],
   "source": [
    "double slope = static_cast<double>(j)/i"
   ]
  },
  {
   "cell_type": "code",
   "execution_count": 14,
   "id": "af041d84-4e48-4149-9ce6-dabd1a387f96",
   "metadata": {
    "vscode": {
     "languageId": "c++"
    }
   },
   "outputs": [
    {
     "data": {
      "text/plain": [
       "1.1666667"
      ]
     },
     "execution_count": 14,
     "metadata": {},
     "output_type": "execute_result"
    }
   ],
   "source": [
    "slope"
   ]
  },
  {
   "cell_type": "code",
   "execution_count": null,
   "id": "f1cc76a4-ca95-422f-ba52-56852a3ec9d6",
   "metadata": {
    "vscode": {
     "languageId": "c++"
    }
   },
   "outputs": [],
   "source": []
  }
 ],
 "metadata": {
  "kernelspec": {
   "display_name": "C++11",
   "language": "C++11",
   "name": "xcpp11"
  },
  "language_info": {
   "codemirror_mode": "text/x-c++src",
   "file_extension": ".cpp",
   "mimetype": "text/x-c++src",
   "name": "C++11",
   "version": "11"
  },
  "vscode": {
   "interpreter": {
    "hash": "f1d1fc19b365f9ad1716256121e630045ec3968373de9ab098681291a9c3ca4f"
   }
  }
 },
 "nbformat": 4,
 "nbformat_minor": 5
}
