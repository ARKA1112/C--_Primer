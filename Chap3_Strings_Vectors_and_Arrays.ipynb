{
 "cells": [
  {
   "cell_type": "code",
   "execution_count": null,
   "id": "b6118363",
   "metadata": {},
   "outputs": [],
   "source": [
    "#include<iostream>\n",
    "using namespace std;"
   ]
  },
  {
   "cell_type": "code",
   "execution_count": null,
   "id": "529c539e",
   "metadata": {},
   "outputs": [],
   "source": [
    "//A string is a variable length sequence of characters\n",
    "//A vector holds a variable length sequenec of objects of a given type"
   ]
  },
  {
   "cell_type": "markdown",
   "id": "c7352416",
   "metadata": {},
   "source": [
    "Namespace using Declarations"
   ]
  },
  {
   "cell_type": "code",
   "execution_count": null,
   "id": "20a44302",
   "metadata": {
    "vscode": {
     "languageId": "html"
    }
   },
   "outputs": [],
   "source": [
    "//std::cin says that we want ot use the name cin form the namespace std"
   ]
  },
  {
   "cell_type": "code",
   "execution_count": null,
   "id": "6827ffaf",
   "metadata": {},
   "outputs": [],
   "source": [
    "//A using declaration lets us use a name from a anamespace without\n",
    "//qualifying the name with a namespace_name::prefic . A using declaration has the form \n",
    "//using namespace::name;"
   ]
  },
  {
   "cell_type": "code",
   "execution_count": null,
   "id": "33a749ba",
   "metadata": {},
   "outputs": [],
   "source": [
    "using namespace std;"
   ]
  },
  {
   "cell_type": "markdown",
   "id": "57ff8802",
   "metadata": {},
   "source": [
    "A separate using Declaration is required for each name"
   ]
  },
  {
   "cell_type": "code",
   "execution_count": null,
   "id": "56a224fa",
   "metadata": {},
   "outputs": [],
   "source": [
    "//Headers should no include using Declaration"
   ]
  },
  {
   "cell_type": "code",
   "execution_count": null,
   "id": "6259bcdc",
   "metadata": {},
   "outputs": [],
   "source": [
    "//Defining Strings\n",
    "\n",
    "#include <string>\n"
   ]
  },
  {
   "cell_type": "code",
   "execution_count": null,
   "id": "637a516b",
   "metadata": {},
   "outputs": [],
   "source": [
    "string s1"
   ]
  },
  {
   "cell_type": "code",
   "execution_count": null,
   "id": "3ae3da41",
   "metadata": {
    "vscode": {
     "languageId": "cpp"
    }
   },
   "outputs": [],
   "source": [
    "#include <string>\n",
    "#include <iostream>\n",
    "using namespace std;\n",
    "string s1;\n",
    "string s2 = s1;//copy\n",
    "string s3 = \"hiya\";\n",
    "string s4{10,'c'};  //10 cs\n",
    "s4"
   ]
  },
  {
   "cell_type": "code",
   "execution_count": null,
   "id": "c4e25046",
   "metadata": {
    "vscode": {
     "languageId": "bat"
    }
   },
   "outputs": [],
   "source": [
    "s3"
   ]
  },
  {
   "cell_type": "markdown",
   "id": "299b23f5",
   "metadata": {
    "vscode": {
     "languageId": "bat"
    }
   },
   "source": [
    "Operations on strings"
   ]
  },
  {
   "cell_type": "code",
   "execution_count": null,
   "id": "48fa1235-b45d-4c09-b271-64f6c561b187",
   "metadata": {},
   "outputs": [],
   "source": [
    "#include<iostream>\n",
    "#include<string>\n",
    "using namespace std;"
   ]
  },
  {
   "cell_type": "code",
   "execution_count": null,
   "id": "a1cca641",
   "metadata": {},
   "outputs": [],
   "source": [
    "//Reading and Writing strings\n",
    "\n",
    "\n",
    "\n",
    "int main()\n",
    "{\n",
    "    string s;\n",
    "    cin >>s;\n",
    "    cout << s << endl;\n",
    "    return 0;\n",
    "}\n",
    "main()"
   ]
  },
  {
   "cell_type": "code",
   "execution_count": null,
   "id": "e0de783b-2203-4119-a2a4-d07e92aa1c98",
   "metadata": {},
   "outputs": [],
   "source": [
    "string s1, s2;\n",
    "cin >> s1>>s2;//resd first input into s1 and second into s2\n",
    "\n",
    "cout<<s1 <<s2; //write both strings"
   ]
  },
  {
   "cell_type": "code",
   "execution_count": null,
   "id": "62c21341-476a-4c81-ab6e-faa1972254f3",
   "metadata": {},
   "outputs": [],
   "source": [
    "//Reading an Unknown Number of strings\n",
    "string s;\n",
    "while (cin>>s && s!=\"end\")\n",
    "    cout<<s;"
   ]
  },
  {
   "cell_type": "code",
   "execution_count": null,
   "id": "82828017-09b0-41fa-9976-311b1aabdb4c",
   "metadata": {},
   "outputs": [],
   "source": [
    "//Using getline to Read an Entire Line\n",
    "\n",
    "\n",
    "int main()\n",
    "{\n",
    "    string line;\n",
    "    //read input a line at a time until end of file\n",
    "    while (getline(cin, line))\n",
    "        cout <<line;\n",
    "    return 0;\n",
    "}\n",
    "\n",
    "//pg87.cpp"
   ]
  },
  {
   "cell_type": "code",
   "execution_count": null,
   "id": "917ae97a-2ef8-4d35-a971-bf8a278d7e18",
   "metadata": {},
   "outputs": [],
   "source": [
    "// The sring empty and size Operations\n",
    "\n",
    "while (getline(cin,line))\n",
    "    if (!line.empty())\n",
    "        cout<<line <<endl;"
   ]
  },
  {
   "cell_type": "code",
   "execution_count": null,
   "id": "1312225b-62c4-43fc-8498-44d703ef7790",
   "metadata": {},
   "outputs": [],
   "source": [
    "//The size member return the length of a string . We can use size to print only lline longer than 80 characters\n",
    "string line;\n",
    "while (getline(cin, line))\n",
    "    if (line.size() > 80)\n",
    "        cout << line;"
   ]
  },
  {
   "cell_type": "code",
   "execution_count": 24,
   "id": "c1abffd1-aae9-4947-8312-a571ec2aac6f",
   "metadata": {},
   "outputs": [
    {
     "data": {
      "text/plain": [
       "5"
      ]
     },
     "execution_count": 24,
     "metadata": {},
     "output_type": "execute_result"
    }
   ],
   "source": [
    "string line {\"hello\"};\n",
    "line.size()"
   ]
  },
  {
   "cell_type": "code",
   "execution_count": null,
   "id": "d98fcf40-7885-494b-8baa-651fba9524d6",
   "metadata": {},
   "outputs": [],
   "source": []
  }
 ],
 "metadata": {
  "kernelspec": {
   "display_name": "C++11 [conda env:xeus-cling]",
   "language": "C++11",
   "name": "conda-env-xeus-cling-xcpp11"
  },
  "language_info": {
   "codemirror_mode": "text/x-c++src",
   "file_extension": ".cpp",
   "mimetype": "text/x-c++src",
   "name": "c++",
   "version": "11"
  },
  "vscode": {
   "interpreter": {
    "hash": "f1d1fc19b365f9ad1716256121e630045ec3968373de9ab098681291a9c3ca4f"
   }
  }
 },
 "nbformat": 4,
 "nbformat_minor": 5
}
